{
 "cells": [
  {
   "cell_type": "markdown",
   "metadata": {},
   "source": [
    "<h1 align=center> <font size =5> Proyecto de Invetarios </font></h1>\n",
    "<img src=\"https://www.cedesistemas.edu.co/sitio/wp-content/themes/andreco/images/logo.png\" width=300, align =\"right\"> \n",
    "\n",
    "* **Cedesistemas**\n",
    "* **Gerencia Comercial**\n",
    "* **Area Analítica**\n",
    "* **Responsabes :** Oscar Gaspar, Analista;\n",
    "\n",
    "**Medellin -Octubre 2020**\n",
    "\n",
    "<a id=\"ref7\"></a>\n",
    "## Tabla de Contenido\n",
    "\n",
    "* <p><a href =\"#ref1\" > 1) Descripcion del Problema </a></p>\n",
    "* <p><a href =\"#ref2\" > 2) Descripcion de Datos </a></p>\n",
    "* <p><a href =\"#ref3\" > 3) Análisis Exploratorio y Descriptivo de los Datos</a></p>\n",
    "* <p><a href =\"#ref4\" > 4) Modelación </a></p>\n",
    "* <p><a href =\"#ref5\" > 5) Evalucion </a></p>\n",
    "* <p><a href =\"#ref6\" > 6) Conclusión y Recomendaciones </a></p>"
   ]
  },
  {
   "cell_type": "markdown",
   "metadata": {},
   "source": [
    "<a id=\"ref1\"></a>\n",
    "## 1) **Descripcion del Problema**\n",
    "* <p><a href =\"#ref7\"> <font color=red size=3> Inicio </font> </a></p>\n"
   ]
  },
  {
   "cell_type": "markdown",
   "metadata": {},
   "source": [
    "**Contexto**\n",
    "\n",
    "Se adjunta un conjunto de productos en el que estamos tratando de determinar qué productos debemos seguir vendiendo y qué productos eliminar de nuestro inventario. El archivo contiene TANTO datos históricos de ventas como inventario activo, que se pueden distinguir con la columna titulada \"Tipo de archivo\".\n",
    "\n",
    "Sospechamos que la ciencia de datos aplicada al conjunto, como un análisis de árbol de decisión o una regresión logística, o algún otro modelo de aprendizaje automático, puede ayudarnos a generar un valor (es decir, puntaje de probabilidad) para cada producto, que se puede usar como principal determinante de la evaluación del inventario. Cada fila del archivo representa un producto.\n",
    "\n",
    "Es importante notar que tenemos MUCHOS productos en nuestro inventario, y muy pocos de ellos tienden a venderse (solo alrededor del 10% se vende cada año) y muchos de los productos solo tienen una venta única en el transcurso de un año."
   ]
  },
  {
   "cell_type": "markdown",
   "metadata": {},
   "source": [
    "<a id=\"ref2\"></a>\n",
    "## 2) **Descripcion de Datos**\n",
    "* <p><a href =\"#ref7\"> <font color=red size=3> Inicio </font> </a></p>\n"
   ]
  },
  {
   "cell_type": "markdown",
   "metadata": {},
   "source": [
    "**Cargamos Librerias**"
   ]
  },
  {
   "cell_type": "code",
   "execution_count": 1,
   "metadata": {},
   "outputs": [],
   "source": [
    "import pandas as pd\n",
    "import numpy as np\n",
    "import matplotlib.pyplot as plt\n",
    "import seaborn as sns\n",
    "from scipy.stats import shapiro # Vavariables Numericas probar Normalidad\n",
    "from scipy.stats import chi2_contingency # Varianbles Categoricas y probar independencia\n",
    "\n",
    "import statsmodels.stats.api as sms\n"
   ]
  },
  {
   "cell_type": "code",
   "execution_count": 2,
   "metadata": {},
   "outputs": [],
   "source": [
    "#conda install statsmodels "
   ]
  },
  {
   "cell_type": "markdown",
   "metadata": {},
   "source": [
    "**Cargar Datos**"
   ]
  },
  {
   "cell_type": "code",
   "execution_count": 3,
   "metadata": {},
   "outputs": [],
   "source": [
    "df = pd.read_csv(r\"D:\\Usuarios\\OSCAGAAl\\Documents\\Diplomado_ML_2020\\Insumos\\SalesKaggle3.csv\")"
   ]
  },
  {
   "cell_type": "code",
   "execution_count": 4,
   "metadata": {},
   "outputs": [
    {
     "name": "stdout",
     "output_type": "stream",
     "text": [
      "   Order   File_Type  SKU_number  SoldFlag  SoldCount MarketingType  \\\n",
      "0      2  Historical     1737127       0.0        0.0             D   \n",
      "1      3  Historical     3255963       0.0        0.0             D   \n",
      "2      4  Historical      612701       0.0        0.0             D   \n",
      "3      6  Historical      115883       1.0        1.0             D   \n",
      "4      7  Historical      863939       1.0        1.0             D   \n",
      "\n",
      "   ReleaseNumber  New_Release_Flag  StrengthFactor  PriceReg  ReleaseYear  \\\n",
      "0             15                 1        682743.0     44.99         2015   \n",
      "1              7                 1       1016014.0     24.81         2005   \n",
      "2              0                 0        340464.0     46.00         2013   \n",
      "3              4                 1        334011.0    100.00         2006   \n",
      "4              2                 1       1287938.0    121.95         2010   \n",
      "\n",
      "   ItemCount  LowUserPrice  LowNetPrice  \n",
      "0          8         28.97        31.84  \n",
      "1         39          0.00        15.54  \n",
      "2         34         30.19        27.97  \n",
      "3         20        133.93        83.15  \n",
      "4         28          4.00        23.99  \n"
     ]
    }
   ],
   "source": [
    "print(df.head(5))"
   ]
  },
  {
   "cell_type": "markdown",
   "metadata": {},
   "source": [
    "**Diccionario**\n",
    "\n",
    "El archivo contiene datos históricos de ventas (identificados con la columna titulada File_Type) junto con el inventario activo actual que necesita evaluación (es decir, Tipo de archivo = \"Activo\"). Los datos históricos muestran las ventas de los últimos 6 meses. El objetivo binario (1 = venta, 0 = sin venta en los últimos seis meses) es probablemente el objetivo principal que debería impulsar el análisis.\n",
    "\n",
    "Las otras columnas contienen atributos numéricos y categóricos que consideramos relevantes para las ventas.\n",
    "\n",
    "Tenga en cuenta que algunos de los SKU de ventas históricos TAMBIÉN se incluyen en el inventario activo.\n",
    "\n",
    "Algunos comentarios sobre los atributos incluidos, ya que nos damos cuenta de que podemos tener algunos atributos que son innecesarios o que es posible que deban explicarse.\n",
    "\n",
    "* SKU_number: este es el identificador único para cada producto.\n",
    "\n",
    "* Orden: solo un contador secuencial. Puede ignorarse.\n",
    "\n",
    "* SoldFlag: 1 = vendido en los últimos 6 meses. 0 = No vendido\n",
    "\n",
    "* MarketingType = Dos categorías de cómo comercializamos el producto. Esto probablemente debería ignorarse, o mejor aún, cada tipo debería considerarse de forma independiente.\n",
    "\n",
    "* Bandera de nueva versión = cualquier producto que haya tenido una versión futura (es decir, número de versión> 1)"
   ]
  },
  {
   "cell_type": "markdown",
   "metadata": {},
   "source": [
    "<a id=\"ref3\"></a>\n",
    "## 3) **Análisis Exploratorio y Descriptivo de los Datos**\n",
    "* <p><a href =\"#ref7\"> <font color=red size=3> Inicio </font> </a></p>"
   ]
  },
  {
   "cell_type": "markdown",
   "metadata": {},
   "source": [
    "**Revision de Nas**"
   ]
  },
  {
   "cell_type": "code",
   "execution_count": 5,
   "metadata": {},
   "outputs": [
    {
     "data": {
      "text/plain": [
       "Order                    0\n",
       "File_Type                0\n",
       "SKU_number               0\n",
       "SoldFlag            122921\n",
       "SoldCount           122921\n",
       "MarketingType            0\n",
       "ReleaseNumber            0\n",
       "New_Release_Flag         0\n",
       "StrengthFactor           0\n",
       "PriceReg                 0\n",
       "ReleaseYear              0\n",
       "ItemCount                0\n",
       "LowUserPrice             0\n",
       "LowNetPrice              0\n",
       "dtype: int64"
      ]
     },
     "execution_count": 5,
     "metadata": {},
     "output_type": "execute_result"
    }
   ],
   "source": [
    "df.isnull().sum()"
   ]
  },
  {
   "cell_type": "markdown",
   "metadata": {},
   "source": [
    "**Tabla Cruzada**"
   ]
  },
  {
   "cell_type": "code",
   "execution_count": 6,
   "metadata": {},
   "outputs": [
    {
     "data": {
      "text/plain": [
       "Order               0\n",
       "File_Type           0\n",
       "SKU_number          0\n",
       "SoldFlag            0\n",
       "SoldCount           0\n",
       "MarketingType       0\n",
       "ReleaseNumber       0\n",
       "New_Release_Flag    0\n",
       "StrengthFactor      0\n",
       "PriceReg            0\n",
       "ReleaseYear         0\n",
       "ItemCount           0\n",
       "LowUserPrice        0\n",
       "LowNetPrice         0\n",
       "dtype: int64"
      ]
     },
     "execution_count": 6,
     "metadata": {},
     "output_type": "execute_result"
    }
   ],
   "source": [
    "df_hist=df[df[\"File_Type\"]==\"Historical\"] # Historia para entrenar el modelo \n",
    "df_hist.isnull().sum()"
   ]
  },
  {
   "cell_type": "code",
   "execution_count": 7,
   "metadata": {},
   "outputs": [
    {
     "data": {
      "text/plain": [
       "Order                    0\n",
       "File_Type                0\n",
       "SKU_number               0\n",
       "SoldFlag            122921\n",
       "SoldCount           122921\n",
       "MarketingType            0\n",
       "ReleaseNumber            0\n",
       "New_Release_Flag         0\n",
       "StrengthFactor           0\n",
       "PriceReg                 0\n",
       "ReleaseYear              0\n",
       "ItemCount                0\n",
       "LowUserPrice             0\n",
       "LowNetPrice              0\n",
       "dtype: int64"
      ]
     },
     "execution_count": 7,
     "metadata": {},
     "output_type": "execute_result"
    }
   ],
   "source": [
    "df_act=df[df[\"File_Type\"]==\"Active\"] # Estaba es para Aplicar el Modelo\n",
    "df_act.isnull().sum()"
   ]
  },
  {
   "cell_type": "markdown",
   "metadata": {},
   "source": [
    "**Dimmension Base**"
   ]
  },
  {
   "cell_type": "code",
   "execution_count": 8,
   "metadata": {},
   "outputs": [
    {
     "data": {
      "text/plain": [
       "(75996, 14)"
      ]
     },
     "execution_count": 8,
     "metadata": {},
     "output_type": "execute_result"
    }
   ],
   "source": [
    "df_hist.shape"
   ]
  },
  {
   "cell_type": "markdown",
   "metadata": {},
   "source": [
    "**Revision de Variables**"
   ]
  },
  {
   "cell_type": "code",
   "execution_count": 9,
   "metadata": {},
   "outputs": [
    {
     "name": "stdout",
     "output_type": "stream",
     "text": [
      "<class 'pandas.core.frame.DataFrame'>\n",
      "Int64Index: 75996 entries, 0 to 75995\n",
      "Data columns (total 14 columns):\n",
      " #   Column            Non-Null Count  Dtype  \n",
      "---  ------            --------------  -----  \n",
      " 0   Order             75996 non-null  int64  \n",
      " 1   File_Type         75996 non-null  object \n",
      " 2   SKU_number        75996 non-null  int64  \n",
      " 3   SoldFlag          75996 non-null  float64\n",
      " 4   SoldCount         75996 non-null  float64\n",
      " 5   MarketingType     75996 non-null  object \n",
      " 6   ReleaseNumber     75996 non-null  int64  \n",
      " 7   New_Release_Flag  75996 non-null  int64  \n",
      " 8   StrengthFactor    75996 non-null  float64\n",
      " 9   PriceReg          75996 non-null  float64\n",
      " 10  ReleaseYear       75996 non-null  int64  \n",
      " 11  ItemCount         75996 non-null  int64  \n",
      " 12  LowUserPrice      75996 non-null  float64\n",
      " 13  LowNetPrice       75996 non-null  float64\n",
      "dtypes: float64(6), int64(6), object(2)\n",
      "memory usage: 8.7+ MB\n",
      "None\n"
     ]
    }
   ],
   "source": [
    "print(df_hist.info())"
   ]
  },
  {
   "cell_type": "code",
   "execution_count": 10,
   "metadata": {},
   "outputs": [
    {
     "data": {
      "text/html": [
       "<div>\n",
       "<style scoped>\n",
       "    .dataframe tbody tr th:only-of-type {\n",
       "        vertical-align: middle;\n",
       "    }\n",
       "\n",
       "    .dataframe tbody tr th {\n",
       "        vertical-align: top;\n",
       "    }\n",
       "\n",
       "    .dataframe thead th {\n",
       "        text-align: right;\n",
       "    }\n",
       "</style>\n",
       "<table border=\"1\" class=\"dataframe\">\n",
       "  <thead>\n",
       "    <tr style=\"text-align: right;\">\n",
       "      <th></th>\n",
       "      <th>Order</th>\n",
       "      <th>File_Type</th>\n",
       "      <th>SKU_number</th>\n",
       "      <th>SoldFlag</th>\n",
       "      <th>SoldCount</th>\n",
       "      <th>MarketingType</th>\n",
       "      <th>ReleaseNumber</th>\n",
       "      <th>New_Release_Flag</th>\n",
       "      <th>StrengthFactor</th>\n",
       "      <th>PriceReg</th>\n",
       "      <th>ReleaseYear</th>\n",
       "      <th>ItemCount</th>\n",
       "      <th>LowUserPrice</th>\n",
       "      <th>LowNetPrice</th>\n",
       "    </tr>\n",
       "  </thead>\n",
       "  <tbody>\n",
       "    <tr>\n",
       "      <th>0</th>\n",
       "      <td>2</td>\n",
       "      <td>Historical</td>\n",
       "      <td>1737127</td>\n",
       "      <td>0.0</td>\n",
       "      <td>0.0</td>\n",
       "      <td>D</td>\n",
       "      <td>15</td>\n",
       "      <td>1</td>\n",
       "      <td>682743.0</td>\n",
       "      <td>44.99</td>\n",
       "      <td>2015</td>\n",
       "      <td>8</td>\n",
       "      <td>28.97</td>\n",
       "      <td>31.84</td>\n",
       "    </tr>\n",
       "    <tr>\n",
       "      <th>1</th>\n",
       "      <td>3</td>\n",
       "      <td>Historical</td>\n",
       "      <td>3255963</td>\n",
       "      <td>0.0</td>\n",
       "      <td>0.0</td>\n",
       "      <td>D</td>\n",
       "      <td>7</td>\n",
       "      <td>1</td>\n",
       "      <td>1016014.0</td>\n",
       "      <td>24.81</td>\n",
       "      <td>2005</td>\n",
       "      <td>39</td>\n",
       "      <td>0.00</td>\n",
       "      <td>15.54</td>\n",
       "    </tr>\n",
       "  </tbody>\n",
       "</table>\n",
       "</div>"
      ],
      "text/plain": [
       "   Order   File_Type  SKU_number  SoldFlag  SoldCount MarketingType  \\\n",
       "0      2  Historical     1737127       0.0        0.0             D   \n",
       "1      3  Historical     3255963       0.0        0.0             D   \n",
       "\n",
       "   ReleaseNumber  New_Release_Flag  StrengthFactor  PriceReg  ReleaseYear  \\\n",
       "0             15                 1        682743.0     44.99         2015   \n",
       "1              7                 1       1016014.0     24.81         2005   \n",
       "\n",
       "   ItemCount  LowUserPrice  LowNetPrice  \n",
       "0          8         28.97        31.84  \n",
       "1         39          0.00        15.54  "
      ]
     },
     "execution_count": 10,
     "metadata": {},
     "output_type": "execute_result"
    }
   ],
   "source": [
    "df_hist.head(2)\n",
    "## Se Recomienda que las ID sean String"
   ]
  },
  {
   "cell_type": "markdown",
   "metadata": {},
   "source": [
    "**Recodificar Variables**"
   ]
  },
  {
   "cell_type": "code",
   "execution_count": 11,
   "metadata": {},
   "outputs": [
    {
     "name": "stderr",
     "output_type": "stream",
     "text": [
      "D:\\Usuarios\\OSCAGAAl\\Anaconda3\\envs\\PROYECTOS_SURA\\lib\\site-packages\\ipykernel_launcher.py:1: SettingWithCopyWarning: \n",
      "A value is trying to be set on a copy of a slice from a DataFrame.\n",
      "Try using .loc[row_indexer,col_indexer] = value instead\n",
      "\n",
      "See the caveats in the documentation: https://pandas.pydata.org/pandas-docs/stable/user_guide/indexing.html#returning-a-view-versus-a-copy\n",
      "  \"\"\"Entry point for launching an IPython kernel.\n",
      "D:\\Usuarios\\OSCAGAAl\\Anaconda3\\envs\\PROYECTOS_SURA\\lib\\site-packages\\ipykernel_launcher.py:2: SettingWithCopyWarning: \n",
      "A value is trying to be set on a copy of a slice from a DataFrame.\n",
      "Try using .loc[row_indexer,col_indexer] = value instead\n",
      "\n",
      "See the caveats in the documentation: https://pandas.pydata.org/pandas-docs/stable/user_guide/indexing.html#returning-a-view-versus-a-copy\n",
      "  \n"
     ]
    }
   ],
   "source": [
    "df_hist[\"Order\"]=df_hist[\"Order\"].astype(str) # Tranformar de Numerica a String\n",
    "df_hist[\"SKU_number\"]=df_hist[\"SKU_number\"].astype(str) # Tranformar de Numerica a String"
   ]
  },
  {
   "cell_type": "markdown",
   "metadata": {},
   "source": [
    "**Recodicar en dos pasos Soldflag**"
   ]
  },
  {
   "cell_type": "code",
   "execution_count": 12,
   "metadata": {},
   "outputs": [
    {
     "name": "stdout",
     "output_type": "stream",
     "text": [
      "<class 'pandas.core.frame.DataFrame'>\n",
      "Int64Index: 75996 entries, 0 to 75995\n",
      "Data columns (total 14 columns):\n",
      " #   Column            Non-Null Count  Dtype   \n",
      "---  ------            --------------  -----   \n",
      " 0   Order             75996 non-null  object  \n",
      " 1   File_Type         75996 non-null  object  \n",
      " 2   SKU_number        75996 non-null  object  \n",
      " 3   SoldFlag          75996 non-null  category\n",
      " 4   SoldCount         75996 non-null  float64 \n",
      " 5   MarketingType     75996 non-null  category\n",
      " 6   ReleaseNumber     75996 non-null  int64   \n",
      " 7   New_Release_Flag  75996 non-null  int64   \n",
      " 8   StrengthFactor    75996 non-null  float64 \n",
      " 9   PriceReg          75996 non-null  float64 \n",
      " 10  ReleaseYear       75996 non-null  int64   \n",
      " 11  ItemCount         75996 non-null  int64   \n",
      " 12  LowUserPrice      75996 non-null  float64 \n",
      " 13  LowNetPrice       75996 non-null  float64 \n",
      "dtypes: category(2), float64(5), int64(4), object(3)\n",
      "memory usage: 7.7+ MB\n",
      "None\n"
     ]
    },
    {
     "name": "stderr",
     "output_type": "stream",
     "text": [
      "D:\\Usuarios\\OSCAGAAl\\Anaconda3\\envs\\PROYECTOS_SURA\\lib\\site-packages\\ipykernel_launcher.py:1: SettingWithCopyWarning: \n",
      "A value is trying to be set on a copy of a slice from a DataFrame.\n",
      "Try using .loc[row_indexer,col_indexer] = value instead\n",
      "\n",
      "See the caveats in the documentation: https://pandas.pydata.org/pandas-docs/stable/user_guide/indexing.html#returning-a-view-versus-a-copy\n",
      "  \"\"\"Entry point for launching an IPython kernel.\n",
      "D:\\Usuarios\\OSCAGAAl\\Anaconda3\\envs\\PROYECTOS_SURA\\lib\\site-packages\\ipykernel_launcher.py:2: SettingWithCopyWarning: \n",
      "A value is trying to be set on a copy of a slice from a DataFrame.\n",
      "Try using .loc[row_indexer,col_indexer] = value instead\n",
      "\n",
      "See the caveats in the documentation: https://pandas.pydata.org/pandas-docs/stable/user_guide/indexing.html#returning-a-view-versus-a-copy\n",
      "  \n",
      "D:\\Usuarios\\OSCAGAAl\\Anaconda3\\envs\\PROYECTOS_SURA\\lib\\site-packages\\ipykernel_launcher.py:4: SettingWithCopyWarning: \n",
      "A value is trying to be set on a copy of a slice from a DataFrame.\n",
      "Try using .loc[row_indexer,col_indexer] = value instead\n",
      "\n",
      "See the caveats in the documentation: https://pandas.pydata.org/pandas-docs/stable/user_guide/indexing.html#returning-a-view-versus-a-copy\n",
      "  after removing the cwd from sys.path.\n"
     ]
    }
   ],
   "source": [
    "df_hist[\"SoldFlag\"]=df_hist[\"SoldFlag\"].astype(int) # Tranformar de decimal a entero\n",
    "df_hist[\"SoldFlag\"]=df_hist[\"SoldFlag\"].astype('category') # Tranformar de decimal a entero\n",
    "\n",
    "df_hist[\"MarketingType\"]=df_hist[\"MarketingType\"].astype('category') \n",
    "\n",
    "print(df_hist.info())"
   ]
  },
  {
   "cell_type": "markdown",
   "metadata": {},
   "source": [
    "**Analisis de Variables categoricas**"
   ]
  },
  {
   "cell_type": "code",
   "execution_count": 13,
   "metadata": {},
   "outputs": [
    {
     "data": {
      "text/plain": [
       "0    63000\n",
       "1    12996\n",
       "Name: SoldFlag, dtype: int64"
      ]
     },
     "execution_count": 13,
     "metadata": {},
     "output_type": "execute_result"
    }
   ],
   "source": [
    "pd.value_counts(df_hist[\"SoldFlag\"])"
   ]
  },
  {
   "cell_type": "code",
   "execution_count": 14,
   "metadata": {},
   "outputs": [
    {
     "data": {
      "text/plain": [
       "0    0.828991\n",
       "1    0.171009\n",
       "Name: SoldFlag, dtype: float64"
      ]
     },
     "execution_count": 14,
     "metadata": {},
     "output_type": "execute_result"
    }
   ],
   "source": [
    "pd.value_counts(df_hist[\"SoldFlag\"])/len(df_hist.index)"
   ]
  },
  {
   "cell_type": "code",
   "execution_count": 15,
   "metadata": {},
   "outputs": [
    {
     "data": {
      "text/plain": [
       "0    82.8991\n",
       "1    17.1009\n",
       "Name: SoldFlag, dtype: float64"
      ]
     },
     "execution_count": 15,
     "metadata": {},
     "output_type": "execute_result"
    }
   ],
   "source": [
    "(pd.value_counts(df_hist[\"SoldFlag\"])/len(df_hist.index))*100"
   ]
  },
  {
   "cell_type": "markdown",
   "metadata": {},
   "source": [
    "**Grafico de Tortas variable Tipo de Venta**"
   ]
  },
  {
   "cell_type": "code",
   "execution_count": 16,
   "metadata": {},
   "outputs": [
    {
     "data": {
      "image/png": "[encoded data removed]",
      "text/plain": [
       "<Figure size 432x288 with 1 Axes>"
      ]
     },
     "metadata": {},
     "output_type": "display_data"
    }
   ],
   "source": [
    "plot = df_hist[\"SoldFlag\"].value_counts().plot(kind=\"pie\",autopct=\"%.2f\",title=\"Dsitribucion de Ventas\")"
   ]
  },
  {
   "cell_type": "markdown",
   "metadata": {},
   "source": [
    "**Graica por Tipo de Mercadeo**"
   ]
  },
  {
   "cell_type": "code",
   "execution_count": 17,
   "metadata": {},
   "outputs": [
    {
     "data": {
      "image/png": "[encoded data removed]",
      "text/plain": [
       "<Figure size 432x288 with 1 Axes>"
      ]
     },
     "metadata": {},
     "output_type": "display_data"
    }
   ],
   "source": [
    "plot = df_hist[\"MarketingType\"].value_counts().plot(kind=\"pie\",autopct=\"%.2f\",title=\"Dsitribucion Por Tipo Mercadeo\")"
   ]
  },
  {
   "cell_type": "markdown",
   "metadata": {},
   "source": [
    "**Tablas Cruzadas**"
   ]
  },
  {
   "cell_type": "code",
   "execution_count": 18,
   "metadata": {},
   "outputs": [
    {
     "data": {
      "text/html": [
       "<div>\n",
       "<style scoped>\n",
       "    .dataframe tbody tr th:only-of-type {\n",
       "        vertical-align: middle;\n",
       "    }\n",
       "\n",
       "    .dataframe tbody tr th {\n",
       "        vertical-align: top;\n",
       "    }\n",
       "\n",
       "    .dataframe thead th {\n",
       "        text-align: right;\n",
       "    }\n",
       "</style>\n",
       "<table border=\"1\" class=\"dataframe\">\n",
       "  <thead>\n",
       "    <tr style=\"text-align: right;\">\n",
       "      <th>MarketingType</th>\n",
       "      <th>D</th>\n",
       "      <th>S</th>\n",
       "    </tr>\n",
       "    <tr>\n",
       "      <th>SoldFlag</th>\n",
       "      <th></th>\n",
       "      <th></th>\n",
       "    </tr>\n",
       "  </thead>\n",
       "  <tbody>\n",
       "    <tr>\n",
       "      <th>0</th>\n",
       "      <td>25965</td>\n",
       "      <td>37035</td>\n",
       "    </tr>\n",
       "    <tr>\n",
       "      <th>1</th>\n",
       "      <td>9154</td>\n",
       "      <td>3842</td>\n",
       "    </tr>\n",
       "  </tbody>\n",
       "</table>\n",
       "</div>"
      ],
      "text/plain": [
       "MarketingType      D      S\n",
       "SoldFlag                   \n",
       "0              25965  37035\n",
       "1               9154   3842"
      ]
     },
     "execution_count": 18,
     "metadata": {},
     "output_type": "execute_result"
    }
   ],
   "source": [
    "pd.crosstab(df_hist[\"SoldFlag\"],df_hist[\"MarketingType\"])"
   ]
  },
  {
   "cell_type": "code",
   "execution_count": 19,
   "metadata": {},
   "outputs": [
    {
     "data": {
      "text/html": [
       "<div>\n",
       "<style scoped>\n",
       "    .dataframe tbody tr th:only-of-type {\n",
       "        vertical-align: middle;\n",
       "    }\n",
       "\n",
       "    .dataframe tbody tr th {\n",
       "        vertical-align: top;\n",
       "    }\n",
       "\n",
       "    .dataframe thead th {\n",
       "        text-align: right;\n",
       "    }\n",
       "</style>\n",
       "<table border=\"1\" class=\"dataframe\">\n",
       "  <thead>\n",
       "    <tr style=\"text-align: right;\">\n",
       "      <th>MarketingType</th>\n",
       "      <th>D</th>\n",
       "      <th>S</th>\n",
       "      <th>All</th>\n",
       "    </tr>\n",
       "    <tr>\n",
       "      <th>SoldFlag</th>\n",
       "      <th></th>\n",
       "      <th></th>\n",
       "      <th></th>\n",
       "    </tr>\n",
       "  </thead>\n",
       "  <tbody>\n",
       "    <tr>\n",
       "      <th>0</th>\n",
       "      <td>25965</td>\n",
       "      <td>37035</td>\n",
       "      <td>63000</td>\n",
       "    </tr>\n",
       "    <tr>\n",
       "      <th>1</th>\n",
       "      <td>9154</td>\n",
       "      <td>3842</td>\n",
       "      <td>12996</td>\n",
       "    </tr>\n",
       "    <tr>\n",
       "      <th>All</th>\n",
       "      <td>35119</td>\n",
       "      <td>40877</td>\n",
       "      <td>75996</td>\n",
       "    </tr>\n",
       "  </tbody>\n",
       "</table>\n",
       "</div>"
      ],
      "text/plain": [
       "MarketingType      D      S    All\n",
       "SoldFlag                          \n",
       "0              25965  37035  63000\n",
       "1               9154   3842  12996\n",
       "All            35119  40877  75996"
      ]
     },
     "execution_count": 19,
     "metadata": {},
     "output_type": "execute_result"
    }
   ],
   "source": [
    "# con total\n",
    "pd.crosstab(df_hist[\"SoldFlag\"],df_hist[\"MarketingType\"],margins=True)"
   ]
  },
  {
   "cell_type": "code",
   "execution_count": 20,
   "metadata": {},
   "outputs": [
    {
     "data": {
      "text/html": [
       "<div>\n",
       "<style scoped>\n",
       "    .dataframe tbody tr th:only-of-type {\n",
       "        vertical-align: middle;\n",
       "    }\n",
       "\n",
       "    .dataframe tbody tr th {\n",
       "        vertical-align: top;\n",
       "    }\n",
       "\n",
       "    .dataframe thead th {\n",
       "        text-align: right;\n",
       "    }\n",
       "</style>\n",
       "<table border=\"1\" class=\"dataframe\">\n",
       "  <thead>\n",
       "    <tr style=\"text-align: right;\">\n",
       "      <th>MarketingType</th>\n",
       "      <th>D</th>\n",
       "      <th>S</th>\n",
       "      <th>All</th>\n",
       "    </tr>\n",
       "    <tr>\n",
       "      <th>SoldFlag</th>\n",
       "      <th></th>\n",
       "      <th></th>\n",
       "      <th></th>\n",
       "    </tr>\n",
       "  </thead>\n",
       "  <tbody>\n",
       "    <tr>\n",
       "      <th>0</th>\n",
       "      <td>34.166272</td>\n",
       "      <td>48.732828</td>\n",
       "      <td>82.8991</td>\n",
       "    </tr>\n",
       "    <tr>\n",
       "      <th>1</th>\n",
       "      <td>12.045371</td>\n",
       "      <td>5.055529</td>\n",
       "      <td>17.1009</td>\n",
       "    </tr>\n",
       "    <tr>\n",
       "      <th>All</th>\n",
       "      <td>46.211643</td>\n",
       "      <td>53.788357</td>\n",
       "      <td>100.0000</td>\n",
       "    </tr>\n",
       "  </tbody>\n",
       "</table>\n",
       "</div>"
      ],
      "text/plain": [
       "MarketingType          D          S       All\n",
       "SoldFlag                                     \n",
       "0              34.166272  48.732828   82.8991\n",
       "1              12.045371   5.055529   17.1009\n",
       "All            46.211643  53.788357  100.0000"
      ]
     },
     "execution_count": 20,
     "metadata": {},
     "output_type": "execute_result"
    }
   ],
   "source": [
    "## Terminos Porcentajes\n",
    "pd.crosstab(index=df_hist[\"SoldFlag\"],columns=df_hist[\"MarketingType\"],margins=True).apply(lambda r:r/len(df_hist)*100,axis=1)\n"
   ]
  },
  {
   "cell_type": "markdown",
   "metadata": {},
   "source": [
    "**Prueba de Hipotesis para Variables categoricas- Test Estadisco de Independencia**\n",
    "\n",
    "* H0= Las Variables MarketingType y SoldFlag son Independientes\n",
    "* Ha= Las Variables MarketingType y SoldFlag son Dependientes\n",
    "\n",
    "* Si P valor Estadistico de la Prueba <= 0.05; Rechazo H0 las variables son Dependientes\n",
    "* Si P valor Estadistico de la Prueba > 0.05; Rechazo Ha; las variables son independientes\n",
    "\n"
   ]
  },
  {
   "cell_type": "markdown",
   "metadata": {},
   "source": [
    "**Test chi 2**"
   ]
  },
  {
   "cell_type": "code",
   "execution_count": 21,
   "metadata": {},
   "outputs": [],
   "source": [
    "tc=pd.crosstab(index=df_hist[\"SoldFlag\"],columns=df_hist[\"MarketingType\"])"
   ]
  },
  {
   "cell_type": "code",
   "execution_count": 22,
   "metadata": {},
   "outputs": [
    {
     "data": {
      "text/plain": [
       "0.0"
      ]
     },
     "execution_count": 22,
     "metadata": {},
     "output_type": "execute_result"
    }
   ],
   "source": [
    "c,p,pchi, test=chi2_contingency(tc)\n",
    "p"
   ]
  },
  {
   "cell_type": "code",
   "execution_count": 23,
   "metadata": {},
   "outputs": [
    {
     "name": "stdout",
     "output_type": "stream",
     "text": [
      "Rechazo H0 las variables son Dependientes\n"
     ]
    }
   ],
   "source": [
    "if(p <= 0.05):\n",
    "    print(\"Rechazo H0 las variables son Dependientes\")\n",
    "else:\n",
    "    print(\"Rechazo Ha; las variables son independientes\")"
   ]
  },
  {
   "cell_type": "markdown",
   "metadata": {},
   "source": [
    "La variable tipo de mercadeo influye o esta relacionada con el tipo de venta del producto en los ultimos 6 meses"
   ]
  },
  {
   "cell_type": "markdown",
   "metadata": {},
   "source": [
    "**Analisis De Variables Numericas**"
   ]
  },
  {
   "cell_type": "code",
   "execution_count": 24,
   "metadata": {},
   "outputs": [
    {
     "data": {
      "text/html": [
       "<div>\n",
       "<style scoped>\n",
       "    .dataframe tbody tr th:only-of-type {\n",
       "        vertical-align: middle;\n",
       "    }\n",
       "\n",
       "    .dataframe tbody tr th {\n",
       "        vertical-align: top;\n",
       "    }\n",
       "\n",
       "    .dataframe thead th {\n",
       "        text-align: right;\n",
       "    }\n",
       "</style>\n",
       "<table border=\"1\" class=\"dataframe\">\n",
       "  <thead>\n",
       "    <tr style=\"text-align: right;\">\n",
       "      <th></th>\n",
       "      <th>Order</th>\n",
       "      <th>File_Type</th>\n",
       "      <th>SKU_number</th>\n",
       "      <th>SoldFlag</th>\n",
       "      <th>SoldCount</th>\n",
       "      <th>MarketingType</th>\n",
       "      <th>ReleaseNumber</th>\n",
       "      <th>New_Release_Flag</th>\n",
       "      <th>StrengthFactor</th>\n",
       "      <th>PriceReg</th>\n",
       "      <th>ReleaseYear</th>\n",
       "      <th>ItemCount</th>\n",
       "      <th>LowUserPrice</th>\n",
       "      <th>LowNetPrice</th>\n",
       "    </tr>\n",
       "  </thead>\n",
       "  <tbody>\n",
       "    <tr>\n",
       "      <th>0</th>\n",
       "      <td>2</td>\n",
       "      <td>Historical</td>\n",
       "      <td>1737127</td>\n",
       "      <td>0</td>\n",
       "      <td>0.0</td>\n",
       "      <td>D</td>\n",
       "      <td>15</td>\n",
       "      <td>1</td>\n",
       "      <td>682743.0</td>\n",
       "      <td>44.99</td>\n",
       "      <td>2015</td>\n",
       "      <td>8</td>\n",
       "      <td>28.97</td>\n",
       "      <td>31.84</td>\n",
       "    </tr>\n",
       "    <tr>\n",
       "      <th>1</th>\n",
       "      <td>3</td>\n",
       "      <td>Historical</td>\n",
       "      <td>3255963</td>\n",
       "      <td>0</td>\n",
       "      <td>0.0</td>\n",
       "      <td>D</td>\n",
       "      <td>7</td>\n",
       "      <td>1</td>\n",
       "      <td>1016014.0</td>\n",
       "      <td>24.81</td>\n",
       "      <td>2005</td>\n",
       "      <td>39</td>\n",
       "      <td>0.00</td>\n",
       "      <td>15.54</td>\n",
       "    </tr>\n",
       "    <tr>\n",
       "      <th>2</th>\n",
       "      <td>4</td>\n",
       "      <td>Historical</td>\n",
       "      <td>612701</td>\n",
       "      <td>0</td>\n",
       "      <td>0.0</td>\n",
       "      <td>D</td>\n",
       "      <td>0</td>\n",
       "      <td>0</td>\n",
       "      <td>340464.0</td>\n",
       "      <td>46.00</td>\n",
       "      <td>2013</td>\n",
       "      <td>34</td>\n",
       "      <td>30.19</td>\n",
       "      <td>27.97</td>\n",
       "    </tr>\n",
       "  </tbody>\n",
       "</table>\n",
       "</div>"
      ],
      "text/plain": [
       "  Order   File_Type SKU_number SoldFlag  SoldCount MarketingType  \\\n",
       "0     2  Historical    1737127        0        0.0             D   \n",
       "1     3  Historical    3255963        0        0.0             D   \n",
       "2     4  Historical     612701        0        0.0             D   \n",
       "\n",
       "   ReleaseNumber  New_Release_Flag  StrengthFactor  PriceReg  ReleaseYear  \\\n",
       "0             15                 1        682743.0     44.99         2015   \n",
       "1              7                 1       1016014.0     24.81         2005   \n",
       "2              0                 0        340464.0     46.00         2013   \n",
       "\n",
       "   ItemCount  LowUserPrice  LowNetPrice  \n",
       "0          8         28.97        31.84  \n",
       "1         39          0.00        15.54  \n",
       "2         34         30.19        27.97  "
      ]
     },
     "execution_count": 24,
     "metadata": {},
     "output_type": "execute_result"
    }
   ],
   "source": [
    "df_hist.head(3)"
   ]
  },
  {
   "cell_type": "code",
   "execution_count": 25,
   "metadata": {},
   "outputs": [
    {
     "data": {
      "text/plain": [
       "0        15\n",
       "1         7\n",
       "2         0\n",
       "3         4\n",
       "4         2\n",
       "         ..\n",
       "75991     2\n",
       "75992     6\n",
       "75993     7\n",
       "75994     2\n",
       "75995     2\n",
       "Name: ReleaseNumber, Length: 75996, dtype: int64"
      ]
     },
     "execution_count": 25,
     "metadata": {},
     "output_type": "execute_result"
    }
   ],
   "source": [
    "df_hist[\"ReleaseNumber\"]"
   ]
  },
  {
   "cell_type": "markdown",
   "metadata": {},
   "source": [
    "**Histograma de Numero de Lanzamientos del Producto**"
   ]
  },
  {
   "cell_type": "code",
   "execution_count": 26,
   "metadata": {},
   "outputs": [
    {
     "data": {
      "image/png": "[encoded data removed]",
      "text/plain": [
       "<Figure size 576x360 with 1 Axes>"
      ]
     },
     "metadata": {
      "needs_background": "light"
     },
     "output_type": "display_data"
    }
   ],
   "source": [
    "plt.figure(figsize=(8,5))\n",
    "plt.hist(df_hist[\"ReleaseNumber\"],facecolor=\"darkgreen\")\n",
    "plt.xlabel(\"Numero de Lanzamientos del Producto\")\n",
    "plt.ylabel(\"Distribucion\")\n",
    "plt.title(\"Histograma de Numero de Lanzamientos\")\n",
    "plt.grid(True)"
   ]
  },
  {
   "cell_type": "markdown",
   "metadata": {},
   "source": [
    "**Promedio**"
   ]
  },
  {
   "cell_type": "code",
   "execution_count": 27,
   "metadata": {},
   "outputs": [
    {
     "name": "stdout",
     "output_type": "stream",
     "text": [
      "4.152534343912838\n"
     ]
    }
   ],
   "source": [
    "Promedio_Inicial=df_hist[\"ReleaseNumber\"].mean()\n",
    "print(Promedio_Inicial)"
   ]
  },
  {
   "cell_type": "code",
   "execution_count": 28,
   "metadata": {},
   "outputs": [
    {
     "data": {
      "image/png": "[encoded data removed]",
      "text/plain": [
       "<Figure size 576x360 with 1 Axes>"
      ]
     },
     "metadata": {
      "needs_background": "light"
     },
     "output_type": "display_data"
    }
   ],
   "source": [
    "plt.figure(figsize=(8,5))\n",
    "plt.hist(df_hist[\"ReleaseNumber\"],facecolor=\"blue\")\n",
    "plt.scatter(Promedio_Inicial,0,color=\"green\",s=30)\n",
    "plt.xlabel(\"Numero de Lanzamientos del Producto\")\n",
    "plt.ylabel(\"Distribucion\")\n",
    "plt.title(\"Histograma de Numero de Lanzamientos\")\n",
    "plt.grid(True)"
   ]
  },
  {
   "cell_type": "markdown",
   "metadata": {},
   "source": [
    "**Identificar Valores Atipicos**"
   ]
  },
  {
   "cell_type": "markdown",
   "metadata": {},
   "source": [
    "**Boxplot**\n",
    "\n",
    "Para dibujar el diagrama de caja necesitas conocer los valores de posición, llamados cuartiles 1 ,2 y 3. La longitud de la caja es el rango intercuartílico (q3-q1). Y la longitud de los «palos» (las líneas que salen de la caja) son los valores extremos. También necesitas saber cúales son los valores «raros» o outliers. Los dibujarás con un puntito o una crucecita."
   ]
  },
  {
   "cell_type": "code",
   "execution_count": 29,
   "metadata": {},
   "outputs": [
    {
     "data": {
      "text/plain": [
       "<matplotlib.axes._subplots.AxesSubplot at 0x1d6cfee2308>"
      ]
     },
     "execution_count": 29,
     "metadata": {},
     "output_type": "execute_result"
    },
    {
     "data": {
      "image/png": "[encoded data removed]",
      "text/plain": [
       "<Figure size 432x288 with 1 Axes>"
      ]
     },
     "metadata": {
      "needs_background": "light"
     },
     "output_type": "display_data"
    }
   ],
   "source": [
    "sns.boxplot(x=df_hist[\"ReleaseNumber\"],color=\"green\")\n",
    "#sns.set_theme(style=\"whitegrid\")"
   ]
  },
  {
   "cell_type": "code",
   "execution_count": 30,
   "metadata": {},
   "outputs": [],
   "source": [
    "#df_hist.boxplot(column=\"ReleaseNumber\")"
   ]
  },
  {
   "cell_type": "markdown",
   "metadata": {},
   "source": [
    "**Grafica de Puntos**"
   ]
  },
  {
   "cell_type": "code",
   "execution_count": 31,
   "metadata": {},
   "outputs": [
    {
     "data": {
      "text/plain": [
       "[<matplotlib.lines.Line2D at 0x1d6cf4e4708>]"
      ]
     },
     "execution_count": 31,
     "metadata": {},
     "output_type": "execute_result"
    },
    {
     "data": {
      "image/png": "[encoded data removed]",
      "text/plain": [
       "<Figure size 432x288 with 1 Axes>"
      ]
     },
     "metadata": {
      "needs_background": "light"
     },
     "output_type": "display_data"
    }
   ],
   "source": [
    "plt.plot(df_hist[\"ReleaseNumber\"],\".\",color=\"green\")"
   ]
  },
  {
   "cell_type": "markdown",
   "metadata": {},
   "source": [
    "**Metodo IQR para encontrar Datos Atipicos**"
   ]
  },
  {
   "cell_type": "code",
   "execution_count": 32,
   "metadata": {},
   "outputs": [
    {
     "name": "stdout",
     "output_type": "stream",
     "text": [
      "2.0 6.0\n"
     ]
    }
   ],
   "source": [
    "q1,q3=np.percentile(df_hist[\"ReleaseNumber\"],[25,75])\n",
    "print(q1,q3)"
   ]
  },
  {
   "cell_type": "code",
   "execution_count": 33,
   "metadata": {},
   "outputs": [
    {
     "name": "stdout",
     "output_type": "stream",
     "text": [
      "4.0\n"
     ]
    }
   ],
   "source": [
    "IQR=q3-q1\n",
    "print(IQR)"
   ]
  },
  {
   "cell_type": "markdown",
   "metadata": {},
   "source": [
    "**Limites**"
   ]
  },
  {
   "cell_type": "code",
   "execution_count": 34,
   "metadata": {},
   "outputs": [
    {
     "name": "stdout",
     "output_type": "stream",
     "text": [
      "12.0\n"
     ]
    }
   ],
   "source": [
    "limite_Superior=q3+(1.5*IQR)\n",
    "print(limite_Superior)"
   ]
  },
  {
   "cell_type": "code",
   "execution_count": 35,
   "metadata": {},
   "outputs": [
    {
     "name": "stdout",
     "output_type": "stream",
     "text": [
      "-4.0\n"
     ]
    }
   ],
   "source": [
    "limite_Inferior=q1-(1.5*IQR)\n",
    "print(limite_Inferior)"
   ]
  },
  {
   "cell_type": "markdown",
   "metadata": {},
   "source": [
    "**Grafica de Puntos con Aticos**"
   ]
  },
  {
   "cell_type": "code",
   "execution_count": 36,
   "metadata": {},
   "outputs": [
    {
     "data": {
      "text/plain": [
       "<matplotlib.lines.Line2D at 0x1d6cfd988c8>"
      ]
     },
     "execution_count": 36,
     "metadata": {},
     "output_type": "execute_result"
    },
    {
     "data": {
      "image/png": "[encoded data removed]",
      "text/plain": [
       "<Figure size 432x288 with 1 Axes>"
      ]
     },
     "metadata": {
      "needs_background": "light"
     },
     "output_type": "display_data"
    }
   ],
   "source": [
    "plt.plot(df_hist[\"ReleaseNumber\"],\".\",color=\"green\")\n",
    "plt.axhline(y=limite_Superior,color=\"red\",linestyle=\"-\")\n",
    "plt.axhline(y=limite_Inferior,color=\"red\",linestyle=\"-\")"
   ]
  },
  {
   "cell_type": "markdown",
   "metadata": {},
   "source": [
    "**Filtramos los datos sin Valores Atipicos**"
   ]
  },
  {
   "cell_type": "code",
   "execution_count": 37,
   "metadata": {},
   "outputs": [],
   "source": [
    "sin_atipicos=df_hist[(df_hist[\"ReleaseNumber\"]>limite_Inferior) & (df_hist[\"ReleaseNumber\"]<limite_Superior)]"
   ]
  },
  {
   "cell_type": "markdown",
   "metadata": {},
   "source": [
    "**Graficar Boxplot**"
   ]
  },
  {
   "cell_type": "code",
   "execution_count": 38,
   "metadata": {},
   "outputs": [
    {
     "data": {
      "text/plain": [
       "<matplotlib.axes._subplots.AxesSubplot at 0x1d6cfe94988>"
      ]
     },
     "execution_count": 38,
     "metadata": {},
     "output_type": "execute_result"
    },
    {
     "data": {
      "image/png": "[encoded data removed]",
      "text/plain": [
       "<Figure size 432x288 with 1 Axes>"
      ]
     },
     "metadata": {
      "needs_background": "light"
     },
     "output_type": "display_data"
    }
   ],
   "source": [
    "sns.boxplot(x=sin_atipicos[\"ReleaseNumber\"],color=\"green\")\n",
    "#sns.set_theme(style=\"whitegrid\")"
   ]
  },
  {
   "cell_type": "markdown",
   "metadata": {},
   "source": [
    "**Histograma**"
   ]
  },
  {
   "cell_type": "code",
   "execution_count": 39,
   "metadata": {},
   "outputs": [
    {
     "data": {
      "image/png": "[encoded data removed]",
      "text/plain": [
       "<Figure size 576x360 with 1 Axes>"
      ]
     },
     "metadata": {
      "needs_background": "light"
     },
     "output_type": "display_data"
    }
   ],
   "source": [
    "plt.figure(figsize=(8,5))\n",
    "plt.hist(sin_atipicos[\"ReleaseNumber\"],facecolor=\"blue\")\n",
    "plt.scatter(Promedio_Inicial,0,color=\"green\",s=30)\n",
    "plt.xlabel(\"Numero de Lanzamientos del Producto\")\n",
    "plt.ylabel(\"Distribucion\")\n",
    "plt.title(\"Histograma de Numero de Lanzamientos\")\n",
    "plt.grid(True)"
   ]
  },
  {
   "cell_type": "markdown",
   "metadata": {},
   "source": [
    "**Grafica de Puntos sin Atipicos**"
   ]
  },
  {
   "cell_type": "code",
   "execution_count": 40,
   "metadata": {},
   "outputs": [
    {
     "data": {
      "text/plain": [
       "[<matplotlib.lines.Line2D at 0x1d6d15f8c08>]"
      ]
     },
     "execution_count": 40,
     "metadata": {},
     "output_type": "execute_result"
    },
    {
     "data": {
      "image/png": "[encoded data removed]",
      "text/plain": [
       "<Figure size 432x288 with 1 Axes>"
      ]
     },
     "metadata": {
      "needs_background": "light"
     },
     "output_type": "display_data"
    }
   ],
   "source": [
    "plt.plot(sin_atipicos[\"ReleaseNumber\"],\".\",color=\"green\")"
   ]
  },
  {
   "cell_type": "markdown",
   "metadata": {},
   "source": [
    "**Promedio sin Atipicos**"
   ]
  },
  {
   "cell_type": "code",
   "execution_count": 41,
   "metadata": {},
   "outputs": [
    {
     "name": "stdout",
     "output_type": "stream",
     "text": [
      "4.152534343912838\n",
      "3.6228299088012306\n",
      "3.0\n"
     ]
    }
   ],
   "source": [
    "Promedio_Sin_atipicos=sin_atipicos[\"ReleaseNumber\"].mean()\n",
    "Mediana_Sin_atipicos=sin_atipicos[\"ReleaseNumber\"].median()\n",
    "\n",
    "print(Promedio_Inicial)\n",
    "print(Promedio_Sin_atipicos)\n",
    "print(Mediana_Sin_atipicos)"
   ]
  },
  {
   "cell_type": "markdown",
   "metadata": {},
   "source": [
    "**Test de Normalidad para variable Numero de lanzamientos**"
   ]
  },
  {
   "cell_type": "markdown",
   "metadata": {},
   "source": [
    "**Test Visual**"
   ]
  },
  {
   "cell_type": "code",
   "execution_count": 42,
   "metadata": {},
   "outputs": [],
   "source": [
    "from statsmodels.graphics.gofplots import qqplot"
   ]
  },
  {
   "cell_type": "code",
   "execution_count": 43,
   "metadata": {},
   "outputs": [
    {
     "data": {
      "image/png": "[encoded data removed]",
      "text/plain": [
       "<Figure size 432x288 with 1 Axes>"
      ]
     },
     "execution_count": 43,
     "metadata": {},
     "output_type": "execute_result"
    },
    {
     "data": {
      "image/png": "[encoded data removed]",
      "text/plain": [
       "<Figure size 432x288 with 1 Axes>"
      ]
     },
     "metadata": {
      "needs_background": "light"
     },
     "output_type": "display_data"
    }
   ],
   "source": [
    "## qqplot\n",
    "qqplot(sin_atipicos[\"ReleaseNumber\"],line=\"s\")"
   ]
  },
  {
   "cell_type": "markdown",
   "metadata": {},
   "source": [
    "En estadística, un gráfico de Q-Q (quantile-quantile) es un gráfico de probabilidad, que es un método gráfico para comparar dos distribuciones de probabilidad al trazar sus cuantiles uno contra el otro.En este caso, lo ideal es que los puntos se acerquen a una recta diagonal."
   ]
  },
  {
   "cell_type": "markdown",
   "metadata": {},
   "source": [
    "**Prueba Estadistica de Normalidad**"
   ]
  },
  {
   "cell_type": "code",
   "execution_count": 44,
   "metadata": {},
   "outputs": [],
   "source": [
    "from scipy.stats import shapiro"
   ]
  },
  {
   "cell_type": "markdown",
   "metadata": {},
   "source": [
    "* H0= La distribuccion del numero de lanzamientos del producto es normal\n",
    "\n",
    "* Ha= La distribuccion del numero de lanzamientos del producto no es normal\n",
    "\n",
    "* Alfa = 0.05\n",
    "\n",
    "* Si P valor < alfa(0.05), se rechaza normalidad, si p > alfa, se Acepta Normalidad"
   ]
  },
  {
   "cell_type": "code",
   "execution_count": 45,
   "metadata": {},
   "outputs": [
    {
     "name": "stdout",
     "output_type": "stream",
     "text": [
      "0.0\n"
     ]
    },
    {
     "name": "stderr",
     "output_type": "stream",
     "text": [
      "D:\\Usuarios\\OSCAGAAl\\Anaconda3\\envs\\PROYECTOS_SURA\\lib\\site-packages\\scipy\\stats\\morestats.py:1681: UserWarning: p-value may not be accurate for N > 5000.\n",
      "  warnings.warn(\"p-value may not be accurate for N > 5000.\")\n"
     ]
    }
   ],
   "source": [
    "stat,p=shapiro(sin_atipicos[\"ReleaseNumber\"])\n",
    "print(p)"
   ]
  },
  {
   "cell_type": "code",
   "execution_count": 46,
   "metadata": {},
   "outputs": [
    {
     "name": "stdout",
     "output_type": "stream",
     "text": [
      "Se rechaza normalidad,\n"
     ]
    }
   ],
   "source": [
    "if(p <= 0.05):\n",
    "    print(\"Se rechaza normalidad,\")\n",
    "else:\n",
    "    print(\"Se Acepta Normalidad\")"
   ]
  },
  {
   "cell_type": "markdown",
   "metadata": {},
   "source": [
    "**Pruba de Hipotesis de Promedio o Media**\n",
    "\n",
    "* H0= El promedio de numero de lanzamientos = 3.6\n",
    "\n",
    "* Ha= El promedio de numero de lanzamientos  difernte de 3.6\n",
    "\n",
    "* Alfa = 0.05\n",
    "\n",
    "* Si P valor < alfa(0.05), se rechaza H0, si p > alfa, se Acepta Ha"
   ]
  },
  {
   "cell_type": "code",
   "execution_count": 47,
   "metadata": {},
   "outputs": [
    {
     "name": "stdout",
     "output_type": "stream",
     "text": [
      "3.6228299088012306\n"
     ]
    }
   ],
   "source": [
    "from scipy.stats import ttest_1samp\n",
    "print(Promedio_Sin_atipicos)"
   ]
  },
  {
   "cell_type": "code",
   "execution_count": 48,
   "metadata": {},
   "outputs": [],
   "source": [
    "tset,pvalor=ttest_1samp(df_hist[\"ReleaseNumber\"],Promedio_Sin_atipicos)"
   ]
  },
  {
   "cell_type": "code",
   "execution_count": 49,
   "metadata": {},
   "outputs": [
    {
     "data": {
      "text/plain": [
       "2.0656886202275976e-296"
      ]
     },
     "execution_count": 49,
     "metadata": {},
     "output_type": "execute_result"
    }
   ],
   "source": [
    "pvalor"
   ]
  },
  {
   "cell_type": "code",
   "execution_count": 50,
   "metadata": {},
   "outputs": [
    {
     "name": "stdout",
     "output_type": "stream",
     "text": [
      "Se rechaza que el promedio real es 3.6,\n"
     ]
    }
   ],
   "source": [
    "if(pvalor <= 0.05):\n",
    "    print(\"Se rechaza que el promedio real es 3.6,\")\n",
    "else:\n",
    "    print(\"Se Acepta que el promedio real es 3.6\")"
   ]
  },
  {
   "cell_type": "markdown",
   "metadata": {},
   "source": [
    "**Aproxmacion al Promedio**"
   ]
  },
  {
   "cell_type": "markdown",
   "metadata": {},
   "source": [
    "**REMUESTREO POR BOOTSTRAP**"
   ]
  },
  {
   "cell_type": "code",
   "execution_count": 51,
   "metadata": {},
   "outputs": [],
   "source": [
    "from random import sample\n",
    "import math"
   ]
  },
  {
   "cell_type": "code",
   "execution_count": 52,
   "metadata": {},
   "outputs": [
    {
     "name": "stdout",
     "output_type": "stream",
     "text": [
      "4.152534343912838\n",
      "3.6228299088012306\n",
      "3.0\n"
     ]
    },
    {
     "data": {
      "text/plain": [
       "(75996, 14)"
      ]
     },
     "execution_count": 52,
     "metadata": {},
     "output_type": "execute_result"
    }
   ],
   "source": [
    "print(Promedio_Inicial)\n",
    "print(Promedio_Sin_atipicos)\n",
    "print(Mediana_Sin_atipicos)\n",
    "df_hist.shape"
   ]
  },
  {
   "cell_type": "markdown",
   "metadata": {},
   "source": [
    "**Selecionamos la Muestra Aleatoria**"
   ]
  },
  {
   "cell_type": "code",
   "execution_count": 53,
   "metadata": {},
   "outputs": [
    {
     "data": {
      "text/plain": [
       "(1000, 14)"
      ]
     },
     "execution_count": 53,
     "metadata": {},
     "output_type": "execute_result"
    }
   ],
   "source": [
    "Muestra=df_hist.sample(n=1000,replace=False)\n",
    "Muestra.shape"
   ]
  },
  {
   "cell_type": "code",
   "execution_count": 54,
   "metadata": {},
   "outputs": [
    {
     "name": "stdout",
     "output_type": "stream",
     "text": [
      "[ 0  1  2  3  4  5  6  7  8  9 10 11]\n"
     ]
    },
    {
     "data": {
      "image/png": "[encoded data removed]",
      "text/plain": [
       "<Figure size 432x288 with 1 Axes>"
      ]
     },
     "metadata": {
      "needs_background": "light"
     },
     "output_type": "display_data"
    }
   ],
   "source": [
    "bins=np.arange(0,12,1)\n",
    "print(bins)\n",
    "n,bins,grafico_histograma=plt.hist(Muestra[\"ReleaseNumber\"],bins)"
   ]
  },
  {
   "cell_type": "code",
   "execution_count": 55,
   "metadata": {},
   "outputs": [
    {
     "name": "stdout",
     "output_type": "stream",
     "text": [
      "4.152534343912838\n",
      "3.6228299088012306\n",
      "4.073\n"
     ]
    }
   ],
   "source": [
    "Promedio_Muestra=Muestra[\"ReleaseNumber\"].mean()\n",
    "print(Promedio_Inicial)\n",
    "print(Promedio_Sin_atipicos)\n",
    "print(Promedio_Muestra)"
   ]
  },
  {
   "cell_type": "markdown",
   "metadata": {},
   "source": [
    "**Remuestreo**"
   ]
  },
  {
   "cell_type": "code",
   "execution_count": 56,
   "metadata": {},
   "outputs": [],
   "source": [
    "Muestra_Medias=[] ## Lista vacia\n",
    "for i in range(5000):\n",
    "    muestra_n=Muestra.sample(n=500,replace=True)\n",
    "    Muestra_Medias.append(muestra_n[\"ReleaseNumber\"].mean())"
   ]
  },
  {
   "cell_type": "markdown",
   "metadata": {},
   "source": [
    "**Medias de Medias Remuestradas**"
   ]
  },
  {
   "cell_type": "code",
   "execution_count": 57,
   "metadata": {},
   "outputs": [
    {
     "name": "stdout",
     "output_type": "stream",
     "text": [
      "4.0740555999999994\n"
     ]
    }
   ],
   "source": [
    "Promedio_Remuestrado=np.mean( Muestra_Medias)\n",
    "print(Promedio_Remuestrado)"
   ]
  },
  {
   "cell_type": "code",
   "execution_count": 58,
   "metadata": {},
   "outputs": [
    {
     "data": {
      "text/plain": [
       "(array([  20.,  152.,  647., 1381., 1473.,  931.,  318.,   68.,    8.,\n",
       "           2.]),\n",
       " array([3.564 , 3.6848, 3.8056, 3.9264, 4.0472, 4.168 , 4.2888, 4.4096,\n",
       "        4.5304, 4.6512, 4.772 ]),\n",
       " <a list of 10 Patch objects>)"
      ]
     },
     "execution_count": 58,
     "metadata": {},
     "output_type": "execute_result"
    },
    {
     "data": {
      "image/png": "[encoded data removed]",
      "text/plain": [
       "<Figure size 432x288 with 1 Axes>"
      ]
     },
     "metadata": {
      "needs_background": "light"
     },
     "output_type": "display_data"
    }
   ],
   "source": [
    "plt.hist(Muestra_Medias)"
   ]
  },
  {
   "cell_type": "code",
   "execution_count": 59,
   "metadata": {},
   "outputs": [
    {
     "name": "stdout",
     "output_type": "stream",
     "text": [
      "4.152534343912838\n",
      "3.6228299088012306\n",
      "4.073\n",
      "4.0740555999999994\n"
     ]
    }
   ],
   "source": [
    "print(Promedio_Inicial)\n",
    "print(Promedio_Sin_atipicos)\n",
    "print(Promedio_Muestra)\n",
    "print(Promedio_Remuestrado)"
   ]
  },
  {
   "cell_type": "markdown",
   "metadata": {},
   "source": [
    "**Promedio Aproximado de el numero de lanzamientos de los productos es de 3.8626**"
   ]
  },
  {
   "cell_type": "markdown",
   "metadata": {},
   "source": [
    "<a id=\"ref4\"></a>\n",
    "## 4) **Modelación Machine Learning-Clasificación**\n",
    "* <p><a href =\"#ref7\"> <font color=red size=3> Inicio </font> </a></p>\n"
   ]
  },
  {
   "cell_type": "markdown",
   "metadata": {},
   "source": [
    "**Revisar el Balaceo de la data**"
   ]
  },
  {
   "cell_type": "code",
   "execution_count": 60,
   "metadata": {},
   "outputs": [
    {
     "data": {
      "text/html": [
       "<div>\n",
       "<style scoped>\n",
       "    .dataframe tbody tr th:only-of-type {\n",
       "        vertical-align: middle;\n",
       "    }\n",
       "\n",
       "    .dataframe tbody tr th {\n",
       "        vertical-align: top;\n",
       "    }\n",
       "\n",
       "    .dataframe thead th {\n",
       "        text-align: right;\n",
       "    }\n",
       "</style>\n",
       "<table border=\"1\" class=\"dataframe\">\n",
       "  <thead>\n",
       "    <tr style=\"text-align: right;\">\n",
       "      <th></th>\n",
       "      <th>Order</th>\n",
       "      <th>File_Type</th>\n",
       "      <th>SKU_number</th>\n",
       "      <th>SoldFlag</th>\n",
       "      <th>SoldCount</th>\n",
       "      <th>MarketingType</th>\n",
       "      <th>ReleaseNumber</th>\n",
       "      <th>New_Release_Flag</th>\n",
       "      <th>StrengthFactor</th>\n",
       "      <th>PriceReg</th>\n",
       "      <th>ReleaseYear</th>\n",
       "      <th>ItemCount</th>\n",
       "      <th>LowUserPrice</th>\n",
       "      <th>LowNetPrice</th>\n",
       "    </tr>\n",
       "  </thead>\n",
       "  <tbody>\n",
       "    <tr>\n",
       "      <th>0</th>\n",
       "      <td>2</td>\n",
       "      <td>Historical</td>\n",
       "      <td>1737127</td>\n",
       "      <td>0</td>\n",
       "      <td>0.0</td>\n",
       "      <td>D</td>\n",
       "      <td>15</td>\n",
       "      <td>1</td>\n",
       "      <td>682743.0</td>\n",
       "      <td>44.99</td>\n",
       "      <td>2015</td>\n",
       "      <td>8</td>\n",
       "      <td>28.97</td>\n",
       "      <td>31.84</td>\n",
       "    </tr>\n",
       "    <tr>\n",
       "      <th>1</th>\n",
       "      <td>3</td>\n",
       "      <td>Historical</td>\n",
       "      <td>3255963</td>\n",
       "      <td>0</td>\n",
       "      <td>0.0</td>\n",
       "      <td>D</td>\n",
       "      <td>7</td>\n",
       "      <td>1</td>\n",
       "      <td>1016014.0</td>\n",
       "      <td>24.81</td>\n",
       "      <td>2005</td>\n",
       "      <td>39</td>\n",
       "      <td>0.00</td>\n",
       "      <td>15.54</td>\n",
       "    </tr>\n",
       "  </tbody>\n",
       "</table>\n",
       "</div>"
      ],
      "text/plain": [
       "  Order   File_Type SKU_number SoldFlag  SoldCount MarketingType  \\\n",
       "0     2  Historical    1737127        0        0.0             D   \n",
       "1     3  Historical    3255963        0        0.0             D   \n",
       "\n",
       "   ReleaseNumber  New_Release_Flag  StrengthFactor  PriceReg  ReleaseYear  \\\n",
       "0             15                 1        682743.0     44.99         2015   \n",
       "1              7                 1       1016014.0     24.81         2005   \n",
       "\n",
       "   ItemCount  LowUserPrice  LowNetPrice  \n",
       "0          8         28.97        31.84  \n",
       "1         39          0.00        15.54  "
      ]
     },
     "execution_count": 60,
     "metadata": {},
     "output_type": "execute_result"
    }
   ],
   "source": [
    "df_hist.head(2)"
   ]
  },
  {
   "cell_type": "code",
   "execution_count": 61,
   "metadata": {},
   "outputs": [
    {
     "data": {
      "text/plain": [
       "<matplotlib.axes._subplots.AxesSubplot at 0x1d6d3f860c8>"
      ]
     },
     "execution_count": 61,
     "metadata": {},
     "output_type": "execute_result"
    },
    {
     "data": {
      "image/png": "[encoded data removed]",
      "text/plain": [
       "<Figure size 432x288 with 1 Axes>"
      ]
     },
     "metadata": {
      "needs_background": "light"
     },
     "output_type": "display_data"
    }
   ],
   "source": [
    "sns.countplot(\"SoldFlag\",data=df_hist)"
   ]
  },
  {
   "cell_type": "code",
   "execution_count": 62,
   "metadata": {},
   "outputs": [
    {
     "data": {
      "image/png": "[encoded data removed]",
      "text/plain": [
       "<Figure size 432x288 with 1 Axes>"
      ]
     },
     "metadata": {},
     "output_type": "display_data"
    }
   ],
   "source": [
    "plot = df_hist[\"SoldFlag\"].value_counts().plot(kind=\"pie\",autopct=\"%.2f\",title=\"Dsitribucion de Ventas\")"
   ]
  },
  {
   "cell_type": "code",
   "execution_count": 63,
   "metadata": {},
   "outputs": [
    {
     "data": {
      "text/plain": [
       "0    63000\n",
       "1    12996\n",
       "Name: SoldFlag, dtype: int64"
      ]
     },
     "execution_count": 63,
     "metadata": {},
     "output_type": "execute_result"
    }
   ],
   "source": [
    "pd.value_counts(df_hist[\"SoldFlag\"])"
   ]
  },
  {
   "cell_type": "code",
   "execution_count": 64,
   "metadata": {},
   "outputs": [
    {
     "data": {
      "text/plain": [
       "(75996, 14)"
      ]
     },
     "execution_count": 64,
     "metadata": {},
     "output_type": "execute_result"
    }
   ],
   "source": [
    "df_hist.shape"
   ]
  },
  {
   "cell_type": "markdown",
   "metadata": {},
   "source": [
    "# **Modelo con data Original(con desbalanceo)**"
   ]
  },
  {
   "cell_type": "code",
   "execution_count": 65,
   "metadata": {},
   "outputs": [],
   "source": [
    "import sklearn\n",
    "from sklearn.model_selection import train_test_split # dividir en entrenamiento y Testeo"
   ]
  },
  {
   "cell_type": "code",
   "execution_count": 66,
   "metadata": {},
   "outputs": [],
   "source": [
    "#pip install sklearn"
   ]
  },
  {
   "cell_type": "markdown",
   "metadata": {},
   "source": [
    "## **1) Modelo Vecino mas cercano KKNN sin variables Categoricas**"
   ]
  },
  {
   "cell_type": "markdown",
   "metadata": {},
   "source": [
    "**Seleccionar mis Varibles X**"
   ]
  },
  {
   "cell_type": "code",
   "execution_count": 67,
   "metadata": {},
   "outputs": [
    {
     "data": {
      "text/plain": [
       "Index(['Order', 'File_Type', 'SKU_number', 'SoldFlag', 'SoldCount',\n",
       "       'MarketingType', 'ReleaseNumber', 'New_Release_Flag', 'StrengthFactor',\n",
       "       'PriceReg', 'ReleaseYear', 'ItemCount', 'LowUserPrice', 'LowNetPrice'],\n",
       "      dtype='object')"
      ]
     },
     "execution_count": 67,
     "metadata": {},
     "output_type": "execute_result"
    }
   ],
   "source": [
    "df_hist.columns"
   ]
  },
  {
   "cell_type": "code",
   "execution_count": 68,
   "metadata": {},
   "outputs": [
    {
     "data": {
      "text/html": [
       "<div>\n",
       "<style scoped>\n",
       "    .dataframe tbody tr th:only-of-type {\n",
       "        vertical-align: middle;\n",
       "    }\n",
       "\n",
       "    .dataframe tbody tr th {\n",
       "        vertical-align: top;\n",
       "    }\n",
       "\n",
       "    .dataframe thead th {\n",
       "        text-align: right;\n",
       "    }\n",
       "</style>\n",
       "<table border=\"1\" class=\"dataframe\">\n",
       "  <thead>\n",
       "    <tr style=\"text-align: right;\">\n",
       "      <th></th>\n",
       "      <th>Order</th>\n",
       "      <th>File_Type</th>\n",
       "      <th>SKU_number</th>\n",
       "      <th>SoldFlag</th>\n",
       "      <th>SoldCount</th>\n",
       "      <th>MarketingType</th>\n",
       "      <th>ReleaseNumber</th>\n",
       "      <th>New_Release_Flag</th>\n",
       "      <th>StrengthFactor</th>\n",
       "      <th>PriceReg</th>\n",
       "      <th>ReleaseYear</th>\n",
       "      <th>ItemCount</th>\n",
       "      <th>LowUserPrice</th>\n",
       "      <th>LowNetPrice</th>\n",
       "    </tr>\n",
       "  </thead>\n",
       "  <tbody>\n",
       "    <tr>\n",
       "      <th>0</th>\n",
       "      <td>2</td>\n",
       "      <td>Historical</td>\n",
       "      <td>1737127</td>\n",
       "      <td>0</td>\n",
       "      <td>0.0</td>\n",
       "      <td>D</td>\n",
       "      <td>15</td>\n",
       "      <td>1</td>\n",
       "      <td>682743.0</td>\n",
       "      <td>44.99</td>\n",
       "      <td>2015</td>\n",
       "      <td>8</td>\n",
       "      <td>28.97</td>\n",
       "      <td>31.84</td>\n",
       "    </tr>\n",
       "    <tr>\n",
       "      <th>1</th>\n",
       "      <td>3</td>\n",
       "      <td>Historical</td>\n",
       "      <td>3255963</td>\n",
       "      <td>0</td>\n",
       "      <td>0.0</td>\n",
       "      <td>D</td>\n",
       "      <td>7</td>\n",
       "      <td>1</td>\n",
       "      <td>1016014.0</td>\n",
       "      <td>24.81</td>\n",
       "      <td>2005</td>\n",
       "      <td>39</td>\n",
       "      <td>0.00</td>\n",
       "      <td>15.54</td>\n",
       "    </tr>\n",
       "  </tbody>\n",
       "</table>\n",
       "</div>"
      ],
      "text/plain": [
       "  Order   File_Type SKU_number SoldFlag  SoldCount MarketingType  \\\n",
       "0     2  Historical    1737127        0        0.0             D   \n",
       "1     3  Historical    3255963        0        0.0             D   \n",
       "\n",
       "   ReleaseNumber  New_Release_Flag  StrengthFactor  PriceReg  ReleaseYear  \\\n",
       "0             15                 1        682743.0     44.99         2015   \n",
       "1              7                 1       1016014.0     24.81         2005   \n",
       "\n",
       "   ItemCount  LowUserPrice  LowNetPrice  \n",
       "0          8         28.97        31.84  \n",
       "1         39          0.00        15.54  "
      ]
     },
     "execution_count": 68,
     "metadata": {},
     "output_type": "execute_result"
    }
   ],
   "source": [
    "df_hist.head(2)"
   ]
  },
  {
   "cell_type": "code",
   "execution_count": 69,
   "metadata": {},
   "outputs": [
    {
     "data": {
      "text/html": [
       "<div>\n",
       "<style scoped>\n",
       "    .dataframe tbody tr th:only-of-type {\n",
       "        vertical-align: middle;\n",
       "    }\n",
       "\n",
       "    .dataframe tbody tr th {\n",
       "        vertical-align: top;\n",
       "    }\n",
       "\n",
       "    .dataframe thead th {\n",
       "        text-align: right;\n",
       "    }\n",
       "</style>\n",
       "<table border=\"1\" class=\"dataframe\">\n",
       "  <thead>\n",
       "    <tr style=\"text-align: right;\">\n",
       "      <th></th>\n",
       "      <th>ReleaseNumber</th>\n",
       "      <th>New_Release_Flag</th>\n",
       "      <th>StrengthFactor</th>\n",
       "      <th>PriceReg</th>\n",
       "      <th>ReleaseYear</th>\n",
       "      <th>ItemCount</th>\n",
       "      <th>LowUserPrice</th>\n",
       "      <th>LowNetPrice</th>\n",
       "    </tr>\n",
       "  </thead>\n",
       "  <tbody>\n",
       "    <tr>\n",
       "      <th>0</th>\n",
       "      <td>15</td>\n",
       "      <td>1</td>\n",
       "      <td>682743.0</td>\n",
       "      <td>44.99</td>\n",
       "      <td>2015</td>\n",
       "      <td>8</td>\n",
       "      <td>28.97</td>\n",
       "      <td>31.84</td>\n",
       "    </tr>\n",
       "    <tr>\n",
       "      <th>1</th>\n",
       "      <td>7</td>\n",
       "      <td>1</td>\n",
       "      <td>1016014.0</td>\n",
       "      <td>24.81</td>\n",
       "      <td>2005</td>\n",
       "      <td>39</td>\n",
       "      <td>0.00</td>\n",
       "      <td>15.54</td>\n",
       "    </tr>\n",
       "  </tbody>\n",
       "</table>\n",
       "</div>"
      ],
      "text/plain": [
       "   ReleaseNumber  New_Release_Flag  StrengthFactor  PriceReg  ReleaseYear  \\\n",
       "0             15                 1        682743.0     44.99         2015   \n",
       "1              7                 1       1016014.0     24.81         2005   \n",
       "\n",
       "   ItemCount  LowUserPrice  LowNetPrice  \n",
       "0          8         28.97        31.84  \n",
       "1         39          0.00        15.54  "
      ]
     },
     "execution_count": 69,
     "metadata": {},
     "output_type": "execute_result"
    }
   ],
   "source": [
    "X=df_hist[['ReleaseNumber','New_Release_Flag','StrengthFactor','PriceReg', 'ReleaseYear', 'ItemCount', 'LowUserPrice', 'LowNetPrice']] # Variables Numericas\n",
    "X.head(2)"
   ]
  },
  {
   "cell_type": "markdown",
   "metadata": {},
   "source": [
    "**Seleccionamos nuestra Variable Objetivo**"
   ]
  },
  {
   "cell_type": "code",
   "execution_count": 70,
   "metadata": {},
   "outputs": [
    {
     "data": {
      "text/plain": [
       "[0, 0, 0, 1, 1, ..., 0, 0, 0, 0, 0]\n",
       "Length: 75996\n",
       "Categories (2, int64): [0, 1]"
      ]
     },
     "execution_count": 70,
     "metadata": {},
     "output_type": "execute_result"
    }
   ],
   "source": [
    "Y=df_hist[\"SoldFlag\"].values\n",
    "Y"
   ]
  },
  {
   "cell_type": "markdown",
   "metadata": {},
   "source": [
    "**Estandarizar Los Datos**"
   ]
  },
  {
   "cell_type": "code",
   "execution_count": 71,
   "metadata": {},
   "outputs": [
    {
     "data": {
      "text/plain": [
       "array([[1.51515152e-01, 1.00000000e+00, 4.09533168e-02, ...,\n",
       "        5.25279054e-03, 2.04876731e-03, 1.66363704e-03],\n",
       "       [7.07070707e-02, 1.00000000e+00, 6.09460701e-02, ...,\n",
       "        2.56073539e-02, 0.00000000e+00, 8.11963557e-04],\n",
       "       [0.00000000e+00, 0.00000000e+00, 2.04201783e-02, ...,\n",
       "        2.23243598e-02, 2.13504608e-03, 1.46142990e-03],\n",
       "       ...,\n",
       "       [7.07070707e-02, 1.00000000e+00, 7.89088394e-02, ...,\n",
       "        1.24753775e-02, 3.39386756e-03, 2.82097249e-03],\n",
       "       [2.02020202e-02, 1.00000000e+00, 5.26539645e-02, ...,\n",
       "        1.37885752e-02, 1.91439873e-03, 1.70439197e-03],\n",
       "       [2.02020202e-02, 1.00000000e+00, 3.00480096e-02, ...,\n",
       "        1.51017728e-02, 0.00000000e+00, 1.97974898e-03]])"
      ]
     },
     "execution_count": 71,
     "metadata": {},
     "output_type": "execute_result"
    }
   ],
   "source": [
    "from sklearn.preprocessing import MinMaxScaler\n",
    "S=MinMaxScaler()\n",
    "X_S=S.fit_transform(X)\n",
    "X_S"
   ]
  },
  {
   "cell_type": "markdown",
   "metadata": {},
   "source": [
    "**Dividir en Entranamiento y Prueba**"
   ]
  },
  {
   "cell_type": "code",
   "execution_count": 72,
   "metadata": {},
   "outputs": [],
   "source": [
    "x_train,x_test,y_train,y_test= train_test_split(X_S,Y,test_size=0.2,random_state=4)"
   ]
  },
  {
   "cell_type": "markdown",
   "metadata": {},
   "source": [
    "**Entrenar Modelo**"
   ]
  },
  {
   "cell_type": "code",
   "execution_count": 73,
   "metadata": {},
   "outputs": [],
   "source": [
    "from sklearn.neighbors import KNeighborsClassifier"
   ]
  },
  {
   "cell_type": "code",
   "execution_count": 74,
   "metadata": {},
   "outputs": [
    {
     "data": {
      "text/plain": [
       "KNeighborsClassifier(n_neighbors=3)"
      ]
     },
     "execution_count": 74,
     "metadata": {},
     "output_type": "execute_result"
    }
   ],
   "source": [
    "k=3\n",
    "modelo_Vecino_mas_cercano=KNeighborsClassifier(n_neighbors=k).fit(x_train,y_train)\n",
    "modelo_Vecino_mas_cercano"
   ]
  },
  {
   "cell_type": "markdown",
   "metadata": {},
   "source": [
    "**Prediccion**"
   ]
  },
  {
   "cell_type": "code",
   "execution_count": 75,
   "metadata": {},
   "outputs": [
    {
     "data": {
      "text/plain": [
       "array([0, 0, 0, ..., 0, 0, 0], dtype=int64)"
      ]
     },
     "execution_count": 75,
     "metadata": {},
     "output_type": "execute_result"
    }
   ],
   "source": [
    "Predicciones_Vecino_mas_cercano=modelo_Vecino_mas_cercano.predict(x_test)\n",
    "Predicciones_Vecino_mas_cercano"
   ]
  },
  {
   "cell_type": "markdown",
   "metadata": {},
   "source": [
    "**Evaluacion del Modelo**"
   ]
  },
  {
   "cell_type": "code",
   "execution_count": 76,
   "metadata": {},
   "outputs": [],
   "source": [
    "from sklearn import metrics"
   ]
  },
  {
   "cell_type": "code",
   "execution_count": 77,
   "metadata": {},
   "outputs": [
    {
     "name": "stdout",
     "output_type": "stream",
     "text": [
      "Accuracy prueba 0.8019078947368421\n"
     ]
    }
   ],
   "source": [
    "print(\"Accuracy prueba\",metrics.accuracy_score(y_test,Predicciones_Vecino_mas_cercano))"
   ]
  },
  {
   "cell_type": "markdown",
   "metadata": {},
   "source": [
    "**Matrix de Confusion**"
   ]
  },
  {
   "cell_type": "code",
   "execution_count": 78,
   "metadata": {},
   "outputs": [
    {
     "name": "stdout",
     "output_type": "stream",
     "text": [
      "[[11671   955]\n",
      " [ 2056   518]]\n"
     ]
    }
   ],
   "source": [
    "print(metrics.confusion_matrix(y_test,Predicciones_Vecino_mas_cercano))"
   ]
  },
  {
   "cell_type": "code",
   "execution_count": 79,
   "metadata": {},
   "outputs": [
    {
     "name": "stdout",
     "output_type": "stream",
     "text": [
      "              precision    recall  f1-score   support\n",
      "\n",
      "           0       0.85      0.92      0.89     12626\n",
      "           1       0.35      0.20      0.26      2574\n",
      "\n",
      "    accuracy                           0.80     15200\n",
      "   macro avg       0.60      0.56      0.57     15200\n",
      "weighted avg       0.77      0.80      0.78     15200\n",
      "\n"
     ]
    }
   ],
   "source": [
    "print(metrics.classification_report(y_test,Predicciones_Vecino_mas_cercano))"
   ]
  },
  {
   "cell_type": "markdown",
   "metadata": {},
   "source": [
    "**Optimizar el Modelo**"
   ]
  },
  {
   "cell_type": "code",
   "execution_count": 80,
   "metadata": {},
   "outputs": [],
   "source": [
    "ks=30\n",
    "accuracy=np.zeros((ks-1))\n",
    "matrix_confusion=[];\n",
    "for n in range(1,ks):\n",
    "    modelo_vmc=KNeighborsClassifier(n_neighbors=n).fit(x_train,y_train)\n",
    "    y_predic=modelo_vmc.predict(x_test)\n",
    "    accuracy[n-1]=metrics.accuracy_score(y_test,y_predic)"
   ]
  },
  {
   "cell_type": "code",
   "execution_count": 81,
   "metadata": {},
   "outputs": [
    {
     "data": {
      "text/plain": [
       "array([0.75927632, 0.82184211, 0.80190789, 0.82519737, 0.81486842,\n",
       "       0.82828947, 0.82276316, 0.83032895, 0.82703947, 0.83223684,\n",
       "       0.83144737, 0.83263158, 0.83125   , 0.83296053, 0.83171053,\n",
       "       0.83328947, 0.83282895, 0.83302632, 0.83315789, 0.83388158,\n",
       "       0.83328947, 0.83322368, 0.83375   , 0.83375   , 0.83348684,\n",
       "       0.83375   , 0.83335526, 0.83361842, 0.83401316])"
      ]
     },
     "execution_count": 81,
     "metadata": {},
     "output_type": "execute_result"
    }
   ],
   "source": [
    " accuracy"
   ]
  },
  {
   "cell_type": "code",
   "execution_count": 82,
   "metadata": {},
   "outputs": [
    {
     "data": {
      "text/plain": [
       "[<matplotlib.lines.Line2D at 0x1d6d556ddc8>]"
      ]
     },
     "execution_count": 82,
     "metadata": {},
     "output_type": "execute_result"
    },
    {
     "data": {
      "image/png": "[encoded data removed]",
      "text/plain": [
       "<Figure size 432x288 with 1 Axes>"
      ]
     },
     "metadata": {
      "needs_background": "light"
     },
     "output_type": "display_data"
    }
   ],
   "source": [
    "plt.plot(range(1,ks), accuracy,\"b\")"
   ]
  },
  {
   "cell_type": "markdown",
   "metadata": {},
   "source": [
    "**Modelo Optimo**"
   ]
  },
  {
   "cell_type": "code",
   "execution_count": 83,
   "metadata": {},
   "outputs": [
    {
     "data": {
      "text/plain": [
       "KNeighborsClassifier(n_neighbors=20)"
      ]
     },
     "execution_count": 83,
     "metadata": {},
     "output_type": "execute_result"
    }
   ],
   "source": [
    "k=20\n",
    "modelo_Vecino_mas_cercano=KNeighborsClassifier(n_neighbors=k).fit(x_train,y_train)\n",
    "modelo_Vecino_mas_cercano"
   ]
  },
  {
   "cell_type": "code",
   "execution_count": 84,
   "metadata": {},
   "outputs": [
    {
     "data": {
      "text/plain": [
       "array([0, 0, 0, ..., 0, 0, 0], dtype=int64)"
      ]
     },
     "execution_count": 84,
     "metadata": {},
     "output_type": "execute_result"
    }
   ],
   "source": [
    "Predicciones_Vecino_mas_cercano=modelo_Vecino_mas_cercano.predict(x_test)\n",
    "Predicciones_Vecino_mas_cercano"
   ]
  },
  {
   "cell_type": "code",
   "execution_count": 85,
   "metadata": {},
   "outputs": [
    {
     "name": "stdout",
     "output_type": "stream",
     "text": [
      "Accuracy prueba 0.8338815789473685\n"
     ]
    }
   ],
   "source": [
    "print(\"Accuracy prueba\",metrics.accuracy_score(y_test,Predicciones_Vecino_mas_cercano))"
   ]
  },
  {
   "cell_type": "code",
   "execution_count": 86,
   "metadata": {},
   "outputs": [
    {
     "name": "stdout",
     "output_type": "stream",
     "text": [
      "              precision    recall  f1-score   support\n",
      "\n",
      "           0       0.84      0.98      0.91     12626\n",
      "           1       0.55      0.10      0.17      2574\n",
      "\n",
      "    accuracy                           0.83     15200\n",
      "   macro avg       0.70      0.54      0.54     15200\n",
      "weighted avg       0.79      0.83      0.78     15200\n",
      "\n"
     ]
    }
   ],
   "source": [
    "print(metrics.classification_report(y_test,Predicciones_Vecino_mas_cercano))"
   ]
  },
  {
   "cell_type": "markdown",
   "metadata": {},
   "source": [
    "**Balancear los Datos**"
   ]
  },
  {
   "cell_type": "markdown",
   "metadata": {},
   "source": [
    "**Balanceo con Datos Artificiales**\n",
    "Oversampling: Es el proceso de generar datos sintéticos que intenta generar aleatoriamente una muestra de los atributos a partir de observaciones en la clase minoritaria"
   ]
  },
  {
   "cell_type": "code",
   "execution_count": 87,
   "metadata": {},
   "outputs": [
    {
     "data": {
      "text/plain": [
       "<matplotlib.axes._subplots.AxesSubplot at 0x1d6d575d688>"
      ]
     },
     "execution_count": 87,
     "metadata": {},
     "output_type": "execute_result"
    },
    {
     "data": {
      "image/png": "[encoded data removed]",
      "text/plain": [
       "<Figure size 432x288 with 1 Axes>"
      ]
     },
     "metadata": {
      "needs_background": "light"
     },
     "output_type": "display_data"
    }
   ],
   "source": [
    "sns.countplot(\"SoldFlag\",data=df_hist)"
   ]
  },
  {
   "cell_type": "code",
   "execution_count": 88,
   "metadata": {},
   "outputs": [],
   "source": [
    "Ventas=df_hist[df_hist[\"SoldFlag\"]==1]\n",
    "No_Ventas=df_hist[df_hist[\"SoldFlag\"]==0]"
   ]
  },
  {
   "cell_type": "code",
   "execution_count": 89,
   "metadata": {},
   "outputs": [],
   "source": [
    "df_clase_ficticia=Ventas.sample(n=len(No_Ventas),replace=True)"
   ]
  },
  {
   "cell_type": "code",
   "execution_count": 90,
   "metadata": {},
   "outputs": [],
   "source": [
    "df_metodo_1 = pd.concat([df_clase_ficticia,No_Ventas],axis=0)"
   ]
  },
  {
   "cell_type": "code",
   "execution_count": 91,
   "metadata": {},
   "outputs": [
    {
     "data": {
      "text/plain": [
       "<matplotlib.axes._subplots.AxesSubplot at 0x1d6d56c68c8>"
      ]
     },
     "execution_count": 91,
     "metadata": {},
     "output_type": "execute_result"
    },
    {
     "data": {
      "image/png": "[encoded data removed]",
      "text/plain": [
       "<Figure size 432x288 with 1 Axes>"
      ]
     },
     "metadata": {
      "needs_background": "light"
     },
     "output_type": "display_data"
    }
   ],
   "source": [
    "sns.countplot(\"SoldFlag\",data=df_metodo_1 )"
   ]
  },
  {
   "cell_type": "markdown",
   "metadata": {},
   "source": [
    "**Modelo con Datos Balanceados**"
   ]
  },
  {
   "cell_type": "markdown",
   "metadata": {},
   "source": [
    "**Seleccion de Variables**"
   ]
  },
  {
   "cell_type": "code",
   "execution_count": 92,
   "metadata": {},
   "outputs": [
    {
     "data": {
      "text/html": [
       "<div>\n",
       "<style scoped>\n",
       "    .dataframe tbody tr th:only-of-type {\n",
       "        vertical-align: middle;\n",
       "    }\n",
       "\n",
       "    .dataframe tbody tr th {\n",
       "        vertical-align: top;\n",
       "    }\n",
       "\n",
       "    .dataframe thead th {\n",
       "        text-align: right;\n",
       "    }\n",
       "</style>\n",
       "<table border=\"1\" class=\"dataframe\">\n",
       "  <thead>\n",
       "    <tr style=\"text-align: right;\">\n",
       "      <th></th>\n",
       "      <th>ReleaseNumber</th>\n",
       "      <th>New_Release_Flag</th>\n",
       "      <th>StrengthFactor</th>\n",
       "      <th>PriceReg</th>\n",
       "      <th>ReleaseYear</th>\n",
       "      <th>ItemCount</th>\n",
       "      <th>LowUserPrice</th>\n",
       "      <th>LowNetPrice</th>\n",
       "    </tr>\n",
       "  </thead>\n",
       "  <tbody>\n",
       "    <tr>\n",
       "      <th>35434</th>\n",
       "      <td>4</td>\n",
       "      <td>1</td>\n",
       "      <td>38589.0</td>\n",
       "      <td>20.95</td>\n",
       "      <td>2011</td>\n",
       "      <td>17</td>\n",
       "      <td>42.94</td>\n",
       "      <td>17.50</td>\n",
       "    </tr>\n",
       "    <tr>\n",
       "      <th>43774</th>\n",
       "      <td>0</td>\n",
       "      <td>0</td>\n",
       "      <td>88243.0</td>\n",
       "      <td>47.95</td>\n",
       "      <td>2006</td>\n",
       "      <td>177</td>\n",
       "      <td>31.43</td>\n",
       "      <td>16.88</td>\n",
       "    </tr>\n",
       "  </tbody>\n",
       "</table>\n",
       "</div>"
      ],
      "text/plain": [
       "       ReleaseNumber  New_Release_Flag  StrengthFactor  PriceReg  ReleaseYear  \\\n",
       "35434              4                 1         38589.0     20.95         2011   \n",
       "43774              0                 0         88243.0     47.95         2006   \n",
       "\n",
       "       ItemCount  LowUserPrice  LowNetPrice  \n",
       "35434         17         42.94        17.50  \n",
       "43774        177         31.43        16.88  "
      ]
     },
     "execution_count": 92,
     "metadata": {},
     "output_type": "execute_result"
    }
   ],
   "source": [
    "X=df_metodo_1[['ReleaseNumber','New_Release_Flag','StrengthFactor','PriceReg', 'ReleaseYear', 'ItemCount', 'LowUserPrice', 'LowNetPrice']] # Variables Numericas\n",
    "X.head(2)"
   ]
  },
  {
   "cell_type": "code",
   "execution_count": 93,
   "metadata": {},
   "outputs": [
    {
     "data": {
      "text/plain": [
       "[1, 1, 1, 1, 1, ..., 0, 0, 0, 0, 0]\n",
       "Length: 126000\n",
       "Categories (2, int64): [0, 1]"
      ]
     },
     "execution_count": 93,
     "metadata": {},
     "output_type": "execute_result"
    }
   ],
   "source": [
    "Y=df_metodo_1[\"SoldFlag\"].values\n",
    "Y"
   ]
  },
  {
   "cell_type": "markdown",
   "metadata": {},
   "source": [
    "**Estandarizar**"
   ]
  },
  {
   "cell_type": "code",
   "execution_count": 94,
   "metadata": {},
   "outputs": [
    {
     "data": {
      "text/plain": [
       "array([[4.04040404e-02, 1.00000000e+00, 2.31085468e-03, ...,\n",
       "        1.11621799e-02, 3.03673001e-03, 9.14373375e-04],\n",
       "       [0.00000000e+00, 0.00000000e+00, 5.28957221e-03, ...,\n",
       "        1.16217991e-01, 2.22273927e-03, 8.81978432e-04],\n",
       "       [1.01010101e-02, 0.00000000e+00, 2.51016972e-02, ...,\n",
       "        4.46487196e-02, 8.55857162e-03, 2.29847341e-03],\n",
       "       ...,\n",
       "       [7.07070707e-02, 1.00000000e+00, 7.89088394e-02, ...,\n",
       "        1.24753775e-02, 3.39386756e-03, 2.82097249e-03],\n",
       "       [2.02020202e-02, 1.00000000e+00, 5.26539645e-02, ...,\n",
       "        1.37885752e-02, 1.91439873e-03, 1.70439197e-03],\n",
       "       [2.02020202e-02, 1.00000000e+00, 3.00480096e-02, ...,\n",
       "        1.51017728e-02, 0.00000000e+00, 1.97974898e-03]])"
      ]
     },
     "execution_count": 94,
     "metadata": {},
     "output_type": "execute_result"
    }
   ],
   "source": [
    "X_S=S.fit_transform(X)\n",
    "X_S"
   ]
  },
  {
   "cell_type": "markdown",
   "metadata": {},
   "source": [
    "**Dividir Base para entrenar y probar**"
   ]
  },
  {
   "cell_type": "code",
   "execution_count": 95,
   "metadata": {},
   "outputs": [],
   "source": [
    "x_train,x_test,y_train,y_test= train_test_split(X_S,Y,test_size=0.2,random_state=4)"
   ]
  },
  {
   "cell_type": "markdown",
   "metadata": {},
   "source": [
    "**Modelo**"
   ]
  },
  {
   "cell_type": "code",
   "execution_count": 96,
   "metadata": {},
   "outputs": [
    {
     "data": {
      "text/plain": [
       "KNeighborsClassifier(n_neighbors=20)"
      ]
     },
     "execution_count": 96,
     "metadata": {},
     "output_type": "execute_result"
    }
   ],
   "source": [
    "k=20\n",
    "modelo_Vecino_mas_cercano=KNeighborsClassifier(n_neighbors=k).fit(x_train,y_train)\n",
    "modelo_Vecino_mas_cercano"
   ]
  },
  {
   "cell_type": "code",
   "execution_count": 97,
   "metadata": {},
   "outputs": [
    {
     "data": {
      "text/plain": [
       "array([0, 1, 0, ..., 0, 1, 1], dtype=int64)"
      ]
     },
     "execution_count": 97,
     "metadata": {},
     "output_type": "execute_result"
    }
   ],
   "source": [
    "Predicciones_Vecino_mas_cercano=modelo_Vecino_mas_cercano.predict(x_test)\n",
    "Predicciones_Vecino_mas_cercano"
   ]
  },
  {
   "cell_type": "code",
   "execution_count": 98,
   "metadata": {},
   "outputs": [
    {
     "name": "stdout",
     "output_type": "stream",
     "text": [
      "Accuracy prueba 0.6844444444444444\n"
     ]
    }
   ],
   "source": [
    "print(\"Accuracy prueba\",metrics.accuracy_score(y_test,Predicciones_Vecino_mas_cercano))"
   ]
  },
  {
   "cell_type": "code",
   "execution_count": 99,
   "metadata": {},
   "outputs": [
    {
     "name": "stdout",
     "output_type": "stream",
     "text": [
      "              precision    recall  f1-score   support\n",
      "\n",
      "           0       0.68      0.68      0.68     12462\n",
      "           1       0.69      0.69      0.69     12738\n",
      "\n",
      "    accuracy                           0.68     25200\n",
      "   macro avg       0.68      0.68      0.68     25200\n",
      "weighted avg       0.68      0.68      0.68     25200\n",
      "\n"
     ]
    }
   ],
   "source": [
    "print(metrics.classification_report(y_test,Predicciones_Vecino_mas_cercano))"
   ]
  },
  {
   "cell_type": "markdown",
   "metadata": {},
   "source": [
    "**Balanceo de Datos- Eliminando Datos de la clase Mayoritaria**"
   ]
  },
  {
   "cell_type": "code",
   "execution_count": 100,
   "metadata": {},
   "outputs": [],
   "source": [
    "Eliminacion_No_Ventas=No_Ventas.sample(n=len(Ventas),random_state=4)"
   ]
  },
  {
   "cell_type": "code",
   "execution_count": 101,
   "metadata": {},
   "outputs": [],
   "source": [
    "df_metodo_2=pd.concat([Ventas,Eliminacion_No_Ventas],axis=0)"
   ]
  },
  {
   "cell_type": "code",
   "execution_count": 102,
   "metadata": {},
   "outputs": [
    {
     "data": {
      "text/plain": [
       "<matplotlib.axes._subplots.AxesSubplot at 0x1d6d80d2fc8>"
      ]
     },
     "execution_count": 102,
     "metadata": {},
     "output_type": "execute_result"
    },
    {
     "data": {
      "image/png": "[encoded data removed]",
      "text/plain": [
       "<Figure size 432x288 with 1 Axes>"
      ]
     },
     "metadata": {
      "needs_background": "light"
     },
     "output_type": "display_data"
    }
   ],
   "source": [
    "sns.countplot(\"SoldFlag\",data=df_metodo_2)"
   ]
  },
  {
   "cell_type": "markdown",
   "metadata": {},
   "source": [
    "**Correr Modelo con metodo2**"
   ]
  },
  {
   "cell_type": "code",
   "execution_count": 103,
   "metadata": {},
   "outputs": [
    {
     "data": {
      "text/html": [
       "<div>\n",
       "<style scoped>\n",
       "    .dataframe tbody tr th:only-of-type {\n",
       "        vertical-align: middle;\n",
       "    }\n",
       "\n",
       "    .dataframe tbody tr th {\n",
       "        vertical-align: top;\n",
       "    }\n",
       "\n",
       "    .dataframe thead th {\n",
       "        text-align: right;\n",
       "    }\n",
       "</style>\n",
       "<table border=\"1\" class=\"dataframe\">\n",
       "  <thead>\n",
       "    <tr style=\"text-align: right;\">\n",
       "      <th></th>\n",
       "      <th>ReleaseNumber</th>\n",
       "      <th>New_Release_Flag</th>\n",
       "      <th>StrengthFactor</th>\n",
       "      <th>PriceReg</th>\n",
       "      <th>ReleaseYear</th>\n",
       "      <th>ItemCount</th>\n",
       "      <th>LowUserPrice</th>\n",
       "      <th>LowNetPrice</th>\n",
       "    </tr>\n",
       "  </thead>\n",
       "  <tbody>\n",
       "    <tr>\n",
       "      <th>3</th>\n",
       "      <td>4</td>\n",
       "      <td>1</td>\n",
       "      <td>334011.0</td>\n",
       "      <td>100.00</td>\n",
       "      <td>2006</td>\n",
       "      <td>20</td>\n",
       "      <td>133.93</td>\n",
       "      <td>83.15</td>\n",
       "    </tr>\n",
       "    <tr>\n",
       "      <th>4</th>\n",
       "      <td>2</td>\n",
       "      <td>1</td>\n",
       "      <td>1287938.0</td>\n",
       "      <td>121.95</td>\n",
       "      <td>2010</td>\n",
       "      <td>28</td>\n",
       "      <td>4.00</td>\n",
       "      <td>23.99</td>\n",
       "    </tr>\n",
       "  </tbody>\n",
       "</table>\n",
       "</div>"
      ],
      "text/plain": [
       "   ReleaseNumber  New_Release_Flag  StrengthFactor  PriceReg  ReleaseYear  \\\n",
       "3              4                 1        334011.0    100.00         2006   \n",
       "4              2                 1       1287938.0    121.95         2010   \n",
       "\n",
       "   ItemCount  LowUserPrice  LowNetPrice  \n",
       "3         20        133.93        83.15  \n",
       "4         28          4.00        23.99  "
      ]
     },
     "execution_count": 103,
     "metadata": {},
     "output_type": "execute_result"
    }
   ],
   "source": [
    "X=df_metodo_2[['ReleaseNumber','New_Release_Flag','StrengthFactor','PriceReg', 'ReleaseYear', 'ItemCount', 'LowUserPrice', 'LowNetPrice']] # Variables Numericas\n",
    "X.head(2)"
   ]
  },
  {
   "cell_type": "code",
   "execution_count": 104,
   "metadata": {},
   "outputs": [
    {
     "data": {
      "text/plain": [
       "[1, 1, 1, 1, 1, ..., 0, 0, 0, 0, 0]\n",
       "Length: 25992\n",
       "Categories (2, int64): [0, 1]"
      ]
     },
     "execution_count": 104,
     "metadata": {},
     "output_type": "execute_result"
    }
   ],
   "source": [
    "Y=df_metodo_2[\"SoldFlag\"].values\n",
    "Y"
   ]
  },
  {
   "cell_type": "code",
   "execution_count": 105,
   "metadata": {},
   "outputs": [
    {
     "data": {
      "text/plain": [
       "array([[4.12371134e-02, 1.00000000e+00, 2.09185235e-02, ...,\n",
       "        1.31319764e-02, 1.72124184e-02, 8.31170025e-03],\n",
       "       [2.06185567e-02, 1.00000000e+00, 8.06815182e-02, ...,\n",
       "        1.83847669e-02, 5.14072081e-04, 2.39804797e-03],\n",
       "       [6.18556701e-02, 1.00000000e+00, 2.39957388e-02, ...,\n",
       "        4.53053185e-02, 2.19058965e-02, 7.89586534e-03],\n",
       "       ...,\n",
       "       [2.06185567e-02, 1.00000000e+00, 5.68568750e-03, ...,\n",
       "        3.67695338e-02, 7.54272260e-03, 7.59598439e-03],\n",
       "       [1.03092784e-02, 0.00000000e+00, 1.53381873e-01, ...,\n",
       "        1.37885752e-02, 6.45031943e-03, 5.25991182e-03],\n",
       "       [3.09278351e-02, 1.00000000e+00, 6.66155907e-02, ...,\n",
       "        2.36375575e-02, 1.40598714e-03, 2.79788924e-03]])"
      ]
     },
     "execution_count": 105,
     "metadata": {},
     "output_type": "execute_result"
    }
   ],
   "source": [
    "X_S=S.fit_transform(X)\n",
    "X_S"
   ]
  },
  {
   "cell_type": "code",
   "execution_count": 106,
   "metadata": {},
   "outputs": [],
   "source": [
    "x_train,x_test,y_train,y_test= train_test_split(X_S,Y,test_size=0.2,random_state=4)"
   ]
  },
  {
   "cell_type": "code",
   "execution_count": 107,
   "metadata": {},
   "outputs": [
    {
     "data": {
      "text/plain": [
       "KNeighborsClassifier(n_neighbors=20)"
      ]
     },
     "execution_count": 107,
     "metadata": {},
     "output_type": "execute_result"
    }
   ],
   "source": [
    "k=20\n",
    "modelo_Vecino_mas_cercano=KNeighborsClassifier(n_neighbors=k).fit(x_train,y_train)\n",
    "modelo_Vecino_mas_cercano"
   ]
  },
  {
   "cell_type": "code",
   "execution_count": 108,
   "metadata": {},
   "outputs": [
    {
     "data": {
      "text/plain": [
       "array([0, 0, 1, ..., 0, 0, 1], dtype=int64)"
      ]
     },
     "execution_count": 108,
     "metadata": {},
     "output_type": "execute_result"
    }
   ],
   "source": [
    "Predicciones_Vecino_mas_cercano=modelo_Vecino_mas_cercano.predict(x_test)\n",
    "Predicciones_Vecino_mas_cercano"
   ]
  },
  {
   "cell_type": "code",
   "execution_count": 109,
   "metadata": {},
   "outputs": [
    {
     "name": "stdout",
     "output_type": "stream",
     "text": [
      "Accuracy prueba 0.6545489517214849\n"
     ]
    }
   ],
   "source": [
    "print(\"Accuracy prueba\",metrics.accuracy_score(y_test,Predicciones_Vecino_mas_cercano))"
   ]
  },
  {
   "cell_type": "code",
   "execution_count": 110,
   "metadata": {},
   "outputs": [
    {
     "name": "stdout",
     "output_type": "stream",
     "text": [
      "              precision    recall  f1-score   support\n",
      "\n",
      "           0       0.64      0.71      0.67      2580\n",
      "           1       0.68      0.60      0.64      2619\n",
      "\n",
      "    accuracy                           0.65      5199\n",
      "   macro avg       0.66      0.65      0.65      5199\n",
      "weighted avg       0.66      0.65      0.65      5199\n",
      "\n"
     ]
    }
   ],
   "source": [
    "print(metrics.classification_report(y_test,Predicciones_Vecino_mas_cercano))"
   ]
  },
  {
   "cell_type": "markdown",
   "metadata": {},
   "source": [
    "**Incluir Variable Dummy - Tipo de Mercadeo**"
   ]
  },
  {
   "cell_type": "code",
   "execution_count": 111,
   "metadata": {},
   "outputs": [
    {
     "data": {
      "text/html": [
       "<div>\n",
       "<style scoped>\n",
       "    .dataframe tbody tr th:only-of-type {\n",
       "        vertical-align: middle;\n",
       "    }\n",
       "\n",
       "    .dataframe tbody tr th {\n",
       "        vertical-align: top;\n",
       "    }\n",
       "\n",
       "    .dataframe thead th {\n",
       "        text-align: right;\n",
       "    }\n",
       "</style>\n",
       "<table border=\"1\" class=\"dataframe\">\n",
       "  <thead>\n",
       "    <tr style=\"text-align: right;\">\n",
       "      <th></th>\n",
       "      <th>ReleaseNumber</th>\n",
       "      <th>New_Release_Flag</th>\n",
       "      <th>StrengthFactor</th>\n",
       "      <th>PriceReg</th>\n",
       "      <th>ReleaseYear</th>\n",
       "      <th>ItemCount</th>\n",
       "      <th>LowUserPrice</th>\n",
       "      <th>LowNetPrice</th>\n",
       "      <th>MarketingType</th>\n",
       "    </tr>\n",
       "  </thead>\n",
       "  <tbody>\n",
       "    <tr>\n",
       "      <th>35434</th>\n",
       "      <td>4</td>\n",
       "      <td>1</td>\n",
       "      <td>38589.0</td>\n",
       "      <td>20.95</td>\n",
       "      <td>2011</td>\n",
       "      <td>17</td>\n",
       "      <td>42.94</td>\n",
       "      <td>17.50</td>\n",
       "      <td>S</td>\n",
       "    </tr>\n",
       "    <tr>\n",
       "      <th>43774</th>\n",
       "      <td>0</td>\n",
       "      <td>0</td>\n",
       "      <td>88243.0</td>\n",
       "      <td>47.95</td>\n",
       "      <td>2006</td>\n",
       "      <td>177</td>\n",
       "      <td>31.43</td>\n",
       "      <td>16.88</td>\n",
       "      <td>S</td>\n",
       "    </tr>\n",
       "  </tbody>\n",
       "</table>\n",
       "</div>"
      ],
      "text/plain": [
       "       ReleaseNumber  New_Release_Flag  StrengthFactor  PriceReg  ReleaseYear  \\\n",
       "35434              4                 1         38589.0     20.95         2011   \n",
       "43774              0                 0         88243.0     47.95         2006   \n",
       "\n",
       "       ItemCount  LowUserPrice  LowNetPrice MarketingType  \n",
       "35434         17         42.94        17.50             S  \n",
       "43774        177         31.43        16.88             S  "
      ]
     },
     "execution_count": 111,
     "metadata": {},
     "output_type": "execute_result"
    }
   ],
   "source": [
    "X=df_metodo_1[['ReleaseNumber','New_Release_Flag','StrengthFactor','PriceReg', 'ReleaseYear', 'ItemCount', 'LowUserPrice', 'LowNetPrice',\"MarketingType\"]] # Variables Numericas y categorica\n",
    "X.head(2)"
   ]
  },
  {
   "cell_type": "code",
   "execution_count": 112,
   "metadata": {},
   "outputs": [
    {
     "data": {
      "text/html": [
       "<div>\n",
       "<style scoped>\n",
       "    .dataframe tbody tr th:only-of-type {\n",
       "        vertical-align: middle;\n",
       "    }\n",
       "\n",
       "    .dataframe tbody tr th {\n",
       "        vertical-align: top;\n",
       "    }\n",
       "\n",
       "    .dataframe thead th {\n",
       "        text-align: right;\n",
       "    }\n",
       "</style>\n",
       "<table border=\"1\" class=\"dataframe\">\n",
       "  <thead>\n",
       "    <tr style=\"text-align: right;\">\n",
       "      <th></th>\n",
       "      <th>D</th>\n",
       "      <th>S</th>\n",
       "    </tr>\n",
       "  </thead>\n",
       "  <tbody>\n",
       "    <tr>\n",
       "      <th>35434</th>\n",
       "      <td>0</td>\n",
       "      <td>1</td>\n",
       "    </tr>\n",
       "    <tr>\n",
       "      <th>43774</th>\n",
       "      <td>0</td>\n",
       "      <td>1</td>\n",
       "    </tr>\n",
       "    <tr>\n",
       "      <th>19569</th>\n",
       "      <td>1</td>\n",
       "      <td>0</td>\n",
       "    </tr>\n",
       "    <tr>\n",
       "      <th>17448</th>\n",
       "      <td>1</td>\n",
       "      <td>0</td>\n",
       "    </tr>\n",
       "    <tr>\n",
       "      <th>17028</th>\n",
       "      <td>1</td>\n",
       "      <td>0</td>\n",
       "    </tr>\n",
       "    <tr>\n",
       "      <th>...</th>\n",
       "      <td>...</td>\n",
       "      <td>...</td>\n",
       "    </tr>\n",
       "    <tr>\n",
       "      <th>75991</th>\n",
       "      <td>0</td>\n",
       "      <td>1</td>\n",
       "    </tr>\n",
       "    <tr>\n",
       "      <th>75992</th>\n",
       "      <td>0</td>\n",
       "      <td>1</td>\n",
       "    </tr>\n",
       "    <tr>\n",
       "      <th>75993</th>\n",
       "      <td>0</td>\n",
       "      <td>1</td>\n",
       "    </tr>\n",
       "    <tr>\n",
       "      <th>75994</th>\n",
       "      <td>0</td>\n",
       "      <td>1</td>\n",
       "    </tr>\n",
       "    <tr>\n",
       "      <th>75995</th>\n",
       "      <td>0</td>\n",
       "      <td>1</td>\n",
       "    </tr>\n",
       "  </tbody>\n",
       "</table>\n",
       "<p>126000 rows × 2 columns</p>\n",
       "</div>"
      ],
      "text/plain": [
       "       D  S\n",
       "35434  0  1\n",
       "43774  0  1\n",
       "19569  1  0\n",
       "17448  1  0\n",
       "17028  1  0\n",
       "...   .. ..\n",
       "75991  0  1\n",
       "75992  0  1\n",
       "75993  0  1\n",
       "75994  0  1\n",
       "75995  0  1\n",
       "\n",
       "[126000 rows x 2 columns]"
      ]
     },
     "execution_count": 112,
     "metadata": {},
     "output_type": "execute_result"
    }
   ],
   "source": [
    "Mercadeo_dummy=pd.get_dummies(X[\"MarketingType\"])\n",
    "Mercadeo_dummy"
   ]
  },
  {
   "cell_type": "code",
   "execution_count": 113,
   "metadata": {},
   "outputs": [],
   "source": [
    "X_completo=pd.concat([X,Mercadeo_dummy],axis=1)"
   ]
  },
  {
   "cell_type": "code",
   "execution_count": 114,
   "metadata": {},
   "outputs": [
    {
     "data": {
      "text/html": [
       "<div>\n",
       "<style scoped>\n",
       "    .dataframe tbody tr th:only-of-type {\n",
       "        vertical-align: middle;\n",
       "    }\n",
       "\n",
       "    .dataframe tbody tr th {\n",
       "        vertical-align: top;\n",
       "    }\n",
       "\n",
       "    .dataframe thead th {\n",
       "        text-align: right;\n",
       "    }\n",
       "</style>\n",
       "<table border=\"1\" class=\"dataframe\">\n",
       "  <thead>\n",
       "    <tr style=\"text-align: right;\">\n",
       "      <th></th>\n",
       "      <th>ReleaseNumber</th>\n",
       "      <th>New_Release_Flag</th>\n",
       "      <th>StrengthFactor</th>\n",
       "      <th>PriceReg</th>\n",
       "      <th>ReleaseYear</th>\n",
       "      <th>ItemCount</th>\n",
       "      <th>LowUserPrice</th>\n",
       "      <th>LowNetPrice</th>\n",
       "      <th>MarketingType</th>\n",
       "      <th>D</th>\n",
       "      <th>S</th>\n",
       "    </tr>\n",
       "  </thead>\n",
       "  <tbody>\n",
       "    <tr>\n",
       "      <th>35434</th>\n",
       "      <td>4</td>\n",
       "      <td>1</td>\n",
       "      <td>38589.0</td>\n",
       "      <td>20.95</td>\n",
       "      <td>2011</td>\n",
       "      <td>17</td>\n",
       "      <td>42.94</td>\n",
       "      <td>17.50</td>\n",
       "      <td>S</td>\n",
       "      <td>0</td>\n",
       "      <td>1</td>\n",
       "    </tr>\n",
       "    <tr>\n",
       "      <th>43774</th>\n",
       "      <td>0</td>\n",
       "      <td>0</td>\n",
       "      <td>88243.0</td>\n",
       "      <td>47.95</td>\n",
       "      <td>2006</td>\n",
       "      <td>177</td>\n",
       "      <td>31.43</td>\n",
       "      <td>16.88</td>\n",
       "      <td>S</td>\n",
       "      <td>0</td>\n",
       "      <td>1</td>\n",
       "    </tr>\n",
       "    <tr>\n",
       "      <th>19569</th>\n",
       "      <td>1</td>\n",
       "      <td>0</td>\n",
       "      <td>418503.0</td>\n",
       "      <td>131.95</td>\n",
       "      <td>2011</td>\n",
       "      <td>68</td>\n",
       "      <td>121.02</td>\n",
       "      <td>43.99</td>\n",
       "      <td>D</td>\n",
       "      <td>1</td>\n",
       "      <td>0</td>\n",
       "    </tr>\n",
       "    <tr>\n",
       "      <th>17448</th>\n",
       "      <td>4</td>\n",
       "      <td>1</td>\n",
       "      <td>1083710.0</td>\n",
       "      <td>145.00</td>\n",
       "      <td>2009</td>\n",
       "      <td>33</td>\n",
       "      <td>44.25</td>\n",
       "      <td>43.99</td>\n",
       "      <td>D</td>\n",
       "      <td>1</td>\n",
       "      <td>0</td>\n",
       "    </tr>\n",
       "    <tr>\n",
       "      <th>17028</th>\n",
       "      <td>4</td>\n",
       "      <td>1</td>\n",
       "      <td>415628.0</td>\n",
       "      <td>39.33</td>\n",
       "      <td>2010</td>\n",
       "      <td>44</td>\n",
       "      <td>33.93</td>\n",
       "      <td>48.71</td>\n",
       "      <td>D</td>\n",
       "      <td>1</td>\n",
       "      <td>0</td>\n",
       "    </tr>\n",
       "  </tbody>\n",
       "</table>\n",
       "</div>"
      ],
      "text/plain": [
       "       ReleaseNumber  New_Release_Flag  StrengthFactor  PriceReg  ReleaseYear  \\\n",
       "35434              4                 1         38589.0     20.95         2011   \n",
       "43774              0                 0         88243.0     47.95         2006   \n",
       "19569              1                 0        418503.0    131.95         2011   \n",
       "17448              4                 1       1083710.0    145.00         2009   \n",
       "17028              4                 1        415628.0     39.33         2010   \n",
       "\n",
       "       ItemCount  LowUserPrice  LowNetPrice MarketingType  D  S  \n",
       "35434         17         42.94        17.50             S  0  1  \n",
       "43774        177         31.43        16.88             S  0  1  \n",
       "19569         68        121.02        43.99             D  1  0  \n",
       "17448         33         44.25        43.99             D  1  0  \n",
       "17028         44         33.93        48.71             D  1  0  "
      ]
     },
     "execution_count": 114,
     "metadata": {},
     "output_type": "execute_result"
    }
   ],
   "source": [
    "X_completo.head()"
   ]
  },
  {
   "cell_type": "code",
   "execution_count": 115,
   "metadata": {},
   "outputs": [],
   "source": [
    "X=X_completo.drop([\"MarketingType\"],axis=1)"
   ]
  },
  {
   "cell_type": "code",
   "execution_count": 116,
   "metadata": {},
   "outputs": [
    {
     "data": {
      "text/html": [
       "<div>\n",
       "<style scoped>\n",
       "    .dataframe tbody tr th:only-of-type {\n",
       "        vertical-align: middle;\n",
       "    }\n",
       "\n",
       "    .dataframe tbody tr th {\n",
       "        vertical-align: top;\n",
       "    }\n",
       "\n",
       "    .dataframe thead th {\n",
       "        text-align: right;\n",
       "    }\n",
       "</style>\n",
       "<table border=\"1\" class=\"dataframe\">\n",
       "  <thead>\n",
       "    <tr style=\"text-align: right;\">\n",
       "      <th></th>\n",
       "      <th>ReleaseNumber</th>\n",
       "      <th>New_Release_Flag</th>\n",
       "      <th>StrengthFactor</th>\n",
       "      <th>PriceReg</th>\n",
       "      <th>ReleaseYear</th>\n",
       "      <th>ItemCount</th>\n",
       "      <th>LowUserPrice</th>\n",
       "      <th>LowNetPrice</th>\n",
       "      <th>D</th>\n",
       "      <th>S</th>\n",
       "    </tr>\n",
       "  </thead>\n",
       "  <tbody>\n",
       "    <tr>\n",
       "      <th>35434</th>\n",
       "      <td>4</td>\n",
       "      <td>1</td>\n",
       "      <td>38589.0</td>\n",
       "      <td>20.95</td>\n",
       "      <td>2011</td>\n",
       "      <td>17</td>\n",
       "      <td>42.94</td>\n",
       "      <td>17.50</td>\n",
       "      <td>0</td>\n",
       "      <td>1</td>\n",
       "    </tr>\n",
       "    <tr>\n",
       "      <th>43774</th>\n",
       "      <td>0</td>\n",
       "      <td>0</td>\n",
       "      <td>88243.0</td>\n",
       "      <td>47.95</td>\n",
       "      <td>2006</td>\n",
       "      <td>177</td>\n",
       "      <td>31.43</td>\n",
       "      <td>16.88</td>\n",
       "      <td>0</td>\n",
       "      <td>1</td>\n",
       "    </tr>\n",
       "    <tr>\n",
       "      <th>19569</th>\n",
       "      <td>1</td>\n",
       "      <td>0</td>\n",
       "      <td>418503.0</td>\n",
       "      <td>131.95</td>\n",
       "      <td>2011</td>\n",
       "      <td>68</td>\n",
       "      <td>121.02</td>\n",
       "      <td>43.99</td>\n",
       "      <td>1</td>\n",
       "      <td>0</td>\n",
       "    </tr>\n",
       "    <tr>\n",
       "      <th>17448</th>\n",
       "      <td>4</td>\n",
       "      <td>1</td>\n",
       "      <td>1083710.0</td>\n",
       "      <td>145.00</td>\n",
       "      <td>2009</td>\n",
       "      <td>33</td>\n",
       "      <td>44.25</td>\n",
       "      <td>43.99</td>\n",
       "      <td>1</td>\n",
       "      <td>0</td>\n",
       "    </tr>\n",
       "  </tbody>\n",
       "</table>\n",
       "</div>"
      ],
      "text/plain": [
       "       ReleaseNumber  New_Release_Flag  StrengthFactor  PriceReg  ReleaseYear  \\\n",
       "35434              4                 1         38589.0     20.95         2011   \n",
       "43774              0                 0         88243.0     47.95         2006   \n",
       "19569              1                 0        418503.0    131.95         2011   \n",
       "17448              4                 1       1083710.0    145.00         2009   \n",
       "\n",
       "       ItemCount  LowUserPrice  LowNetPrice  D  S  \n",
       "35434         17         42.94        17.50  0  1  \n",
       "43774        177         31.43        16.88  0  1  \n",
       "19569         68        121.02        43.99  1  0  \n",
       "17448         33         44.25        43.99  1  0  "
      ]
     },
     "execution_count": 116,
     "metadata": {},
     "output_type": "execute_result"
    }
   ],
   "source": [
    "X.head(4)"
   ]
  },
  {
   "cell_type": "markdown",
   "metadata": {},
   "source": [
    "**Estandarizar**"
   ]
  },
  {
   "cell_type": "code",
   "execution_count": 117,
   "metadata": {},
   "outputs": [
    {
     "data": {
      "text/plain": [
       "array([[4.04040404e-02, 1.00000000e+00, 2.31085468e-03, ...,\n",
       "        9.14373375e-04, 0.00000000e+00, 1.00000000e+00],\n",
       "       [0.00000000e+00, 0.00000000e+00, 5.28957221e-03, ...,\n",
       "        8.81978432e-04, 0.00000000e+00, 1.00000000e+00],\n",
       "       [1.01010101e-02, 0.00000000e+00, 2.51016972e-02, ...,\n",
       "        2.29847341e-03, 1.00000000e+00, 0.00000000e+00],\n",
       "       ...,\n",
       "       [7.07070707e-02, 1.00000000e+00, 7.89088394e-02, ...,\n",
       "        2.82097249e-03, 0.00000000e+00, 1.00000000e+00],\n",
       "       [2.02020202e-02, 1.00000000e+00, 5.26539645e-02, ...,\n",
       "        1.70439197e-03, 0.00000000e+00, 1.00000000e+00],\n",
       "       [2.02020202e-02, 1.00000000e+00, 3.00480096e-02, ...,\n",
       "        1.97974898e-03, 0.00000000e+00, 1.00000000e+00]])"
      ]
     },
     "execution_count": 117,
     "metadata": {},
     "output_type": "execute_result"
    }
   ],
   "source": [
    "X_S=S.fit_transform(X)\n",
    "X_S"
   ]
  },
  {
   "cell_type": "code",
   "execution_count": 118,
   "metadata": {},
   "outputs": [],
   "source": [
    "Y=df_metodo_1[\"SoldFlag\"].values\n",
    "Y\n",
    "x_train,x_test,y_train,y_test= train_test_split(X_S,Y,test_size=0.2,random_state=4)"
   ]
  },
  {
   "cell_type": "code",
   "execution_count": 119,
   "metadata": {},
   "outputs": [
    {
     "data": {
      "text/plain": [
       "KNeighborsClassifier(n_neighbors=20)"
      ]
     },
     "execution_count": 119,
     "metadata": {},
     "output_type": "execute_result"
    }
   ],
   "source": [
    "k=20\n",
    "modelo_Vecino_mas_cercano=KNeighborsClassifier(n_neighbors=k).fit(x_train,y_train)\n",
    "modelo_Vecino_mas_cercano"
   ]
  },
  {
   "cell_type": "code",
   "execution_count": 120,
   "metadata": {},
   "outputs": [
    {
     "data": {
      "text/plain": [
       "array([0, 0, 0, ..., 0, 1, 1], dtype=int64)"
      ]
     },
     "execution_count": 120,
     "metadata": {},
     "output_type": "execute_result"
    }
   ],
   "source": [
    "Predicciones_Vecino_mas_cercano=modelo_Vecino_mas_cercano.predict(x_test)\n",
    "Predicciones_Vecino_mas_cercano"
   ]
  },
  {
   "cell_type": "code",
   "execution_count": 121,
   "metadata": {},
   "outputs": [
    {
     "name": "stdout",
     "output_type": "stream",
     "text": [
      "Accuracy prueba 0.7146825396825397\n",
      "              precision    recall  f1-score   support\n",
      "\n",
      "           0       0.72      0.70      0.71     12462\n",
      "           1       0.71      0.73      0.72     12738\n",
      "\n",
      "    accuracy                           0.71     25200\n",
      "   macro avg       0.71      0.71      0.71     25200\n",
      "weighted avg       0.71      0.71      0.71     25200\n",
      "\n"
     ]
    }
   ],
   "source": [
    "print(\"Accuracy prueba\",metrics.accuracy_score(y_test,Predicciones_Vecino_mas_cercano))\n",
    "Reporte_Modelo_KKNN=metrics.classification_report(y_test,Predicciones_Vecino_mas_cercano)\n",
    "print(metrics.classification_report(y_test,Predicciones_Vecino_mas_cercano))"
   ]
  },
  {
   "cell_type": "markdown",
   "metadata": {},
   "source": [
    "## Modelo2 **Arbol de Decisión**"
   ]
  },
  {
   "cell_type": "code",
   "execution_count": 122,
   "metadata": {},
   "outputs": [],
   "source": [
    "from sklearn.tree import DecisionTreeClassifier\n",
    "from sklearn import tree"
   ]
  },
  {
   "cell_type": "code",
   "execution_count": 123,
   "metadata": {},
   "outputs": [],
   "source": [
    "Modelo_Arbol = DecisionTreeClassifier(criterion=\"entropy\",max_depth=4)"
   ]
  },
  {
   "cell_type": "markdown",
   "metadata": {},
   "source": [
    "**Entrenamos el Modelo**"
   ]
  },
  {
   "cell_type": "code",
   "execution_count": 124,
   "metadata": {},
   "outputs": [
    {
     "data": {
      "text/plain": [
       "DecisionTreeClassifier(criterion='entropy', max_depth=4)"
      ]
     },
     "execution_count": 124,
     "metadata": {},
     "output_type": "execute_result"
    }
   ],
   "source": [
    "Modelo_Arbol.fit(x_train,y_train)"
   ]
  },
  {
   "cell_type": "code",
   "execution_count": 125,
   "metadata": {},
   "outputs": [
    {
     "data": {
      "text/plain": [
       "[Text(167.4, 195.696, 'X[8] <= 0.5\\nentropy = 1.0\\nsamples = 100800\\nvalue = [50538, 50262]'),\n",
       " Text(83.7, 152.208, 'X[5] <= 0.029\\nentropy = 0.919\\nsamples = 44625\\nvalue = [29727, 14898]'),\n",
       " Text(41.85, 108.72, 'X[2] <= 0.058\\nentropy = 0.842\\nsamples = 29330\\nvalue = [21403, 7927]'),\n",
       " Text(20.925, 65.232, 'X[3] <= 0.02\\nentropy = 0.896\\nsamples = 18170\\nvalue = [12495, 5675]'),\n",
       " Text(10.4625, 21.744, 'entropy = 0.815\\nsamples = 10724\\nvalue = [8021, 2703]'),\n",
       " Text(31.387500000000003, 21.744, 'entropy = 0.97\\nsamples = 7446\\nvalue = [4474, 2972]'),\n",
       " Text(62.775000000000006, 65.232, 'X[6] <= 0.002\\nentropy = 0.725\\nsamples = 11160\\nvalue = [8908, 2252]'),\n",
       " Text(52.3125, 21.744, 'entropy = 0.527\\nsamples = 3271\\nvalue = [2881, 390]'),\n",
       " Text(73.2375, 21.744, 'entropy = 0.788\\nsamples = 7889\\nvalue = [6027, 1862]'),\n",
       " Text(125.55000000000001, 108.72, 'X[2] <= 0.04\\nentropy = 0.994\\nsamples = 15295\\nvalue = [8324, 6971]'),\n",
       " Text(104.625, 65.232, 'X[3] <= 0.025\\nentropy = 1.0\\nsamples = 10971\\nvalue = [5356, 5615]'),\n",
       " Text(94.16250000000001, 21.744, 'entropy = 0.995\\nsamples = 6965\\nvalue = [3772, 3193]'),\n",
       " Text(115.0875, 21.744, 'entropy = 0.968\\nsamples = 4006\\nvalue = [1584, 2422]'),\n",
       " Text(146.475, 65.232, 'X[7] <= 0.0\\nentropy = 0.897\\nsamples = 4324\\nvalue = [2968, 1356]'),\n",
       " Text(136.01250000000002, 21.744, 'entropy = 0.642\\nsamples = 871\\nvalue = [729, 142]'),\n",
       " Text(156.9375, 21.744, 'entropy = 0.935\\nsamples = 3453\\nvalue = [2239, 1214]'),\n",
       " Text(251.10000000000002, 152.208, 'X[2] <= 0.093\\nentropy = 0.951\\nsamples = 56175\\nvalue = [20811, 35364]'),\n",
       " Text(209.25, 108.72, 'X[5] <= 0.039\\nentropy = 0.874\\nsamples = 43129\\nvalue = [12700, 30429]'),\n",
       " Text(188.32500000000002, 65.232, 'X[5] <= 0.02\\nentropy = 0.953\\nsamples = 23585\\nvalue = [8800, 14785]'),\n",
       " Text(177.8625, 21.744, 'entropy = 0.997\\nsamples = 7492\\nvalue = [3507, 3985]'),\n",
       " Text(198.7875, 21.744, 'entropy = 0.914\\nsamples = 16093\\nvalue = [5293, 10800]'),\n",
       " Text(230.175, 65.232, 'X[2] <= 0.006\\nentropy = 0.721\\nsamples = 19544\\nvalue = [3900, 15644]'),\n",
       " Text(219.7125, 21.744, 'entropy = 0.572\\nsamples = 7776\\nvalue = [1053, 6723]'),\n",
       " Text(240.63750000000002, 21.744, 'entropy = 0.798\\nsamples = 11768\\nvalue = [2847, 8921]'),\n",
       " Text(292.95, 108.72, 'X[2] <= 0.191\\nentropy = 0.957\\nsamples = 13046\\nvalue = [8111, 4935]'),\n",
       " Text(272.02500000000003, 65.232, 'X[5] <= 0.017\\nentropy = 0.991\\nsamples = 8413\\nvalue = [4671, 3742]'),\n",
       " Text(261.5625, 21.744, 'entropy = 0.957\\nsamples = 4105\\nvalue = [2552, 1553]'),\n",
       " Text(282.4875, 21.744, 'entropy = 1.0\\nsamples = 4308\\nvalue = [2119, 2189]'),\n",
       " Text(313.875, 65.232, 'X[6] <= 0.004\\nentropy = 0.823\\nsamples = 4633\\nvalue = [3440, 1193]'),\n",
       " Text(303.4125, 21.744, 'entropy = 0.729\\nsamples = 2714\\nvalue = [2161, 553]'),\n",
       " Text(324.33750000000003, 21.744, 'entropy = 0.918\\nsamples = 1919\\nvalue = [1279, 640]')]"
      ]
     },
     "execution_count": 125,
     "metadata": {},
     "output_type": "execute_result"
    },
    {
     "data": {
      "image/png": "[encoded data removed]",
      "text/plain": [
       "<Figure size 432x288 with 1 Axes>"
      ]
     },
     "metadata": {
      "needs_background": "light"
     },
     "output_type": "display_data"
    }
   ],
   "source": [
    "tree.plot_tree(Modelo_Arbol.fit(x_train,y_train),fontsize=10)"
   ]
  },
  {
   "cell_type": "code",
   "execution_count": 126,
   "metadata": {},
   "outputs": [
    {
     "data": {
      "text/html": [
       "<div>\n",
       "<style scoped>\n",
       "    .dataframe tbody tr th:only-of-type {\n",
       "        vertical-align: middle;\n",
       "    }\n",
       "\n",
       "    .dataframe tbody tr th {\n",
       "        vertical-align: top;\n",
       "    }\n",
       "\n",
       "    .dataframe thead th {\n",
       "        text-align: right;\n",
       "    }\n",
       "</style>\n",
       "<table border=\"1\" class=\"dataframe\">\n",
       "  <thead>\n",
       "    <tr style=\"text-align: right;\">\n",
       "      <th></th>\n",
       "      <th>ReleaseNumber</th>\n",
       "      <th>New_Release_Flag</th>\n",
       "      <th>StrengthFactor</th>\n",
       "      <th>PriceReg</th>\n",
       "      <th>ReleaseYear</th>\n",
       "      <th>ItemCount</th>\n",
       "      <th>LowUserPrice</th>\n",
       "      <th>LowNetPrice</th>\n",
       "      <th>D</th>\n",
       "      <th>S</th>\n",
       "    </tr>\n",
       "  </thead>\n",
       "  <tbody>\n",
       "    <tr>\n",
       "      <th>35434</th>\n",
       "      <td>4</td>\n",
       "      <td>1</td>\n",
       "      <td>38589.0</td>\n",
       "      <td>20.95</td>\n",
       "      <td>2011</td>\n",
       "      <td>17</td>\n",
       "      <td>42.94</td>\n",
       "      <td>17.50</td>\n",
       "      <td>0</td>\n",
       "      <td>1</td>\n",
       "    </tr>\n",
       "    <tr>\n",
       "      <th>43774</th>\n",
       "      <td>0</td>\n",
       "      <td>0</td>\n",
       "      <td>88243.0</td>\n",
       "      <td>47.95</td>\n",
       "      <td>2006</td>\n",
       "      <td>177</td>\n",
       "      <td>31.43</td>\n",
       "      <td>16.88</td>\n",
       "      <td>0</td>\n",
       "      <td>1</td>\n",
       "    </tr>\n",
       "    <tr>\n",
       "      <th>19569</th>\n",
       "      <td>1</td>\n",
       "      <td>0</td>\n",
       "      <td>418503.0</td>\n",
       "      <td>131.95</td>\n",
       "      <td>2011</td>\n",
       "      <td>68</td>\n",
       "      <td>121.02</td>\n",
       "      <td>43.99</td>\n",
       "      <td>1</td>\n",
       "      <td>0</td>\n",
       "    </tr>\n",
       "    <tr>\n",
       "      <th>17448</th>\n",
       "      <td>4</td>\n",
       "      <td>1</td>\n",
       "      <td>1083710.0</td>\n",
       "      <td>145.00</td>\n",
       "      <td>2009</td>\n",
       "      <td>33</td>\n",
       "      <td>44.25</td>\n",
       "      <td>43.99</td>\n",
       "      <td>1</td>\n",
       "      <td>0</td>\n",
       "    </tr>\n",
       "  </tbody>\n",
       "</table>\n",
       "</div>"
      ],
      "text/plain": [
       "       ReleaseNumber  New_Release_Flag  StrengthFactor  PriceReg  ReleaseYear  \\\n",
       "35434              4                 1         38589.0     20.95         2011   \n",
       "43774              0                 0         88243.0     47.95         2006   \n",
       "19569              1                 0        418503.0    131.95         2011   \n",
       "17448              4                 1       1083710.0    145.00         2009   \n",
       "\n",
       "       ItemCount  LowUserPrice  LowNetPrice  D  S  \n",
       "35434         17         42.94        17.50  0  1  \n",
       "43774        177         31.43        16.88  0  1  \n",
       "19569         68        121.02        43.99  1  0  \n",
       "17448         33         44.25        43.99  1  0  "
      ]
     },
     "execution_count": 126,
     "metadata": {},
     "output_type": "execute_result"
    }
   ],
   "source": [
    "X.head(4)"
   ]
  },
  {
   "cell_type": "code",
   "execution_count": 127,
   "metadata": {},
   "outputs": [],
   "source": [
    "Variable_Importantes_Arbol_D=X[[\"D\",\"ItemCount\",\"StrengthFactor\",\"PriceReg\"]]"
   ]
  },
  {
   "cell_type": "code",
   "execution_count": 128,
   "metadata": {},
   "outputs": [],
   "source": [
    "Variable_Importantes_Arbol_D.to_excel(r\"D:\\Usuarios\\OSCAGAAl\\Documents\\Diplomado_ML_2020\\Resultados\\Variable_Importantes_Arbol_D.xlsx\")"
   ]
  },
  {
   "cell_type": "code",
   "execution_count": 129,
   "metadata": {},
   "outputs": [
    {
     "data": {
      "text/plain": [
       "'D:\\\\Usuarios\\\\OSCAGAAl\\\\Documents\\\\Diplomado_ML_2020\\\\Codigos'"
      ]
     },
     "execution_count": 129,
     "metadata": {},
     "output_type": "execute_result"
    }
   ],
   "source": [
    "## Ver directoria donde estoy trabajando \n",
    "import os\n",
    "os.getcwd()"
   ]
  },
  {
   "cell_type": "markdown",
   "metadata": {},
   "source": [
    "**Prediccion del Arbol**"
   ]
  },
  {
   "cell_type": "code",
   "execution_count": 130,
   "metadata": {},
   "outputs": [
    {
     "data": {
      "text/plain": [
       "array([0, 0, 0, ..., 1, 1, 0], dtype=int64)"
      ]
     },
     "execution_count": 130,
     "metadata": {},
     "output_type": "execute_result"
    }
   ],
   "source": [
    "Prediccion_arbol=Modelo_Arbol.predict(x_test)\n",
    "Prediccion_arbol"
   ]
  },
  {
   "cell_type": "code",
   "execution_count": 131,
   "metadata": {},
   "outputs": [
    {
     "name": "stdout",
     "output_type": "stream",
     "text": [
      "Accuracy prueba 0.6813888888888889\n"
     ]
    }
   ],
   "source": [
    "print(\"Accuracy prueba\",metrics.accuracy_score(y_test,Prediccion_arbol))"
   ]
  },
  {
   "cell_type": "code",
   "execution_count": 132,
   "metadata": {},
   "outputs": [
    {
     "name": "stdout",
     "output_type": "stream",
     "text": [
      "              precision    recall  f1-score   support\n",
      "\n",
      "           0       0.68      0.67      0.67     12462\n",
      "           1       0.68      0.69      0.69     12738\n",
      "\n",
      "    accuracy                           0.68     25200\n",
      "   macro avg       0.68      0.68      0.68     25200\n",
      "weighted avg       0.68      0.68      0.68     25200\n",
      "\n"
     ]
    }
   ],
   "source": [
    "Reporte_Arbol_D=metrics.classification_report(y_test,Prediccion_arbol)\n",
    "print(metrics.classification_report(y_test,Prediccion_arbol))"
   ]
  },
  {
   "cell_type": "markdown",
   "metadata": {},
   "source": [
    "## **3 Modelo Random Forest**"
   ]
  },
  {
   "cell_type": "code",
   "execution_count": 133,
   "metadata": {},
   "outputs": [],
   "source": [
    "from sklearn.ensemble import RandomForestClassifier"
   ]
  },
  {
   "cell_type": "code",
   "execution_count": 134,
   "metadata": {},
   "outputs": [],
   "source": [
    "Modelo_RF= RandomForestClassifier(criterion=\"entropy\",random_state=0,oob_score=True)"
   ]
  },
  {
   "cell_type": "code",
   "execution_count": 135,
   "metadata": {},
   "outputs": [
    {
     "data": {
      "text/plain": [
       "RandomForestClassifier(criterion='entropy', oob_score=True, random_state=0)"
      ]
     },
     "execution_count": 135,
     "metadata": {},
     "output_type": "execute_result"
    }
   ],
   "source": [
    "Modelo_RF.fit(x_train,y_train)"
   ]
  },
  {
   "cell_type": "markdown",
   "metadata": {},
   "source": [
    "**Prediccion**"
   ]
  },
  {
   "cell_type": "code",
   "execution_count": 136,
   "metadata": {},
   "outputs": [
    {
     "data": {
      "text/plain": [
       "array([0, 0, 0, ..., 1, 1, 0], dtype=int64)"
      ]
     },
     "execution_count": 136,
     "metadata": {},
     "output_type": "execute_result"
    }
   ],
   "source": [
    "Prediccion_RF=Modelo_RF.predict(x_test)\n",
    "Prediccion_RF"
   ]
  },
  {
   "cell_type": "code",
   "execution_count": 137,
   "metadata": {},
   "outputs": [
    {
     "name": "stdout",
     "output_type": "stream",
     "text": [
      "Accuracy prueba 0.9522222222222222\n"
     ]
    }
   ],
   "source": [
    "\n",
    "print(\"Accuracy prueba\",metrics.accuracy_score(y_test,Prediccion_RF))"
   ]
  },
  {
   "cell_type": "code",
   "execution_count": 138,
   "metadata": {},
   "outputs": [
    {
     "name": "stdout",
     "output_type": "stream",
     "text": [
      "              precision    recall  f1-score   support\n",
      "\n",
      "           0       0.98      0.92      0.95     12462\n",
      "           1       0.93      0.98      0.95     12738\n",
      "\n",
      "    accuracy                           0.95     25200\n",
      "   macro avg       0.95      0.95      0.95     25200\n",
      "weighted avg       0.95      0.95      0.95     25200\n",
      "\n"
     ]
    }
   ],
   "source": [
    "Reporte_RF=metrics.classification_report(y_test,Prediccion_RF)\n",
    "print(metrics.classification_report(y_test,Prediccion_RF))"
   ]
  },
  {
   "cell_type": "markdown",
   "metadata": {},
   "source": [
    "**Correr Modelo RF con Datos Originales**"
   ]
  },
  {
   "cell_type": "code",
   "execution_count": 139,
   "metadata": {},
   "outputs": [],
   "source": [
    "X=df_hist[['ReleaseNumber','New_Release_Flag','StrengthFactor','PriceReg', 'ReleaseYear', 'ItemCount', 'LowUserPrice', 'LowNetPrice',\"MarketingType\"]] # Variables Numericas y categorica\n",
    "X.head(2)\n",
    "Mercadeo_dummy=pd.get_dummies(X[\"MarketingType\"])\n",
    "X_completo=pd.concat([X,Mercadeo_dummy],axis=1)\n",
    "X=X_completo.drop([\"MarketingType\"],axis=1)\n",
    "## Estandarizar\n",
    "X_S=S.fit_transform(X)\n",
    "Y=df_hist[\"SoldFlag\"].values\n",
    "x_train,x_test,y_train,y_test= train_test_split(X_S,Y,test_size=0.2,random_state=4)"
   ]
  },
  {
   "cell_type": "code",
   "execution_count": 140,
   "metadata": {},
   "outputs": [],
   "source": [
    "Modelo_RF_Datos_O= RandomForestClassifier(criterion=\"entropy\",random_state=0,oob_score=True)"
   ]
  },
  {
   "cell_type": "code",
   "execution_count": 141,
   "metadata": {},
   "outputs": [
    {
     "data": {
      "text/plain": [
       "RandomForestClassifier(criterion='entropy', oob_score=True, random_state=0)"
      ]
     },
     "execution_count": 141,
     "metadata": {},
     "output_type": "execute_result"
    }
   ],
   "source": [
    "Modelo_RF_Datos_O.fit(x_train,y_train)"
   ]
  },
  {
   "cell_type": "code",
   "execution_count": 142,
   "metadata": {},
   "outputs": [
    {
     "data": {
      "text/plain": [
       "array([0, 0, 0, ..., 0, 0, 0], dtype=int64)"
      ]
     },
     "execution_count": 142,
     "metadata": {},
     "output_type": "execute_result"
    }
   ],
   "source": [
    "Prediccion_RF_DO=Modelo_RF_Datos_O.predict(x_test)\n",
    "Prediccion_RF_DO"
   ]
  },
  {
   "cell_type": "code",
   "execution_count": 143,
   "metadata": {},
   "outputs": [
    {
     "name": "stdout",
     "output_type": "stream",
     "text": [
      "Accuracy prueba 0.8358552631578947\n"
     ]
    }
   ],
   "source": [
    "print(\"Accuracy prueba\",metrics.accuracy_score(y_test,Prediccion_RF_DO))"
   ]
  },
  {
   "cell_type": "code",
   "execution_count": 144,
   "metadata": {},
   "outputs": [
    {
     "name": "stdout",
     "output_type": "stream",
     "text": [
      "              precision    recall  f1-score   support\n",
      "\n",
      "           0       0.85      0.97      0.91     12626\n",
      "           1       0.56      0.15      0.24      2574\n",
      "\n",
      "    accuracy                           0.84     15200\n",
      "   macro avg       0.70      0.56      0.57     15200\n",
      "weighted avg       0.80      0.84      0.80     15200\n",
      "\n"
     ]
    }
   ],
   "source": [
    "Reporte_RF_DO=metrics.classification_report(y_test,Prediccion_RF_DO)\n",
    "print(metrics.classification_report(y_test,Prediccion_RF_DO))"
   ]
  },
  {
   "cell_type": "markdown",
   "metadata": {},
   "source": [
    "## **4) Modelo de Maquina de Soporte Vectorial**"
   ]
  },
  {
   "cell_type": "markdown",
   "metadata": {},
   "source": [
    "**Modelo 4A   MSV con Kernel Lineal**"
   ]
  },
  {
   "cell_type": "code",
   "execution_count": 145,
   "metadata": {},
   "outputs": [],
   "source": [
    "from sklearn import svm"
   ]
  },
  {
   "cell_type": "code",
   "execution_count": 146,
   "metadata": {},
   "outputs": [],
   "source": [
    "Modelo_MSV_Lineal=svm.SVC(kernel=\"linear\")"
   ]
  },
  {
   "cell_type": "code",
   "execution_count": 147,
   "metadata": {},
   "outputs": [],
   "source": [
    "# Entrenar\n",
    "Modelo_MSV_Lineal=Modelo_MSV_Lineal.fit(x_train,y_train)"
   ]
  },
  {
   "cell_type": "code",
   "execution_count": 148,
   "metadata": {},
   "outputs": [
    {
     "data": {
      "text/plain": [
       "array([0, 0, 0, ..., 0, 0, 0], dtype=int64)"
      ]
     },
     "execution_count": 148,
     "metadata": {},
     "output_type": "execute_result"
    }
   ],
   "source": [
    "Prediccion_MSV_L=Modelo_MSV_Lineal.predict(x_test)\n",
    "Prediccion_MSV_L"
   ]
  },
  {
   "cell_type": "code",
   "execution_count": 149,
   "metadata": {},
   "outputs": [
    {
     "name": "stdout",
     "output_type": "stream",
     "text": [
      "Accuracy prueba 0.8306578947368422\n"
     ]
    }
   ],
   "source": [
    "print(\"Accuracy prueba\",metrics.accuracy_score(y_test,Prediccion_MSV_L))"
   ]
  },
  {
   "cell_type": "code",
   "execution_count": 150,
   "metadata": {},
   "outputs": [
    {
     "name": "stdout",
     "output_type": "stream",
     "text": [
      "              precision    recall  f1-score   support\n",
      "\n",
      "           0       0.83      1.00      0.91     12626\n",
      "           1       0.00      0.00      0.00      2574\n",
      "\n",
      "    accuracy                           0.83     15200\n",
      "   macro avg       0.42      0.50      0.45     15200\n",
      "weighted avg       0.69      0.83      0.75     15200\n",
      "\n"
     ]
    },
    {
     "name": "stderr",
     "output_type": "stream",
     "text": [
      "D:\\Usuarios\\OSCAGAAl\\Anaconda3\\envs\\PROYECTOS_SURA\\lib\\site-packages\\sklearn\\metrics\\_classification.py:1221: UndefinedMetricWarning: Precision and F-score are ill-defined and being set to 0.0 in labels with no predicted samples. Use `zero_division` parameter to control this behavior.\n",
      "  _warn_prf(average, modifier, msg_start, len(result))\n"
     ]
    }
   ],
   "source": [
    "Reporte_MSV_L=metrics.classification_report(y_test,Prediccion_MSV_L)\n",
    "print(metrics.classification_report(y_test,Prediccion_MSV_L))"
   ]
  },
  {
   "cell_type": "markdown",
   "metadata": {},
   "source": [
    "**Modelo 4B MSV con Kernel Polinomio**"
   ]
  },
  {
   "cell_type": "code",
   "execution_count": 151,
   "metadata": {},
   "outputs": [
    {
     "data": {
      "text/plain": [
       "array([0, 0, 0, ..., 0, 0, 0], dtype=int64)"
      ]
     },
     "execution_count": 151,
     "metadata": {},
     "output_type": "execute_result"
    }
   ],
   "source": [
    "Modelo_MSV_P=svm.SVC(kernel=\"poly\",degree=4)\n",
    "Modelo_MSV_P=Modelo_MSV_P.fit(x_train,y_train)\n",
    "# prediccion\n",
    "Prediccion_MSV_P=Modelo_MSV_P.predict(x_test)\n",
    "Prediccion_MSV_P"
   ]
  },
  {
   "cell_type": "code",
   "execution_count": 152,
   "metadata": {},
   "outputs": [
    {
     "name": "stdout",
     "output_type": "stream",
     "text": [
      "Accuracy prueba 0.8307894736842105\n"
     ]
    }
   ],
   "source": [
    "print(\"Accuracy prueba\",metrics.accuracy_score(y_test,Prediccion_MSV_P))"
   ]
  },
  {
   "cell_type": "code",
   "execution_count": 153,
   "metadata": {},
   "outputs": [
    {
     "name": "stdout",
     "output_type": "stream",
     "text": [
      "              precision    recall  f1-score   support\n",
      "\n",
      "           0       0.83      1.00      0.91     12626\n",
      "           1       0.75      0.00      0.00      2574\n",
      "\n",
      "    accuracy                           0.83     15200\n",
      "   macro avg       0.79      0.50      0.45     15200\n",
      "weighted avg       0.82      0.83      0.75     15200\n",
      "\n"
     ]
    }
   ],
   "source": [
    "Reporte_MSV_P=metrics.classification_report(y_test,Prediccion_MSV_P)\n",
    "print(metrics.classification_report(y_test,Prediccion_MSV_P))"
   ]
  },
  {
   "cell_type": "code",
   "execution_count": 154,
   "metadata": {},
   "outputs": [
    {
     "name": "stdout",
     "output_type": "stream",
     "text": [
      "[[12625     1]\n",
      " [ 2571     3]]\n"
     ]
    }
   ],
   "source": [
    "print(metrics.confusion_matrix(y_test,Prediccion_MSV_P))"
   ]
  },
  {
   "cell_type": "markdown",
   "metadata": {},
   "source": [
    "**Modelo 4B MSV con Kernel Radial**"
   ]
  },
  {
   "cell_type": "code",
   "execution_count": 155,
   "metadata": {},
   "outputs": [
    {
     "data": {
      "text/plain": [
       "array([0, 0, 0, ..., 0, 0, 0], dtype=int64)"
      ]
     },
     "execution_count": 155,
     "metadata": {},
     "output_type": "execute_result"
    }
   ],
   "source": [
    "Modelo_MSV_R=svm.SVC(kernel=\"rbf\")\n",
    "Modelo_MSV_R=Modelo_MSV_R.fit(x_train,y_train)\n",
    "# prediccion\n",
    "Prediccion_MSV_R=Modelo_MSV_R.predict(x_test)\n",
    "Prediccion_MSV_R"
   ]
  },
  {
   "cell_type": "code",
   "execution_count": 156,
   "metadata": {},
   "outputs": [
    {
     "name": "stdout",
     "output_type": "stream",
     "text": [
      "Accuracy prueba 0.8306578947368422\n"
     ]
    }
   ],
   "source": [
    "print(\"Accuracy prueba\",metrics.accuracy_score(y_test,Prediccion_MSV_R))"
   ]
  },
  {
   "cell_type": "code",
   "execution_count": 167,
   "metadata": {},
   "outputs": [
    {
     "name": "stdout",
     "output_type": "stream",
     "text": [
      "              precision    recall  f1-score   support\n",
      "\n",
      "           0       0.83      1.00      0.91     12626\n",
      "           1       0.00      0.00      0.00      2574\n",
      "\n",
      "    accuracy                           0.83     15200\n",
      "   macro avg       0.42      0.50      0.45     15200\n",
      "weighted avg       0.69      0.83      0.75     15200\n",
      "\n"
     ]
    },
    {
     "name": "stderr",
     "output_type": "stream",
     "text": [
      "D:\\Usuarios\\OSCAGAAl\\Anaconda3\\envs\\PROYECTOS_SURA\\lib\\site-packages\\sklearn\\metrics\\_classification.py:1221: UndefinedMetricWarning: Precision and F-score are ill-defined and being set to 0.0 in labels with no predicted samples. Use `zero_division` parameter to control this behavior.\n",
      "  _warn_prf(average, modifier, msg_start, len(result))\n"
     ]
    }
   ],
   "source": [
    "Reporte_MSV_R=metrics.classification_report(y_test,Prediccion_MSV_R)\n",
    "print(metrics.classification_report(y_test,Prediccion_MSV_R))"
   ]
  },
  {
   "cell_type": "markdown",
   "metadata": {},
   "source": [
    "**Clasificador Bayesiano**"
   ]
  },
  {
   "cell_type": "code",
   "execution_count": 169,
   "metadata": {},
   "outputs": [
    {
     "data": {
      "text/plain": [
       "GaussianNB()"
      ]
     },
     "execution_count": 169,
     "metadata": {},
     "output_type": "execute_result"
    }
   ],
   "source": [
    "from sklearn.naive_bayes import GaussianNB\n",
    "# Crear Modelo\n",
    "Modelo_CB=GaussianNB()\n",
    "# Entrenar Modelo\n",
    "Modelo_CB.fit(x_train,y_train)"
   ]
  },
  {
   "cell_type": "markdown",
   "metadata": {},
   "source": [
    "**Prediccion**"
   ]
  },
  {
   "cell_type": "code",
   "execution_count": 170,
   "metadata": {},
   "outputs": [
    {
     "data": {
      "text/plain": [
       "array([0, 0, 0, ..., 0, 0, 0], dtype=int64)"
      ]
     },
     "execution_count": 170,
     "metadata": {},
     "output_type": "execute_result"
    }
   ],
   "source": [
    "# prediccion\n",
    "Prediccion_CB=Modelo_MSV_R.predict(x_test)\n"
   ]
  },
  {
   "cell_type": "code",
   "execution_count": 171,
   "metadata": {},
   "outputs": [
    {
     "name": "stdout",
     "output_type": "stream",
     "text": [
      "Accuracy prueba 0.8306578947368422\n"
     ]
    }
   ],
   "source": [
    "print(\"Accuracy prueba\",metrics.accuracy_score(y_test,Prediccion_CB))"
   ]
  },
  {
   "cell_type": "code",
   "execution_count": 184,
   "metadata": {},
   "outputs": [
    {
     "name": "stdout",
     "output_type": "stream",
     "text": [
      "              precision    recall  f1-score   support\n",
      "\n",
      "           0       0.83      1.00      0.91     12626\n",
      "           1       0.00      0.00      0.00      2574\n",
      "\n",
      "    accuracy                           0.83     15200\n",
      "   macro avg       0.42      0.50      0.45     15200\n",
      "weighted avg       0.69      0.83      0.75     15200\n",
      "\n"
     ]
    },
    {
     "name": "stderr",
     "output_type": "stream",
     "text": [
      "D:\\Usuarios\\OSCAGAAl\\Anaconda3\\envs\\PROYECTOS_SURA\\lib\\site-packages\\sklearn\\metrics\\_classification.py:1221: UndefinedMetricWarning: Precision and F-score are ill-defined and being set to 0.0 in labels with no predicted samples. Use `zero_division` parameter to control this behavior.\n",
      "  _warn_prf(average, modifier, msg_start, len(result))\n"
     ]
    }
   ],
   "source": [
    "Reporte_CB=metrics.classification_report(y_test,Prediccion_CB)\n",
    "print(metrics.classification_report(y_test,Prediccion_CB))"
   ]
  },
  {
   "cell_type": "markdown",
   "metadata": {},
   "source": [
    "**Modelo Logit**"
   ]
  },
  {
   "cell_type": "code",
   "execution_count": 174,
   "metadata": {},
   "outputs": [],
   "source": [
    "from sklearn.linear_model import LogisticRegression"
   ]
  },
  {
   "cell_type": "code",
   "execution_count": 181,
   "metadata": {},
   "outputs": [
    {
     "name": "stdout",
     "output_type": "stream",
     "text": [
      "[[0.97995056 0.02004944]\n",
      " [0.94868294 0.05131706]\n",
      " [0.89527297 0.10472703]\n",
      " ...\n",
      " [0.9357992  0.0642008 ]\n",
      " [0.96290588 0.03709412]\n",
      " [0.93246717 0.06753283]]\n",
      "[0 0 0 ... 0 0 0]\n"
     ]
    },
    {
     "name": "stderr",
     "output_type": "stream",
     "text": [
      "D:\\Usuarios\\OSCAGAAl\\Anaconda3\\envs\\PROYECTOS_SURA\\lib\\site-packages\\sklearn\\linear_model\\_logistic.py:764: ConvergenceWarning: lbfgs failed to converge (status=1):\n",
      "STOP: TOTAL NO. of ITERATIONS REACHED LIMIT.\n",
      "\n",
      "Increase the number of iterations (max_iter) or scale the data as shown in:\n",
      "    https://scikit-learn.org/stable/modules/preprocessing.html\n",
      "Please also refer to the documentation for alternative solver options:\n",
      "    https://scikit-learn.org/stable/modules/linear_model.html#logistic-regression\n",
      "  extra_warning_msg=_LOGISTIC_SOLVER_CONVERGENCE_MSG)\n"
     ]
    }
   ],
   "source": [
    "Modelo_RL=LogisticRegression()\n",
    "# entrenamos \n",
    "Modelo_RL.fit(x_train,y_train)\n",
    "# Prediccion \n",
    "Prediccion_RL=Modelo_RL.predict(x_test)\n",
    "Prediccion_RL_P=Modelo_RL.predict_proba(x_test)\n",
    "print(Prediccion_RL_P)\n",
    "print(Prediccion_RL)"
   ]
  },
  {
   "cell_type": "code",
   "execution_count": 182,
   "metadata": {},
   "outputs": [
    {
     "name": "stdout",
     "output_type": "stream",
     "text": [
      "Accuracy prueba 0.834078947368421\n"
     ]
    }
   ],
   "source": [
    "print(\"Accuracy prueba\",metrics.accuracy_score(y_test,Prediccion_RL))"
   ]
  },
  {
   "cell_type": "code",
   "execution_count": 185,
   "metadata": {},
   "outputs": [
    {
     "name": "stdout",
     "output_type": "stream",
     "text": [
      "              precision    recall  f1-score   support\n",
      "\n",
      "           0       0.84      0.99      0.91     12626\n",
      "           1       0.59      0.06      0.11      2574\n",
      "\n",
      "    accuracy                           0.83     15200\n",
      "   macro avg       0.72      0.53      0.51     15200\n",
      "weighted avg       0.80      0.83      0.77     15200\n",
      "\n"
     ]
    }
   ],
   "source": [
    "Reporte_RL=metrics.classification_report(y_test,Prediccion_RL)\n",
    "print(metrics.classification_report(y_test,Prediccion_RL))"
   ]
  },
  {
   "cell_type": "markdown",
   "metadata": {},
   "source": [
    "<a id=\"ref5\"></a>\n",
    "## 1) **Evalucion**\n",
    "* <p><a href =\"#ref7\"> <font color=red size=3> Inicio </font> </a></p>\n"
   ]
  },
  {
   "cell_type": "markdown",
   "metadata": {},
   "source": [
    "**Seleccionar el Mejor Modelo**"
   ]
  },
  {
   "cell_type": "code",
   "execution_count": 188,
   "metadata": {},
   "outputs": [
    {
     "name": "stdout",
     "output_type": "stream",
     "text": [
      "Modelo KKNN               precision    recall  f1-score   support\n",
      "\n",
      "           0       0.72      0.70      0.71     12462\n",
      "           1       0.71      0.73      0.72     12738\n",
      "\n",
      "    accuracy                           0.71     25200\n",
      "   macro avg       0.71      0.71      0.71     25200\n",
      "weighted avg       0.71      0.71      0.71     25200\n",
      "\n",
      "AD               precision    recall  f1-score   support\n",
      "\n",
      "           0       0.68      0.67      0.67     12462\n",
      "           1       0.68      0.69      0.69     12738\n",
      "\n",
      "    accuracy                           0.68     25200\n",
      "   macro avg       0.68      0.68      0.68     25200\n",
      "weighted avg       0.68      0.68      0.68     25200\n",
      "\n",
      "RF               precision    recall  f1-score   support\n",
      "\n",
      "           0       0.98      0.92      0.95     12462\n",
      "           1       0.93      0.98      0.95     12738\n",
      "\n",
      "    accuracy                           0.95     25200\n",
      "   macro avg       0.95      0.95      0.95     25200\n",
      "weighted avg       0.95      0.95      0.95     25200\n",
      "\n",
      "RF_DO               precision    recall  f1-score   support\n",
      "\n",
      "           0       0.85      0.97      0.91     12626\n",
      "           1       0.56      0.15      0.24      2574\n",
      "\n",
      "    accuracy                           0.84     15200\n",
      "   macro avg       0.70      0.56      0.57     15200\n",
      "weighted avg       0.80      0.84      0.80     15200\n",
      "\n",
      "MSV_L               precision    recall  f1-score   support\n",
      "\n",
      "           0       0.83      1.00      0.91     12626\n",
      "           1       0.00      0.00      0.00      2574\n",
      "\n",
      "    accuracy                           0.83     15200\n",
      "   macro avg       0.42      0.50      0.45     15200\n",
      "weighted avg       0.69      0.83      0.75     15200\n",
      "\n",
      "MSV_P               precision    recall  f1-score   support\n",
      "\n",
      "           0       0.83      1.00      0.91     12626\n",
      "           1       0.75      0.00      0.00      2574\n",
      "\n",
      "    accuracy                           0.83     15200\n",
      "   macro avg       0.79      0.50      0.45     15200\n",
      "weighted avg       0.82      0.83      0.75     15200\n",
      "\n",
      "MSV_R               precision    recall  f1-score   support\n",
      "\n",
      "           0       0.83      1.00      0.91     12626\n",
      "           1       0.00      0.00      0.00      2574\n",
      "\n",
      "    accuracy                           0.83     15200\n",
      "   macro avg       0.42      0.50      0.45     15200\n",
      "weighted avg       0.69      0.83      0.75     15200\n",
      "\n",
      "MSV_Bayes               precision    recall  f1-score   support\n",
      "\n",
      "           0       0.83      1.00      0.91     12626\n",
      "           1       0.00      0.00      0.00      2574\n",
      "\n",
      "    accuracy                           0.83     15200\n",
      "   macro avg       0.42      0.50      0.45     15200\n",
      "weighted avg       0.69      0.83      0.75     15200\n",
      "\n",
      "MSV_Logistica               precision    recall  f1-score   support\n",
      "\n",
      "           0       0.84      0.99      0.91     12626\n",
      "           1       0.59      0.06      0.11      2574\n",
      "\n",
      "    accuracy                           0.83     15200\n",
      "   macro avg       0.72      0.53      0.51     15200\n",
      "weighted avg       0.80      0.83      0.77     15200\n",
      "\n"
     ]
    }
   ],
   "source": [
    "print(\"Modelo KKNN\",Reporte_Modelo_KKNN)\n",
    "print(\"AD\",Reporte_Arbol_D)\n",
    "print(\"RF\",Reporte_RF)### Metodo Emsable + Mas robustos \n",
    "print(\"RF_DO\",Reporte_RF_DO)\n",
    "print(\"MSV_L\",Reporte_MSV_L)\n",
    "print(\"MSV_P\",Reporte_MSV_P)### Mejor Modelo en el diagnostico, fallo al pasar al mundo real.\n",
    "print(\"MSV_R\",Reporte_MSV_R)\n",
    "print(\"MSV_Bayes\",Reporte_CB)\n",
    "print(\"MSV_Logistica\",Reporte_RL)## "
   ]
  },
  {
   "cell_type": "markdown",
   "metadata": {},
   "source": [
    "**Prediccion del Inventario Activo**"
   ]
  },
  {
   "cell_type": "code",
   "execution_count": 189,
   "metadata": {},
   "outputs": [
    {
     "data": {
      "text/html": [
       "<div>\n",
       "<style scoped>\n",
       "    .dataframe tbody tr th:only-of-type {\n",
       "        vertical-align: middle;\n",
       "    }\n",
       "\n",
       "    .dataframe tbody tr th {\n",
       "        vertical-align: top;\n",
       "    }\n",
       "\n",
       "    .dataframe thead th {\n",
       "        text-align: right;\n",
       "    }\n",
       "</style>\n",
       "<table border=\"1\" class=\"dataframe\">\n",
       "  <thead>\n",
       "    <tr style=\"text-align: right;\">\n",
       "      <th></th>\n",
       "      <th>Order</th>\n",
       "      <th>File_Type</th>\n",
       "      <th>SKU_number</th>\n",
       "      <th>SoldFlag</th>\n",
       "      <th>SoldCount</th>\n",
       "      <th>MarketingType</th>\n",
       "      <th>ReleaseNumber</th>\n",
       "      <th>New_Release_Flag</th>\n",
       "      <th>StrengthFactor</th>\n",
       "      <th>PriceReg</th>\n",
       "      <th>ReleaseYear</th>\n",
       "      <th>ItemCount</th>\n",
       "      <th>LowUserPrice</th>\n",
       "      <th>LowNetPrice</th>\n",
       "    </tr>\n",
       "  </thead>\n",
       "  <tbody>\n",
       "    <tr>\n",
       "      <th>75996</th>\n",
       "      <td>85107</td>\n",
       "      <td>Active</td>\n",
       "      <td>869734</td>\n",
       "      <td>NaN</td>\n",
       "      <td>NaN</td>\n",
       "      <td>S</td>\n",
       "      <td>9</td>\n",
       "      <td>1</td>\n",
       "      <td>1.251478e+06</td>\n",
       "      <td>92.82</td>\n",
       "      <td>2018</td>\n",
       "      <td>49</td>\n",
       "      <td>11.46</td>\n",
       "      <td>69.08</td>\n",
       "    </tr>\n",
       "    <tr>\n",
       "      <th>75997</th>\n",
       "      <td>85108</td>\n",
       "      <td>Active</td>\n",
       "      <td>3741319</td>\n",
       "      <td>NaN</td>\n",
       "      <td>NaN</td>\n",
       "      <td>S</td>\n",
       "      <td>4</td>\n",
       "      <td>1</td>\n",
       "      <td>2.407071e+06</td>\n",
       "      <td>49.00</td>\n",
       "      <td>2016</td>\n",
       "      <td>0</td>\n",
       "      <td>0.00</td>\n",
       "      <td>49.00</td>\n",
       "    </tr>\n",
       "    <tr>\n",
       "      <th>75998</th>\n",
       "      <td>85109</td>\n",
       "      <td>Active</td>\n",
       "      <td>3517789</td>\n",
       "      <td>NaN</td>\n",
       "      <td>NaN</td>\n",
       "      <td>S</td>\n",
       "      <td>3</td>\n",
       "      <td>1</td>\n",
       "      <td>6.890734e+06</td>\n",
       "      <td>44.95</td>\n",
       "      <td>2016</td>\n",
       "      <td>0</td>\n",
       "      <td>0.00</td>\n",
       "      <td>0.00</td>\n",
       "    </tr>\n",
       "    <tr>\n",
       "      <th>75999</th>\n",
       "      <td>85110</td>\n",
       "      <td>Active</td>\n",
       "      <td>1455936</td>\n",
       "      <td>NaN</td>\n",
       "      <td>NaN</td>\n",
       "      <td>S</td>\n",
       "      <td>8</td>\n",
       "      <td>1</td>\n",
       "      <td>9.156233e+04</td>\n",
       "      <td>219.00</td>\n",
       "      <td>2014</td>\n",
       "      <td>44</td>\n",
       "      <td>13.71</td>\n",
       "      <td>59.81</td>\n",
       "    </tr>\n",
       "    <tr>\n",
       "      <th>76000</th>\n",
       "      <td>85111</td>\n",
       "      <td>Active</td>\n",
       "      <td>2921480</td>\n",
       "      <td>NaN</td>\n",
       "      <td>NaN</td>\n",
       "      <td>S</td>\n",
       "      <td>5</td>\n",
       "      <td>1</td>\n",
       "      <td>6.922798e+06</td>\n",
       "      <td>83.95</td>\n",
       "      <td>2016</td>\n",
       "      <td>0</td>\n",
       "      <td>0.00</td>\n",
       "      <td>79.80</td>\n",
       "    </tr>\n",
       "  </tbody>\n",
       "</table>\n",
       "</div>"
      ],
      "text/plain": [
       "       Order File_Type  SKU_number  SoldFlag  SoldCount MarketingType  \\\n",
       "75996  85107    Active      869734       NaN        NaN             S   \n",
       "75997  85108    Active     3741319       NaN        NaN             S   \n",
       "75998  85109    Active     3517789       NaN        NaN             S   \n",
       "75999  85110    Active     1455936       NaN        NaN             S   \n",
       "76000  85111    Active     2921480       NaN        NaN             S   \n",
       "\n",
       "       ReleaseNumber  New_Release_Flag  StrengthFactor  PriceReg  ReleaseYear  \\\n",
       "75996              9                 1    1.251478e+06     92.82         2018   \n",
       "75997              4                 1    2.407071e+06     49.00         2016   \n",
       "75998              3                 1    6.890734e+06     44.95         2016   \n",
       "75999              8                 1    9.156233e+04    219.00         2014   \n",
       "76000              5                 1    6.922798e+06     83.95         2016   \n",
       "\n",
       "       ItemCount  LowUserPrice  LowNetPrice  \n",
       "75996         49         11.46        69.08  \n",
       "75997          0          0.00        49.00  \n",
       "75998          0          0.00         0.00  \n",
       "75999         44         13.71        59.81  \n",
       "76000          0          0.00        79.80  "
      ]
     },
     "execution_count": 189,
     "metadata": {},
     "output_type": "execute_result"
    }
   ],
   "source": [
    "df_act.head(5)"
   ]
  },
  {
   "cell_type": "code",
   "execution_count": 194,
   "metadata": {},
   "outputs": [],
   "source": [
    "X_nueva=df_act[['ReleaseNumber','New_Release_Flag','StrengthFactor','PriceReg', 'ReleaseYear', 'ItemCount', 'LowUserPrice', 'LowNetPrice',\"MarketingType\"]] # Variables Numericas y categorica"
   ]
  },
  {
   "cell_type": "code",
   "execution_count": 195,
   "metadata": {},
   "outputs": [
    {
     "data": {
      "text/html": [
       "<div>\n",
       "<style scoped>\n",
       "    .dataframe tbody tr th:only-of-type {\n",
       "        vertical-align: middle;\n",
       "    }\n",
       "\n",
       "    .dataframe tbody tr th {\n",
       "        vertical-align: top;\n",
       "    }\n",
       "\n",
       "    .dataframe thead th {\n",
       "        text-align: right;\n",
       "    }\n",
       "</style>\n",
       "<table border=\"1\" class=\"dataframe\">\n",
       "  <thead>\n",
       "    <tr style=\"text-align: right;\">\n",
       "      <th></th>\n",
       "      <th>ReleaseNumber</th>\n",
       "      <th>New_Release_Flag</th>\n",
       "      <th>StrengthFactor</th>\n",
       "      <th>PriceReg</th>\n",
       "      <th>ReleaseYear</th>\n",
       "      <th>ItemCount</th>\n",
       "      <th>LowUserPrice</th>\n",
       "      <th>LowNetPrice</th>\n",
       "      <th>D</th>\n",
       "      <th>S</th>\n",
       "    </tr>\n",
       "  </thead>\n",
       "  <tbody>\n",
       "    <tr>\n",
       "      <th>75996</th>\n",
       "      <td>9</td>\n",
       "      <td>1</td>\n",
       "      <td>1.251478e+06</td>\n",
       "      <td>92.82</td>\n",
       "      <td>2018</td>\n",
       "      <td>49</td>\n",
       "      <td>11.46</td>\n",
       "      <td>69.08</td>\n",
       "      <td>0</td>\n",
       "      <td>1</td>\n",
       "    </tr>\n",
       "    <tr>\n",
       "      <th>75997</th>\n",
       "      <td>4</td>\n",
       "      <td>1</td>\n",
       "      <td>2.407071e+06</td>\n",
       "      <td>49.00</td>\n",
       "      <td>2016</td>\n",
       "      <td>0</td>\n",
       "      <td>0.00</td>\n",
       "      <td>49.00</td>\n",
       "      <td>0</td>\n",
       "      <td>1</td>\n",
       "    </tr>\n",
       "    <tr>\n",
       "      <th>75998</th>\n",
       "      <td>3</td>\n",
       "      <td>1</td>\n",
       "      <td>6.890734e+06</td>\n",
       "      <td>44.95</td>\n",
       "      <td>2016</td>\n",
       "      <td>0</td>\n",
       "      <td>0.00</td>\n",
       "      <td>0.00</td>\n",
       "      <td>0</td>\n",
       "      <td>1</td>\n",
       "    </tr>\n",
       "    <tr>\n",
       "      <th>75999</th>\n",
       "      <td>8</td>\n",
       "      <td>1</td>\n",
       "      <td>9.156233e+04</td>\n",
       "      <td>219.00</td>\n",
       "      <td>2014</td>\n",
       "      <td>44</td>\n",
       "      <td>13.71</td>\n",
       "      <td>59.81</td>\n",
       "      <td>0</td>\n",
       "      <td>1</td>\n",
       "    </tr>\n",
       "    <tr>\n",
       "      <th>76000</th>\n",
       "      <td>5</td>\n",
       "      <td>1</td>\n",
       "      <td>6.922798e+06</td>\n",
       "      <td>83.95</td>\n",
       "      <td>2016</td>\n",
       "      <td>0</td>\n",
       "      <td>0.00</td>\n",
       "      <td>79.80</td>\n",
       "      <td>0</td>\n",
       "      <td>1</td>\n",
       "    </tr>\n",
       "    <tr>\n",
       "      <th>...</th>\n",
       "      <td>...</td>\n",
       "      <td>...</td>\n",
       "      <td>...</td>\n",
       "      <td>...</td>\n",
       "      <td>...</td>\n",
       "      <td>...</td>\n",
       "      <td>...</td>\n",
       "      <td>...</td>\n",
       "      <td>...</td>\n",
       "      <td>...</td>\n",
       "    </tr>\n",
       "    <tr>\n",
       "      <th>198912</th>\n",
       "      <td>7</td>\n",
       "      <td>1</td>\n",
       "      <td>2.101869e+05</td>\n",
       "      <td>72.87</td>\n",
       "      <td>2006</td>\n",
       "      <td>54</td>\n",
       "      <td>8.46</td>\n",
       "      <td>60.59</td>\n",
       "      <td>1</td>\n",
       "      <td>0</td>\n",
       "    </tr>\n",
       "    <tr>\n",
       "      <th>198913</th>\n",
       "      <td>8</td>\n",
       "      <td>1</td>\n",
       "      <td>4.555041e+05</td>\n",
       "      <td>247.00</td>\n",
       "      <td>2009</td>\n",
       "      <td>65</td>\n",
       "      <td>8.40</td>\n",
       "      <td>74.85</td>\n",
       "      <td>1</td>\n",
       "      <td>0</td>\n",
       "    </tr>\n",
       "    <tr>\n",
       "      <th>198914</th>\n",
       "      <td>2</td>\n",
       "      <td>1</td>\n",
       "      <td>1.692746e+05</td>\n",
       "      <td>50.00</td>\n",
       "      <td>2012</td>\n",
       "      <td>23</td>\n",
       "      <td>23.98</td>\n",
       "      <td>32.62</td>\n",
       "      <td>0</td>\n",
       "      <td>1</td>\n",
       "    </tr>\n",
       "    <tr>\n",
       "      <th>198915</th>\n",
       "      <td>2</td>\n",
       "      <td>1</td>\n",
       "      <td>3.775266e+05</td>\n",
       "      <td>46.95</td>\n",
       "      <td>2001</td>\n",
       "      <td>23</td>\n",
       "      <td>27.42</td>\n",
       "      <td>37.89</td>\n",
       "      <td>0</td>\n",
       "      <td>1</td>\n",
       "    </tr>\n",
       "    <tr>\n",
       "      <th>198916</th>\n",
       "      <td>15</td>\n",
       "      <td>1</td>\n",
       "      <td>1.183068e+05</td>\n",
       "      <td>120.00</td>\n",
       "      <td>2010</td>\n",
       "      <td>44</td>\n",
       "      <td>10.97</td>\n",
       "      <td>60.67</td>\n",
       "      <td>1</td>\n",
       "      <td>0</td>\n",
       "    </tr>\n",
       "  </tbody>\n",
       "</table>\n",
       "<p>122921 rows × 10 columns</p>\n",
       "</div>"
      ],
      "text/plain": [
       "        ReleaseNumber  New_Release_Flag  StrengthFactor  PriceReg  \\\n",
       "75996               9                 1    1.251478e+06     92.82   \n",
       "75997               4                 1    2.407071e+06     49.00   \n",
       "75998               3                 1    6.890734e+06     44.95   \n",
       "75999               8                 1    9.156233e+04    219.00   \n",
       "76000               5                 1    6.922798e+06     83.95   \n",
       "...               ...               ...             ...       ...   \n",
       "198912              7                 1    2.101869e+05     72.87   \n",
       "198913              8                 1    4.555041e+05    247.00   \n",
       "198914              2                 1    1.692746e+05     50.00   \n",
       "198915              2                 1    3.775266e+05     46.95   \n",
       "198916             15                 1    1.183068e+05    120.00   \n",
       "\n",
       "        ReleaseYear  ItemCount  LowUserPrice  LowNetPrice  D  S  \n",
       "75996          2018         49         11.46        69.08  0  1  \n",
       "75997          2016          0          0.00        49.00  0  1  \n",
       "75998          2016          0          0.00         0.00  0  1  \n",
       "75999          2014         44         13.71        59.81  0  1  \n",
       "76000          2016          0          0.00        79.80  0  1  \n",
       "...             ...        ...           ...          ... .. ..  \n",
       "198912         2006         54          8.46        60.59  1  0  \n",
       "198913         2009         65          8.40        74.85  1  0  \n",
       "198914         2012         23         23.98        32.62  0  1  \n",
       "198915         2001         23         27.42        37.89  0  1  \n",
       "198916         2010         44         10.97        60.67  1  0  \n",
       "\n",
       "[122921 rows x 10 columns]"
      ]
     },
     "execution_count": 195,
     "metadata": {},
     "output_type": "execute_result"
    }
   ],
   "source": [
    "Mercadeo_dummy=pd.get_dummies(X_nueva[\"MarketingType\"])\n",
    "X_completo=pd.concat([X_nueva,Mercadeo_dummy],axis=1)\n",
    "X_nueva=X_completo.drop([\"MarketingType\"],axis=1)\n",
    "X_nueva"
   ]
  },
  {
   "cell_type": "code",
   "execution_count": 200,
   "metadata": {},
   "outputs": [],
   "source": [
    "## Estandarizar X nuevas\n",
    "X_S=S.fit_transform(X_nueva)"
   ]
  },
  {
   "cell_type": "markdown",
   "metadata": {},
   "source": [
    "**Aplicamos el Modelo**"
   ]
  },
  {
   "cell_type": "code",
   "execution_count": 201,
   "metadata": {},
   "outputs": [],
   "source": [
    "Predicciones_Inventario_Activo = Modelo_MSV_P.predict(X_S)"
   ]
  },
  {
   "cell_type": "code",
   "execution_count": 203,
   "metadata": {},
   "outputs": [
    {
     "name": "stderr",
     "output_type": "stream",
     "text": [
      "D:\\Usuarios\\OSCAGAAl\\Anaconda3\\envs\\PROYECTOS_SURA\\lib\\site-packages\\ipykernel_launcher.py:1: SettingWithCopyWarning: \n",
      "A value is trying to be set on a copy of a slice from a DataFrame.\n",
      "Try using .loc[row_indexer,col_indexer] = value instead\n",
      "\n",
      "See the caveats in the documentation: https://pandas.pydata.org/pandas-docs/stable/user_guide/indexing.html#returning-a-view-versus-a-copy\n",
      "  \"\"\"Entry point for launching an IPython kernel.\n"
     ]
    }
   ],
   "source": [
    "df_act[\"Prediccion_Venta_6_Meses\"]=Predicciones_Inventario_Activo"
   ]
  },
  {
   "cell_type": "code",
   "execution_count": 204,
   "metadata": {},
   "outputs": [
    {
     "data": {
      "text/html": [
       "<div>\n",
       "<style scoped>\n",
       "    .dataframe tbody tr th:only-of-type {\n",
       "        vertical-align: middle;\n",
       "    }\n",
       "\n",
       "    .dataframe tbody tr th {\n",
       "        vertical-align: top;\n",
       "    }\n",
       "\n",
       "    .dataframe thead th {\n",
       "        text-align: right;\n",
       "    }\n",
       "</style>\n",
       "<table border=\"1\" class=\"dataframe\">\n",
       "  <thead>\n",
       "    <tr style=\"text-align: right;\">\n",
       "      <th></th>\n",
       "      <th>Order</th>\n",
       "      <th>File_Type</th>\n",
       "      <th>SKU_number</th>\n",
       "      <th>SoldFlag</th>\n",
       "      <th>SoldCount</th>\n",
       "      <th>MarketingType</th>\n",
       "      <th>ReleaseNumber</th>\n",
       "      <th>New_Release_Flag</th>\n",
       "      <th>StrengthFactor</th>\n",
       "      <th>PriceReg</th>\n",
       "      <th>ReleaseYear</th>\n",
       "      <th>ItemCount</th>\n",
       "      <th>LowUserPrice</th>\n",
       "      <th>LowNetPrice</th>\n",
       "      <th>Prediccion_Venta_6_Meses</th>\n",
       "    </tr>\n",
       "  </thead>\n",
       "  <tbody>\n",
       "    <tr>\n",
       "      <th>75996</th>\n",
       "      <td>85107</td>\n",
       "      <td>Active</td>\n",
       "      <td>869734</td>\n",
       "      <td>NaN</td>\n",
       "      <td>NaN</td>\n",
       "      <td>S</td>\n",
       "      <td>9</td>\n",
       "      <td>1</td>\n",
       "      <td>1.251478e+06</td>\n",
       "      <td>92.82</td>\n",
       "      <td>2018</td>\n",
       "      <td>49</td>\n",
       "      <td>11.46</td>\n",
       "      <td>69.08</td>\n",
       "      <td>0</td>\n",
       "    </tr>\n",
       "    <tr>\n",
       "      <th>75997</th>\n",
       "      <td>85108</td>\n",
       "      <td>Active</td>\n",
       "      <td>3741319</td>\n",
       "      <td>NaN</td>\n",
       "      <td>NaN</td>\n",
       "      <td>S</td>\n",
       "      <td>4</td>\n",
       "      <td>1</td>\n",
       "      <td>2.407071e+06</td>\n",
       "      <td>49.00</td>\n",
       "      <td>2016</td>\n",
       "      <td>0</td>\n",
       "      <td>0.00</td>\n",
       "      <td>49.00</td>\n",
       "      <td>0</td>\n",
       "    </tr>\n",
       "    <tr>\n",
       "      <th>75998</th>\n",
       "      <td>85109</td>\n",
       "      <td>Active</td>\n",
       "      <td>3517789</td>\n",
       "      <td>NaN</td>\n",
       "      <td>NaN</td>\n",
       "      <td>S</td>\n",
       "      <td>3</td>\n",
       "      <td>1</td>\n",
       "      <td>6.890734e+06</td>\n",
       "      <td>44.95</td>\n",
       "      <td>2016</td>\n",
       "      <td>0</td>\n",
       "      <td>0.00</td>\n",
       "      <td>0.00</td>\n",
       "      <td>0</td>\n",
       "    </tr>\n",
       "    <tr>\n",
       "      <th>75999</th>\n",
       "      <td>85110</td>\n",
       "      <td>Active</td>\n",
       "      <td>1455936</td>\n",
       "      <td>NaN</td>\n",
       "      <td>NaN</td>\n",
       "      <td>S</td>\n",
       "      <td>8</td>\n",
       "      <td>1</td>\n",
       "      <td>9.156233e+04</td>\n",
       "      <td>219.00</td>\n",
       "      <td>2014</td>\n",
       "      <td>44</td>\n",
       "      <td>13.71</td>\n",
       "      <td>59.81</td>\n",
       "      <td>0</td>\n",
       "    </tr>\n",
       "    <tr>\n",
       "      <th>76000</th>\n",
       "      <td>85111</td>\n",
       "      <td>Active</td>\n",
       "      <td>2921480</td>\n",
       "      <td>NaN</td>\n",
       "      <td>NaN</td>\n",
       "      <td>S</td>\n",
       "      <td>5</td>\n",
       "      <td>1</td>\n",
       "      <td>6.922798e+06</td>\n",
       "      <td>83.95</td>\n",
       "      <td>2016</td>\n",
       "      <td>0</td>\n",
       "      <td>0.00</td>\n",
       "      <td>79.80</td>\n",
       "      <td>0</td>\n",
       "    </tr>\n",
       "  </tbody>\n",
       "</table>\n",
       "</div>"
      ],
      "text/plain": [
       "       Order File_Type  SKU_number  SoldFlag  SoldCount MarketingType  \\\n",
       "75996  85107    Active      869734       NaN        NaN             S   \n",
       "75997  85108    Active     3741319       NaN        NaN             S   \n",
       "75998  85109    Active     3517789       NaN        NaN             S   \n",
       "75999  85110    Active     1455936       NaN        NaN             S   \n",
       "76000  85111    Active     2921480       NaN        NaN             S   \n",
       "\n",
       "       ReleaseNumber  New_Release_Flag  StrengthFactor  PriceReg  ReleaseYear  \\\n",
       "75996              9                 1    1.251478e+06     92.82         2018   \n",
       "75997              4                 1    2.407071e+06     49.00         2016   \n",
       "75998              3                 1    6.890734e+06     44.95         2016   \n",
       "75999              8                 1    9.156233e+04    219.00         2014   \n",
       "76000              5                 1    6.922798e+06     83.95         2016   \n",
       "\n",
       "       ItemCount  LowUserPrice  LowNetPrice  Prediccion_Venta_6_Meses  \n",
       "75996         49         11.46        69.08                         0  \n",
       "75997          0          0.00        49.00                         0  \n",
       "75998          0          0.00         0.00                         0  \n",
       "75999         44         13.71        59.81                         0  \n",
       "76000          0          0.00        79.80                         0  "
      ]
     },
     "execution_count": 204,
     "metadata": {},
     "output_type": "execute_result"
    }
   ],
   "source": [
    "df_act.head(5)"
   ]
  },
  {
   "cell_type": "code",
   "execution_count": 205,
   "metadata": {},
   "outputs": [
    {
     "data": {
      "text/plain": [
       "<matplotlib.axes._subplots.AxesSubplot at 0x1d684fb67c8>"
      ]
     },
     "execution_count": 205,
     "metadata": {},
     "output_type": "execute_result"
    },
    {
     "data": {
      "image/png": "[encoded data removed]",
      "text/plain": [
       "<Figure size 432x288 with 1 Axes>"
      ]
     },
     "metadata": {
      "needs_background": "light"
     },
     "output_type": "display_data"
    }
   ],
   "source": [
    "sns.countplot(\"Prediccion_Venta_6_Meses\",data=df_act)"
   ]
  },
  {
   "cell_type": "markdown",
   "metadata": {},
   "source": [
    "**Random Forest**"
   ]
  },
  {
   "cell_type": "code",
   "execution_count": 206,
   "metadata": {},
   "outputs": [],
   "source": [
    "Predicciones_Inventario_Activo_RF = Modelo_RF_Datos_O.predict(X_S)"
   ]
  },
  {
   "cell_type": "code",
   "execution_count": 207,
   "metadata": {},
   "outputs": [
    {
     "name": "stderr",
     "output_type": "stream",
     "text": [
      "D:\\Usuarios\\OSCAGAAl\\Anaconda3\\envs\\PROYECTOS_SURA\\lib\\site-packages\\ipykernel_launcher.py:1: SettingWithCopyWarning: \n",
      "A value is trying to be set on a copy of a slice from a DataFrame.\n",
      "Try using .loc[row_indexer,col_indexer] = value instead\n",
      "\n",
      "See the caveats in the documentation: https://pandas.pydata.org/pandas-docs/stable/user_guide/indexing.html#returning-a-view-versus-a-copy\n",
      "  \"\"\"Entry point for launching an IPython kernel.\n"
     ]
    }
   ],
   "source": [
    "df_act[\"Prediccion_Venta_6_Meses_RF\"]=Predicciones_Inventario_Activo_RF"
   ]
  },
  {
   "cell_type": "code",
   "execution_count": 208,
   "metadata": {},
   "outputs": [
    {
     "data": {
      "text/html": [
       "<div>\n",
       "<style scoped>\n",
       "    .dataframe tbody tr th:only-of-type {\n",
       "        vertical-align: middle;\n",
       "    }\n",
       "\n",
       "    .dataframe tbody tr th {\n",
       "        vertical-align: top;\n",
       "    }\n",
       "\n",
       "    .dataframe thead th {\n",
       "        text-align: right;\n",
       "    }\n",
       "</style>\n",
       "<table border=\"1\" class=\"dataframe\">\n",
       "  <thead>\n",
       "    <tr style=\"text-align: right;\">\n",
       "      <th></th>\n",
       "      <th>Order</th>\n",
       "      <th>File_Type</th>\n",
       "      <th>SKU_number</th>\n",
       "      <th>SoldFlag</th>\n",
       "      <th>SoldCount</th>\n",
       "      <th>MarketingType</th>\n",
       "      <th>ReleaseNumber</th>\n",
       "      <th>New_Release_Flag</th>\n",
       "      <th>StrengthFactor</th>\n",
       "      <th>PriceReg</th>\n",
       "      <th>ReleaseYear</th>\n",
       "      <th>ItemCount</th>\n",
       "      <th>LowUserPrice</th>\n",
       "      <th>LowNetPrice</th>\n",
       "      <th>Prediccion_Venta_6_Meses</th>\n",
       "      <th>Prediccion_Venta_6_Meses_RF</th>\n",
       "    </tr>\n",
       "  </thead>\n",
       "  <tbody>\n",
       "    <tr>\n",
       "      <th>75996</th>\n",
       "      <td>85107</td>\n",
       "      <td>Active</td>\n",
       "      <td>869734</td>\n",
       "      <td>NaN</td>\n",
       "      <td>NaN</td>\n",
       "      <td>S</td>\n",
       "      <td>9</td>\n",
       "      <td>1</td>\n",
       "      <td>1.251478e+06</td>\n",
       "      <td>92.82</td>\n",
       "      <td>2018</td>\n",
       "      <td>49</td>\n",
       "      <td>11.46</td>\n",
       "      <td>69.08</td>\n",
       "      <td>0</td>\n",
       "      <td>0</td>\n",
       "    </tr>\n",
       "    <tr>\n",
       "      <th>75997</th>\n",
       "      <td>85108</td>\n",
       "      <td>Active</td>\n",
       "      <td>3741319</td>\n",
       "      <td>NaN</td>\n",
       "      <td>NaN</td>\n",
       "      <td>S</td>\n",
       "      <td>4</td>\n",
       "      <td>1</td>\n",
       "      <td>2.407071e+06</td>\n",
       "      <td>49.00</td>\n",
       "      <td>2016</td>\n",
       "      <td>0</td>\n",
       "      <td>0.00</td>\n",
       "      <td>49.00</td>\n",
       "      <td>0</td>\n",
       "      <td>0</td>\n",
       "    </tr>\n",
       "    <tr>\n",
       "      <th>75998</th>\n",
       "      <td>85109</td>\n",
       "      <td>Active</td>\n",
       "      <td>3517789</td>\n",
       "      <td>NaN</td>\n",
       "      <td>NaN</td>\n",
       "      <td>S</td>\n",
       "      <td>3</td>\n",
       "      <td>1</td>\n",
       "      <td>6.890734e+06</td>\n",
       "      <td>44.95</td>\n",
       "      <td>2016</td>\n",
       "      <td>0</td>\n",
       "      <td>0.00</td>\n",
       "      <td>0.00</td>\n",
       "      <td>0</td>\n",
       "      <td>0</td>\n",
       "    </tr>\n",
       "    <tr>\n",
       "      <th>75999</th>\n",
       "      <td>85110</td>\n",
       "      <td>Active</td>\n",
       "      <td>1455936</td>\n",
       "      <td>NaN</td>\n",
       "      <td>NaN</td>\n",
       "      <td>S</td>\n",
       "      <td>8</td>\n",
       "      <td>1</td>\n",
       "      <td>9.156233e+04</td>\n",
       "      <td>219.00</td>\n",
       "      <td>2014</td>\n",
       "      <td>44</td>\n",
       "      <td>13.71</td>\n",
       "      <td>59.81</td>\n",
       "      <td>0</td>\n",
       "      <td>0</td>\n",
       "    </tr>\n",
       "    <tr>\n",
       "      <th>76000</th>\n",
       "      <td>85111</td>\n",
       "      <td>Active</td>\n",
       "      <td>2921480</td>\n",
       "      <td>NaN</td>\n",
       "      <td>NaN</td>\n",
       "      <td>S</td>\n",
       "      <td>5</td>\n",
       "      <td>1</td>\n",
       "      <td>6.922798e+06</td>\n",
       "      <td>83.95</td>\n",
       "      <td>2016</td>\n",
       "      <td>0</td>\n",
       "      <td>0.00</td>\n",
       "      <td>79.80</td>\n",
       "      <td>0</td>\n",
       "      <td>0</td>\n",
       "    </tr>\n",
       "  </tbody>\n",
       "</table>\n",
       "</div>"
      ],
      "text/plain": [
       "       Order File_Type  SKU_number  SoldFlag  SoldCount MarketingType  \\\n",
       "75996  85107    Active      869734       NaN        NaN             S   \n",
       "75997  85108    Active     3741319       NaN        NaN             S   \n",
       "75998  85109    Active     3517789       NaN        NaN             S   \n",
       "75999  85110    Active     1455936       NaN        NaN             S   \n",
       "76000  85111    Active     2921480       NaN        NaN             S   \n",
       "\n",
       "       ReleaseNumber  New_Release_Flag  StrengthFactor  PriceReg  ReleaseYear  \\\n",
       "75996              9                 1    1.251478e+06     92.82         2018   \n",
       "75997              4                 1    2.407071e+06     49.00         2016   \n",
       "75998              3                 1    6.890734e+06     44.95         2016   \n",
       "75999              8                 1    9.156233e+04    219.00         2014   \n",
       "76000              5                 1    6.922798e+06     83.95         2016   \n",
       "\n",
       "       ItemCount  LowUserPrice  LowNetPrice  Prediccion_Venta_6_Meses  \\\n",
       "75996         49         11.46        69.08                         0   \n",
       "75997          0          0.00        49.00                         0   \n",
       "75998          0          0.00         0.00                         0   \n",
       "75999         44         13.71        59.81                         0   \n",
       "76000          0          0.00        79.80                         0   \n",
       "\n",
       "       Prediccion_Venta_6_Meses_RF  \n",
       "75996                            0  \n",
       "75997                            0  \n",
       "75998                            0  \n",
       "75999                            0  \n",
       "76000                            0  "
      ]
     },
     "execution_count": 208,
     "metadata": {},
     "output_type": "execute_result"
    }
   ],
   "source": [
    "df_act.head(5)"
   ]
  },
  {
   "cell_type": "code",
   "execution_count": 209,
   "metadata": {},
   "outputs": [
    {
     "data": {
      "text/plain": [
       "<matplotlib.axes._subplots.AxesSubplot at 0x1d686da93c8>"
      ]
     },
     "execution_count": 209,
     "metadata": {},
     "output_type": "execute_result"
    },
    {
     "data": {
      "image/png": "[encoded data removed]",
      "text/plain": [
       "<Figure size 432x288 with 1 Axes>"
      ]
     },
     "metadata": {
      "needs_background": "light"
     },
     "output_type": "display_data"
    }
   ],
   "source": [
    "sns.countplot(\"Prediccion_Venta_6_Meses_RF\",data=df_act)"
   ]
  },
  {
   "cell_type": "code",
   "execution_count": 210,
   "metadata": {},
   "outputs": [
    {
     "data": {
      "image/png": "[encoded data removed]",
      "text/plain": [
       "<Figure size 432x288 with 1 Axes>"
      ]
     },
     "metadata": {},
     "output_type": "display_data"
    }
   ],
   "source": [
    "plot = df_hist[\"SoldFlag\"].value_counts().plot(kind=\"pie\",autopct=\"%.2f\",title=\"Dsitribucion de Ventas\")"
   ]
  },
  {
   "cell_type": "code",
   "execution_count": 212,
   "metadata": {},
   "outputs": [
    {
     "data": {
      "image/png": "[encoded data removed]",
      "text/plain": [
       "<Figure size 432x288 with 1 Axes>"
      ]
     },
     "metadata": {},
     "output_type": "display_data"
    }
   ],
   "source": [
    "plot = df_act[\"Prediccion_Venta_6_Meses_RF\"].value_counts().plot(kind=\"pie\",autopct=\"%.2f\",title=\"Dsitribucion de Ventas\")"
   ]
  },
  {
   "cell_type": "markdown",
   "metadata": {},
   "source": [
    "**Exportar_Resultados**"
   ]
  },
  {
   "cell_type": "code",
   "execution_count": 213,
   "metadata": {},
   "outputs": [],
   "source": [
    "df_act.to_excel(r\"D:\\Usuarios\\OSCAGAAl\\Documents\\Diplomado_ML_2020\\Resultados\\Predicciones_Inventarios_23-11-2020.xlsx\")"
   ]
  },
  {
   "cell_type": "code",
   "execution_count": null,
   "metadata": {},
   "outputs": [],
   "source": []
  }
 ],
 "metadata": {
  "kernelspec": {
   "display_name": "Python 3",
   "language": "python",
   "name": "python3"
  },
  "language_info": {
   "codemirror_mode": {
    "name": "ipython",
    "version": 3
   },
   "file_extension": ".py",
   "mimetype": "text/x-python",
   "name": "python",
   "nbconvert_exporter": "python",
   "pygments_lexer": "ipython3",
   "version": "3.7.7"
  }
 },
 "nbformat": 4,
 "nbformat_minor": 4
}
