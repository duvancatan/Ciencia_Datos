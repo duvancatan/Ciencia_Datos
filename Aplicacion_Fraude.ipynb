{
 "cells": [
  {
   "cell_type": "code",
   "execution_count": 1,
   "id": "cced7ad5",
   "metadata": {},
   "outputs": [],
   "source": [
    "import pandas as pd\n",
    "import numpy as np"
   ]
  },
  {
   "cell_type": "code",
   "execution_count": 5,
   "id": "a51ae0ee",
   "metadata": {},
   "outputs": [],
   "source": [
    "import pickle\n",
    "import streamlit as st\n",
    "pickle_in=open('ClasificadorFraude.pkl','rb')\n",
    "clasificador=pickle.load(pickle_in)"
   ]
  },
  {
   "attachments": {
    "image.png": {
     "image/png": "[encoded data removed]"
    }
   },
   "cell_type": "markdown",
   "id": "af91f8d2",
   "metadata": {},
   "source": [
    "![image.png](attachment:image.png)"
   ]
  },
  {
   "cell_type": "code",
   "execution_count": 16,
   "id": "2c878a70",
   "metadata": {},
   "outputs": [
    {
     "data": {
      "text/plain": [
       "array([1], dtype=int64)"
      ]
     },
     "execution_count": 16,
     "metadata": {},
     "output_type": "execute_result"
    }
   ],
   "source": [
    "clasificador.predict([[1000, 0 ,0 ,0,1,0,0,0,0,0]])"
   ]
  },
  {
   "cell_type": "markdown",
   "id": "8469b2f7",
   "metadata": {},
   "source": [
    "**Aplicacion con StreamLit**"
   ]
  },
  {
   "cell_type": "code",
   "execution_count": 15,
   "id": "6067c9c5",
   "metadata": {},
   "outputs": [
    {
     "name": "stdout",
     "output_type": "stream",
     "text": [
      "Overwriting app.py\n"
     ]
    }
   ],
   "source": [
    "%%writefile app.py\n",
    "import pickle\n",
    "import streamlit as st\n",
    "\n",
    "pickle_in=open('ClasificadorFraude.pkl','rb')\n",
    "clasificador=pickle.load(pickle_in)\n",
    "\n",
    "@st.cache()\n",
    "\n",
    "def prediccion(amount, merchant_M480139044 ,merchant_M980657600 ,category_es_sportsandtoys,merchant_M1198415165,merchant_M2122776122,category_es_hotelservices ,merchant_M2011752106,merchant_M3697346,merchant_M732195782):\n",
    "    \n",
    "    amount=amount\n",
    "    \n",
    "    if merchant_M480139044  ==\"SI\":\n",
    "        merchant_M480139044 =1\n",
    "    else:\n",
    "        merchant_M480139044 =0\n",
    "               \n",
    "    if merchant_M980657600  ==\"SI\":\n",
    "        merchant_M980657600 =1\n",
    "    else:\n",
    "        merchant_M980657600 =0\n",
    "               \n",
    "    if category_es_sportsandtoys  ==\"SI\":\n",
    "        category_es_sportsandtoys =1\n",
    "    else:\n",
    "        category_es_sportsandtoys =0\n",
    "               \n",
    "    if merchant_M1198415165  ==\"SI\":\n",
    "        merchant_M1198415165 =1\n",
    "    else:\n",
    "        merchant_M1198415165 =0\n",
    "               \n",
    "    if merchant_M2122776122  ==\"SI\":\n",
    "        merchant_M2122776122 =1\n",
    "    else:\n",
    "        merchant_M2122776122 =0\n",
    "               \n",
    "    if category_es_hotelservices  ==\"SI\":\n",
    "        category_es_hotelservices =1\n",
    "    else:\n",
    "        category_es_hotelservices =0\n",
    "               \n",
    "    if merchant_M2011752106  ==\"SI\":\n",
    "        merchant_M2011752106 =1\n",
    "    else:\n",
    "        merchant_M2011752106 =0\n",
    "               \n",
    "    if merchant_M3697346  ==\"SI\":\n",
    "        merchant_M3697346 =1\n",
    "    else:\n",
    "        merchant_M3697346 =0\n",
    "            \n",
    "    if merchant_M732195782 ==\"SI\":\n",
    "        merchant_M732195782 =1\n",
    "    else:\n",
    "        merchant_M732195782 =0\n",
    "        \n",
    "    prediccion = clasificador.predict([[amount, merchant_M480139044 ,merchant_M980657600 ,category_es_sportsandtoys,merchant_M1198415165,merchant_M2122776122,category_es_hotelservices,merchant_M2011752106,merchant_M3697346,merchant_M732195782]])\n",
    "    if predicion ==0:\n",
    "        Transaccion=\"Normal\"\n",
    "    else:\n",
    "        Transaccion=\"Critica\"\n",
    "    return Transaccion\n",
    "\n",
    "\n",
    "def main():\n",
    "    html_temp=\"\"\" \n",
    "    <div style =\"background-color:yellow;padding:13px\"> \n",
    "    <h1 style =\"color:black;text-align:center;\">Aplicacion Fraude</h1> \n",
    "    </div>\n",
    "    \"\"\"\n",
    "    st.markdown(html_temp, unsafe_allow_html = True)\n",
    "    \n",
    "    amount=st.number_input(\"Ingrese el Monto de la Transaccion\")\n",
    "    merchant_M480139044 =st.selectbox(\"Pertenece segmento de M480139044 \",(\"NO\",\"SI\"))\n",
    "    merchant_M980657600 =st.selectbox(\"Pertenece segmento de M980657600 \",(\"NO\",\"SI\"))\n",
    "    category_es_sportsandtoys =st.selectbox(\"Pertenece categoria sportsandtoys \",(\"NO\",\"SI\"))\n",
    "    merchant_M1198415165 =st.selectbox(\"Pertenece segmento de M1198415165 \",(\"NO\",\"SI\"))\n",
    "    merchant_M2122776122 =st.selectbox(\"Pertenece segmento de M2122776122\",(\"NO\",\"SI\"))\n",
    "    category_es_hotelservices=st.selectbox(\"Pertenece hotelservices\",(\"NO\",\"SI\"))\n",
    "    merchant_M2011752106 =st.selectbox(\"Pertenece segmento de M2011752106 \",(\"NO\",\"SI\"))\n",
    "    merchant_M3697346 =st.selectbox(\"Pertenece segmento de M3697346\",(\"NO\",\"SI\"))\n",
    "    merchant_M732195782 =st.selectbox(\"Pertenece segmento de M732195782 \",(\"NO\",\"SI\"))\n",
    "    resultado =\"\"\n",
    "               \n",
    "if st.button(\"Predict\"): \n",
    "        resultado = prediccion(amount,merchant_M480139044,merchant_M980657600,category_es_sportsandtoys,merchant_M1198415165,merchant_M2122776122,category_es_hotelservices,merchant_M2011752106,merchant_M3697346,merchant_M732195782) \n",
    "        st.success('Your loan is {}'.format(resultado))\n",
    "\n",
    "if __name__=='__main__': \n",
    "    main()\n",
    "    \n",
    "\n"
   ]
  },
  {
   "cell_type": "code",
   "execution_count": null,
   "id": "d0ec3091",
   "metadata": {},
   "outputs": [],
   "source": []
  },
  {
   "cell_type": "code",
   "execution_count": null,
   "id": "17e27073",
   "metadata": {},
   "outputs": [],
   "source": []
  }
 ],
 "metadata": {
  "kernelspec": {
   "display_name": "Python 3",
   "language": "python",
   "name": "python3"
  },
  "language_info": {
   "codemirror_mode": {
    "name": "ipython",
    "version": 3
   },
   "file_extension": ".py",
   "mimetype": "text/x-python",
   "name": "python",
   "nbconvert_exporter": "python",
   "pygments_lexer": "ipython3",
   "version": "3.7.7"
  }
 },
 "nbformat": 4,
 "nbformat_minor": 5
}
