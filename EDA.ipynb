{
 "cells": [
  {
   "cell_type": "markdown",
   "id": "a4943c85",
   "metadata": {},
   "source": [
    "# Libs, Params and Data"
   ]
  },
  {
   "cell_type": "markdown",
   "id": "0f30bb43",
   "metadata": {},
   "source": [
    "## Libs"
   ]
  },
  {
   "cell_type": "code",
   "execution_count": 1,
   "id": "d42b3597",
   "metadata": {
    "ExecuteTime": {
     "end_time": "2022-08-22T20:09:19.113541Z",
     "start_time": "2022-08-22T20:09:17.163147Z"
    }
   },
   "outputs": [],
   "source": [
    "import os\n",
    "import pandas as pd\n",
    "pd.options.display.max_columns = 100\n",
    "import numpy as np\n",
    "import joblib\n",
    "import seaborn as sns  \n",
    "import altair as alt\n",
    "from itertools import product\n",
    "from tqdm.notebook import tqdm"
   ]
  },
  {
   "cell_type": "code",
   "execution_count": 2,
   "id": "33fc9859",
   "metadata": {
    "ExecuteTime": {
     "end_time": "2022-08-22T20:09:23.296382Z",
     "start_time": "2022-08-22T20:09:23.186778Z"
    }
   },
   "outputs": [],
   "source": [
    "from sklearn.model_selection import (train_test_split, GridSearchCV, \n",
    "                                     RepeatedStratifiedKFold, RepeatedKFold,\n",
    "                                     StratifiedShuffleSplit, LeaveOneOut,\n",
    "                                     cross_val_score)"
   ]
  },
  {
   "cell_type": "code",
   "execution_count": 3,
   "id": "14736ef1",
   "metadata": {
    "ExecuteTime": {
     "end_time": "2022-08-22T20:09:28.389047Z",
     "start_time": "2022-08-22T20:09:27.881213Z"
    }
   },
   "outputs": [
    {
     "ename": "ModuleNotFoundError",
     "evalue": "No module named 'imblearn'",
     "output_type": "error",
     "traceback": [
      "\u001b[1;31m---------------------------------------------------------------------------\u001b[0m",
      "\u001b[1;31mModuleNotFoundError\u001b[0m                       Traceback (most recent call last)",
      "\u001b[1;32m~\\AppData\\Local\\Temp/ipykernel_1256/3844306440.py\u001b[0m in \u001b[0;36m<module>\u001b[1;34m\u001b[0m\n\u001b[0;32m      1\u001b[0m \u001b[1;31m#from imblearn.ensemble import BalancedRandomForestClassifier\u001b[0m\u001b[1;33m\u001b[0m\u001b[1;33m\u001b[0m\u001b[0m\n\u001b[1;32m----> 2\u001b[1;33m \u001b[1;32mfrom\u001b[0m \u001b[0mimblearn\u001b[0m \u001b[1;32mimport\u001b[0m \u001b[0mBalancedRandomForestClassifier\u001b[0m\u001b[1;33m\u001b[0m\u001b[1;33m\u001b[0m\u001b[0m\n\u001b[0m",
      "\u001b[1;31mModuleNotFoundError\u001b[0m: No module named 'imblearn'"
     ]
    }
   ],
   "source": [
    "#from imblearn.ensemble import BalancedRandomForestClassifier\n",
    "from imblearn import BalancedRandomForestClassifier"
   ]
  },
  {
   "cell_type": "code",
   "execution_count": 9,
   "id": "0619639e",
   "metadata": {
    "ExecuteTime": {
     "end_time": "2022-08-19T19:43:29.838948Z",
     "start_time": "2022-08-19T19:43:29.413361Z"
    },
    "collapsed": true
   },
   "outputs": [
    {
     "ename": "ModuleNotFoundError",
     "evalue": "No module named 'imblearn'",
     "output_type": "error",
     "traceback": [
      "\u001b[1;31m---------------------------------------------------------------------------\u001b[0m",
      "\u001b[1;31mModuleNotFoundError\u001b[0m                       Traceback (most recent call last)",
      "\u001b[1;32m~\\AppData\\Local\\Temp/ipykernel_9100/4214888372.py\u001b[0m in \u001b[0;36m<module>\u001b[1;34m\u001b[0m\n\u001b[0;32m      1\u001b[0m \u001b[1;31m# Import local utils\u001b[0m\u001b[1;33m\u001b[0m\u001b[1;33m\u001b[0m\u001b[0m\n\u001b[1;32m----> 2\u001b[1;33m from utils import (rf_feat_importance, plot_fi,\n\u001b[0m\u001b[0;32m      3\u001b[0m                    \u001b[0mcluster_columns\u001b[0m\u001b[1;33m,\u001b[0m \u001b[0mreport_AUC\u001b[0m\u001b[1;33m,\u001b[0m\u001b[1;33m\u001b[0m\u001b[1;33m\u001b[0m\u001b[0m\n\u001b[0;32m      4\u001b[0m                    \u001b[0mtest_eval_repetitions\u001b[0m\u001b[1;33m,\u001b[0m\u001b[1;33m\u001b[0m\u001b[1;33m\u001b[0m\u001b[0m\n\u001b[0;32m      5\u001b[0m                    \u001b[0mplot_rocs_from_multiple_runs\u001b[0m\u001b[1;33m,\u001b[0m\u001b[1;33m\u001b[0m\u001b[1;33m\u001b[0m\u001b[0m\n",
      "\u001b[1;32mC:\\Repositorios\\Colex-Master\\utils.py\u001b[0m in \u001b[0;36m<module>\u001b[1;34m\u001b[0m\n\u001b[0;32m     18\u001b[0m \u001b[1;32mfrom\u001b[0m \u001b[0msklearn\u001b[0m\u001b[1;33m.\u001b[0m\u001b[0mensemble\u001b[0m \u001b[1;32mimport\u001b[0m \u001b[0mRandomForestClassifier\u001b[0m\u001b[1;33m\u001b[0m\u001b[1;33m\u001b[0m\u001b[0m\n\u001b[0;32m     19\u001b[0m \u001b[1;33m\u001b[0m\u001b[0m\n\u001b[1;32m---> 20\u001b[1;33m \u001b[1;32mfrom\u001b[0m \u001b[0mimblearn\u001b[0m\u001b[1;33m.\u001b[0m\u001b[0mensemble\u001b[0m \u001b[1;32mimport\u001b[0m \u001b[0mBalancedRandomForestClassifier\u001b[0m\u001b[1;33m\u001b[0m\u001b[1;33m\u001b[0m\u001b[0m\n\u001b[0m\u001b[0;32m     21\u001b[0m \u001b[1;33m\u001b[0m\u001b[0m\n\u001b[0;32m     22\u001b[0m \u001b[1;32mfrom\u001b[0m \u001b[0mtreeinterpreter\u001b[0m \u001b[1;32mimport\u001b[0m \u001b[0mtreeinterpreter\u001b[0m\u001b[1;33m\u001b[0m\u001b[1;33m\u001b[0m\u001b[0m\n",
      "\u001b[1;31mModuleNotFoundError\u001b[0m: No module named 'imblearn'"
     ]
    }
   ],
   "source": [
    "# Import local utils\n",
    "from utils import (rf_feat_importance, plot_fi,\n",
    "                   cluster_columns, report_AUC,\n",
    "                   test_eval_repetitions,\n",
    "                   plot_rocs_from_multiple_runs,\n",
    "                   simple_altair_bar_chart,\n",
    "                   build_partial_dep_df,\n",
    "                   partial_dep_graph,\n",
    "                   get_oob,extract_AUC_from_trees,\n",
    "                   plot_AUC_by_num_trees,\n",
    "                   waterfall_from_model_and_row,\n",
    "                   plot_roc_curve_with_baseline,\n",
    "                   get_oob_cv_balancedRF)\n",
    "\n",
    "import seaborn as sns  \n",
    "import matplotlib.pyplot as plt\n",
    "\n",
    "%load_ext autoreload\n",
    "%autoreload 2"
   ]
  },
  {
   "cell_type": "code",
   "execution_count": 10,
   "id": "0339089c",
   "metadata": {
    "ExecuteTime": {
     "end_time": "2022-08-19T19:46:19.269453Z",
     "start_time": "2022-08-19T19:46:17.428085Z"
    }
   },
   "outputs": [
    {
     "name": "stdout",
     "output_type": "stream",
     "text": [
      "Requirement already satisfied: imbalanced-learn in c:\\users\\ducatano\\.conda\\envs\\new_env\\lib\\site-packages (0.6.2)\n",
      "Requirement already satisfied: scikit-learn>=0.22 in c:\\users\\ducatano\\.conda\\envs\\new_env\\lib\\site-packages (from imbalanced-learn) (0.22.2.post1)\n",
      "Requirement already satisfied: scipy>=0.17 in c:\\users\\ducatano\\.conda\\envs\\new_env\\lib\\site-packages (from imbalanced-learn) (1.4.1)\n",
      "Requirement already satisfied: joblib>=0.11 in c:\\users\\ducatano\\.conda\\envs\\new_env\\lib\\site-packages (from imbalanced-learn) (0.14.1)\n",
      "Requirement already satisfied: numpy>=1.11 in c:\\users\\ducatano\\.conda\\envs\\new_env\\lib\\site-packages (from imbalanced-learn) (1.18.5)\n",
      "Could not fetch URL https://pypi.org/simple/pip/: There was a problem confirming the ssl certificate: HTTPSConnectionPool(host='pypi.org', port=443): Max retries exceeded with url: /simple/pip/ (Caused by SSLError(SSLEOFError(8, 'EOF occurred in violation of protocol (_ssl.c:719)'),)) - skipping\n"
     ]
    },
    {
     "name": "stderr",
     "output_type": "stream",
     "text": [
      "DEPRECATION: Python 3.5 reached the end of its life on September 13th, 2020. Please upgrade your Python as Python 3.5 is no longer maintained. pip 21.0 will drop support for Python 3.5 in January 2021. pip 21.0 will remove support for this functionality.\n"
     ]
    }
   ],
   "source": [
    "!pip install imbalanced-learn"
   ]
  },
  {
   "cell_type": "markdown",
   "id": "85cae010",
   "metadata": {},
   "source": [
    "## Utils"
   ]
  },
  {
   "cell_type": "code",
   "execution_count": 4,
   "id": "3c971495",
   "metadata": {
    "ExecuteTime": {
     "end_time": "2022-08-22T20:09:57.501679Z",
     "start_time": "2022-08-22T20:09:57.482694Z"
    }
   },
   "outputs": [],
   "source": [
    "def plot_bars_percent_firstk(df, colname, title=None, k=None, other='Otros', show_text=True):\n",
    "    if not title:\n",
    "        title = f'Top {k} Frequency by {colname}'\n",
    "    to_keep = df.groupby(colname, dropna=False).size().sort_values(ascending=False)\n",
    "    if k:\n",
    "        to_keep = to_keep.head(k)\n",
    "    to_keep = to_keep.index.tolist()\n",
    "    df_ = df.copy()\n",
    "    df_[colname] = df[colname].map(dict(zip(to_keep,to_keep))).fillna(other)\n",
    "    df_groupped = (df_\n",
    "     .groupby(colname)\n",
    "     .size()\n",
    "     .reset_index(name='count'))\n",
    "    return plot_bars_percent_groupped(df_groupped=df_groupped, colname=colname, \n",
    "                                      title=title, show_text=show_text, sort=True)\n",
    "\n",
    "def plot_bars_percent_groupped(df_groupped, colname, title, color_colname=None, show_text=True, \n",
    "                                count_col='count', rot=False, legend=None, sort=False):\n",
    "    # Without color_colname\n",
    "    if not color_colname:\n",
    "        color_colname = colname\n",
    "    \n",
    "    color = alt.Color(color_colname+':N', title=legend)\n",
    "    y_data = alt.Y(colname+':N')\n",
    "    if sort:\n",
    "        y_data = alt.Y(colname+':N', sort='-x')\n",
    "        \n",
    "    df_to_show = (df_groupped\n",
    "     .assign(percent = lambda x: 100*x[count_col]/x[count_col].sum())\n",
    "     .round(2)\n",
    "    )\n",
    "    \n",
    "    if rot:\n",
    "        aux = colname\n",
    "        colname = color_colname\n",
    "        color_colname = aux\n",
    "    \n",
    "    base = alt.Chart(df_to_show).encode(\n",
    "        y = y_data,\n",
    "        x = count_col\n",
    "    )\n",
    "    \n",
    "    bars = base.mark_bar().encode(\n",
    "        color = color,\n",
    "        tooltip = [colname, count_col, 'percent']\n",
    "    ).properties(\n",
    "        title = title\n",
    "    )\n",
    "    \n",
    "    if show_text:\n",
    "        text = base.mark_text(dx=14, dy=1, color='black').encode(\n",
    "            text=alt.Text('percent:Q', format='.1f')\n",
    "        )\n",
    "        bars = bars + text\n",
    "\n",
    "        \n",
    "    return bars\n",
    "\n",
    "def plots_bar_custom(df_, colname, score_col, title, map_scale=None, color_colname=None, show_text=False, \n",
    "                     count_col='count', rot=False, legend=None):\n",
    "    # Without color_colname\n",
    "    if not color_colname:\n",
    "        color_colname = colname\n",
    "        \n",
    "    # Without map_scale\n",
    "    if not map_scale:\n",
    "        map_scale = {\n",
    "            0: '0-99',\n",
    "            100: '100-199',\n",
    "            200: '200-299',\n",
    "            300: '300-399',\n",
    "            400: '400-499',\n",
    "            500: '500-599',\n",
    "            600: '600-699',\n",
    "            700: '700-799',\n",
    "            800: '800-899',\n",
    "            900: '900-1000',\n",
    "        }\n",
    "        \n",
    "    dt_to_show = df_\n",
    "    dt_to_show[colname] = 100*(dt_to_show[score_col]/100).astype(int)\n",
    "    dt_to_show = dt_to_show.copy()\n",
    "    dt_to_show.loc[dt_to_show[colname]==1000, colname] = 900\n",
    "    dt_to_show[colname] = dt_to_show[colname].map(map_scale)\n",
    "    if colname==color_colname:\n",
    "        dt_to_show = (dt_to_show\n",
    "         .groupby([colname], dropna=False)\n",
    "         .size()\n",
    "         .reset_index(name='count')\n",
    "        )\n",
    "    else:\n",
    "        dt_to_show = (dt_to_show\n",
    "         .groupby([colname,color_colname], dropna=False)\n",
    "         .size()\n",
    "         .reset_index(name='count')\n",
    "        )\n",
    "        \n",
    "    dt_to_show = (pd.DataFrame\n",
    "     .from_dict(map_scale, orient='index', columns=[colname])\n",
    "     .reset_index()\n",
    "     .merge(dt_to_show,on=colname, how='left')\n",
    "     .fillna(0))\n",
    "    \n",
    "    return plot_bars_percent_groupped(dt_to_show, colname, title, color_colname, \n",
    "                                       show_text, count_col, rot, legend=legend)\n"
   ]
  },
  {
   "cell_type": "markdown",
   "id": "40f6a902",
   "metadata": {},
   "source": [
    "## Params"
   ]
  },
  {
   "cell_type": "code",
   "execution_count": null,
   "id": "6b633262",
   "metadata": {
    "ExecuteTime": {
     "end_time": "2022-08-19T16:42:11.099240Z",
     "start_time": "2022-08-19T16:42:10.911298Z"
    }
   },
   "outputs": [],
   "source": [
    "from IPython.display import HTML\n",
    "HTML('''<script>\n",
    "code_show=true; \n",
    "function code_toggle() {\n",
    " if (code_show){\n",
    " $('div.input').hide();\n",
    " } else {\n",
    " $('div.input').show();\n",
    " }\n",
    " code_show = !code_show\n",
    "} \n",
    "$( document ).ready(code_toggle);\n",
    "</script>\n",
    "The raw code for this IPython notebook is by default hidden for easier reading.\n",
    "To toggle on/off the raw code, click <a href=\"javascript:code_toggle()\">here</a>.''')"
   ]
  },
  {
   "cell_type": "markdown",
   "id": "789fcef3",
   "metadata": {},
   "source": [
    "## Data"
   ]
  },
  {
   "cell_type": "markdown",
   "id": "111fc2c1",
   "metadata": {},
   "source": [
    "Carguemos los datos de los bloqueos y desbloqueos"
   ]
  },
  {
   "cell_type": "code",
   "execution_count": 5,
   "id": "80de732c",
   "metadata": {
    "ExecuteTime": {
     "end_time": "2022-08-22T21:03:02.567958Z",
     "start_time": "2022-08-22T21:03:02.115818Z"
    }
   },
   "outputs": [
    {
     "data": {
      "text/plain": [
       "(38134, 12)"
      ]
     },
     "execution_count": 5,
     "metadata": {},
     "output_type": "execute_result"
    }
   ],
   "source": [
    "bloq_desbloq = joblib.load('bloqueos_desbloqueos_obj.joblib')\n",
    "bloq_desbloq['fecha_hora'] = pd.to_datetime(bloq_desbloq.FECHA_INGRESO.dt.strftime(\"%Y-%m-%d\") + \n",
    "                                            ' ' +\n",
    "                                            bloq_desbloq.HORA_INGRESO.dt.strftime(\"%H:%M:%S\") )\n",
    "bloq_desbloq.shape"
   ]
  },
  {
   "cell_type": "markdown",
   "id": "7ac8b125",
   "metadata": {},
   "source": [
    "Carguemos la tabla de novedades"
   ]
  },
  {
   "cell_type": "code",
   "execution_count": 6,
   "id": "b5c868a8",
   "metadata": {
    "ExecuteTime": {
     "end_time": "2022-08-22T21:03:05.520297Z",
     "start_time": "2022-08-22T21:03:05.240016Z"
    }
   },
   "outputs": [
    {
     "data": {
      "text/plain": [
       "(21935, 15)"
      ]
     },
     "execution_count": 6,
     "metadata": {},
     "output_type": "execute_result"
    }
   ],
   "source": [
    "novedades = joblib.load('novedades_obj.joblib')\n",
    "novedades['fecha_hora'] = pd.to_datetime(novedades.FECHA_DESBLOQUEO.dt.strftime(\"%Y-%m-%d\") + \n",
    "                                         ' ' +\n",
    "                                         novedades.HORA_DESBLOQUEO.dt.strftime(\"%H:%M:%S\") )\n",
    "novedades.shape"
   ]
  },
  {
   "cell_type": "markdown",
   "id": "29f6444a",
   "metadata": {},
   "source": [
    "Carguemos los datos de los colombianos en el exterior"
   ]
  },
  {
   "cell_type": "code",
   "execution_count": 22,
   "id": "3551dcb3",
   "metadata": {
    "ExecuteTime": {
     "end_time": "2022-08-22T21:13:21.629438Z",
     "start_time": "2022-08-22T21:13:19.115530Z"
    }
   },
   "outputs": [
    {
     "data": {
      "text/plain": [
       "(9424, 27)"
      ]
     },
     "execution_count": 22,
     "metadata": {},
     "output_type": "execute_result"
    }
   ],
   "source": [
    "df = pd.concat([\n",
    "    pd.read_excel('MuestraKonecta.xlsx', sheet_name='Enero2020-Marzo2021'),\n",
    "    pd.read_excel('MuestraKonecta.xlsx', sheet_name='Abril-Junio 2021 ')\n",
    "])\n",
    "# Convertamos a minutos por facilidad\n",
    "df['duracion_seg'] = df['DURACION']\n",
    "df['DURACION'] = df['DURACION']/60.0\n",
    "df.shape"
   ]
  },
  {
   "cell_type": "code",
   "execution_count": 24,
   "id": "c5023cb8",
   "metadata": {
    "ExecuteTime": {
     "end_time": "2022-08-22T21:13:31.882567Z",
     "start_time": "2022-08-22T21:13:29.733774Z"
    }
   },
   "outputs": [
    {
     "data": {
      "text/plain": [
       "(4415, 27)"
      ]
     },
     "execution_count": 24,
     "metadata": {},
     "output_type": "execute_result"
    }
   ],
   "source": [
    "df2 = pd.concat([\n",
    "    pd.read_excel('MuestraKonecta2.xlsx', sheet_name='Febrero 2022'),\n",
    "    pd.read_excel('MuestraKonecta2.xlsx', sheet_name='Marzo 2022'),\n",
    "    pd.read_excel('MuestraKonecta2.xlsx', sheet_name='Abril 2022'),\n",
    "    pd.read_excel('MuestraKonecta2.xlsx', sheet_name='Mayo 2022'),\n",
    "    pd.read_excel('MuestraKonecta2.xlsx', sheet_name='Junio 2022'),\n",
    "    pd.read_excel('MuestraKonecta2.xlsx', sheet_name='Julio 2022')\n",
    "])\n",
    "# Convertamos a minutos por facilidad\n",
    "df2['duracion_seg'] = df2['DURACION']\n",
    "df2['DURACION'] = df2['DURACION']/60.0\n",
    "df2.shape"
   ]
  },
  {
   "cell_type": "markdown",
   "id": "fbb82a16",
   "metadata": {},
   "source": [
    "Datos de Konecta con información de los asesores que contestan las llamdas, el código de desbloqueo y el tiempo que duró la llamada. Se tienen unos 9.4k de registros en un poco más de 17 meses (casi año y medio)"
   ]
  },
  {
   "cell_type": "code",
   "execution_count": 26,
   "id": "e319856c",
   "metadata": {
    "ExecuteTime": {
     "end_time": "2022-08-22T21:13:40.913545Z",
     "start_time": "2022-08-22T21:13:40.908699Z"
    }
   },
   "outputs": [
    {
     "data": {
      "text/plain": [
       "(3925,)"
      ]
     },
     "execution_count": 26,
     "metadata": {},
     "output_type": "execute_result"
    }
   ],
   "source": [
    "df.IDENTIFICACION.drop_duplicates().shape"
   ]
  },
  {
   "cell_type": "markdown",
   "id": "8d80f29b",
   "metadata": {},
   "source": [
    "Estos registros corresponden a 7939 clientes diferentes."
   ]
  },
  {
   "cell_type": "code",
   "execution_count": 27,
   "id": "46470b62",
   "metadata": {
    "ExecuteTime": {
     "end_time": "2022-08-22T21:13:47.320930Z",
     "start_time": "2022-08-22T21:13:47.277732Z"
    }
   },
   "outputs": [],
   "source": [
    "ips = joblib.load('ips_obj.joblib')"
   ]
  },
  {
   "cell_type": "markdown",
   "id": "2f85bb83",
   "metadata": {},
   "source": [
    "ITC sin país"
   ]
  },
  {
   "cell_type": "code",
   "execution_count": 28,
   "id": "5b806faf",
   "metadata": {
    "ExecuteTime": {
     "end_time": "2022-08-22T21:13:53.684404Z",
     "start_time": "2022-08-22T21:13:51.157030Z"
    }
   },
   "outputs": [],
   "source": [
    "ITC_Ips = joblib.load('ITC_Ips.joblib')\n",
    "ITC_Ips['country'] = ITC_Ips.country.str.replace('\\r','',regex=False)\n",
    "ITC_Ips.loc[ITC_Ips.country=='','country'] = 'None'\n",
    "# La siguiente corrección de restar 5 horas es necesaria debido a como subieron los datos\n",
    "# de datetime a la LZ usando Sparky\n",
    "# ITC_Ips['fecha_hora_llamada'] = ITC_Ips['fecha_hora_llamada'] - pd.DateOffset(hours=5)\n",
    "ITC_Ips['fecha_hora_llamada'] = ITC_Ips['fecha_hora_llamada']"
   ]
  },
  {
   "cell_type": "markdown",
   "id": "997c67c5",
   "metadata": {},
   "source": [
    "ITC etiquetado con país"
   ]
  },
  {
   "cell_type": "code",
   "execution_count": 29,
   "id": "57943451",
   "metadata": {
    "ExecuteTime": {
     "end_time": "2022-08-22T21:13:55.567916Z",
     "start_time": "2022-08-22T21:13:54.309129Z"
    }
   },
   "outputs": [
    {
     "data": {
      "text/plain": [
       "(1443892, 15)"
      ]
     },
     "execution_count": 29,
     "metadata": {},
     "output_type": "execute_result"
    }
   ],
   "source": [
    "ITC_etiquetado = (ITC_Ips\n",
    " .merge(df[['FECHA','IDENTIFICACION','DESCCOD']]\n",
    "        .rename(columns={'FECHA':'fecha_hora_llamada',\n",
    "                         'IDENTIFICACION':'identificacion',\n",
    "                         'DESCCOD':'CodigoDesbloqueo'}),\n",
    "        on=['identificacion','fecha_hora_llamada'], how='right')\n",
    ")\n",
    "ITC_etiquetado.shape"
   ]
  },
  {
   "cell_type": "markdown",
   "id": "82223a5e",
   "metadata": {},
   "source": [
    "# EDA"
   ]
  },
  {
   "cell_type": "markdown",
   "id": "bcb9acd2",
   "metadata": {},
   "source": [
    "## Etiquetado Inicial"
   ]
  },
  {
   "cell_type": "code",
   "execution_count": 30,
   "id": "9bf90e1a",
   "metadata": {
    "ExecuteTime": {
     "end_time": "2022-08-22T21:14:19.980569Z",
     "start_time": "2022-08-22T21:14:19.947069Z"
    }
   },
   "outputs": [
    {
     "data": {
      "text/html": [
       "\n",
       "<div id=\"altair-viz-bd8f274ea75c44f9b348e31d0d1bddf9\"></div>\n",
       "<script type=\"text/javascript\">\n",
       "  var VEGA_DEBUG = (typeof VEGA_DEBUG == \"undefined\") ? {} : VEGA_DEBUG;\n",
       "  (function(spec, embedOpt){\n",
       "    let outputDiv = document.currentScript.previousElementSibling;\n",
       "    if (outputDiv.id !== \"altair-viz-bd8f274ea75c44f9b348e31d0d1bddf9\") {\n",
       "      outputDiv = document.getElementById(\"altair-viz-bd8f274ea75c44f9b348e31d0d1bddf9\");\n",
       "    }\n",
       "    const paths = {\n",
       "      \"vega\": \"https://cdn.jsdelivr.net/npm//vega@5?noext\",\n",
       "      \"vega-lib\": \"https://cdn.jsdelivr.net/npm//vega-lib?noext\",\n",
       "      \"vega-lite\": \"https://cdn.jsdelivr.net/npm//vega-lite@4.17.0?noext\",\n",
       "      \"vega-embed\": \"https://cdn.jsdelivr.net/npm//vega-embed@6?noext\",\n",
       "    };\n",
       "\n",
       "    function maybeLoadScript(lib, version) {\n",
       "      var key = `${lib.replace(\"-\", \"\")}_version`;\n",
       "      return (VEGA_DEBUG[key] == version) ?\n",
       "        Promise.resolve(paths[lib]) :\n",
       "        new Promise(function(resolve, reject) {\n",
       "          var s = document.createElement('script');\n",
       "          document.getElementsByTagName(\"head\")[0].appendChild(s);\n",
       "          s.async = true;\n",
       "          s.onload = () => {\n",
       "            VEGA_DEBUG[key] = version;\n",
       "            return resolve(paths[lib]);\n",
       "          };\n",
       "          s.onerror = () => reject(`Error loading script: ${paths[lib]}`);\n",
       "          s.src = paths[lib];\n",
       "        });\n",
       "    }\n",
       "\n",
       "    function showError(err) {\n",
       "      outputDiv.innerHTML = `<div class=\"error\" style=\"color:red;\">${err}</div>`;\n",
       "      throw err;\n",
       "    }\n",
       "\n",
       "    function displayChart(vegaEmbed) {\n",
       "      vegaEmbed(outputDiv, spec, embedOpt)\n",
       "        .catch(err => showError(`Javascript Error: ${err.message}<br>This usually means there's a typo in your chart specification. See the javascript console for the full traceback.`));\n",
       "    }\n",
       "\n",
       "    if(typeof define === \"function\" && define.amd) {\n",
       "      requirejs.config({paths});\n",
       "      require([\"vega-embed\"], displayChart, err => showError(`Error loading script: ${err.message}`));\n",
       "    } else {\n",
       "      maybeLoadScript(\"vega\", \"5\")\n",
       "        .then(() => maybeLoadScript(\"vega-lite\", \"4.17.0\"))\n",
       "        .then(() => maybeLoadScript(\"vega-embed\", \"6\"))\n",
       "        .catch(showError)\n",
       "        .then(() => displayChart(vegaEmbed));\n",
       "    }\n",
       "  })({\"config\": {\"view\": {\"continuousWidth\": 400, \"continuousHeight\": 300}}, \"layer\": [{\"mark\": \"bar\", \"encoding\": {\"color\": {\"field\": \"DESCCOD\", \"title\": null, \"type\": \"nominal\"}, \"tooltip\": [{\"field\": \"DESCCOD\", \"type\": \"nominal\"}, {\"field\": \"count\", \"type\": \"quantitative\"}, {\"field\": \"percent\", \"type\": \"quantitative\"}], \"x\": {\"field\": \"count\", \"type\": \"quantitative\"}, \"y\": {\"field\": \"DESCCOD\", \"sort\": \"-x\", \"type\": \"nominal\"}}, \"title\": \"Frecuencia Tipos de Desbloqueos\"}, {\"mark\": {\"type\": \"text\", \"color\": \"black\", \"dx\": 14, \"dy\": 1}, \"encoding\": {\"text\": {\"field\": \"percent\", \"format\": \".1f\", \"type\": \"quantitative\"}, \"x\": {\"field\": \"count\", \"type\": \"quantitative\"}, \"y\": {\"field\": \"DESCCOD\", \"sort\": \"-x\", \"type\": \"nominal\"}}}], \"data\": {\"name\": \"data-c165ac7fa0a245d13267e94d6972e399\"}, \"$schema\": \"https://vega.github.io/schema/vega-lite/v4.17.0.json\", \"datasets\": {\"data-c165ac7fa0a245d13267e94d6972e399\": [{\"DESCCOD\": \"Desbloqueo con soportes\", \"count\": 415, \"percent\": 4.4}, {\"DESCCOD\": \"Desbloqueo exitoso\", \"count\": 6923, \"percent\": 73.46}, {\"DESCCOD\": \"Desbloqueo no exitoso\", \"count\": 1001, \"percent\": 10.62}, {\"DESCCOD\": \"Desbloqueo pendiente de validacion \", \"count\": 983, \"percent\": 10.43}, {\"DESCCOD\": \"Deteccion suplantacion \", \"count\": 102, \"percent\": 1.08}]}}, {\"mode\": \"vega-lite\"});\n",
       "</script>"
      ],
      "text/plain": [
       "alt.LayerChart(...)"
      ]
     },
     "execution_count": 30,
     "metadata": {},
     "output_type": "execute_result"
    }
   ],
   "source": [
    "plot_bars_percent_firstk(df=df, colname='DESCCOD',\n",
    "                         title='Frecuencia Tipos de Desbloqueos')"
   ]
  },
  {
   "cell_type": "code",
   "execution_count": 31,
   "id": "3b707fa4",
   "metadata": {
    "ExecuteTime": {
     "end_time": "2022-08-22T21:14:24.834673Z",
     "start_time": "2022-08-22T21:14:24.805498Z"
    }
   },
   "outputs": [
    {
     "data": {
      "text/html": [
       "\n",
       "<div id=\"altair-viz-1d69b712f0374370bdad0c68e73a35bb\"></div>\n",
       "<script type=\"text/javascript\">\n",
       "  var VEGA_DEBUG = (typeof VEGA_DEBUG == \"undefined\") ? {} : VEGA_DEBUG;\n",
       "  (function(spec, embedOpt){\n",
       "    let outputDiv = document.currentScript.previousElementSibling;\n",
       "    if (outputDiv.id !== \"altair-viz-1d69b712f0374370bdad0c68e73a35bb\") {\n",
       "      outputDiv = document.getElementById(\"altair-viz-1d69b712f0374370bdad0c68e73a35bb\");\n",
       "    }\n",
       "    const paths = {\n",
       "      \"vega\": \"https://cdn.jsdelivr.net/npm//vega@5?noext\",\n",
       "      \"vega-lib\": \"https://cdn.jsdelivr.net/npm//vega-lib?noext\",\n",
       "      \"vega-lite\": \"https://cdn.jsdelivr.net/npm//vega-lite@4.17.0?noext\",\n",
       "      \"vega-embed\": \"https://cdn.jsdelivr.net/npm//vega-embed@6?noext\",\n",
       "    };\n",
       "\n",
       "    function maybeLoadScript(lib, version) {\n",
       "      var key = `${lib.replace(\"-\", \"\")}_version`;\n",
       "      return (VEGA_DEBUG[key] == version) ?\n",
       "        Promise.resolve(paths[lib]) :\n",
       "        new Promise(function(resolve, reject) {\n",
       "          var s = document.createElement('script');\n",
       "          document.getElementsByTagName(\"head\")[0].appendChild(s);\n",
       "          s.async = true;\n",
       "          s.onload = () => {\n",
       "            VEGA_DEBUG[key] = version;\n",
       "            return resolve(paths[lib]);\n",
       "          };\n",
       "          s.onerror = () => reject(`Error loading script: ${paths[lib]}`);\n",
       "          s.src = paths[lib];\n",
       "        });\n",
       "    }\n",
       "\n",
       "    function showError(err) {\n",
       "      outputDiv.innerHTML = `<div class=\"error\" style=\"color:red;\">${err}</div>`;\n",
       "      throw err;\n",
       "    }\n",
       "\n",
       "    function displayChart(vegaEmbed) {\n",
       "      vegaEmbed(outputDiv, spec, embedOpt)\n",
       "        .catch(err => showError(`Javascript Error: ${err.message}<br>This usually means there's a typo in your chart specification. See the javascript console for the full traceback.`));\n",
       "    }\n",
       "\n",
       "    if(typeof define === \"function\" && define.amd) {\n",
       "      requirejs.config({paths});\n",
       "      require([\"vega-embed\"], displayChart, err => showError(`Error loading script: ${err.message}`));\n",
       "    } else {\n",
       "      maybeLoadScript(\"vega\", \"5\")\n",
       "        .then(() => maybeLoadScript(\"vega-lite\", \"4.17.0\"))\n",
       "        .then(() => maybeLoadScript(\"vega-embed\", \"6\"))\n",
       "        .catch(showError)\n",
       "        .then(() => displayChart(vegaEmbed));\n",
       "    }\n",
       "  })({\"config\": {\"view\": {\"continuousWidth\": 400, \"continuousHeight\": 300}}, \"layer\": [{\"mark\": \"bar\", \"encoding\": {\"color\": {\"field\": \"DESCCOD\", \"title\": null, \"type\": \"nominal\"}, \"tooltip\": [{\"field\": \"DESCCOD\", \"type\": \"nominal\"}, {\"field\": \"count\", \"type\": \"quantitative\"}, {\"field\": \"percent\", \"type\": \"quantitative\"}], \"x\": {\"field\": \"count\", \"type\": \"quantitative\"}, \"y\": {\"field\": \"DESCCOD\", \"sort\": \"-x\", \"type\": \"nominal\"}}, \"title\": \"Frecuencia Tipos de Desbloqueos\"}, {\"mark\": {\"type\": \"text\", \"color\": \"black\", \"dx\": 14, \"dy\": 1}, \"encoding\": {\"text\": {\"field\": \"percent\", \"format\": \".1f\", \"type\": \"quantitative\"}, \"x\": {\"field\": \"count\", \"type\": \"quantitative\"}, \"y\": {\"field\": \"DESCCOD\", \"sort\": \"-x\", \"type\": \"nominal\"}}}], \"data\": {\"name\": \"data-f54534ee71c6316743deec63aaffbb31\"}, \"$schema\": \"https://vega.github.io/schema/vega-lite/v4.17.0.json\", \"datasets\": {\"data-f54534ee71c6316743deec63aaffbb31\": [{\"DESCCOD\": \"Desbloqueo con soportes\", \"count\": 452, \"percent\": 10.24}, {\"DESCCOD\": \"Desbloqueo exitoso\", \"count\": 2900, \"percent\": 65.69}, {\"DESCCOD\": \"Desbloqueo pendiente de validacion \", \"count\": 383, \"percent\": 8.67}, {\"DESCCOD\": \"Deteccion suplantacion \", \"count\": 88, \"percent\": 1.99}, {\"DESCCOD\": \"Llamada consulta Sfisica\", \"count\": 592, \"percent\": 13.41}]}}, {\"mode\": \"vega-lite\"});\n",
       "</script>"
      ],
      "text/plain": [
       "alt.LayerChart(...)"
      ]
     },
     "execution_count": 31,
     "metadata": {},
     "output_type": "execute_result"
    }
   ],
   "source": [
    "plot_bars_percent_firstk(df=df2, colname='DESCCOD',\n",
    "                         title='Frecuencia Tipos de Desbloqueos')"
   ]
  },
  {
   "cell_type": "markdown",
   "id": "7b6b9f1c",
   "metadata": {},
   "source": [
    "Se puede ver que la gran mayoría de llamadas terminan en desbloqueo. Solo el 10.62% termina en \"Desbloqueo no existoso\" y el 1.08% es reconocido como \"Detección suplatanción\""
   ]
  },
  {
   "cell_type": "markdown",
   "id": "930d5030",
   "metadata": {},
   "source": [
    "## Número de Llamadas en el Tiempo"
   ]
  },
  {
   "cell_type": "markdown",
   "id": "a3e9e935",
   "metadata": {},
   "source": [
    "### Por Día"
   ]
  },
  {
   "cell_type": "code",
   "execution_count": 32,
   "id": "d56e45b1",
   "metadata": {
    "ExecuteTime": {
     "end_time": "2022-08-22T21:14:50.297475Z",
     "start_time": "2022-08-22T21:14:50.260174Z"
    }
   },
   "outputs": [
    {
     "data": {
      "text/html": [
       "\n",
       "<div id=\"altair-viz-d8676918b24448c7abeaefaa3d46f973\"></div>\n",
       "<script type=\"text/javascript\">\n",
       "  var VEGA_DEBUG = (typeof VEGA_DEBUG == \"undefined\") ? {} : VEGA_DEBUG;\n",
       "  (function(spec, embedOpt){\n",
       "    let outputDiv = document.currentScript.previousElementSibling;\n",
       "    if (outputDiv.id !== \"altair-viz-d8676918b24448c7abeaefaa3d46f973\") {\n",
       "      outputDiv = document.getElementById(\"altair-viz-d8676918b24448c7abeaefaa3d46f973\");\n",
       "    }\n",
       "    const paths = {\n",
       "      \"vega\": \"https://cdn.jsdelivr.net/npm//vega@5?noext\",\n",
       "      \"vega-lib\": \"https://cdn.jsdelivr.net/npm//vega-lib?noext\",\n",
       "      \"vega-lite\": \"https://cdn.jsdelivr.net/npm//vega-lite@4.17.0?noext\",\n",
       "      \"vega-embed\": \"https://cdn.jsdelivr.net/npm//vega-embed@6?noext\",\n",
       "    };\n",
       "\n",
       "    function maybeLoadScript(lib, version) {\n",
       "      var key = `${lib.replace(\"-\", \"\")}_version`;\n",
       "      return (VEGA_DEBUG[key] == version) ?\n",
       "        Promise.resolve(paths[lib]) :\n",
       "        new Promise(function(resolve, reject) {\n",
       "          var s = document.createElement('script');\n",
       "          document.getElementsByTagName(\"head\")[0].appendChild(s);\n",
       "          s.async = true;\n",
       "          s.onload = () => {\n",
       "            VEGA_DEBUG[key] = version;\n",
       "            return resolve(paths[lib]);\n",
       "          };\n",
       "          s.onerror = () => reject(`Error loading script: ${paths[lib]}`);\n",
       "          s.src = paths[lib];\n",
       "        });\n",
       "    }\n",
       "\n",
       "    function showError(err) {\n",
       "      outputDiv.innerHTML = `<div class=\"error\" style=\"color:red;\">${err}</div>`;\n",
       "      throw err;\n",
       "    }\n",
       "\n",
       "    function displayChart(vegaEmbed) {\n",
       "      vegaEmbed(outputDiv, spec, embedOpt)\n",
       "        .catch(err => showError(`Javascript Error: ${err.message}<br>This usually means there's a typo in your chart specification. See the javascript console for the full traceback.`));\n",
       "    }\n",
       "\n",
       "    if(typeof define === \"function\" && define.amd) {\n",
       "      requirejs.config({paths});\n",
       "      require([\"vega-embed\"], displayChart, err => showError(`Error loading script: ${err.message}`));\n",
       "    } else {\n",
       "      maybeLoadScript(\"vega\", \"5\")\n",
       "        .then(() => maybeLoadScript(\"vega-lite\", \"4.17.0\"))\n",
       "        .then(() => maybeLoadScript(\"vega-embed\", \"6\"))\n",
       "        .catch(showError)\n",
       "        .then(() => displayChart(vegaEmbed));\n",
       "    }\n",
       "  })({\"config\": {\"view\": {\"continuousWidth\": 400, \"continuousHeight\": 300}}, \"layer\": [{\"mark\": \"line\", \"encoding\": {\"tooltip\": [{\"field\": \"FECHA\", \"type\": \"temporal\"}, {\"field\": \"count\", \"type\": \"quantitative\"}], \"x\": {\"field\": \"FECHA\", \"type\": \"temporal\"}, \"y\": {\"field\": \"count\", \"scale\": {\"domain\": [0, 140]}, \"type\": \"quantitative\"}}, \"title\": \"N\\u00famero de Llamadas por D\\u00eda\"}, {\"mark\": {\"type\": \"line\", \"color\": \"red\", \"size\": 1}, \"encoding\": {\"tooltip\": [{\"field\": \"FECHA\", \"type\": \"temporal\"}, {\"field\": \"count\", \"type\": \"quantitative\"}], \"x\": {\"field\": \"FECHA\", \"type\": \"temporal\"}, \"y\": {\"field\": \"count\", \"scale\": {\"domain\": [0, 140]}, \"type\": \"quantitative\"}}, \"title\": \"N\\u00famero de Llamadas por D\\u00eda\", \"transform\": [{\"loess\": \"count\", \"on\": \"FECHA\", \"bandwidth\": 0.05}]}], \"data\": {\"name\": \"data-cac91ec9ee96b6c883ed9775e28bcadb\"}, \"$schema\": \"https://vega.github.io/schema/vega-lite/v4.17.0.json\", \"datasets\": {\"data-cac91ec9ee96b6c883ed9775e28bcadb\": [{\"FECHA\": \"2020-01-01T00:00:00\", \"count\": 3}, {\"FECHA\": \"2020-01-02T00:00:00\", \"count\": 1}, {\"FECHA\": \"2020-01-03T00:00:00\", \"count\": 3}, {\"FECHA\": \"2020-01-04T00:00:00\", \"count\": 4}, {\"FECHA\": \"2020-01-05T00:00:00\", \"count\": 13}, {\"FECHA\": \"2020-01-06T00:00:00\", \"count\": 17}, {\"FECHA\": \"2020-01-07T00:00:00\", \"count\": 2}, {\"FECHA\": \"2020-01-08T00:00:00\", \"count\": 2}, {\"FECHA\": \"2020-01-09T00:00:00\", \"count\": 5}, {\"FECHA\": \"2020-01-10T00:00:00\", \"count\": 2}, {\"FECHA\": \"2020-01-11T00:00:00\", \"count\": 1}, {\"FECHA\": \"2020-01-12T00:00:00\", \"count\": 19}, {\"FECHA\": \"2020-01-13T00:00:00\", \"count\": 3}, {\"FECHA\": \"2020-01-14T00:00:00\", \"count\": 2}, {\"FECHA\": \"2020-01-15T00:00:00\", \"count\": 5}, {\"FECHA\": \"2020-01-16T00:00:00\", \"count\": 2}, {\"FECHA\": \"2020-01-17T00:00:00\", \"count\": 1}, {\"FECHA\": \"2020-01-18T00:00:00\", \"count\": 0}, {\"FECHA\": \"2020-01-19T00:00:00\", \"count\": 9}, {\"FECHA\": \"2020-01-20T00:00:00\", \"count\": 1}, {\"FECHA\": \"2020-01-21T00:00:00\", \"count\": 3}, {\"FECHA\": \"2020-01-22T00:00:00\", \"count\": 3}, {\"FECHA\": \"2020-01-23T00:00:00\", \"count\": 3}, {\"FECHA\": \"2020-01-24T00:00:00\", \"count\": 6}, {\"FECHA\": \"2020-01-25T00:00:00\", \"count\": 2}, {\"FECHA\": \"2020-01-26T00:00:00\", \"count\": 11}, {\"FECHA\": \"2020-01-27T00:00:00\", \"count\": 5}, {\"FECHA\": \"2020-01-28T00:00:00\", \"count\": 2}, {\"FECHA\": \"2020-01-29T00:00:00\", \"count\": 1}, {\"FECHA\": \"2020-01-30T00:00:00\", \"count\": 5}, {\"FECHA\": \"2020-01-31T00:00:00\", \"count\": 2}, {\"FECHA\": \"2020-02-01T00:00:00\", \"count\": 2}, {\"FECHA\": \"2020-02-02T00:00:00\", \"count\": 23}, {\"FECHA\": \"2020-02-03T00:00:00\", \"count\": 1}, {\"FECHA\": \"2020-02-04T00:00:00\", \"count\": 4}, {\"FECHA\": \"2020-02-05T00:00:00\", \"count\": 4}, {\"FECHA\": \"2020-02-06T00:00:00\", \"count\": 4}, {\"FECHA\": \"2020-02-07T00:00:00\", \"count\": 4}, {\"FECHA\": \"2020-02-08T00:00:00\", \"count\": 3}, {\"FECHA\": \"2020-02-09T00:00:00\", \"count\": 22}, {\"FECHA\": \"2020-02-10T00:00:00\", \"count\": 6}, {\"FECHA\": \"2020-02-11T00:00:00\", \"count\": 7}, {\"FECHA\": \"2020-02-12T00:00:00\", \"count\": 5}, {\"FECHA\": \"2020-02-13T00:00:00\", \"count\": 2}, {\"FECHA\": \"2020-02-14T00:00:00\", \"count\": 1}, {\"FECHA\": \"2020-02-15T00:00:00\", \"count\": 3}, {\"FECHA\": \"2020-02-16T00:00:00\", \"count\": 22}, {\"FECHA\": \"2020-02-17T00:00:00\", \"count\": 2}, {\"FECHA\": \"2020-02-18T00:00:00\", \"count\": 2}, {\"FECHA\": \"2020-02-19T00:00:00\", \"count\": 6}, {\"FECHA\": \"2020-02-20T00:00:00\", \"count\": 5}, {\"FECHA\": \"2020-02-21T00:00:00\", \"count\": 4}, {\"FECHA\": \"2020-02-22T00:00:00\", \"count\": 0}, {\"FECHA\": \"2020-02-23T00:00:00\", \"count\": 17}, {\"FECHA\": \"2020-02-24T00:00:00\", \"count\": 6}, {\"FECHA\": \"2020-02-25T00:00:00\", \"count\": 2}, {\"FECHA\": \"2020-02-26T00:00:00\", \"count\": 4}, {\"FECHA\": \"2020-02-27T00:00:00\", \"count\": 3}, {\"FECHA\": \"2020-02-28T00:00:00\", \"count\": 2}, {\"FECHA\": \"2020-02-29T00:00:00\", \"count\": 5}, {\"FECHA\": \"2020-03-01T00:00:00\", \"count\": 18}, {\"FECHA\": \"2020-03-02T00:00:00\", \"count\": 0}, {\"FECHA\": \"2020-03-03T00:00:00\", \"count\": 2}, {\"FECHA\": \"2020-03-04T00:00:00\", \"count\": 3}, {\"FECHA\": \"2020-03-05T00:00:00\", \"count\": 4}, {\"FECHA\": \"2020-03-06T00:00:00\", \"count\": 4}, {\"FECHA\": \"2020-03-07T00:00:00\", \"count\": 2}, {\"FECHA\": \"2020-03-08T00:00:00\", \"count\": 18}, {\"FECHA\": \"2020-03-09T00:00:00\", \"count\": 2}, {\"FECHA\": \"2020-03-10T00:00:00\", \"count\": 7}, {\"FECHA\": \"2020-03-11T00:00:00\", \"count\": 3}, {\"FECHA\": \"2020-03-12T00:00:00\", \"count\": 2}, {\"FECHA\": \"2020-03-13T00:00:00\", \"count\": 4}, {\"FECHA\": \"2020-03-14T00:00:00\", \"count\": 1}, {\"FECHA\": \"2020-03-15T00:00:00\", \"count\": 18}, {\"FECHA\": \"2020-03-16T00:00:00\", \"count\": 4}, {\"FECHA\": \"2020-03-17T00:00:00\", \"count\": 15}, {\"FECHA\": \"2020-03-18T00:00:00\", \"count\": 4}, {\"FECHA\": \"2020-03-19T00:00:00\", \"count\": 3}, {\"FECHA\": \"2020-03-20T00:00:00\", \"count\": 1}, {\"FECHA\": \"2020-03-21T00:00:00\", \"count\": 3}, {\"FECHA\": \"2020-03-22T00:00:00\", \"count\": 4}, {\"FECHA\": \"2020-03-23T00:00:00\", \"count\": 11}, {\"FECHA\": \"2020-03-24T00:00:00\", \"count\": 1}, {\"FECHA\": \"2020-03-25T00:00:00\", \"count\": 0}, {\"FECHA\": \"2020-03-26T00:00:00\", \"count\": 5}, {\"FECHA\": \"2020-03-27T00:00:00\", \"count\": 4}, {\"FECHA\": \"2020-03-28T00:00:00\", \"count\": 2}, {\"FECHA\": \"2020-03-29T00:00:00\", \"count\": 1}, {\"FECHA\": \"2020-03-30T00:00:00\", \"count\": 1}, {\"FECHA\": \"2020-03-31T00:00:00\", \"count\": 0}, {\"FECHA\": \"2020-04-01T00:00:00\", \"count\": 1}, {\"FECHA\": \"2020-04-02T00:00:00\", \"count\": 2}, {\"FECHA\": \"2020-04-03T00:00:00\", \"count\": 2}, {\"FECHA\": \"2020-04-04T00:00:00\", \"count\": 1}, {\"FECHA\": \"2020-04-05T00:00:00\", \"count\": 2}, {\"FECHA\": \"2020-04-06T00:00:00\", \"count\": 1}, {\"FECHA\": \"2020-04-07T00:00:00\", \"count\": 3}, {\"FECHA\": \"2020-04-08T00:00:00\", \"count\": 3}, {\"FECHA\": \"2020-04-09T00:00:00\", \"count\": 2}, {\"FECHA\": \"2020-04-10T00:00:00\", \"count\": 1}, {\"FECHA\": \"2020-04-11T00:00:00\", \"count\": 2}, {\"FECHA\": \"2020-04-12T00:00:00\", \"count\": 1}, {\"FECHA\": \"2020-04-13T00:00:00\", \"count\": 1}, {\"FECHA\": \"2020-04-14T00:00:00\", \"count\": 0}, {\"FECHA\": \"2020-04-15T00:00:00\", \"count\": 2}, {\"FECHA\": \"2020-04-16T00:00:00\", \"count\": 2}, {\"FECHA\": \"2020-04-17T00:00:00\", \"count\": 1}, {\"FECHA\": \"2020-04-18T00:00:00\", \"count\": 2}, {\"FECHA\": \"2020-04-19T00:00:00\", \"count\": 0}, {\"FECHA\": \"2020-04-20T00:00:00\", \"count\": 1}, {\"FECHA\": \"2020-04-21T00:00:00\", \"count\": 0}, {\"FECHA\": \"2020-04-22T00:00:00\", \"count\": 1}, {\"FECHA\": \"2020-04-23T00:00:00\", \"count\": 0}, {\"FECHA\": \"2020-04-24T00:00:00\", \"count\": 1}, {\"FECHA\": \"2020-04-25T00:00:00\", \"count\": 1}, {\"FECHA\": \"2020-04-26T00:00:00\", \"count\": 0}, {\"FECHA\": \"2020-04-27T00:00:00\", \"count\": 0}, {\"FECHA\": \"2020-04-28T00:00:00\", \"count\": 0}, {\"FECHA\": \"2020-04-29T00:00:00\", \"count\": 1}, {\"FECHA\": \"2020-04-30T00:00:00\", \"count\": 0}, {\"FECHA\": \"2020-05-01T00:00:00\", \"count\": 2}, {\"FECHA\": \"2020-05-02T00:00:00\", \"count\": 2}, {\"FECHA\": \"2020-05-03T00:00:00\", \"count\": 2}, {\"FECHA\": \"2020-05-04T00:00:00\", \"count\": 0}, {\"FECHA\": \"2020-05-05T00:00:00\", \"count\": 1}, {\"FECHA\": \"2020-05-06T00:00:00\", \"count\": 0}, {\"FECHA\": \"2020-05-07T00:00:00\", \"count\": 0}, {\"FECHA\": \"2020-05-08T00:00:00\", \"count\": 0}, {\"FECHA\": \"2020-05-09T00:00:00\", \"count\": 0}, {\"FECHA\": \"2020-05-10T00:00:00\", \"count\": 0}, {\"FECHA\": \"2020-05-11T00:00:00\", \"count\": 0}, {\"FECHA\": \"2020-05-12T00:00:00\", \"count\": 0}, {\"FECHA\": \"2020-05-13T00:00:00\", \"count\": 1}, {\"FECHA\": \"2020-05-14T00:00:00\", \"count\": 1}, {\"FECHA\": \"2020-05-15T00:00:00\", \"count\": 1}, {\"FECHA\": \"2020-05-16T00:00:00\", \"count\": 0}, {\"FECHA\": \"2020-05-17T00:00:00\", \"count\": 0}, {\"FECHA\": \"2020-05-18T00:00:00\", \"count\": 0}, {\"FECHA\": \"2020-05-19T00:00:00\", \"count\": 2}, {\"FECHA\": \"2020-05-20T00:00:00\", \"count\": 0}, {\"FECHA\": \"2020-05-21T00:00:00\", \"count\": 0}, {\"FECHA\": \"2020-05-22T00:00:00\", \"count\": 1}, {\"FECHA\": \"2020-05-23T00:00:00\", \"count\": 0}, {\"FECHA\": \"2020-05-24T00:00:00\", \"count\": 0}, {\"FECHA\": \"2020-05-25T00:00:00\", \"count\": 1}, {\"FECHA\": \"2020-05-26T00:00:00\", \"count\": 2}, {\"FECHA\": \"2020-05-27T00:00:00\", \"count\": 2}, {\"FECHA\": \"2020-05-28T00:00:00\", \"count\": 5}, {\"FECHA\": \"2020-05-29T00:00:00\", \"count\": 3}, {\"FECHA\": \"2020-05-30T00:00:00\", \"count\": 4}, {\"FECHA\": \"2020-05-31T00:00:00\", \"count\": 0}, {\"FECHA\": \"2020-06-01T00:00:00\", \"count\": 2}, {\"FECHA\": \"2020-06-02T00:00:00\", \"count\": 1}, {\"FECHA\": \"2020-06-03T00:00:00\", \"count\": 3}, {\"FECHA\": \"2020-06-04T00:00:00\", \"count\": 0}, {\"FECHA\": \"2020-06-05T00:00:00\", \"count\": 0}, {\"FECHA\": \"2020-06-06T00:00:00\", \"count\": 0}, {\"FECHA\": \"2020-06-07T00:00:00\", \"count\": 3}, {\"FECHA\": \"2020-06-08T00:00:00\", \"count\": 4}, {\"FECHA\": \"2020-06-09T00:00:00\", \"count\": 1}, {\"FECHA\": \"2020-06-10T00:00:00\", \"count\": 1}, {\"FECHA\": \"2020-06-11T00:00:00\", \"count\": 6}, {\"FECHA\": \"2020-06-12T00:00:00\", \"count\": 2}, {\"FECHA\": \"2020-06-13T00:00:00\", \"count\": 1}, {\"FECHA\": \"2020-06-14T00:00:00\", \"count\": 0}, {\"FECHA\": \"2020-06-15T00:00:00\", \"count\": 2}, {\"FECHA\": \"2020-06-16T00:00:00\", \"count\": 1}, {\"FECHA\": \"2020-06-17T00:00:00\", \"count\": 1}, {\"FECHA\": \"2020-06-18T00:00:00\", \"count\": 1}, {\"FECHA\": \"2020-06-19T00:00:00\", \"count\": 0}, {\"FECHA\": \"2020-06-20T00:00:00\", \"count\": 1}, {\"FECHA\": \"2020-06-21T00:00:00\", \"count\": 1}, {\"FECHA\": \"2020-06-22T00:00:00\", \"count\": 3}, {\"FECHA\": \"2020-06-23T00:00:00\", \"count\": 0}, {\"FECHA\": \"2020-06-24T00:00:00\", \"count\": 2}, {\"FECHA\": \"2020-06-25T00:00:00\", \"count\": 2}, {\"FECHA\": \"2020-06-26T00:00:00\", \"count\": 1}, {\"FECHA\": \"2020-06-27T00:00:00\", \"count\": 1}, {\"FECHA\": \"2020-06-28T00:00:00\", \"count\": 1}, {\"FECHA\": \"2020-06-29T00:00:00\", \"count\": 0}, {\"FECHA\": \"2020-06-30T00:00:00\", \"count\": 2}, {\"FECHA\": \"2020-07-01T00:00:00\", \"count\": 2}, {\"FECHA\": \"2020-07-02T00:00:00\", \"count\": 0}, {\"FECHA\": \"2020-07-03T00:00:00\", \"count\": 4}, {\"FECHA\": \"2020-07-04T00:00:00\", \"count\": 2}, {\"FECHA\": \"2020-07-05T00:00:00\", \"count\": 1}, {\"FECHA\": \"2020-07-06T00:00:00\", \"count\": 0}, {\"FECHA\": \"2020-07-07T00:00:00\", \"count\": 3}, {\"FECHA\": \"2020-07-08T00:00:00\", \"count\": 1}, {\"FECHA\": \"2020-07-09T00:00:00\", \"count\": 1}, {\"FECHA\": \"2020-07-10T00:00:00\", \"count\": 3}, {\"FECHA\": \"2020-07-11T00:00:00\", \"count\": 3}, {\"FECHA\": \"2020-07-12T00:00:00\", \"count\": 0}, {\"FECHA\": \"2020-07-13T00:00:00\", \"count\": 0}, {\"FECHA\": \"2020-07-14T00:00:00\", \"count\": 0}, {\"FECHA\": \"2020-07-15T00:00:00\", \"count\": 3}, {\"FECHA\": \"2020-07-16T00:00:00\", \"count\": 5}, {\"FECHA\": \"2020-07-17T00:00:00\", \"count\": 1}, {\"FECHA\": \"2020-07-18T00:00:00\", \"count\": 1}, {\"FECHA\": \"2020-07-19T00:00:00\", \"count\": 1}, {\"FECHA\": \"2020-07-20T00:00:00\", \"count\": 3}, {\"FECHA\": \"2020-07-21T00:00:00\", \"count\": 9}, {\"FECHA\": \"2020-07-22T00:00:00\", \"count\": 4}, {\"FECHA\": \"2020-07-23T00:00:00\", \"count\": 3}, {\"FECHA\": \"2020-07-24T00:00:00\", \"count\": 5}, {\"FECHA\": \"2020-07-25T00:00:00\", \"count\": 9}, {\"FECHA\": \"2020-07-26T00:00:00\", \"count\": 5}, {\"FECHA\": \"2020-07-27T00:00:00\", \"count\": 5}, {\"FECHA\": \"2020-07-28T00:00:00\", \"count\": 5}, {\"FECHA\": \"2020-07-29T00:00:00\", \"count\": 7}, {\"FECHA\": \"2020-07-30T00:00:00\", \"count\": 7}, {\"FECHA\": \"2020-07-31T00:00:00\", \"count\": 11}, {\"FECHA\": \"2020-08-01T00:00:00\", \"count\": 11}, {\"FECHA\": \"2020-08-02T00:00:00\", \"count\": 19}, {\"FECHA\": \"2020-08-03T00:00:00\", \"count\": 2}, {\"FECHA\": \"2020-08-04T00:00:00\", \"count\": 3}, {\"FECHA\": \"2020-08-05T00:00:00\", \"count\": 7}, {\"FECHA\": \"2020-08-06T00:00:00\", \"count\": 3}, {\"FECHA\": \"2020-08-07T00:00:00\", \"count\": 58}, {\"FECHA\": \"2020-08-08T00:00:00\", \"count\": 4}, {\"FECHA\": \"2020-08-09T00:00:00\", \"count\": 26}, {\"FECHA\": \"2020-08-10T00:00:00\", \"count\": 5}, {\"FECHA\": \"2020-08-11T00:00:00\", \"count\": 5}, {\"FECHA\": \"2020-08-12T00:00:00\", \"count\": 12}, {\"FECHA\": \"2020-08-13T00:00:00\", \"count\": 7}, {\"FECHA\": \"2020-08-14T00:00:00\", \"count\": 11}, {\"FECHA\": \"2020-08-15T00:00:00\", \"count\": 6}, {\"FECHA\": \"2020-08-16T00:00:00\", \"count\": 24}, {\"FECHA\": \"2020-08-17T00:00:00\", \"count\": 69}, {\"FECHA\": \"2020-08-18T00:00:00\", \"count\": 7}, {\"FECHA\": \"2020-08-19T00:00:00\", \"count\": 7}, {\"FECHA\": \"2020-08-20T00:00:00\", \"count\": 10}, {\"FECHA\": \"2020-08-21T00:00:00\", \"count\": 4}, {\"FECHA\": \"2020-08-22T00:00:00\", \"count\": 1}, {\"FECHA\": \"2020-08-23T00:00:00\", \"count\": 23}, {\"FECHA\": \"2020-08-24T00:00:00\", \"count\": 5}, {\"FECHA\": \"2020-08-25T00:00:00\", \"count\": 15}, {\"FECHA\": \"2020-08-26T00:00:00\", \"count\": 6}, {\"FECHA\": \"2020-08-27T00:00:00\", \"count\": 9}, {\"FECHA\": \"2020-08-28T00:00:00\", \"count\": 1}, {\"FECHA\": \"2020-08-29T00:00:00\", \"count\": 4}, {\"FECHA\": \"2020-08-30T00:00:00\", \"count\": 31}, {\"FECHA\": \"2020-08-31T00:00:00\", \"count\": 7}, {\"FECHA\": \"2020-09-01T00:00:00\", \"count\": 2}, {\"FECHA\": \"2020-09-02T00:00:00\", \"count\": 2}, {\"FECHA\": \"2020-09-03T00:00:00\", \"count\": 7}, {\"FECHA\": \"2020-09-04T00:00:00\", \"count\": 5}, {\"FECHA\": \"2020-09-05T00:00:00\", \"count\": 1}, {\"FECHA\": \"2020-09-06T00:00:00\", \"count\": 22}, {\"FECHA\": \"2020-09-07T00:00:00\", \"count\": 1}, {\"FECHA\": \"2020-09-08T00:00:00\", \"count\": 5}, {\"FECHA\": \"2020-09-09T00:00:00\", \"count\": 8}, {\"FECHA\": \"2020-09-10T00:00:00\", \"count\": 11}, {\"FECHA\": \"2020-09-11T00:00:00\", \"count\": 10}, {\"FECHA\": \"2020-09-12T00:00:00\", \"count\": 6}, {\"FECHA\": \"2020-09-13T00:00:00\", \"count\": 22}, {\"FECHA\": \"2020-09-14T00:00:00\", \"count\": 7}, {\"FECHA\": \"2020-09-15T00:00:00\", \"count\": 4}, {\"FECHA\": \"2020-09-16T00:00:00\", \"count\": 7}, {\"FECHA\": \"2020-09-17T00:00:00\", \"count\": 15}, {\"FECHA\": \"2020-09-18T00:00:00\", \"count\": 3}, {\"FECHA\": \"2020-09-19T00:00:00\", \"count\": 2}, {\"FECHA\": \"2020-09-20T00:00:00\", \"count\": 22}, {\"FECHA\": \"2020-09-21T00:00:00\", \"count\": 5}, {\"FECHA\": \"2020-09-22T00:00:00\", \"count\": 7}, {\"FECHA\": \"2020-09-23T00:00:00\", \"count\": 3}, {\"FECHA\": \"2020-09-24T00:00:00\", \"count\": 1}, {\"FECHA\": \"2020-09-25T00:00:00\", \"count\": 2}, {\"FECHA\": \"2020-09-26T00:00:00\", \"count\": 3}, {\"FECHA\": \"2020-09-27T00:00:00\", \"count\": 25}, {\"FECHA\": \"2020-09-28T00:00:00\", \"count\": 5}, {\"FECHA\": \"2020-09-29T00:00:00\", \"count\": 7}, {\"FECHA\": \"2020-09-30T00:00:00\", \"count\": 2}, {\"FECHA\": \"2020-10-01T00:00:00\", \"count\": 6}, {\"FECHA\": \"2020-10-02T00:00:00\", \"count\": 3}, {\"FECHA\": \"2020-10-03T00:00:00\", \"count\": 4}, {\"FECHA\": \"2020-10-04T00:00:00\", \"count\": 17}, {\"FECHA\": \"2020-10-05T00:00:00\", \"count\": 1}, {\"FECHA\": \"2020-10-06T00:00:00\", \"count\": 3}, {\"FECHA\": \"2020-10-07T00:00:00\", \"count\": 3}, {\"FECHA\": \"2020-10-08T00:00:00\", \"count\": 3}, {\"FECHA\": \"2020-10-09T00:00:00\", \"count\": 5}, {\"FECHA\": \"2020-10-10T00:00:00\", \"count\": 2}, {\"FECHA\": \"2020-10-11T00:00:00\", \"count\": 29}, {\"FECHA\": \"2020-10-12T00:00:00\", \"count\": 42}, {\"FECHA\": \"2020-10-13T00:00:00\", \"count\": 5}, {\"FECHA\": \"2020-10-14T00:00:00\", \"count\": 7}, {\"FECHA\": \"2020-10-15T00:00:00\", \"count\": 6}, {\"FECHA\": \"2020-10-16T00:00:00\", \"count\": 6}, {\"FECHA\": \"2020-10-17T00:00:00\", \"count\": 8}, {\"FECHA\": \"2020-10-18T00:00:00\", \"count\": 21}, {\"FECHA\": \"2020-10-19T00:00:00\", \"count\": 3}, {\"FECHA\": \"2020-10-20T00:00:00\", \"count\": 3}, {\"FECHA\": \"2020-10-21T00:00:00\", \"count\": 3}, {\"FECHA\": \"2020-10-22T00:00:00\", \"count\": 1}, {\"FECHA\": \"2020-10-23T00:00:00\", \"count\": 3}, {\"FECHA\": \"2020-10-24T00:00:00\", \"count\": 18}, {\"FECHA\": \"2020-10-25T00:00:00\", \"count\": 31}, {\"FECHA\": \"2020-10-26T00:00:00\", \"count\": 7}, {\"FECHA\": \"2020-10-27T00:00:00\", \"count\": 8}, {\"FECHA\": \"2020-10-28T00:00:00\", \"count\": 6}, {\"FECHA\": \"2020-10-29T00:00:00\", \"count\": 3}, {\"FECHA\": \"2020-10-30T00:00:00\", \"count\": 3}, {\"FECHA\": \"2020-10-31T00:00:00\", \"count\": 1}, {\"FECHA\": \"2020-11-01T00:00:00\", \"count\": 41}, {\"FECHA\": \"2020-11-02T00:00:00\", \"count\": 57}, {\"FECHA\": \"2020-11-03T00:00:00\", \"count\": 6}, {\"FECHA\": \"2020-11-04T00:00:00\", \"count\": 1}, {\"FECHA\": \"2020-11-05T00:00:00\", \"count\": 6}, {\"FECHA\": \"2020-11-06T00:00:00\", \"count\": 5}, {\"FECHA\": \"2020-11-07T00:00:00\", \"count\": 0}, {\"FECHA\": \"2020-11-08T00:00:00\", \"count\": 30}, {\"FECHA\": \"2020-11-09T00:00:00\", \"count\": 4}, {\"FECHA\": \"2020-11-10T00:00:00\", \"count\": 5}, {\"FECHA\": \"2020-11-11T00:00:00\", \"count\": 17}, {\"FECHA\": \"2020-11-12T00:00:00\", \"count\": 11}, {\"FECHA\": \"2020-11-13T00:00:00\", \"count\": 9}, {\"FECHA\": \"2020-11-14T00:00:00\", \"count\": 13}, {\"FECHA\": \"2020-11-15T00:00:00\", \"count\": 101}, {\"FECHA\": \"2020-11-16T00:00:00\", \"count\": 130}, {\"FECHA\": \"2020-11-17T00:00:00\", \"count\": 9}, {\"FECHA\": \"2020-11-18T00:00:00\", \"count\": 12}, {\"FECHA\": \"2020-11-19T00:00:00\", \"count\": 9}, {\"FECHA\": \"2020-11-20T00:00:00\", \"count\": 5}, {\"FECHA\": \"2020-11-21T00:00:00\", \"count\": 5}, {\"FECHA\": \"2020-11-22T00:00:00\", \"count\": 73}, {\"FECHA\": \"2020-11-23T00:00:00\", \"count\": 5}, {\"FECHA\": \"2020-11-24T00:00:00\", \"count\": 15}, {\"FECHA\": \"2020-11-25T00:00:00\", \"count\": 9}, {\"FECHA\": \"2020-11-26T00:00:00\", \"count\": 9}, {\"FECHA\": \"2020-11-27T00:00:00\", \"count\": 3}, {\"FECHA\": \"2020-11-28T00:00:00\", \"count\": 3}, {\"FECHA\": \"2020-11-29T00:00:00\", \"count\": 86}, {\"FECHA\": \"2020-11-30T00:00:00\", \"count\": 10}, {\"FECHA\": \"2020-12-01T00:00:00\", \"count\": 12}, {\"FECHA\": \"2020-12-02T00:00:00\", \"count\": 14}, {\"FECHA\": \"2020-12-03T00:00:00\", \"count\": 17}, {\"FECHA\": \"2020-12-04T00:00:00\", \"count\": 9}, {\"FECHA\": \"2020-12-05T00:00:00\", \"count\": 3}, {\"FECHA\": \"2020-12-06T00:00:00\", \"count\": 39}, {\"FECHA\": \"2020-12-07T00:00:00\", \"count\": 7}, {\"FECHA\": \"2020-12-08T00:00:00\", \"count\": 64}, {\"FECHA\": \"2020-12-09T00:00:00\", \"count\": 5}, {\"FECHA\": \"2020-12-10T00:00:00\", \"count\": 10}, {\"FECHA\": \"2020-12-11T00:00:00\", \"count\": 18}, {\"FECHA\": \"2020-12-12T00:00:00\", \"count\": 12}, {\"FECHA\": \"2020-12-13T00:00:00\", \"count\": 34}, {\"FECHA\": \"2020-12-14T00:00:00\", \"count\": 21}, {\"FECHA\": \"2020-12-15T00:00:00\", \"count\": 21}, {\"FECHA\": \"2020-12-16T00:00:00\", \"count\": 18}, {\"FECHA\": \"2020-12-17T00:00:00\", \"count\": 20}, {\"FECHA\": \"2020-12-18T00:00:00\", \"count\": 18}, {\"FECHA\": \"2020-12-19T00:00:00\", \"count\": 10}, {\"FECHA\": \"2020-12-20T00:00:00\", \"count\": 45}, {\"FECHA\": \"2020-12-21T00:00:00\", \"count\": 16}, {\"FECHA\": \"2020-12-22T00:00:00\", \"count\": 22}, {\"FECHA\": \"2020-12-23T00:00:00\", \"count\": 14}, {\"FECHA\": \"2020-12-24T00:00:00\", \"count\": 10}, {\"FECHA\": \"2020-12-25T00:00:00\", \"count\": 19}, {\"FECHA\": \"2020-12-26T00:00:00\", \"count\": 11}, {\"FECHA\": \"2020-12-27T00:00:00\", \"count\": 35}, {\"FECHA\": \"2020-12-28T00:00:00\", \"count\": 17}, {\"FECHA\": \"2020-12-29T00:00:00\", \"count\": 24}, {\"FECHA\": \"2020-12-30T00:00:00\", \"count\": 15}, {\"FECHA\": \"2020-12-31T00:00:00\", \"count\": 8}, {\"FECHA\": \"2021-01-01T00:00:00\", \"count\": 19}, {\"FECHA\": \"2021-01-02T00:00:00\", \"count\": 10}, {\"FECHA\": \"2021-01-03T00:00:00\", \"count\": 37}, {\"FECHA\": \"2021-01-04T00:00:00\", \"count\": 21}, {\"FECHA\": \"2021-01-05T00:00:00\", \"count\": 19}, {\"FECHA\": \"2021-01-06T00:00:00\", \"count\": 13}, {\"FECHA\": \"2021-01-07T00:00:00\", \"count\": 22}, {\"FECHA\": \"2021-01-08T00:00:00\", \"count\": 16}, {\"FECHA\": \"2021-01-09T00:00:00\", \"count\": 8}, {\"FECHA\": \"2021-01-10T00:00:00\", \"count\": 49}, {\"FECHA\": \"2021-01-11T00:00:00\", \"count\": 55}, {\"FECHA\": \"2021-01-12T00:00:00\", \"count\": 8}, {\"FECHA\": \"2021-01-13T00:00:00\", \"count\": 25}, {\"FECHA\": \"2021-01-14T00:00:00\", \"count\": 21}, {\"FECHA\": \"2021-01-15T00:00:00\", \"count\": 18}, {\"FECHA\": \"2021-01-16T00:00:00\", \"count\": 13}, {\"FECHA\": \"2021-01-17T00:00:00\", \"count\": 56}, {\"FECHA\": \"2021-01-18T00:00:00\", \"count\": 36}, {\"FECHA\": \"2021-01-19T00:00:00\", \"count\": 14}, {\"FECHA\": \"2021-01-20T00:00:00\", \"count\": 34}, {\"FECHA\": \"2021-01-21T00:00:00\", \"count\": 19}, {\"FECHA\": \"2021-01-22T00:00:00\", \"count\": 30}, {\"FECHA\": \"2021-01-23T00:00:00\", \"count\": 19}, {\"FECHA\": \"2021-01-24T00:00:00\", \"count\": 37}, {\"FECHA\": \"2021-01-25T00:00:00\", \"count\": 24}, {\"FECHA\": \"2021-01-26T00:00:00\", \"count\": 34}, {\"FECHA\": \"2021-01-27T00:00:00\", \"count\": 40}, {\"FECHA\": \"2021-01-28T00:00:00\", \"count\": 33}, {\"FECHA\": \"2021-01-29T00:00:00\", \"count\": 35}, {\"FECHA\": \"2021-01-30T00:00:00\", \"count\": 21}, {\"FECHA\": \"2021-01-31T00:00:00\", \"count\": 33}, {\"FECHA\": \"2021-02-01T00:00:00\", \"count\": 42}, {\"FECHA\": \"2021-02-02T00:00:00\", \"count\": 42}, {\"FECHA\": \"2021-02-03T00:00:00\", \"count\": 39}, {\"FECHA\": \"2021-02-04T00:00:00\", \"count\": 45}, {\"FECHA\": \"2021-02-05T00:00:00\", \"count\": 57}, {\"FECHA\": \"2021-02-06T00:00:00\", \"count\": 30}, {\"FECHA\": \"2021-02-07T00:00:00\", \"count\": 60}, {\"FECHA\": \"2021-02-08T00:00:00\", \"count\": 89}, {\"FECHA\": \"2021-02-09T00:00:00\", \"count\": 83}, {\"FECHA\": \"2021-02-10T00:00:00\", \"count\": 79}, {\"FECHA\": \"2021-02-11T00:00:00\", \"count\": 87}, {\"FECHA\": \"2021-02-12T00:00:00\", \"count\": 83}, {\"FECHA\": \"2021-02-13T00:00:00\", \"count\": 45}, {\"FECHA\": \"2021-02-14T00:00:00\", \"count\": 38}, {\"FECHA\": \"2021-02-15T00:00:00\", \"count\": 87}, {\"FECHA\": \"2021-02-16T00:00:00\", \"count\": 72}, {\"FECHA\": \"2021-02-17T00:00:00\", \"count\": 55}, {\"FECHA\": \"2021-02-18T00:00:00\", \"count\": 95}, {\"FECHA\": \"2021-02-19T00:00:00\", \"count\": 77}, {\"FECHA\": \"2021-02-20T00:00:00\", \"count\": 46}, {\"FECHA\": \"2021-02-21T00:00:00\", \"count\": 21}, {\"FECHA\": \"2021-02-22T00:00:00\", \"count\": 72}, {\"FECHA\": \"2021-02-23T00:00:00\", \"count\": 65}, {\"FECHA\": \"2021-02-24T00:00:00\", \"count\": 77}, {\"FECHA\": \"2021-02-25T00:00:00\", \"count\": 55}, {\"FECHA\": \"2021-02-26T00:00:00\", \"count\": 39}, {\"FECHA\": \"2021-02-27T00:00:00\", \"count\": 35}, {\"FECHA\": \"2021-02-28T00:00:00\", \"count\": 38}, {\"FECHA\": \"2021-03-01T00:00:00\", \"count\": 44}, {\"FECHA\": \"2021-03-02T00:00:00\", \"count\": 71}, {\"FECHA\": \"2021-03-03T00:00:00\", \"count\": 38}, {\"FECHA\": \"2021-03-04T00:00:00\", \"count\": 66}, {\"FECHA\": \"2021-03-05T00:00:00\", \"count\": 46}, {\"FECHA\": \"2021-03-06T00:00:00\", \"count\": 37}, {\"FECHA\": \"2021-03-07T00:00:00\", \"count\": 28}, {\"FECHA\": \"2021-03-08T00:00:00\", \"count\": 77}, {\"FECHA\": \"2021-03-09T00:00:00\", \"count\": 71}, {\"FECHA\": \"2021-03-10T00:00:00\", \"count\": 19}, {\"FECHA\": \"2021-03-11T00:00:00\", \"count\": 54}, {\"FECHA\": \"2021-03-12T00:00:00\", \"count\": 47}, {\"FECHA\": \"2021-03-13T00:00:00\", \"count\": 41}, {\"FECHA\": \"2021-03-14T00:00:00\", \"count\": 47}, {\"FECHA\": \"2021-03-15T00:00:00\", \"count\": 75}, {\"FECHA\": \"2021-03-16T00:00:00\", \"count\": 84}, {\"FECHA\": \"2021-03-17T00:00:00\", \"count\": 76}, {\"FECHA\": \"2021-03-18T00:00:00\", \"count\": 77}, {\"FECHA\": \"2021-03-19T00:00:00\", \"count\": 67}, {\"FECHA\": \"2021-03-20T00:00:00\", \"count\": 52}, {\"FECHA\": \"2021-03-21T00:00:00\", \"count\": 34}, {\"FECHA\": \"2021-03-22T00:00:00\", \"count\": 54}, {\"FECHA\": \"2021-03-23T00:00:00\", \"count\": 95}, {\"FECHA\": \"2021-03-24T00:00:00\", \"count\": 67}, {\"FECHA\": \"2021-03-25T00:00:00\", \"count\": 34}, {\"FECHA\": \"2021-03-26T00:00:00\", \"count\": 56}, {\"FECHA\": \"2021-03-27T00:00:00\", \"count\": 50}, {\"FECHA\": \"2021-03-28T00:00:00\", \"count\": 35}, {\"FECHA\": \"2021-03-29T00:00:00\", \"count\": 61}, {\"FECHA\": \"2021-03-30T00:00:00\", \"count\": 63}, {\"FECHA\": \"2021-03-31T00:00:00\", \"count\": 56}, {\"FECHA\": \"2021-04-01T00:00:00\", \"count\": 42}, {\"FECHA\": \"2021-04-02T00:00:00\", \"count\": 18}, {\"FECHA\": \"2021-04-03T00:00:00\", \"count\": 32}, {\"FECHA\": \"2021-04-04T00:00:00\", \"count\": 27}, {\"FECHA\": \"2021-04-05T00:00:00\", \"count\": 52}, {\"FECHA\": \"2021-04-06T00:00:00\", \"count\": 59}, {\"FECHA\": \"2021-04-07T00:00:00\", \"count\": 65}, {\"FECHA\": \"2021-04-08T00:00:00\", \"count\": 74}, {\"FECHA\": \"2021-04-09T00:00:00\", \"count\": 56}, {\"FECHA\": \"2021-04-10T00:00:00\", \"count\": 45}, {\"FECHA\": \"2021-04-11T00:00:00\", \"count\": 23}, {\"FECHA\": \"2021-04-12T00:00:00\", \"count\": 34}, {\"FECHA\": \"2021-04-13T00:00:00\", \"count\": 61}, {\"FECHA\": \"2021-04-14T00:00:00\", \"count\": 42}, {\"FECHA\": \"2021-04-15T00:00:00\", \"count\": 26}, {\"FECHA\": \"2021-04-16T00:00:00\", \"count\": 56}, {\"FECHA\": \"2021-04-17T00:00:00\", \"count\": 30}, {\"FECHA\": \"2021-04-18T00:00:00\", \"count\": 17}, {\"FECHA\": \"2021-04-19T00:00:00\", \"count\": 53}, {\"FECHA\": \"2021-04-20T00:00:00\", \"count\": 50}, {\"FECHA\": \"2021-04-21T00:00:00\", \"count\": 39}, {\"FECHA\": \"2021-04-22T00:00:00\", \"count\": 43}, {\"FECHA\": \"2021-04-23T00:00:00\", \"count\": 40}, {\"FECHA\": \"2021-04-24T00:00:00\", \"count\": 27}, {\"FECHA\": \"2021-04-25T00:00:00\", \"count\": 13}, {\"FECHA\": \"2021-04-26T00:00:00\", \"count\": 33}, {\"FECHA\": \"2021-04-27T00:00:00\", \"count\": 50}, {\"FECHA\": \"2021-04-28T00:00:00\", \"count\": 43}, {\"FECHA\": \"2021-04-29T00:00:00\", \"count\": 32}, {\"FECHA\": \"2021-04-30T00:00:00\", \"count\": 37}, {\"FECHA\": \"2021-05-01T00:00:00\", \"count\": 16}, {\"FECHA\": \"2021-05-02T00:00:00\", \"count\": 20}, {\"FECHA\": \"2021-05-03T00:00:00\", \"count\": 39}, {\"FECHA\": \"2021-05-04T00:00:00\", \"count\": 44}, {\"FECHA\": \"2021-05-05T00:00:00\", \"count\": 47}, {\"FECHA\": \"2021-05-06T00:00:00\", \"count\": 53}, {\"FECHA\": \"2021-05-07T00:00:00\", \"count\": 29}, {\"FECHA\": \"2021-05-08T00:00:00\", \"count\": 25}, {\"FECHA\": \"2021-05-09T00:00:00\", \"count\": 19}, {\"FECHA\": \"2021-05-10T00:00:00\", \"count\": 33}, {\"FECHA\": \"2021-05-11T00:00:00\", \"count\": 38}, {\"FECHA\": \"2021-05-12T00:00:00\", \"count\": 31}, {\"FECHA\": \"2021-05-13T00:00:00\", \"count\": 41}, {\"FECHA\": \"2021-05-14T00:00:00\", \"count\": 21}, {\"FECHA\": \"2021-05-15T00:00:00\", \"count\": 26}, {\"FECHA\": \"2021-05-16T00:00:00\", \"count\": 12}, {\"FECHA\": \"2021-05-17T00:00:00\", \"count\": 27}, {\"FECHA\": \"2021-05-18T00:00:00\", \"count\": 27}, {\"FECHA\": \"2021-05-19T00:00:00\", \"count\": 23}, {\"FECHA\": \"2021-05-20T00:00:00\", \"count\": 19}, {\"FECHA\": \"2021-05-21T00:00:00\", \"count\": 34}, {\"FECHA\": \"2021-05-22T00:00:00\", \"count\": 18}, {\"FECHA\": \"2021-05-23T00:00:00\", \"count\": 9}, {\"FECHA\": \"2021-05-24T00:00:00\", \"count\": 31}, {\"FECHA\": \"2021-05-25T00:00:00\", \"count\": 49}, {\"FECHA\": \"2021-05-26T00:00:00\", \"count\": 40}, {\"FECHA\": \"2021-05-27T00:00:00\", \"count\": 39}, {\"FECHA\": \"2021-05-28T00:00:00\", \"count\": 26}, {\"FECHA\": \"2021-05-29T00:00:00\", \"count\": 19}, {\"FECHA\": \"2021-05-30T00:00:00\", \"count\": 8}, {\"FECHA\": \"2021-05-31T00:00:00\", \"count\": 38}, {\"FECHA\": \"2021-06-01T00:00:00\", \"count\": 40}, {\"FECHA\": \"2021-06-02T00:00:00\", \"count\": 41}, {\"FECHA\": \"2021-06-03T00:00:00\", \"count\": 35}, {\"FECHA\": \"2021-06-04T00:00:00\", \"count\": 29}, {\"FECHA\": \"2021-06-05T00:00:00\", \"count\": 18}, {\"FECHA\": \"2021-06-06T00:00:00\", \"count\": 12}, {\"FECHA\": \"2021-06-07T00:00:00\", \"count\": 15}, {\"FECHA\": \"2021-06-08T00:00:00\", \"count\": 30}, {\"FECHA\": \"2021-06-09T00:00:00\", \"count\": 27}, {\"FECHA\": \"2021-06-10T00:00:00\", \"count\": 34}]}}, {\"mode\": \"vega-lite\"});\n",
       "</script>"
      ],
      "text/plain": [
       "alt.LayerChart(...)"
      ]
     },
     "execution_count": 32,
     "metadata": {},
     "output_type": "execute_result"
    }
   ],
   "source": [
    "base = alt.Chart(df.groupby([pd.Grouper(key='FECHA', freq='D')])\n",
    " .size()\n",
    " .reset_index(name='count')\n",
    ").mark_line().encode(\n",
    "    x = 'FECHA',\n",
    "    y = alt.Y('count', scale=alt.Scale(domain=(0,140))),\n",
    "    tooltip = ['FECHA', 'count']\n",
    ").properties(\n",
    "    title = 'Número de Llamadas por Día'\n",
    ")\n",
    "\n",
    "base + base.transform_loess('FECHA', 'count', bandwidth = 0.05).mark_line(size=1, color='red') "
   ]
  },
  {
   "cell_type": "code",
   "execution_count": 33,
   "id": "8e46d6ea",
   "metadata": {
    "ExecuteTime": {
     "end_time": "2022-08-22T21:15:16.724117Z",
     "start_time": "2022-08-22T21:15:16.700085Z"
    }
   },
   "outputs": [
    {
     "data": {
      "text/html": [
       "\n",
       "<div id=\"altair-viz-b33539acdb5d4cdab048ef8fe6670a8b\"></div>\n",
       "<script type=\"text/javascript\">\n",
       "  var VEGA_DEBUG = (typeof VEGA_DEBUG == \"undefined\") ? {} : VEGA_DEBUG;\n",
       "  (function(spec, embedOpt){\n",
       "    let outputDiv = document.currentScript.previousElementSibling;\n",
       "    if (outputDiv.id !== \"altair-viz-b33539acdb5d4cdab048ef8fe6670a8b\") {\n",
       "      outputDiv = document.getElementById(\"altair-viz-b33539acdb5d4cdab048ef8fe6670a8b\");\n",
       "    }\n",
       "    const paths = {\n",
       "      \"vega\": \"https://cdn.jsdelivr.net/npm//vega@5?noext\",\n",
       "      \"vega-lib\": \"https://cdn.jsdelivr.net/npm//vega-lib?noext\",\n",
       "      \"vega-lite\": \"https://cdn.jsdelivr.net/npm//vega-lite@4.17.0?noext\",\n",
       "      \"vega-embed\": \"https://cdn.jsdelivr.net/npm//vega-embed@6?noext\",\n",
       "    };\n",
       "\n",
       "    function maybeLoadScript(lib, version) {\n",
       "      var key = `${lib.replace(\"-\", \"\")}_version`;\n",
       "      return (VEGA_DEBUG[key] == version) ?\n",
       "        Promise.resolve(paths[lib]) :\n",
       "        new Promise(function(resolve, reject) {\n",
       "          var s = document.createElement('script');\n",
       "          document.getElementsByTagName(\"head\")[0].appendChild(s);\n",
       "          s.async = true;\n",
       "          s.onload = () => {\n",
       "            VEGA_DEBUG[key] = version;\n",
       "            return resolve(paths[lib]);\n",
       "          };\n",
       "          s.onerror = () => reject(`Error loading script: ${paths[lib]}`);\n",
       "          s.src = paths[lib];\n",
       "        });\n",
       "    }\n",
       "\n",
       "    function showError(err) {\n",
       "      outputDiv.innerHTML = `<div class=\"error\" style=\"color:red;\">${err}</div>`;\n",
       "      throw err;\n",
       "    }\n",
       "\n",
       "    function displayChart(vegaEmbed) {\n",
       "      vegaEmbed(outputDiv, spec, embedOpt)\n",
       "        .catch(err => showError(`Javascript Error: ${err.message}<br>This usually means there's a typo in your chart specification. See the javascript console for the full traceback.`));\n",
       "    }\n",
       "\n",
       "    if(typeof define === \"function\" && define.amd) {\n",
       "      requirejs.config({paths});\n",
       "      require([\"vega-embed\"], displayChart, err => showError(`Error loading script: ${err.message}`));\n",
       "    } else {\n",
       "      maybeLoadScript(\"vega\", \"5\")\n",
       "        .then(() => maybeLoadScript(\"vega-lite\", \"4.17.0\"))\n",
       "        .then(() => maybeLoadScript(\"vega-embed\", \"6\"))\n",
       "        .catch(showError)\n",
       "        .then(() => displayChart(vegaEmbed));\n",
       "    }\n",
       "  })({\"config\": {\"view\": {\"continuousWidth\": 400, \"continuousHeight\": 300}}, \"layer\": [{\"mark\": \"line\", \"encoding\": {\"tooltip\": [{\"field\": \"FECHA\", \"type\": \"temporal\"}, {\"field\": \"count\", \"type\": \"quantitative\"}], \"x\": {\"field\": \"FECHA\", \"type\": \"temporal\"}, \"y\": {\"field\": \"count\", \"scale\": {\"domain\": [0, 140]}, \"type\": \"quantitative\"}}, \"title\": \"N\\u00famero de Llamadas por D\\u00eda\"}, {\"mark\": {\"type\": \"line\", \"color\": \"red\", \"size\": 1}, \"encoding\": {\"tooltip\": [{\"field\": \"FECHA\", \"type\": \"temporal\"}, {\"field\": \"count\", \"type\": \"quantitative\"}], \"x\": {\"field\": \"FECHA\", \"type\": \"temporal\"}, \"y\": {\"field\": \"count\", \"scale\": {\"domain\": [0, 140]}, \"type\": \"quantitative\"}}, \"title\": \"N\\u00famero de Llamadas por D\\u00eda\", \"transform\": [{\"loess\": \"count\", \"on\": \"FECHA\", \"bandwidth\": 0.05}]}], \"data\": {\"name\": \"data-e7944d9974d988d3ee8b03d53afd191c\"}, \"$schema\": \"https://vega.github.io/schema/vega-lite/v4.17.0.json\", \"datasets\": {\"data-e7944d9974d988d3ee8b03d53afd191c\": [{\"FECHA\": \"2022-02-01T00:00:00\", \"count\": 24}, {\"FECHA\": \"2022-02-02T00:00:00\", \"count\": 16}, {\"FECHA\": \"2022-02-03T00:00:00\", \"count\": 34}, {\"FECHA\": \"2022-02-04T00:00:00\", \"count\": 41}, {\"FECHA\": \"2022-02-05T00:00:00\", \"count\": 12}, {\"FECHA\": \"2022-02-06T00:00:00\", \"count\": 7}, {\"FECHA\": \"2022-02-07T00:00:00\", \"count\": 30}, {\"FECHA\": \"2022-02-08T00:00:00\", \"count\": 29}, {\"FECHA\": \"2022-02-09T00:00:00\", \"count\": 27}, {\"FECHA\": \"2022-02-10T00:00:00\", \"count\": 33}, {\"FECHA\": \"2022-02-11T00:00:00\", \"count\": 31}, {\"FECHA\": \"2022-02-12T00:00:00\", \"count\": 18}, {\"FECHA\": \"2022-02-13T00:00:00\", \"count\": 9}, {\"FECHA\": \"2022-02-14T00:00:00\", \"count\": 21}, {\"FECHA\": \"2022-02-15T00:00:00\", \"count\": 20}, {\"FECHA\": \"2022-02-16T00:00:00\", \"count\": 36}, {\"FECHA\": \"2022-02-17T00:00:00\", \"count\": 41}, {\"FECHA\": \"2022-02-18T00:00:00\", \"count\": 40}, {\"FECHA\": \"2022-02-19T00:00:00\", \"count\": 12}, {\"FECHA\": \"2022-02-20T00:00:00\", \"count\": 6}, {\"FECHA\": \"2022-02-21T00:00:00\", \"count\": 28}, {\"FECHA\": \"2022-02-22T00:00:00\", \"count\": 34}, {\"FECHA\": \"2022-02-23T00:00:00\", \"count\": 29}, {\"FECHA\": \"2022-02-24T00:00:00\", \"count\": 40}, {\"FECHA\": \"2022-02-25T00:00:00\", \"count\": 27}, {\"FECHA\": \"2022-02-26T00:00:00\", \"count\": 18}, {\"FECHA\": \"2022-02-27T00:00:00\", \"count\": 15}, {\"FECHA\": \"2022-02-28T00:00:00\", \"count\": 31}, {\"FECHA\": \"2022-03-01T00:00:00\", \"count\": 33}, {\"FECHA\": \"2022-03-02T00:00:00\", \"count\": 35}, {\"FECHA\": \"2022-03-03T00:00:00\", \"count\": 21}, {\"FECHA\": \"2022-03-04T00:00:00\", \"count\": 18}, {\"FECHA\": \"2022-03-05T00:00:00\", \"count\": 14}, {\"FECHA\": \"2022-03-06T00:00:00\", \"count\": 7}, {\"FECHA\": \"2022-03-07T00:00:00\", \"count\": 34}, {\"FECHA\": \"2022-03-08T00:00:00\", \"count\": 25}, {\"FECHA\": \"2022-03-09T00:00:00\", \"count\": 40}, {\"FECHA\": \"2022-03-10T00:00:00\", \"count\": 29}, {\"FECHA\": \"2022-03-11T00:00:00\", \"count\": 22}, {\"FECHA\": \"2022-03-12T00:00:00\", \"count\": 14}, {\"FECHA\": \"2022-03-13T00:00:00\", \"count\": 10}, {\"FECHA\": \"2022-03-14T00:00:00\", \"count\": 32}, {\"FECHA\": \"2022-03-15T00:00:00\", \"count\": 32}, {\"FECHA\": \"2022-03-16T00:00:00\", \"count\": 45}, {\"FECHA\": \"2022-03-17T00:00:00\", \"count\": 31}, {\"FECHA\": \"2022-03-18T00:00:00\", \"count\": 51}, {\"FECHA\": \"2022-03-19T00:00:00\", \"count\": 33}, {\"FECHA\": \"2022-03-20T00:00:00\", \"count\": 28}, {\"FECHA\": \"2022-03-21T00:00:00\", \"count\": 34}, {\"FECHA\": \"2022-03-22T00:00:00\", \"count\": 42}, {\"FECHA\": \"2022-03-23T00:00:00\", \"count\": 27}, {\"FECHA\": \"2022-03-24T00:00:00\", \"count\": 46}, {\"FECHA\": \"2022-03-25T00:00:00\", \"count\": 37}, {\"FECHA\": \"2022-03-26T00:00:00\", \"count\": 25}, {\"FECHA\": \"2022-03-27T00:00:00\", \"count\": 8}, {\"FECHA\": \"2022-03-28T00:00:00\", \"count\": 34}, {\"FECHA\": \"2022-03-29T00:00:00\", \"count\": 44}, {\"FECHA\": \"2022-03-30T00:00:00\", \"count\": 46}, {\"FECHA\": \"2022-03-31T00:00:00\", \"count\": 40}, {\"FECHA\": \"2022-04-01T00:00:00\", \"count\": 44}, {\"FECHA\": \"2022-04-02T00:00:00\", \"count\": 23}, {\"FECHA\": \"2022-04-03T00:00:00\", \"count\": 14}, {\"FECHA\": \"2022-04-04T00:00:00\", \"count\": 27}, {\"FECHA\": \"2022-04-05T00:00:00\", \"count\": 30}, {\"FECHA\": \"2022-04-06T00:00:00\", \"count\": 45}, {\"FECHA\": \"2022-04-07T00:00:00\", \"count\": 27}, {\"FECHA\": \"2022-04-08T00:00:00\", \"count\": 38}, {\"FECHA\": \"2022-04-09T00:00:00\", \"count\": 14}, {\"FECHA\": \"2022-04-10T00:00:00\", \"count\": 16}, {\"FECHA\": \"2022-04-11T00:00:00\", \"count\": 27}, {\"FECHA\": \"2022-04-12T00:00:00\", \"count\": 28}, {\"FECHA\": \"2022-04-13T00:00:00\", \"count\": 37}, {\"FECHA\": \"2022-04-14T00:00:00\", \"count\": 13}, {\"FECHA\": \"2022-04-15T00:00:00\", \"count\": 8}, {\"FECHA\": \"2022-04-16T00:00:00\", \"count\": 6}, {\"FECHA\": \"2022-04-17T00:00:00\", \"count\": 6}, {\"FECHA\": \"2022-04-18T00:00:00\", \"count\": 30}, {\"FECHA\": \"2022-04-19T00:00:00\", \"count\": 33}, {\"FECHA\": \"2022-04-20T00:00:00\", \"count\": 37}, {\"FECHA\": \"2022-04-21T00:00:00\", \"count\": 28}, {\"FECHA\": \"2022-04-22T00:00:00\", \"count\": 32}, {\"FECHA\": \"2022-04-23T00:00:00\", \"count\": 21}, {\"FECHA\": \"2022-04-24T00:00:00\", \"count\": 15}, {\"FECHA\": \"2022-04-25T00:00:00\", \"count\": 22}, {\"FECHA\": \"2022-04-26T00:00:00\", \"count\": 39}, {\"FECHA\": \"2022-04-27T00:00:00\", \"count\": 32}, {\"FECHA\": \"2022-04-28T00:00:00\", \"count\": 33}, {\"FECHA\": \"2022-04-29T00:00:00\", \"count\": 42}, {\"FECHA\": \"2022-04-30T00:00:00\", \"count\": 11}, {\"FECHA\": \"2022-05-01T00:00:00\", \"count\": 15}, {\"FECHA\": \"2022-05-02T00:00:00\", \"count\": 26}, {\"FECHA\": \"2022-05-03T00:00:00\", \"count\": 22}, {\"FECHA\": \"2022-05-04T00:00:00\", \"count\": 31}, {\"FECHA\": \"2022-05-05T00:00:00\", \"count\": 37}, {\"FECHA\": \"2022-05-06T00:00:00\", \"count\": 28}, {\"FECHA\": \"2022-05-07T00:00:00\", \"count\": 15}, {\"FECHA\": \"2022-05-08T00:00:00\", \"count\": 11}, {\"FECHA\": \"2022-05-09T00:00:00\", \"count\": 32}, {\"FECHA\": \"2022-05-10T00:00:00\", \"count\": 36}, {\"FECHA\": \"2022-05-11T00:00:00\", \"count\": 25}, {\"FECHA\": \"2022-05-12T00:00:00\", \"count\": 38}, {\"FECHA\": \"2022-05-13T00:00:00\", \"count\": 30}, {\"FECHA\": \"2022-05-14T00:00:00\", \"count\": 12}, {\"FECHA\": \"2022-05-15T00:00:00\", \"count\": 11}, {\"FECHA\": \"2022-05-16T00:00:00\", \"count\": 35}, {\"FECHA\": \"2022-05-17T00:00:00\", \"count\": 23}, {\"FECHA\": \"2022-05-18T00:00:00\", \"count\": 20}, {\"FECHA\": \"2022-05-19T00:00:00\", \"count\": 40}, {\"FECHA\": \"2022-05-20T00:00:00\", \"count\": 29}, {\"FECHA\": \"2022-05-21T00:00:00\", \"count\": 16}, {\"FECHA\": \"2022-05-22T00:00:00\", \"count\": 8}, {\"FECHA\": \"2022-05-23T00:00:00\", \"count\": 38}, {\"FECHA\": \"2022-05-24T00:00:00\", \"count\": 25}, {\"FECHA\": \"2022-05-25T00:00:00\", \"count\": 12}, {\"FECHA\": \"2022-05-26T00:00:00\", \"count\": 21}, {\"FECHA\": \"2022-05-27T00:00:00\", \"count\": 14}, {\"FECHA\": \"2022-05-28T00:00:00\", \"count\": 23}, {\"FECHA\": \"2022-05-29T00:00:00\", \"count\": 5}, {\"FECHA\": \"2022-05-30T00:00:00\", \"count\": 17}, {\"FECHA\": \"2022-05-31T00:00:00\", \"count\": 27}, {\"FECHA\": \"2022-06-01T00:00:00\", \"count\": 38}, {\"FECHA\": \"2022-06-02T00:00:00\", \"count\": 36}, {\"FECHA\": \"2022-06-03T00:00:00\", \"count\": 28}, {\"FECHA\": \"2022-06-04T00:00:00\", \"count\": 14}, {\"FECHA\": \"2022-06-05T00:00:00\", \"count\": 5}, {\"FECHA\": \"2022-06-06T00:00:00\", \"count\": 24}, {\"FECHA\": \"2022-06-07T00:00:00\", \"count\": 38}, {\"FECHA\": \"2022-06-08T00:00:00\", \"count\": 36}, {\"FECHA\": \"2022-06-09T00:00:00\", \"count\": 20}, {\"FECHA\": \"2022-06-10T00:00:00\", \"count\": 29}, {\"FECHA\": \"2022-06-11T00:00:00\", \"count\": 17}, {\"FECHA\": \"2022-06-12T00:00:00\", \"count\": 6}, {\"FECHA\": \"2022-06-13T00:00:00\", \"count\": 20}, {\"FECHA\": \"2022-06-14T00:00:00\", \"count\": 19}, {\"FECHA\": \"2022-06-15T00:00:00\", \"count\": 25}, {\"FECHA\": \"2022-06-16T00:00:00\", \"count\": 16}, {\"FECHA\": \"2022-06-17T00:00:00\", \"count\": 18}, {\"FECHA\": \"2022-06-18T00:00:00\", \"count\": 11}, {\"FECHA\": \"2022-06-19T00:00:00\", \"count\": 7}, {\"FECHA\": \"2022-06-20T00:00:00\", \"count\": 7}, {\"FECHA\": \"2022-06-21T00:00:00\", \"count\": 30}, {\"FECHA\": \"2022-06-22T00:00:00\", \"count\": 40}, {\"FECHA\": \"2022-06-23T00:00:00\", \"count\": 25}, {\"FECHA\": \"2022-06-24T00:00:00\", \"count\": 15}, {\"FECHA\": \"2022-06-25T00:00:00\", \"count\": 13}, {\"FECHA\": \"2022-06-26T00:00:00\", \"count\": 12}, {\"FECHA\": \"2022-06-27T00:00:00\", \"count\": 12}, {\"FECHA\": \"2022-06-28T00:00:00\", \"count\": 25}, {\"FECHA\": \"2022-06-29T00:00:00\", \"count\": 43}, {\"FECHA\": \"2022-06-30T00:00:00\", \"count\": 35}, {\"FECHA\": \"2022-07-01T00:00:00\", \"count\": 7}, {\"FECHA\": \"2022-07-02T00:00:00\", \"count\": 9}, {\"FECHA\": \"2022-07-03T00:00:00\", \"count\": 3}, {\"FECHA\": \"2022-07-04T00:00:00\", \"count\": 12}, {\"FECHA\": \"2022-07-05T00:00:00\", \"count\": 14}, {\"FECHA\": \"2022-07-06T00:00:00\", \"count\": 39}, {\"FECHA\": \"2022-07-07T00:00:00\", \"count\": 36}, {\"FECHA\": \"2022-07-08T00:00:00\", \"count\": 28}, {\"FECHA\": \"2022-07-09T00:00:00\", \"count\": 26}, {\"FECHA\": \"2022-07-10T00:00:00\", \"count\": 10}, {\"FECHA\": \"2022-07-11T00:00:00\", \"count\": 36}, {\"FECHA\": \"2022-07-12T00:00:00\", \"count\": 25}, {\"FECHA\": \"2022-07-13T00:00:00\", \"count\": 32}, {\"FECHA\": \"2022-07-14T00:00:00\", \"count\": 18}, {\"FECHA\": \"2022-07-15T00:00:00\", \"count\": 23}, {\"FECHA\": \"2022-07-16T00:00:00\", \"count\": 10}, {\"FECHA\": \"2022-07-17T00:00:00\", \"count\": 17}, {\"FECHA\": \"2022-07-18T00:00:00\", \"count\": 21}, {\"FECHA\": \"2022-07-19T00:00:00\", \"count\": 18}, {\"FECHA\": \"2022-07-20T00:00:00\", \"count\": 23}, {\"FECHA\": \"2022-07-21T00:00:00\", \"count\": 14}, {\"FECHA\": \"2022-07-22T00:00:00\", \"count\": 25}, {\"FECHA\": \"2022-07-23T00:00:00\", \"count\": 13}, {\"FECHA\": \"2022-07-24T00:00:00\", \"count\": 6}, {\"FECHA\": \"2022-07-25T00:00:00\", \"count\": 29}, {\"FECHA\": \"2022-07-26T00:00:00\", \"count\": 17}, {\"FECHA\": \"2022-07-27T00:00:00\", \"count\": 26}, {\"FECHA\": \"2022-07-28T00:00:00\", \"count\": 24}, {\"FECHA\": \"2022-07-29T00:00:00\", \"count\": 17}, {\"FECHA\": \"2022-07-30T00:00:00\", \"count\": 16}, {\"FECHA\": \"2022-07-31T00:00:00\", \"count\": 11}]}}, {\"mode\": \"vega-lite\"});\n",
       "</script>"
      ],
      "text/plain": [
       "alt.LayerChart(...)"
      ]
     },
     "execution_count": 33,
     "metadata": {},
     "output_type": "execute_result"
    }
   ],
   "source": [
    "base = alt.Chart(df2.groupby([pd.Grouper(key='FECHA', freq='D')])\n",
    " .size()\n",
    " .reset_index(name='count')\n",
    ").mark_line().encode(\n",
    "    x = 'FECHA',\n",
    "    y = alt.Y('count', scale=alt.Scale(domain=(0,140))),\n",
    "    tooltip = ['FECHA', 'count']\n",
    ").properties(\n",
    "    title = 'Número de Llamadas por Día'\n",
    ")\n",
    "\n",
    "base + base.transform_loess('FECHA', 'count', bandwidth = 0.05).mark_line(size=1, color='red') "
   ]
  },
  {
   "cell_type": "markdown",
   "id": "81607b4b",
   "metadata": {},
   "source": [
    "Hubo un pico de llamadas de colombianos en el exterior entre Enero y Mayo del 2021. Sin embargo, el número de llamdas se ha ido estabilizando un poco en los últimos meses."
   ]
  },
  {
   "cell_type": "markdown",
   "id": "147b998c",
   "metadata": {},
   "source": [
    "### Por Mes"
   ]
  },
  {
   "cell_type": "code",
   "execution_count": 34,
   "id": "223c9812",
   "metadata": {
    "ExecuteTime": {
     "end_time": "2022-08-22T21:17:09.287967Z",
     "start_time": "2022-08-22T21:17:09.254129Z"
    },
    "scrolled": false
   },
   "outputs": [
    {
     "data": {
      "text/html": [
       "\n",
       "<div id=\"altair-viz-4ca5261968bb48b9ada46b4ecf7beae3\"></div>\n",
       "<script type=\"text/javascript\">\n",
       "  var VEGA_DEBUG = (typeof VEGA_DEBUG == \"undefined\") ? {} : VEGA_DEBUG;\n",
       "  (function(spec, embedOpt){\n",
       "    let outputDiv = document.currentScript.previousElementSibling;\n",
       "    if (outputDiv.id !== \"altair-viz-4ca5261968bb48b9ada46b4ecf7beae3\") {\n",
       "      outputDiv = document.getElementById(\"altair-viz-4ca5261968bb48b9ada46b4ecf7beae3\");\n",
       "    }\n",
       "    const paths = {\n",
       "      \"vega\": \"https://cdn.jsdelivr.net/npm//vega@5?noext\",\n",
       "      \"vega-lib\": \"https://cdn.jsdelivr.net/npm//vega-lib?noext\",\n",
       "      \"vega-lite\": \"https://cdn.jsdelivr.net/npm//vega-lite@4.17.0?noext\",\n",
       "      \"vega-embed\": \"https://cdn.jsdelivr.net/npm//vega-embed@6?noext\",\n",
       "    };\n",
       "\n",
       "    function maybeLoadScript(lib, version) {\n",
       "      var key = `${lib.replace(\"-\", \"\")}_version`;\n",
       "      return (VEGA_DEBUG[key] == version) ?\n",
       "        Promise.resolve(paths[lib]) :\n",
       "        new Promise(function(resolve, reject) {\n",
       "          var s = document.createElement('script');\n",
       "          document.getElementsByTagName(\"head\")[0].appendChild(s);\n",
       "          s.async = true;\n",
       "          s.onload = () => {\n",
       "            VEGA_DEBUG[key] = version;\n",
       "            return resolve(paths[lib]);\n",
       "          };\n",
       "          s.onerror = () => reject(`Error loading script: ${paths[lib]}`);\n",
       "          s.src = paths[lib];\n",
       "        });\n",
       "    }\n",
       "\n",
       "    function showError(err) {\n",
       "      outputDiv.innerHTML = `<div class=\"error\" style=\"color:red;\">${err}</div>`;\n",
       "      throw err;\n",
       "    }\n",
       "\n",
       "    function displayChart(vegaEmbed) {\n",
       "      vegaEmbed(outputDiv, spec, embedOpt)\n",
       "        .catch(err => showError(`Javascript Error: ${err.message}<br>This usually means there's a typo in your chart specification. See the javascript console for the full traceback.`));\n",
       "    }\n",
       "\n",
       "    if(typeof define === \"function\" && define.amd) {\n",
       "      requirejs.config({paths});\n",
       "      require([\"vega-embed\"], displayChart, err => showError(`Error loading script: ${err.message}`));\n",
       "    } else {\n",
       "      maybeLoadScript(\"vega\", \"5\")\n",
       "        .then(() => maybeLoadScript(\"vega-lite\", \"4.17.0\"))\n",
       "        .then(() => maybeLoadScript(\"vega-embed\", \"6\"))\n",
       "        .catch(showError)\n",
       "        .then(() => displayChart(vegaEmbed));\n",
       "    }\n",
       "  })({\"config\": {\"view\": {\"continuousWidth\": 400, \"continuousHeight\": 300}}, \"data\": {\"name\": \"data-316fb79480111e514619421c65474e7d\"}, \"mark\": \"line\", \"encoding\": {\"tooltip\": [{\"field\": \"FECHA\", \"type\": \"temporal\"}, {\"field\": \"count\", \"type\": \"quantitative\"}], \"x\": {\"field\": \"FECHA\", \"type\": \"temporal\"}, \"y\": {\"field\": \"count\", \"type\": \"quantitative\"}}, \"title\": \"N\\u00famero de Llamadas por Mes\", \"$schema\": \"https://vega.github.io/schema/vega-lite/v4.17.0.json\", \"datasets\": {\"data-316fb79480111e514619421c65474e7d\": [{\"FECHA\": \"2020-01-31T00:00:00\", \"count\": 138}, {\"FECHA\": \"2020-02-29T00:00:00\", \"count\": 171}, {\"FECHA\": \"2020-03-31T00:00:00\", \"count\": 147}, {\"FECHA\": \"2020-04-30T00:00:00\", \"count\": 34}, {\"FECHA\": \"2020-05-31T00:00:00\", \"count\": 30}, {\"FECHA\": \"2020-06-30T00:00:00\", \"count\": 43}, {\"FECHA\": \"2020-07-31T00:00:00\", \"count\": 104}, {\"FECHA\": \"2020-08-31T00:00:00\", \"count\": 402}, {\"FECHA\": \"2020-09-30T00:00:00\", \"count\": 222}, {\"FECHA\": \"2020-10-31T00:00:00\", \"count\": 261}, {\"FECHA\": \"2020-11-30T00:00:00\", \"count\": 689}, {\"FECHA\": \"2020-12-31T00:00:00\", \"count\": 588}, {\"FECHA\": \"2021-01-31T00:00:00\", \"count\": 819}, {\"FECHA\": \"2021-02-28T00:00:00\", \"count\": 1653}, {\"FECHA\": \"2021-03-31T00:00:00\", \"count\": 1722}, {\"FECHA\": \"2021-04-30T00:00:00\", \"count\": 1219}, {\"FECHA\": \"2021-05-31T00:00:00\", \"count\": 901}]}}, {\"mode\": \"vega-lite\"});\n",
       "</script>"
      ],
      "text/plain": [
       "alt.Chart(...)"
      ]
     },
     "execution_count": 34,
     "metadata": {},
     "output_type": "execute_result"
    }
   ],
   "source": [
    "alt.Chart(df[df.FECHA < '2021-06-01'].groupby([pd.Grouper(key='FECHA', freq='M')])\n",
    " .size()\n",
    " .reset_index(name='count')\n",
    ").mark_line().encode(\n",
    "    x = 'FECHA',\n",
    "    y = alt.Y('count'),\n",
    "    tooltip = ['FECHA', 'count']\n",
    ").properties(\n",
    "    title = 'Número de Llamadas por Mes'\n",
    ")"
   ]
  },
  {
   "cell_type": "code",
   "execution_count": 38,
   "id": "28cfa152",
   "metadata": {
    "ExecuteTime": {
     "end_time": "2022-08-22T21:20:06.704081Z",
     "start_time": "2022-08-22T21:20:06.677727Z"
    }
   },
   "outputs": [
    {
     "data": {
      "text/html": [
       "\n",
       "<div id=\"altair-viz-ff6f1a64c5de4bd0bf3bbdd18a15130a\"></div>\n",
       "<script type=\"text/javascript\">\n",
       "  var VEGA_DEBUG = (typeof VEGA_DEBUG == \"undefined\") ? {} : VEGA_DEBUG;\n",
       "  (function(spec, embedOpt){\n",
       "    let outputDiv = document.currentScript.previousElementSibling;\n",
       "    if (outputDiv.id !== \"altair-viz-ff6f1a64c5de4bd0bf3bbdd18a15130a\") {\n",
       "      outputDiv = document.getElementById(\"altair-viz-ff6f1a64c5de4bd0bf3bbdd18a15130a\");\n",
       "    }\n",
       "    const paths = {\n",
       "      \"vega\": \"https://cdn.jsdelivr.net/npm//vega@5?noext\",\n",
       "      \"vega-lib\": \"https://cdn.jsdelivr.net/npm//vega-lib?noext\",\n",
       "      \"vega-lite\": \"https://cdn.jsdelivr.net/npm//vega-lite@4.17.0?noext\",\n",
       "      \"vega-embed\": \"https://cdn.jsdelivr.net/npm//vega-embed@6?noext\",\n",
       "    };\n",
       "\n",
       "    function maybeLoadScript(lib, version) {\n",
       "      var key = `${lib.replace(\"-\", \"\")}_version`;\n",
       "      return (VEGA_DEBUG[key] == version) ?\n",
       "        Promise.resolve(paths[lib]) :\n",
       "        new Promise(function(resolve, reject) {\n",
       "          var s = document.createElement('script');\n",
       "          document.getElementsByTagName(\"head\")[0].appendChild(s);\n",
       "          s.async = true;\n",
       "          s.onload = () => {\n",
       "            VEGA_DEBUG[key] = version;\n",
       "            return resolve(paths[lib]);\n",
       "          };\n",
       "          s.onerror = () => reject(`Error loading script: ${paths[lib]}`);\n",
       "          s.src = paths[lib];\n",
       "        });\n",
       "    }\n",
       "\n",
       "    function showError(err) {\n",
       "      outputDiv.innerHTML = `<div class=\"error\" style=\"color:red;\">${err}</div>`;\n",
       "      throw err;\n",
       "    }\n",
       "\n",
       "    function displayChart(vegaEmbed) {\n",
       "      vegaEmbed(outputDiv, spec, embedOpt)\n",
       "        .catch(err => showError(`Javascript Error: ${err.message}<br>This usually means there's a typo in your chart specification. See the javascript console for the full traceback.`));\n",
       "    }\n",
       "\n",
       "    if(typeof define === \"function\" && define.amd) {\n",
       "      requirejs.config({paths});\n",
       "      require([\"vega-embed\"], displayChart, err => showError(`Error loading script: ${err.message}`));\n",
       "    } else {\n",
       "      maybeLoadScript(\"vega\", \"5\")\n",
       "        .then(() => maybeLoadScript(\"vega-lite\", \"4.17.0\"))\n",
       "        .then(() => maybeLoadScript(\"vega-embed\", \"6\"))\n",
       "        .catch(showError)\n",
       "        .then(() => displayChart(vegaEmbed));\n",
       "    }\n",
       "  })({\"config\": {\"view\": {\"continuousWidth\": 400, \"continuousHeight\": 300}}, \"data\": {\"name\": \"data-1d79ca13380f40314c34bc5e53fad409\"}, \"mark\": \"line\", \"encoding\": {\"tooltip\": [{\"field\": \"FECHA\", \"type\": \"temporal\"}, {\"field\": \"count\", \"type\": \"quantitative\"}], \"x\": {\"field\": \"FECHA\", \"type\": \"temporal\"}, \"y\": {\"field\": \"count\", \"type\": \"quantitative\"}}, \"title\": \"N\\u00famero de Llamadas por Mes\", \"$schema\": \"https://vega.github.io/schema/vega-lite/v4.17.0.json\", \"datasets\": {\"data-1d79ca13380f40314c34bc5e53fad409\": [{\"FECHA\": \"2022-02-28T00:00:00\", \"count\": 709}, {\"FECHA\": \"2022-03-31T00:00:00\", \"count\": 937}, {\"FECHA\": \"2022-04-30T00:00:00\", \"count\": 778}, {\"FECHA\": \"2022-05-31T00:00:00\", \"count\": 722}, {\"FECHA\": \"2022-06-30T00:00:00\", \"count\": 664}, {\"FECHA\": \"2022-07-31T00:00:00\", \"count\": 605}]}}, {\"mode\": \"vega-lite\"});\n",
       "</script>"
      ],
      "text/plain": [
       "alt.Chart(...)"
      ]
     },
     "execution_count": 38,
     "metadata": {},
     "output_type": "execute_result"
    }
   ],
   "source": [
    "alt.Chart(df2[df2.FECHA < '2022-08-01'].groupby([pd.Grouper(key='FECHA', freq='M')])\n",
    " .size()\n",
    " .reset_index(name='count')\n",
    ").mark_line().encode(\n",
    "    x = 'FECHA',\n",
    "    y = alt.Y('count'),\n",
    "    tooltip = ['FECHA', 'count']\n",
    ").properties(\n",
    "    title = 'Número de Llamadas por Mes'\n",
    ")"
   ]
  },
  {
   "cell_type": "markdown",
   "id": "ba14c6f5",
   "metadata": {},
   "source": [
    "Esta gráfico es parecido al anterior pero por mes en vez de por día. Se excluye los datos de Junio para no tener datos parciales de éste mes."
   ]
  },
  {
   "cell_type": "markdown",
   "id": "ebd05bef",
   "metadata": {},
   "source": [
    "## Duración Llamadas"
   ]
  },
  {
   "cell_type": "markdown",
   "id": "3d30ef2b",
   "metadata": {},
   "source": [
    "### En el Tiempo"
   ]
  },
  {
   "cell_type": "code",
   "execution_count": 39,
   "id": "255b69c4",
   "metadata": {
    "ExecuteTime": {
     "end_time": "2022-08-22T21:20:19.865755Z",
     "start_time": "2022-08-22T21:20:19.819812Z"
    }
   },
   "outputs": [
    {
     "data": {
      "text/html": [
       "\n",
       "<div id=\"altair-viz-991f8e002046465bba5649d4ef91af1f\"></div>\n",
       "<script type=\"text/javascript\">\n",
       "  var VEGA_DEBUG = (typeof VEGA_DEBUG == \"undefined\") ? {} : VEGA_DEBUG;\n",
       "  (function(spec, embedOpt){\n",
       "    let outputDiv = document.currentScript.previousElementSibling;\n",
       "    if (outputDiv.id !== \"altair-viz-991f8e002046465bba5649d4ef91af1f\") {\n",
       "      outputDiv = document.getElementById(\"altair-viz-991f8e002046465bba5649d4ef91af1f\");\n",
       "    }\n",
       "    const paths = {\n",
       "      \"vega\": \"https://cdn.jsdelivr.net/npm//vega@5?noext\",\n",
       "      \"vega-lib\": \"https://cdn.jsdelivr.net/npm//vega-lib?noext\",\n",
       "      \"vega-lite\": \"https://cdn.jsdelivr.net/npm//vega-lite@4.17.0?noext\",\n",
       "      \"vega-embed\": \"https://cdn.jsdelivr.net/npm//vega-embed@6?noext\",\n",
       "    };\n",
       "\n",
       "    function maybeLoadScript(lib, version) {\n",
       "      var key = `${lib.replace(\"-\", \"\")}_version`;\n",
       "      return (VEGA_DEBUG[key] == version) ?\n",
       "        Promise.resolve(paths[lib]) :\n",
       "        new Promise(function(resolve, reject) {\n",
       "          var s = document.createElement('script');\n",
       "          document.getElementsByTagName(\"head\")[0].appendChild(s);\n",
       "          s.async = true;\n",
       "          s.onload = () => {\n",
       "            VEGA_DEBUG[key] = version;\n",
       "            return resolve(paths[lib]);\n",
       "          };\n",
       "          s.onerror = () => reject(`Error loading script: ${paths[lib]}`);\n",
       "          s.src = paths[lib];\n",
       "        });\n",
       "    }\n",
       "\n",
       "    function showError(err) {\n",
       "      outputDiv.innerHTML = `<div class=\"error\" style=\"color:red;\">${err}</div>`;\n",
       "      throw err;\n",
       "    }\n",
       "\n",
       "    function displayChart(vegaEmbed) {\n",
       "      vegaEmbed(outputDiv, spec, embedOpt)\n",
       "        .catch(err => showError(`Javascript Error: ${err.message}<br>This usually means there's a typo in your chart specification. See the javascript console for the full traceback.`));\n",
       "    }\n",
       "\n",
       "    if(typeof define === \"function\" && define.amd) {\n",
       "      requirejs.config({paths});\n",
       "      require([\"vega-embed\"], displayChart, err => showError(`Error loading script: ${err.message}`));\n",
       "    } else {\n",
       "      maybeLoadScript(\"vega\", \"5\")\n",
       "        .then(() => maybeLoadScript(\"vega-lite\", \"4.17.0\"))\n",
       "        .then(() => maybeLoadScript(\"vega-embed\", \"6\"))\n",
       "        .catch(showError)\n",
       "        .then(() => displayChart(vegaEmbed));\n",
       "    }\n",
       "  })({\"config\": {\"view\": {\"continuousWidth\": 400, \"continuousHeight\": 300}}, \"layer\": [{\"mark\": {\"type\": \"area\", \"color\": \"#57A44C\", \"opacity\": 0.3}, \"encoding\": {\"x\": {\"field\": \"FECHA\", \"type\": \"temporal\"}, \"y\": {\"field\": \"duracion_min\", \"type\": \"quantitative\"}, \"y2\": {\"field\": \"duracion_max\"}}}, {\"mark\": \"line\", \"encoding\": {\"tooltip\": [{\"field\": \"FECHA\", \"type\": \"temporal\"}, {\"field\": \"duracion_mean\", \"type\": \"quantitative\"}, {\"field\": \"mean_std\", \"type\": \"quantitative\"}], \"x\": {\"field\": \"FECHA\", \"type\": \"temporal\"}, \"y\": {\"field\": \"duracion_mean\", \"type\": \"quantitative\"}}, \"title\": \"Promedio e Intervalo de Confianza sobre la media en Duraci\\u00f3n (Minutos)\"}, {\"mark\": {\"type\": \"line\", \"color\": \"red\"}, \"encoding\": {\"tooltip\": [{\"field\": \"FECHA\", \"type\": \"temporal\"}, {\"field\": \"duracion_mean\", \"type\": \"quantitative\"}, {\"field\": \"mean_std\", \"type\": \"quantitative\"}], \"x\": {\"field\": \"FECHA\", \"type\": \"temporal\"}, \"y\": {\"field\": \"duracion_mean\", \"type\": \"quantitative\"}}, \"title\": \"Promedio e Intervalo de Confianza sobre la media en Duraci\\u00f3n (Minutos)\", \"transform\": [{\"on\": \"FECHA\", \"regression\": \"duracion_mean\"}]}], \"data\": {\"name\": \"data-a076114a7ec20d110377479770ec3cf7\"}, \"$schema\": \"https://vega.github.io/schema/vega-lite/v4.17.0.json\", \"datasets\": {\"data-a076114a7ec20d110377479770ec3cf7\": [{\"FECHA\": \"2020-01-31T00:00:00\", \"duracion_mean\": 20.31, \"duracion_std\": 12.73, \"duracion_cnt\": 138, \"mean_std\": 1.08, \"duracion_min\": 18.14, \"duracion_max\": 22.48}, {\"FECHA\": \"2020-02-29T00:00:00\", \"duracion_mean\": 17.11, \"duracion_std\": 11.39, \"duracion_cnt\": 171, \"mean_std\": 0.87, \"duracion_min\": 15.37, \"duracion_max\": 18.85}, {\"FECHA\": \"2020-03-31T00:00:00\", \"duracion_mean\": 19.54, \"duracion_std\": 11.77, \"duracion_cnt\": 147, \"mean_std\": 0.97, \"duracion_min\": 17.6, \"duracion_max\": 21.48}, {\"FECHA\": \"2020-04-30T00:00:00\", \"duracion_mean\": 19.62, \"duracion_std\": 12.48, \"duracion_cnt\": 34, \"mean_std\": 2.14, \"duracion_min\": 15.34, \"duracion_max\": 23.9}, {\"FECHA\": \"2020-05-31T00:00:00\", \"duracion_mean\": 19.87, \"duracion_std\": 13.12, \"duracion_cnt\": 30, \"mean_std\": 2.4, \"duracion_min\": 15.08, \"duracion_max\": 24.66}, {\"FECHA\": \"2020-06-30T00:00:00\", \"duracion_mean\": 19.9, \"duracion_std\": 15.16, \"duracion_cnt\": 43, \"mean_std\": 2.31, \"duracion_min\": 15.27, \"duracion_max\": 24.52}, {\"FECHA\": \"2020-07-31T00:00:00\", \"duracion_mean\": 25.37, \"duracion_std\": 13.38, \"duracion_cnt\": 104, \"mean_std\": 1.31, \"duracion_min\": 22.75, \"duracion_max\": 28.0}, {\"FECHA\": \"2020-08-31T00:00:00\", \"duracion_mean\": 21.6, \"duracion_std\": 12.53, \"duracion_cnt\": 402, \"mean_std\": 0.62, \"duracion_min\": 20.35, \"duracion_max\": 22.84}, {\"FECHA\": \"2020-09-30T00:00:00\", \"duracion_mean\": 21.46, \"duracion_std\": 14.72, \"duracion_cnt\": 222, \"mean_std\": 0.99, \"duracion_min\": 19.48, \"duracion_max\": 23.43}, {\"FECHA\": \"2020-10-31T00:00:00\", \"duracion_mean\": 21.96, \"duracion_std\": 12.64, \"duracion_cnt\": 261, \"mean_std\": 0.78, \"duracion_min\": 20.39, \"duracion_max\": 23.52}, {\"FECHA\": \"2020-11-30T00:00:00\", \"duracion_mean\": 22.86, \"duracion_std\": 13.51, \"duracion_cnt\": 689, \"mean_std\": 0.51, \"duracion_min\": 21.83, \"duracion_max\": 23.89}, {\"FECHA\": \"2020-12-31T00:00:00\", \"duracion_mean\": 25.42, \"duracion_std\": 15.37, \"duracion_cnt\": 588, \"mean_std\": 0.63, \"duracion_min\": 24.15, \"duracion_max\": 26.68}, {\"FECHA\": \"2021-01-31T00:00:00\", \"duracion_mean\": 23.85, \"duracion_std\": 13.94, \"duracion_cnt\": 819, \"mean_std\": 0.49, \"duracion_min\": 22.88, \"duracion_max\": 24.82}, {\"FECHA\": \"2021-02-28T00:00:00\", \"duracion_mean\": 24.7, \"duracion_std\": 13.89, \"duracion_cnt\": 1653, \"mean_std\": 0.34, \"duracion_min\": 24.02, \"duracion_max\": 25.39}, {\"FECHA\": \"2021-03-31T00:00:00\", \"duracion_mean\": 22.63, \"duracion_std\": 13.51, \"duracion_cnt\": 1722, \"mean_std\": 0.33, \"duracion_min\": 21.98, \"duracion_max\": 23.28}, {\"FECHA\": \"2021-04-30T00:00:00\", \"duracion_mean\": 21.77, \"duracion_std\": 13.52, \"duracion_cnt\": 1219, \"mean_std\": 0.39, \"duracion_min\": 20.99, \"duracion_max\": 22.54}, {\"FECHA\": \"2021-05-31T00:00:00\", \"duracion_mean\": 22.11, \"duracion_std\": 14.28, \"duracion_cnt\": 901, \"mean_std\": 0.48, \"duracion_min\": 21.16, \"duracion_max\": 23.06}, {\"FECHA\": \"2021-06-30T00:00:00\", \"duracion_mean\": 22.04, \"duracion_std\": 15.34, \"duracion_cnt\": 281, \"mean_std\": 0.92, \"duracion_min\": 20.21, \"duracion_max\": 23.87}]}}, {\"mode\": \"vega-lite\"});\n",
       "</script>"
      ],
      "text/plain": [
       "alt.LayerChart(...)"
      ]
     },
     "execution_count": 39,
     "metadata": {},
     "output_type": "execute_result"
    }
   ],
   "source": [
    "df_to_plot = (df.groupby([pd.Grouper(key='FECHA', freq='M')])\n",
    " .agg(duracion_mean=('DURACION','mean'),\n",
    "      duracion_std=('DURACION','std'),\n",
    "      duracion_cnt=('DURACION','size'))\n",
    " .assign(mean_std = lambda x: x.duracion_std / np.sqrt(x.duracion_cnt))\n",
    " .assign(duracion_min = lambda x: x.duracion_mean - 2*x.mean_std)\n",
    " .assign(duracion_max = lambda x: x.duracion_mean + 2*x.mean_std)\n",
    " .reset_index()\n",
    " .round(2)\n",
    ")\n",
    "\n",
    "line = alt.Chart(df_to_plot).mark_line().encode(\n",
    "    x = 'FECHA',\n",
    "    y = alt.Y('duracion_mean'),\n",
    "    tooltip = ['FECHA', 'duracion_mean', 'mean_std']\n",
    ").properties(\n",
    "    title = 'Promedio e Intervalo de Confianza sobre la media en Duración (Minutos)'\n",
    ")\n",
    "\n",
    "area = alt.Chart(df_to_plot).mark_area(opacity=0.3, color='#57A44C').encode(\n",
    "    x = 'FECHA',\n",
    "    y = alt.Y('duracion_min'),\n",
    "    y2 = alt.Y2('duracion_max')\n",
    ")\n",
    "\n",
    "area + line + line.transform_regression('FECHA', 'duracion_mean').mark_line(color='red')"
   ]
  },
  {
   "cell_type": "code",
   "execution_count": 40,
   "id": "cc48ac6f",
   "metadata": {
    "ExecuteTime": {
     "end_time": "2022-08-22T21:22:23.646488Z",
     "start_time": "2022-08-22T21:22:23.611209Z"
    }
   },
   "outputs": [
    {
     "data": {
      "text/html": [
       "\n",
       "<div id=\"altair-viz-b7b90c890e674180b28ab0c40f719aad\"></div>\n",
       "<script type=\"text/javascript\">\n",
       "  var VEGA_DEBUG = (typeof VEGA_DEBUG == \"undefined\") ? {} : VEGA_DEBUG;\n",
       "  (function(spec, embedOpt){\n",
       "    let outputDiv = document.currentScript.previousElementSibling;\n",
       "    if (outputDiv.id !== \"altair-viz-b7b90c890e674180b28ab0c40f719aad\") {\n",
       "      outputDiv = document.getElementById(\"altair-viz-b7b90c890e674180b28ab0c40f719aad\");\n",
       "    }\n",
       "    const paths = {\n",
       "      \"vega\": \"https://cdn.jsdelivr.net/npm//vega@5?noext\",\n",
       "      \"vega-lib\": \"https://cdn.jsdelivr.net/npm//vega-lib?noext\",\n",
       "      \"vega-lite\": \"https://cdn.jsdelivr.net/npm//vega-lite@4.17.0?noext\",\n",
       "      \"vega-embed\": \"https://cdn.jsdelivr.net/npm//vega-embed@6?noext\",\n",
       "    };\n",
       "\n",
       "    function maybeLoadScript(lib, version) {\n",
       "      var key = `${lib.replace(\"-\", \"\")}_version`;\n",
       "      return (VEGA_DEBUG[key] == version) ?\n",
       "        Promise.resolve(paths[lib]) :\n",
       "        new Promise(function(resolve, reject) {\n",
       "          var s = document.createElement('script');\n",
       "          document.getElementsByTagName(\"head\")[0].appendChild(s);\n",
       "          s.async = true;\n",
       "          s.onload = () => {\n",
       "            VEGA_DEBUG[key] = version;\n",
       "            return resolve(paths[lib]);\n",
       "          };\n",
       "          s.onerror = () => reject(`Error loading script: ${paths[lib]}`);\n",
       "          s.src = paths[lib];\n",
       "        });\n",
       "    }\n",
       "\n",
       "    function showError(err) {\n",
       "      outputDiv.innerHTML = `<div class=\"error\" style=\"color:red;\">${err}</div>`;\n",
       "      throw err;\n",
       "    }\n",
       "\n",
       "    function displayChart(vegaEmbed) {\n",
       "      vegaEmbed(outputDiv, spec, embedOpt)\n",
       "        .catch(err => showError(`Javascript Error: ${err.message}<br>This usually means there's a typo in your chart specification. See the javascript console for the full traceback.`));\n",
       "    }\n",
       "\n",
       "    if(typeof define === \"function\" && define.amd) {\n",
       "      requirejs.config({paths});\n",
       "      require([\"vega-embed\"], displayChart, err => showError(`Error loading script: ${err.message}`));\n",
       "    } else {\n",
       "      maybeLoadScript(\"vega\", \"5\")\n",
       "        .then(() => maybeLoadScript(\"vega-lite\", \"4.17.0\"))\n",
       "        .then(() => maybeLoadScript(\"vega-embed\", \"6\"))\n",
       "        .catch(showError)\n",
       "        .then(() => displayChart(vegaEmbed));\n",
       "    }\n",
       "  })({\"config\": {\"view\": {\"continuousWidth\": 400, \"continuousHeight\": 300}}, \"layer\": [{\"mark\": {\"type\": \"area\", \"color\": \"#57A44C\", \"opacity\": 0.3}, \"encoding\": {\"x\": {\"field\": \"FECHA\", \"type\": \"temporal\"}, \"y\": {\"field\": \"duracion_min\", \"type\": \"quantitative\"}, \"y2\": {\"field\": \"duracion_max\"}}}, {\"mark\": \"line\", \"encoding\": {\"tooltip\": [{\"field\": \"FECHA\", \"type\": \"temporal\"}, {\"field\": \"duracion_mean\", \"type\": \"quantitative\"}, {\"field\": \"mean_std\", \"type\": \"quantitative\"}], \"x\": {\"field\": \"FECHA\", \"type\": \"temporal\"}, \"y\": {\"field\": \"duracion_mean\", \"type\": \"quantitative\"}}, \"title\": \"Promedio e Intervalo de Confianza sobre la media en Duraci\\u00f3n (Minutos)\"}, {\"mark\": {\"type\": \"line\", \"color\": \"red\"}, \"encoding\": {\"tooltip\": [{\"field\": \"FECHA\", \"type\": \"temporal\"}, {\"field\": \"duracion_mean\", \"type\": \"quantitative\"}, {\"field\": \"mean_std\", \"type\": \"quantitative\"}], \"x\": {\"field\": \"FECHA\", \"type\": \"temporal\"}, \"y\": {\"field\": \"duracion_mean\", \"type\": \"quantitative\"}}, \"title\": \"Promedio e Intervalo de Confianza sobre la media en Duraci\\u00f3n (Minutos)\", \"transform\": [{\"on\": \"FECHA\", \"regression\": \"duracion_mean\"}]}], \"data\": {\"name\": \"data-fb0c36922ed8c96b13367625eef49fbf\"}, \"$schema\": \"https://vega.github.io/schema/vega-lite/v4.17.0.json\", \"datasets\": {\"data-fb0c36922ed8c96b13367625eef49fbf\": [{\"FECHA\": \"2022-02-28T00:00:00\", \"duracion_mean\": 19.03, \"duracion_std\": 12.35, \"duracion_cnt\": 709, \"mean_std\": 0.46, \"duracion_min\": 18.1, \"duracion_max\": 19.95}, {\"FECHA\": \"2022-03-31T00:00:00\", \"duracion_mean\": 20.54, \"duracion_std\": 13.0, \"duracion_cnt\": 937, \"mean_std\": 0.42, \"duracion_min\": 19.69, \"duracion_max\": 21.39}, {\"FECHA\": \"2022-04-30T00:00:00\", \"duracion_mean\": 20.66, \"duracion_std\": 12.62, \"duracion_cnt\": 778, \"mean_std\": 0.45, \"duracion_min\": 19.75, \"duracion_max\": 21.56}, {\"FECHA\": \"2022-05-31T00:00:00\", \"duracion_mean\": 22.54, \"duracion_std\": 12.12, \"duracion_cnt\": 722, \"mean_std\": 0.45, \"duracion_min\": 21.64, \"duracion_max\": 23.45}, {\"FECHA\": \"2022-06-30T00:00:00\", \"duracion_mean\": 20.76, \"duracion_std\": 13.75, \"duracion_cnt\": 664, \"mean_std\": 0.53, \"duracion_min\": 19.69, \"duracion_max\": 21.83}, {\"FECHA\": \"2022-07-31T00:00:00\", \"duracion_mean\": 21.18, \"duracion_std\": 13.46, \"duracion_cnt\": 605, \"mean_std\": 0.55, \"duracion_min\": 20.08, \"duracion_max\": 22.27}]}}, {\"mode\": \"vega-lite\"});\n",
       "</script>"
      ],
      "text/plain": [
       "alt.LayerChart(...)"
      ]
     },
     "execution_count": 40,
     "metadata": {},
     "output_type": "execute_result"
    }
   ],
   "source": [
    "df2_to_plot = (df2.groupby([pd.Grouper(key='FECHA', freq='M')])\n",
    " .agg(duracion_mean=('DURACION','mean'),\n",
    "      duracion_std=('DURACION','std'),\n",
    "      duracion_cnt=('DURACION','size'))\n",
    " .assign(mean_std = lambda x: x.duracion_std / np.sqrt(x.duracion_cnt))\n",
    " .assign(duracion_min = lambda x: x.duracion_mean - 2*x.mean_std)\n",
    " .assign(duracion_max = lambda x: x.duracion_mean + 2*x.mean_std)\n",
    " .reset_index()\n",
    " .round(2)\n",
    ")\n",
    "\n",
    "line = alt.Chart(df2_to_plot).mark_line().encode(\n",
    "    x = 'FECHA',\n",
    "    y = alt.Y('duracion_mean'),\n",
    "    tooltip = ['FECHA', 'duracion_mean', 'mean_std']\n",
    ").properties(\n",
    "    title = 'Promedio e Intervalo de Confianza sobre la media en Duración (Minutos)'\n",
    ")\n",
    "\n",
    "area = alt.Chart(df2_to_plot).mark_area(opacity=0.3, color='#57A44C').encode(\n",
    "    x = 'FECHA',\n",
    "    y = alt.Y('duracion_min'),\n",
    "    y2 = alt.Y2('duracion_max')\n",
    ")\n",
    "\n",
    "area + line + line.transform_regression('FECHA', 'duracion_mean').mark_line(color='red')"
   ]
  },
  {
   "cell_type": "markdown",
   "id": "676d1fcd",
   "metadata": {},
   "source": [
    "Extrañamente, parece que hay una leve tendencia de incremento en el promedio de la duración de las llamadas en el tiempo. El incremento en la variabilidad en Mayo, Junio y Julio del 2020, se deben a las pocas llamadas durante esos meses como se ve en la linea de tendencia roja."
   ]
  },
  {
   "cell_type": "markdown",
   "id": "ce3b8b61",
   "metadata": {},
   "source": [
    "### Por Tipo de Desbloqueo"
   ]
  },
  {
   "cell_type": "code",
   "execution_count": 41,
   "id": "7eda31b7",
   "metadata": {
    "ExecuteTime": {
     "end_time": "2022-08-22T21:26:19.939303Z",
     "start_time": "2022-08-22T21:26:19.884181Z"
    }
   },
   "outputs": [
    {
     "data": {
      "text/html": [
       "\n",
       "<div id=\"altair-viz-7ef29f24ae1240469fc41d27301fd0dd\"></div>\n",
       "<script type=\"text/javascript\">\n",
       "  var VEGA_DEBUG = (typeof VEGA_DEBUG == \"undefined\") ? {} : VEGA_DEBUG;\n",
       "  (function(spec, embedOpt){\n",
       "    let outputDiv = document.currentScript.previousElementSibling;\n",
       "    if (outputDiv.id !== \"altair-viz-7ef29f24ae1240469fc41d27301fd0dd\") {\n",
       "      outputDiv = document.getElementById(\"altair-viz-7ef29f24ae1240469fc41d27301fd0dd\");\n",
       "    }\n",
       "    const paths = {\n",
       "      \"vega\": \"https://cdn.jsdelivr.net/npm//vega@5?noext\",\n",
       "      \"vega-lib\": \"https://cdn.jsdelivr.net/npm//vega-lib?noext\",\n",
       "      \"vega-lite\": \"https://cdn.jsdelivr.net/npm//vega-lite@4.17.0?noext\",\n",
       "      \"vega-embed\": \"https://cdn.jsdelivr.net/npm//vega-embed@6?noext\",\n",
       "    };\n",
       "\n",
       "    function maybeLoadScript(lib, version) {\n",
       "      var key = `${lib.replace(\"-\", \"\")}_version`;\n",
       "      return (VEGA_DEBUG[key] == version) ?\n",
       "        Promise.resolve(paths[lib]) :\n",
       "        new Promise(function(resolve, reject) {\n",
       "          var s = document.createElement('script');\n",
       "          document.getElementsByTagName(\"head\")[0].appendChild(s);\n",
       "          s.async = true;\n",
       "          s.onload = () => {\n",
       "            VEGA_DEBUG[key] = version;\n",
       "            return resolve(paths[lib]);\n",
       "          };\n",
       "          s.onerror = () => reject(`Error loading script: ${paths[lib]}`);\n",
       "          s.src = paths[lib];\n",
       "        });\n",
       "    }\n",
       "\n",
       "    function showError(err) {\n",
       "      outputDiv.innerHTML = `<div class=\"error\" style=\"color:red;\">${err}</div>`;\n",
       "      throw err;\n",
       "    }\n",
       "\n",
       "    function displayChart(vegaEmbed) {\n",
       "      vegaEmbed(outputDiv, spec, embedOpt)\n",
       "        .catch(err => showError(`Javascript Error: ${err.message}<br>This usually means there's a typo in your chart specification. See the javascript console for the full traceback.`));\n",
       "    }\n",
       "\n",
       "    if(typeof define === \"function\" && define.amd) {\n",
       "      requirejs.config({paths});\n",
       "      require([\"vega-embed\"], displayChart, err => showError(`Error loading script: ${err.message}`));\n",
       "    } else {\n",
       "      maybeLoadScript(\"vega\", \"5\")\n",
       "        .then(() => maybeLoadScript(\"vega-lite\", \"4.17.0\"))\n",
       "        .then(() => maybeLoadScript(\"vega-embed\", \"6\"))\n",
       "        .catch(showError)\n",
       "        .then(() => displayChart(vegaEmbed));\n",
       "    }\n",
       "  })({\"config\": {\"view\": {\"continuousWidth\": 400, \"continuousHeight\": 300}}, \"layer\": [{\"mark\": \"rule\", \"encoding\": {\"color\": {\"field\": \"DESCCOD\", \"legend\": null, \"type\": \"nominal\"}, \"tooltip\": [{\"field\": \"DESCCOD\", \"type\": \"nominal\"}, {\"field\": \"duracion_min\", \"type\": \"quantitative\"}, {\"field\": \"duracion_mean\", \"type\": \"quantitative\"}, {\"field\": \"duracion_max\", \"type\": \"quantitative\"}], \"x\": {\"field\": \"duracion_min\", \"type\": \"quantitative\"}, \"x2\": {\"field\": \"duracion_max\"}, \"y\": {\"axis\": {\"domain\": false, \"minExtent\": 60, \"offset\": 5, \"ticks\": false, \"title\": \"Tipo Desbloqueo\"}, \"field\": \"DESCCOD\", \"sort\": [\"Desbloqueo con soportes\", \"Desbloqueo exitoso\", \"Desbloqueo pendiente de validacion \", \"Desbloqueo no exitoso\", \"Deteccion suplantacion \"], \"type\": \"nominal\"}}, \"title\": \"Media e Intervalo de Confianza del 95% Duraci\\u00f3n (Min.) por Tipo Desbloqueo\"}, {\"mark\": {\"type\": \"point\", \"color\": \"black\", \"filled\": true, \"size\": 20}, \"encoding\": {\"tooltip\": [{\"field\": \"DESCCOD\", \"type\": \"nominal\"}, {\"field\": \"duracion_min\", \"type\": \"quantitative\"}, {\"field\": \"duracion_mean\", \"type\": \"quantitative\"}, {\"field\": \"duracion_max\", \"type\": \"quantitative\"}], \"x\": {\"field\": \"duracion_mean\", \"type\": \"quantitative\"}, \"x2\": {\"field\": \"duracion_max\"}, \"y\": {\"axis\": {\"domain\": false, \"minExtent\": 60, \"offset\": 5, \"ticks\": false, \"title\": \"Tipo Desbloqueo\"}, \"field\": \"DESCCOD\", \"sort\": [\"Desbloqueo con soportes\", \"Desbloqueo exitoso\", \"Desbloqueo pendiente de validacion \", \"Desbloqueo no exitoso\", \"Deteccion suplantacion \"], \"type\": \"nominal\"}}, \"title\": \"Media e Intervalo de Confianza del 95% Duraci\\u00f3n (Min.) por Tipo Desbloqueo\"}], \"data\": {\"name\": \"data-0992377f10f44c45fdb1218b11b2d689\"}, \"$schema\": \"https://vega.github.io/schema/vega-lite/v4.17.0.json\", \"datasets\": {\"data-0992377f10f44c45fdb1218b11b2d689\": [{\"DESCCOD\": \"Desbloqueo con soportes\", \"duracion_mean\": 34.01, \"duracion_std\": 14.39, \"duracion_min\": 9.15, \"duracion_max\": 65.25}, {\"DESCCOD\": \"Desbloqueo exitoso\", \"duracion_mean\": 24.13, \"duracion_std\": 13.43, \"duracion_min\": 2.1, \"duracion_max\": 54.34}, {\"DESCCOD\": \"Desbloqueo no exitoso\", \"duracion_mean\": 14.97, \"duracion_std\": 12.18, \"duracion_min\": 1.78, \"duracion_max\": 47.7}, {\"DESCCOD\": \"Desbloqueo pendiente de validacion \", \"duracion_mean\": 18.04, \"duracion_std\": 12.65, \"duracion_min\": 2.15, \"duracion_max\": 50.16}, {\"DESCCOD\": \"Deteccion suplantacion \", \"duracion_mean\": 13.31, \"duracion_std\": 10.06, \"duracion_min\": 1.74, \"duracion_max\": 39.91}]}}, {\"mode\": \"vega-lite\"});\n",
       "</script>"
      ],
      "text/plain": [
       "alt.LayerChart(...)"
      ]
     },
     "execution_count": 41,
     "metadata": {},
     "output_type": "execute_result"
    }
   ],
   "source": [
    "y_axis = alt.Axis(\n",
    "    title='Tipo Desbloqueo',\n",
    "    offset=5,\n",
    "    ticks=False,\n",
    "    minExtent=60,\n",
    "    domain=False\n",
    ")\n",
    "\n",
    "def q2_5(x):\n",
    "    return x.quantile(0.025)\n",
    "\n",
    "def q97_5(x):\n",
    "    return x.quantile(0.975)\n",
    "\n",
    "df_plot = (df.groupby(['DESCCOD'])\n",
    " .agg(duracion_mean=('DURACION','mean'),\n",
    "      duracion_std=('DURACION','std'),\n",
    "      duracion_min=('DURACION',q2_5),\n",
    "      duracion_max=('DURACION',q97_5))\n",
    " .reset_index() \n",
    " .round(2)\n",
    ")\n",
    "\n",
    "order_desbloque = df_plot.sort_values('duracion_mean', ascending=False).DESCCOD.tolist()\n",
    "\n",
    "base = alt.Chart(df_plot).mark_rule().encode(\n",
    "    y = alt.Y('DESCCOD', axis=y_axis, sort = order_desbloque),\n",
    "    x = alt.X('duracion_min'),\n",
    "    x2 = 'duracion_max',\n",
    "    tooltip = ['DESCCOD', 'duracion_min', 'duracion_mean', 'duracion_max']\n",
    ").properties(\n",
    "    title = 'Media e Intervalo de Confianza del 95% Duración (Min.) por Tipo Desbloqueo'\n",
    ")\n",
    "\n",
    "tick = base.mark_point(\n",
    "    filled=True,\n",
    "    color='black',\n",
    "    size=20,  # controls width of tick.\n",
    ").encode(\n",
    "    x='duracion_mean',\n",
    "    y= alt.Y('DESCCOD', axis=y_axis, sort = order_desbloque)\n",
    ")\n",
    "\n",
    "base.encode(color = alt.Color('DESCCOD', legend=None)) + tick"
   ]
  },
  {
   "cell_type": "code",
   "execution_count": 42,
   "id": "49b44bbf",
   "metadata": {
    "ExecuteTime": {
     "end_time": "2022-08-22T21:28:06.150523Z",
     "start_time": "2022-08-22T21:28:06.107776Z"
    }
   },
   "outputs": [
    {
     "data": {
      "text/html": [
       "\n",
       "<div id=\"altair-viz-b579bae0265d4320b4e53059ff3aa8bd\"></div>\n",
       "<script type=\"text/javascript\">\n",
       "  var VEGA_DEBUG = (typeof VEGA_DEBUG == \"undefined\") ? {} : VEGA_DEBUG;\n",
       "  (function(spec, embedOpt){\n",
       "    let outputDiv = document.currentScript.previousElementSibling;\n",
       "    if (outputDiv.id !== \"altair-viz-b579bae0265d4320b4e53059ff3aa8bd\") {\n",
       "      outputDiv = document.getElementById(\"altair-viz-b579bae0265d4320b4e53059ff3aa8bd\");\n",
       "    }\n",
       "    const paths = {\n",
       "      \"vega\": \"https://cdn.jsdelivr.net/npm//vega@5?noext\",\n",
       "      \"vega-lib\": \"https://cdn.jsdelivr.net/npm//vega-lib?noext\",\n",
       "      \"vega-lite\": \"https://cdn.jsdelivr.net/npm//vega-lite@4.17.0?noext\",\n",
       "      \"vega-embed\": \"https://cdn.jsdelivr.net/npm//vega-embed@6?noext\",\n",
       "    };\n",
       "\n",
       "    function maybeLoadScript(lib, version) {\n",
       "      var key = `${lib.replace(\"-\", \"\")}_version`;\n",
       "      return (VEGA_DEBUG[key] == version) ?\n",
       "        Promise.resolve(paths[lib]) :\n",
       "        new Promise(function(resolve, reject) {\n",
       "          var s = document.createElement('script');\n",
       "          document.getElementsByTagName(\"head\")[0].appendChild(s);\n",
       "          s.async = true;\n",
       "          s.onload = () => {\n",
       "            VEGA_DEBUG[key] = version;\n",
       "            return resolve(paths[lib]);\n",
       "          };\n",
       "          s.onerror = () => reject(`Error loading script: ${paths[lib]}`);\n",
       "          s.src = paths[lib];\n",
       "        });\n",
       "    }\n",
       "\n",
       "    function showError(err) {\n",
       "      outputDiv.innerHTML = `<div class=\"error\" style=\"color:red;\">${err}</div>`;\n",
       "      throw err;\n",
       "    }\n",
       "\n",
       "    function displayChart(vegaEmbed) {\n",
       "      vegaEmbed(outputDiv, spec, embedOpt)\n",
       "        .catch(err => showError(`Javascript Error: ${err.message}<br>This usually means there's a typo in your chart specification. See the javascript console for the full traceback.`));\n",
       "    }\n",
       "\n",
       "    if(typeof define === \"function\" && define.amd) {\n",
       "      requirejs.config({paths});\n",
       "      require([\"vega-embed\"], displayChart, err => showError(`Error loading script: ${err.message}`));\n",
       "    } else {\n",
       "      maybeLoadScript(\"vega\", \"5\")\n",
       "        .then(() => maybeLoadScript(\"vega-lite\", \"4.17.0\"))\n",
       "        .then(() => maybeLoadScript(\"vega-embed\", \"6\"))\n",
       "        .catch(showError)\n",
       "        .then(() => displayChart(vegaEmbed));\n",
       "    }\n",
       "  })({\"config\": {\"view\": {\"continuousWidth\": 400, \"continuousHeight\": 300}}, \"layer\": [{\"mark\": \"rule\", \"encoding\": {\"color\": {\"field\": \"DESCCOD\", \"legend\": null, \"type\": \"nominal\"}, \"tooltip\": [{\"field\": \"DESCCOD\", \"type\": \"nominal\"}, {\"field\": \"duracion_min\", \"type\": \"quantitative\"}, {\"field\": \"duracion_mean\", \"type\": \"quantitative\"}, {\"field\": \"duracion_max\", \"type\": \"quantitative\"}], \"x\": {\"field\": \"duracion_min\", \"type\": \"quantitative\"}, \"x2\": {\"field\": \"duracion_max\"}, \"y\": {\"axis\": {\"domain\": false, \"minExtent\": 60, \"offset\": 5, \"ticks\": false, \"title\": \"Tipo Desbloqueo\"}, \"field\": \"DESCCOD\", \"sort\": [\"Desbloqueo con soportes\", \"Desbloqueo exitoso\", \"Desbloqueo pendiente de validacion \", \"Deteccion suplantacion \", \"Llamada consulta Sfisica\"], \"type\": \"nominal\"}}, \"title\": \"Media e Intervalo de Confianza del 95% Duraci\\u00f3n (Min.) por Tipo Desbloqueo\"}, {\"mark\": {\"type\": \"point\", \"color\": \"black\", \"filled\": true, \"size\": 20}, \"encoding\": {\"tooltip\": [{\"field\": \"DESCCOD\", \"type\": \"nominal\"}, {\"field\": \"duracion_min\", \"type\": \"quantitative\"}, {\"field\": \"duracion_mean\", \"type\": \"quantitative\"}, {\"field\": \"duracion_max\", \"type\": \"quantitative\"}], \"x\": {\"field\": \"duracion_mean\", \"type\": \"quantitative\"}, \"x2\": {\"field\": \"duracion_max\"}, \"y\": {\"axis\": {\"domain\": false, \"minExtent\": 60, \"offset\": 5, \"ticks\": false, \"title\": \"Tipo Desbloqueo\"}, \"field\": \"DESCCOD\", \"sort\": [\"Desbloqueo con soportes\", \"Desbloqueo exitoso\", \"Desbloqueo pendiente de validacion \", \"Deteccion suplantacion \", \"Llamada consulta Sfisica\"], \"type\": \"nominal\"}}, \"title\": \"Media e Intervalo de Confianza del 95% Duraci\\u00f3n (Min.) por Tipo Desbloqueo\"}], \"data\": {\"name\": \"data-185d76d5a130c17db9ce6af24f7bc4ea\"}, \"$schema\": \"https://vega.github.io/schema/vega-lite/v4.17.0.json\", \"datasets\": {\"data-185d76d5a130c17db9ce6af24f7bc4ea\": [{\"DESCCOD\": \"Desbloqueo con soportes\", \"duracion_mean\": 30.47, \"duracion_std\": 12.79, \"duracion_min\": 8.94, \"duracion_max\": 55.21}, {\"DESCCOD\": \"Desbloqueo exitoso\", \"duracion_mean\": 22.07, \"duracion_std\": 11.95, \"duracion_min\": 3.32, \"duracion_max\": 51.09}, {\"DESCCOD\": \"Desbloqueo pendiente de validacion \", \"duracion_mean\": 18.85, \"duracion_std\": 12.03, \"duracion_min\": 2.98, \"duracion_max\": 48.05}, {\"DESCCOD\": \"Deteccion suplantacion \", \"duracion_mean\": 11.95, \"duracion_std\": 10.24, \"duracion_min\": 2.33, \"duracion_max\": 41.38}, {\"DESCCOD\": \"Llamada consulta Sfisica\", \"duracion_mean\": 9.55, \"duracion_std\": 9.5, \"duracion_min\": 0.62, \"duracion_max\": 31.86}]}}, {\"mode\": \"vega-lite\"});\n",
       "</script>"
      ],
      "text/plain": [
       "alt.LayerChart(...)"
      ]
     },
     "execution_count": 42,
     "metadata": {},
     "output_type": "execute_result"
    }
   ],
   "source": [
    "y_axis = alt.Axis(\n",
    "    title='Tipo Desbloqueo',\n",
    "    offset=5,\n",
    "    ticks=False,\n",
    "    minExtent=60,\n",
    "    domain=False\n",
    ")\n",
    "\n",
    "def q2_5(x):\n",
    "    return x.quantile(0.025)\n",
    "\n",
    "def q97_5(x):\n",
    "    return x.quantile(0.975)\n",
    "\n",
    "df2_plot = (df2.groupby(['DESCCOD'])\n",
    " .agg(duracion_mean=('DURACION','mean'),\n",
    "      duracion_std=('DURACION','std'),\n",
    "      duracion_min=('DURACION',q2_5),\n",
    "      duracion_max=('DURACION',q97_5))\n",
    " .reset_index() \n",
    " .round(2)\n",
    ")\n",
    "\n",
    "order_desbloque = df2_plot.sort_values('duracion_mean', ascending=False).DESCCOD.tolist()\n",
    "\n",
    "base = alt.Chart(df2_plot).mark_rule().encode(\n",
    "    y = alt.Y('DESCCOD', axis=y_axis, sort = order_desbloque),\n",
    "    x = alt.X('duracion_min'),\n",
    "    x2 = 'duracion_max',\n",
    "    tooltip = ['DESCCOD', 'duracion_min', 'duracion_mean', 'duracion_max']\n",
    ").properties(\n",
    "    title = 'Media e Intervalo de Confianza del 95% Duración (Min.) por Tipo Desbloqueo'\n",
    ")\n",
    "\n",
    "tick = base.mark_point(\n",
    "    filled=True,\n",
    "    color='black',\n",
    "    size=20,  # controls width of tick.\n",
    ").encode(\n",
    "    x='duracion_mean',\n",
    "    y= alt.Y('DESCCOD', axis=y_axis, sort = order_desbloque)\n",
    ")\n",
    "\n",
    "base.encode(color = alt.Color('DESCCOD', legend=None)) + tick"
   ]
  },
  {
   "cell_type": "markdown",
   "id": "14a0f5d3",
   "metadata": {},
   "source": [
    "Las llamadas más largas son aquellas que necesitan soportes, seguidas por las llamadas de desbloqueo exitoso."
   ]
  },
  {
   "cell_type": "code",
   "execution_count": 43,
   "id": "e2dcb38d",
   "metadata": {
    "ExecuteTime": {
     "end_time": "2022-08-22T21:29:52.515786Z",
     "start_time": "2022-08-22T21:29:52.482442Z"
    }
   },
   "outputs": [
    {
     "data": {
      "text/html": [
       "\n",
       "<div id=\"altair-viz-67050518c66b486dbb766828bd997eb3\"></div>\n",
       "<script type=\"text/javascript\">\n",
       "  var VEGA_DEBUG = (typeof VEGA_DEBUG == \"undefined\") ? {} : VEGA_DEBUG;\n",
       "  (function(spec, embedOpt){\n",
       "    let outputDiv = document.currentScript.previousElementSibling;\n",
       "    if (outputDiv.id !== \"altair-viz-67050518c66b486dbb766828bd997eb3\") {\n",
       "      outputDiv = document.getElementById(\"altair-viz-67050518c66b486dbb766828bd997eb3\");\n",
       "    }\n",
       "    const paths = {\n",
       "      \"vega\": \"https://cdn.jsdelivr.net/npm//vega@5?noext\",\n",
       "      \"vega-lib\": \"https://cdn.jsdelivr.net/npm//vega-lib?noext\",\n",
       "      \"vega-lite\": \"https://cdn.jsdelivr.net/npm//vega-lite@4.17.0?noext\",\n",
       "      \"vega-embed\": \"https://cdn.jsdelivr.net/npm//vega-embed@6?noext\",\n",
       "    };\n",
       "\n",
       "    function maybeLoadScript(lib, version) {\n",
       "      var key = `${lib.replace(\"-\", \"\")}_version`;\n",
       "      return (VEGA_DEBUG[key] == version) ?\n",
       "        Promise.resolve(paths[lib]) :\n",
       "        new Promise(function(resolve, reject) {\n",
       "          var s = document.createElement('script');\n",
       "          document.getElementsByTagName(\"head\")[0].appendChild(s);\n",
       "          s.async = true;\n",
       "          s.onload = () => {\n",
       "            VEGA_DEBUG[key] = version;\n",
       "            return resolve(paths[lib]);\n",
       "          };\n",
       "          s.onerror = () => reject(`Error loading script: ${paths[lib]}`);\n",
       "          s.src = paths[lib];\n",
       "        });\n",
       "    }\n",
       "\n",
       "    function showError(err) {\n",
       "      outputDiv.innerHTML = `<div class=\"error\" style=\"color:red;\">${err}</div>`;\n",
       "      throw err;\n",
       "    }\n",
       "\n",
       "    function displayChart(vegaEmbed) {\n",
       "      vegaEmbed(outputDiv, spec, embedOpt)\n",
       "        .catch(err => showError(`Javascript Error: ${err.message}<br>This usually means there's a typo in your chart specification. See the javascript console for the full traceback.`));\n",
       "    }\n",
       "\n",
       "    if(typeof define === \"function\" && define.amd) {\n",
       "      requirejs.config({paths});\n",
       "      require([\"vega-embed\"], displayChart, err => showError(`Error loading script: ${err.message}`));\n",
       "    } else {\n",
       "      maybeLoadScript(\"vega\", \"5\")\n",
       "        .then(() => maybeLoadScript(\"vega-lite\", \"4.17.0\"))\n",
       "        .then(() => maybeLoadScript(\"vega-embed\", \"6\"))\n",
       "        .catch(showError)\n",
       "        .then(() => displayChart(vegaEmbed));\n",
       "    }\n",
       "  })({\"config\": {\"view\": {\"continuousWidth\": 400, \"continuousHeight\": 300}}, \"data\": {\"name\": \"data-e833e68e4fa59878179035e2f9fdb74a\"}, \"mark\": \"bar\", \"encoding\": {\"color\": {\"field\": \"DESCCOD\", \"legend\": null, \"type\": \"nominal\"}, \"tooltip\": [{\"field\": \"DESCCOD\", \"type\": \"nominal\"}, {\"field\": \"MinutosTotales\", \"type\": \"quantitative\"}, {\"field\": \"percent\", \"type\": \"quantitative\"}], \"x\": {\"field\": \"MinutosTotales\", \"type\": \"quantitative\"}, \"y\": {\"field\": \"DESCCOD\", \"sort\": \"-x\", \"type\": \"nominal\"}}, \"title\": \"Total N\\u00famero de Minutos por Desbloqueo\", \"$schema\": \"https://vega.github.io/schema/vega-lite/v4.17.0.json\", \"datasets\": {\"data-e833e68e4fa59878179035e2f9fdb74a\": [{\"DESCCOD\": \"Desbloqueo con soportes\", \"MinutosTotales\": 14113.05, \"percent\": 6.56}, {\"DESCCOD\": \"Desbloqueo exitoso\", \"MinutosTotales\": 167017.55, \"percent\": 77.61}, {\"DESCCOD\": \"Desbloqueo no exitoso\", \"MinutosTotales\": 14984.22, \"percent\": 6.96}, {\"DESCCOD\": \"Desbloqueo pendiente de validacion \", \"MinutosTotales\": 17736.78, \"percent\": 8.24}, {\"DESCCOD\": \"Deteccion suplantacion \", \"MinutosTotales\": 1357.27, \"percent\": 0.63}]}}, {\"mode\": \"vega-lite\"});\n",
       "</script>"
      ],
      "text/plain": [
       "alt.Chart(...)"
      ]
     },
     "execution_count": 43,
     "metadata": {},
     "output_type": "execute_result"
    }
   ],
   "source": [
    "alt.Chart(df\n",
    " .groupby(['DESCCOD'])\n",
    " .DURACION\n",
    " .sum()\n",
    " .reset_index(name='MinutosTotales')\n",
    " .assign(percent = lambda x: 100*x.MinutosTotales/x.MinutosTotales.sum())\n",
    " .round(2)\n",
    ").mark_bar().encode(\n",
    "    y = alt.Y('DESCCOD', sort='-x'),\n",
    "    x = 'MinutosTotales',\n",
    "    color = alt.Color('DESCCOD', legend=None),\n",
    "    tooltip = ['DESCCOD', 'MinutosTotales', 'percent']\n",
    ").properties(\n",
    "    title = 'Total Número de Minutos por Desbloqueo'\n",
    ")"
   ]
  },
  {
   "cell_type": "code",
   "execution_count": 44,
   "id": "08be91ef",
   "metadata": {
    "ExecuteTime": {
     "end_time": "2022-08-22T21:30:39.751603Z",
     "start_time": "2022-08-22T21:30:39.714758Z"
    }
   },
   "outputs": [
    {
     "data": {
      "text/html": [
       "\n",
       "<div id=\"altair-viz-c1ef8427ca974eeb9778fcc595bfe0c0\"></div>\n",
       "<script type=\"text/javascript\">\n",
       "  var VEGA_DEBUG = (typeof VEGA_DEBUG == \"undefined\") ? {} : VEGA_DEBUG;\n",
       "  (function(spec, embedOpt){\n",
       "    let outputDiv = document.currentScript.previousElementSibling;\n",
       "    if (outputDiv.id !== \"altair-viz-c1ef8427ca974eeb9778fcc595bfe0c0\") {\n",
       "      outputDiv = document.getElementById(\"altair-viz-c1ef8427ca974eeb9778fcc595bfe0c0\");\n",
       "    }\n",
       "    const paths = {\n",
       "      \"vega\": \"https://cdn.jsdelivr.net/npm//vega@5?noext\",\n",
       "      \"vega-lib\": \"https://cdn.jsdelivr.net/npm//vega-lib?noext\",\n",
       "      \"vega-lite\": \"https://cdn.jsdelivr.net/npm//vega-lite@4.17.0?noext\",\n",
       "      \"vega-embed\": \"https://cdn.jsdelivr.net/npm//vega-embed@6?noext\",\n",
       "    };\n",
       "\n",
       "    function maybeLoadScript(lib, version) {\n",
       "      var key = `${lib.replace(\"-\", \"\")}_version`;\n",
       "      return (VEGA_DEBUG[key] == version) ?\n",
       "        Promise.resolve(paths[lib]) :\n",
       "        new Promise(function(resolve, reject) {\n",
       "          var s = document.createElement('script');\n",
       "          document.getElementsByTagName(\"head\")[0].appendChild(s);\n",
       "          s.async = true;\n",
       "          s.onload = () => {\n",
       "            VEGA_DEBUG[key] = version;\n",
       "            return resolve(paths[lib]);\n",
       "          };\n",
       "          s.onerror = () => reject(`Error loading script: ${paths[lib]}`);\n",
       "          s.src = paths[lib];\n",
       "        });\n",
       "    }\n",
       "\n",
       "    function showError(err) {\n",
       "      outputDiv.innerHTML = `<div class=\"error\" style=\"color:red;\">${err}</div>`;\n",
       "      throw err;\n",
       "    }\n",
       "\n",
       "    function displayChart(vegaEmbed) {\n",
       "      vegaEmbed(outputDiv, spec, embedOpt)\n",
       "        .catch(err => showError(`Javascript Error: ${err.message}<br>This usually means there's a typo in your chart specification. See the javascript console for the full traceback.`));\n",
       "    }\n",
       "\n",
       "    if(typeof define === \"function\" && define.amd) {\n",
       "      requirejs.config({paths});\n",
       "      require([\"vega-embed\"], displayChart, err => showError(`Error loading script: ${err.message}`));\n",
       "    } else {\n",
       "      maybeLoadScript(\"vega\", \"5\")\n",
       "        .then(() => maybeLoadScript(\"vega-lite\", \"4.17.0\"))\n",
       "        .then(() => maybeLoadScript(\"vega-embed\", \"6\"))\n",
       "        .catch(showError)\n",
       "        .then(() => displayChart(vegaEmbed));\n",
       "    }\n",
       "  })({\"config\": {\"view\": {\"continuousWidth\": 400, \"continuousHeight\": 300}}, \"data\": {\"name\": \"data-45c67cf34aebd377d2e07ab552ef3745\"}, \"mark\": \"bar\", \"encoding\": {\"color\": {\"field\": \"DESCCOD\", \"legend\": null, \"type\": \"nominal\"}, \"tooltip\": [{\"field\": \"DESCCOD\", \"type\": \"nominal\"}, {\"field\": \"MinutosTotales\", \"type\": \"quantitative\"}, {\"field\": \"percent\", \"type\": \"quantitative\"}], \"x\": {\"field\": \"MinutosTotales\", \"type\": \"quantitative\"}, \"y\": {\"field\": \"DESCCOD\", \"sort\": \"-x\", \"type\": \"nominal\"}}, \"title\": \"Total N\\u00famero de Minutos por Desbloqueo\", \"$schema\": \"https://vega.github.io/schema/vega-lite/v4.17.0.json\", \"datasets\": {\"data-45c67cf34aebd377d2e07ab552ef3745\": [{\"DESCCOD\": \"Desbloqueo con soportes\", \"MinutosTotales\": 13770.97, \"percent\": 15.02}, {\"DESCCOD\": \"Desbloqueo exitoso\", \"MinutosTotales\": 63989.37, \"percent\": 69.8}, {\"DESCCOD\": \"Desbloqueo pendiente de validacion \", \"MinutosTotales\": 7217.77, \"percent\": 7.87}, {\"DESCCOD\": \"Deteccion suplantacion \", \"MinutosTotales\": 1051.33, \"percent\": 1.15}, {\"DESCCOD\": \"Llamada consulta Sfisica\", \"MinutosTotales\": 5651.38, \"percent\": 6.16}]}}, {\"mode\": \"vega-lite\"});\n",
       "</script>"
      ],
      "text/plain": [
       "alt.Chart(...)"
      ]
     },
     "execution_count": 44,
     "metadata": {},
     "output_type": "execute_result"
    }
   ],
   "source": [
    "alt.Chart(df2\n",
    " .groupby(['DESCCOD'])\n",
    " .DURACION\n",
    " .sum()\n",
    " .reset_index(name='MinutosTotales')\n",
    " .assign(percent = lambda x: 100*x.MinutosTotales/x.MinutosTotales.sum())\n",
    " .round(2)\n",
    ").mark_bar().encode(\n",
    "    y = alt.Y('DESCCOD', sort='-x'),\n",
    "    x = 'MinutosTotales',\n",
    "    color = alt.Color('DESCCOD', legend=None),\n",
    "    tooltip = ['DESCCOD', 'MinutosTotales', 'percent']\n",
    ").properties(\n",
    "    title = 'Total Número de Minutos por Desbloqueo'\n",
    ")"
   ]
  },
  {
   "cell_type": "markdown",
   "id": "2c86ddd3",
   "metadata": {},
   "source": [
    "Esta gráfica nos muestra que el 77.6% de los mintutos en llamadas se dedica a los desbloqueos exitosos (2783 Horas). La clave para reducir los tiempos totales de las llamdas en COLEX es el de reducir el tiempo que requiere un asesor para identificar si el cliente es realmente un colombiano en el exterior."
   ]
  },
  {
   "cell_type": "markdown",
   "id": "6b734940",
   "metadata": {},
   "source": [
    "### Por Día de la Semana y Hora"
   ]
  },
  {
   "cell_type": "code",
   "execution_count": 45,
   "id": "7391d8ce",
   "metadata": {
    "ExecuteTime": {
     "end_time": "2022-08-22T21:32:18.153777Z",
     "start_time": "2022-08-22T21:32:17.954244Z"
    },
    "run_control": {
     "marked": false
    }
   },
   "outputs": [
    {
     "data": {
      "text/html": [
       "\n",
       "<div id=\"altair-viz-a4bb11ec6db544568312cae8e481bcda\"></div>\n",
       "<script type=\"text/javascript\">\n",
       "  var VEGA_DEBUG = (typeof VEGA_DEBUG == \"undefined\") ? {} : VEGA_DEBUG;\n",
       "  (function(spec, embedOpt){\n",
       "    let outputDiv = document.currentScript.previousElementSibling;\n",
       "    if (outputDiv.id !== \"altair-viz-a4bb11ec6db544568312cae8e481bcda\") {\n",
       "      outputDiv = document.getElementById(\"altair-viz-a4bb11ec6db544568312cae8e481bcda\");\n",
       "    }\n",
       "    const paths = {\n",
       "      \"vega\": \"https://cdn.jsdelivr.net/npm//vega@5?noext\",\n",
       "      \"vega-lib\": \"https://cdn.jsdelivr.net/npm//vega-lib?noext\",\n",
       "      \"vega-lite\": \"https://cdn.jsdelivr.net/npm//vega-lite@4.17.0?noext\",\n",
       "      \"vega-embed\": \"https://cdn.jsdelivr.net/npm//vega-embed@6?noext\",\n",
       "    };\n",
       "\n",
       "    function maybeLoadScript(lib, version) {\n",
       "      var key = `${lib.replace(\"-\", \"\")}_version`;\n",
       "      return (VEGA_DEBUG[key] == version) ?\n",
       "        Promise.resolve(paths[lib]) :\n",
       "        new Promise(function(resolve, reject) {\n",
       "          var s = document.createElement('script');\n",
       "          document.getElementsByTagName(\"head\")[0].appendChild(s);\n",
       "          s.async = true;\n",
       "          s.onload = () => {\n",
       "            VEGA_DEBUG[key] = version;\n",
       "            return resolve(paths[lib]);\n",
       "          };\n",
       "          s.onerror = () => reject(`Error loading script: ${paths[lib]}`);\n",
       "          s.src = paths[lib];\n",
       "        });\n",
       "    }\n",
       "\n",
       "    function showError(err) {\n",
       "      outputDiv.innerHTML = `<div class=\"error\" style=\"color:red;\">${err}</div>`;\n",
       "      throw err;\n",
       "    }\n",
       "\n",
       "    function displayChart(vegaEmbed) {\n",
       "      vegaEmbed(outputDiv, spec, embedOpt)\n",
       "        .catch(err => showError(`Javascript Error: ${err.message}<br>This usually means there's a typo in your chart specification. See the javascript console for the full traceback.`));\n",
       "    }\n",
       "\n",
       "    if(typeof define === \"function\" && define.amd) {\n",
       "      requirejs.config({paths});\n",
       "      require([\"vega-embed\"], displayChart, err => showError(`Error loading script: ${err.message}`));\n",
       "    } else {\n",
       "      maybeLoadScript(\"vega\", \"5\")\n",
       "        .then(() => maybeLoadScript(\"vega-lite\", \"4.17.0\"))\n",
       "        .then(() => maybeLoadScript(\"vega-embed\", \"6\"))\n",
       "        .catch(showError)\n",
       "        .then(() => displayChart(vegaEmbed));\n",
       "    }\n",
       "  })({\"config\": {\"view\": {\"continuousWidth\": 400, \"continuousHeight\": 300}}, \"data\": {\"name\": \"data-3df94f6f93ff9972be44aadddf04a096\"}, \"mark\": \"rect\", \"encoding\": {\"color\": {\"field\": \"count_mean\", \"type\": \"quantitative\"}, \"tooltip\": [{\"field\": \"dayofweek\", \"type\": \"nominal\"}, {\"field\": \"hour\", \"type\": \"quantitative\"}, {\"field\": \"count_mean\", \"type\": \"quantitative\"}], \"x\": {\"field\": \"hour\", \"type\": \"ordinal\"}, \"y\": {\"field\": \"dayofweek\", \"sort\": [\"Lunes\", \"Martes\", \"Miercoles\", \"Jueves\", \"Viernes\", \"Sabado\", \"Domingo\"], \"type\": \"ordinal\"}}, \"title\": \"Mapa de Calor del Promedio de Llamadas por D\\u00eda de la Semana y Hora\", \"$schema\": \"https://vega.github.io/schema/vega-lite/v4.17.0.json\", \"datasets\": {\"data-3df94f6f93ff9972be44aadddf04a096\": [{\"dayofweek\": \"Domingo\", \"hour\": 0, \"count_mean\": 0.13333333333333333}, {\"dayofweek\": \"Domingo\", \"hour\": 1, \"count_mean\": 0.18666666666666668}, {\"dayofweek\": \"Domingo\", \"hour\": 2, \"count_mean\": 0.2}, {\"dayofweek\": \"Domingo\", \"hour\": 3, \"count_mean\": 0.13333333333333333}, {\"dayofweek\": \"Domingo\", \"hour\": 4, \"count_mean\": 0.25333333333333335}, {\"dayofweek\": \"Domingo\", \"hour\": 5, \"count_mean\": 0.4}, {\"dayofweek\": \"Domingo\", \"hour\": 6, \"count_mean\": 0.49333333333333335}, {\"dayofweek\": \"Domingo\", \"hour\": 7, \"count_mean\": 0.56}, {\"dayofweek\": \"Domingo\", \"hour\": 8, \"count_mean\": 1.0266666666666666}, {\"dayofweek\": \"Domingo\", \"hour\": 9, \"count_mean\": 1.0933333333333333}, {\"dayofweek\": \"Domingo\", \"hour\": 10, \"count_mean\": 1.7733333333333334}, {\"dayofweek\": \"Domingo\", \"hour\": 11, \"count_mean\": 1.6933333333333334}, {\"dayofweek\": \"Domingo\", \"hour\": 12, \"count_mean\": 1.96}, {\"dayofweek\": \"Domingo\", \"hour\": 13, \"count_mean\": 1.7333333333333334}, {\"dayofweek\": \"Domingo\", \"hour\": 14, \"count_mean\": 1.6666666666666667}, {\"dayofweek\": \"Domingo\", \"hour\": 15, \"count_mean\": 1.48}, {\"dayofweek\": \"Domingo\", \"hour\": 16, \"count_mean\": 1.2533333333333334}, {\"dayofweek\": \"Domingo\", \"hour\": 17, \"count_mean\": 1.2266666666666666}, {\"dayofweek\": \"Domingo\", \"hour\": 18, \"count_mean\": 1.04}, {\"dayofweek\": \"Domingo\", \"hour\": 19, \"count_mean\": 1.1866666666666668}, {\"dayofweek\": \"Domingo\", \"hour\": 20, \"count_mean\": 1.1066666666666667}, {\"dayofweek\": \"Domingo\", \"hour\": 21, \"count_mean\": 0.92}, {\"dayofweek\": \"Domingo\", \"hour\": 22, \"count_mean\": 0.49333333333333335}, {\"dayofweek\": \"Domingo\", \"hour\": 23, \"count_mean\": 0.4}, {\"dayofweek\": \"Jueves\", \"hour\": 0, \"count_mean\": 0.4342105263157895}, {\"dayofweek\": \"Jueves\", \"hour\": 1, \"count_mean\": 0.27631578947368424}, {\"dayofweek\": \"Jueves\", \"hour\": 2, \"count_mean\": 0.35526315789473684}, {\"dayofweek\": \"Jueves\", \"hour\": 3, \"count_mean\": 0.23684210526315788}, {\"dayofweek\": \"Jueves\", \"hour\": 4, \"count_mean\": 0.4342105263157895}, {\"dayofweek\": \"Jueves\", \"hour\": 5, \"count_mean\": 0.5131578947368421}, {\"dayofweek\": \"Jueves\", \"hour\": 6, \"count_mean\": 0.17105263157894737}, {\"dayofweek\": \"Jueves\", \"hour\": 7, \"count_mean\": 0.40789473684210525}, {\"dayofweek\": \"Jueves\", \"hour\": 8, \"count_mean\": 0.618421052631579}, {\"dayofweek\": \"Jueves\", \"hour\": 9, \"count_mean\": 1.0921052631578947}, {\"dayofweek\": \"Jueves\", \"hour\": 10, \"count_mean\": 0.8947368421052632}, {\"dayofweek\": \"Jueves\", \"hour\": 11, \"count_mean\": 1.0526315789473684}, {\"dayofweek\": \"Jueves\", \"hour\": 12, \"count_mean\": 0.9473684210526315}, {\"dayofweek\": \"Jueves\", \"hour\": 13, \"count_mean\": 0.8947368421052632}, {\"dayofweek\": \"Jueves\", \"hour\": 14, \"count_mean\": 0.8947368421052632}, {\"dayofweek\": \"Jueves\", \"hour\": 15, \"count_mean\": 1.0526315789473684}, {\"dayofweek\": \"Jueves\", \"hour\": 16, \"count_mean\": 1.0921052631578947}, {\"dayofweek\": \"Jueves\", \"hour\": 17, \"count_mean\": 1.1710526315789473}, {\"dayofweek\": \"Jueves\", \"hour\": 18, \"count_mean\": 0.8289473684210527}, {\"dayofweek\": \"Jueves\", \"hour\": 19, \"count_mean\": 0.8026315789473685}, {\"dayofweek\": \"Jueves\", \"hour\": 20, \"count_mean\": 0.5526315789473685}, {\"dayofweek\": \"Jueves\", \"hour\": 21, \"count_mean\": 0.6578947368421053}, {\"dayofweek\": \"Jueves\", \"hour\": 22, \"count_mean\": 1.1842105263157894}, {\"dayofweek\": \"Jueves\", \"hour\": 23, \"count_mean\": 0.6578947368421053}, {\"dayofweek\": \"Lunes\", \"hour\": 0, \"count_mean\": 0.18666666666666668}, {\"dayofweek\": \"Lunes\", \"hour\": 1, \"count_mean\": 0.09333333333333334}, {\"dayofweek\": \"Lunes\", \"hour\": 2, \"count_mean\": 0.13333333333333333}, {\"dayofweek\": \"Lunes\", \"hour\": 3, \"count_mean\": 0.22666666666666666}, {\"dayofweek\": \"Lunes\", \"hour\": 4, \"count_mean\": 0.30666666666666664}, {\"dayofweek\": \"Lunes\", \"hour\": 5, \"count_mean\": 0.44}, {\"dayofweek\": \"Lunes\", \"hour\": 6, \"count_mean\": 0.32}, {\"dayofweek\": \"Lunes\", \"hour\": 7, \"count_mean\": 0.4266666666666667}, {\"dayofweek\": \"Lunes\", \"hour\": 8, \"count_mean\": 0.7333333333333333}, {\"dayofweek\": \"Lunes\", \"hour\": 9, \"count_mean\": 1.2666666666666666}, {\"dayofweek\": \"Lunes\", \"hour\": 10, \"count_mean\": 1.4533333333333334}, {\"dayofweek\": \"Lunes\", \"hour\": 11, \"count_mean\": 1.4133333333333333}, {\"dayofweek\": \"Lunes\", \"hour\": 12, \"count_mean\": 1.48}, {\"dayofweek\": \"Lunes\", \"hour\": 13, \"count_mean\": 1.3066666666666666}, {\"dayofweek\": \"Lunes\", \"hour\": 14, \"count_mean\": 1.2}, {\"dayofweek\": \"Lunes\", \"hour\": 15, \"count_mean\": 1.4933333333333334}, {\"dayofweek\": \"Lunes\", \"hour\": 16, \"count_mean\": 1.5466666666666666}, {\"dayofweek\": \"Lunes\", \"hour\": 17, \"count_mean\": 1.28}, {\"dayofweek\": \"Lunes\", \"hour\": 18, \"count_mean\": 1.2133333333333334}, {\"dayofweek\": \"Lunes\", \"hour\": 19, \"count_mean\": 1.04}, {\"dayofweek\": \"Lunes\", \"hour\": 20, \"count_mean\": 0.9066666666666666}, {\"dayofweek\": \"Lunes\", \"hour\": 21, \"count_mean\": 0.9333333333333333}, {\"dayofweek\": \"Lunes\", \"hour\": 22, \"count_mean\": 1.1866666666666668}, {\"dayofweek\": \"Lunes\", \"hour\": 23, \"count_mean\": 0.7466666666666667}, {\"dayofweek\": \"Martes\", \"hour\": 0, \"count_mean\": 0.29333333333333333}, {\"dayofweek\": \"Martes\", \"hour\": 1, \"count_mean\": 0.18666666666666668}, {\"dayofweek\": \"Martes\", \"hour\": 2, \"count_mean\": 0.18666666666666668}, {\"dayofweek\": \"Martes\", \"hour\": 3, \"count_mean\": 0.29333333333333333}, {\"dayofweek\": \"Martes\", \"hour\": 4, \"count_mean\": 0.48}, {\"dayofweek\": \"Martes\", \"hour\": 5, \"count_mean\": 0.64}, {\"dayofweek\": \"Martes\", \"hour\": 6, \"count_mean\": 0.36}, {\"dayofweek\": \"Martes\", \"hour\": 7, \"count_mean\": 0.48}, {\"dayofweek\": \"Martes\", \"hour\": 8, \"count_mean\": 0.8666666666666667}, {\"dayofweek\": \"Martes\", \"hour\": 9, \"count_mean\": 0.96}, {\"dayofweek\": \"Martes\", \"hour\": 10, \"count_mean\": 1.1333333333333333}, {\"dayofweek\": \"Martes\", \"hour\": 11, \"count_mean\": 1.1466666666666667}, {\"dayofweek\": \"Martes\", \"hour\": 12, \"count_mean\": 1.1333333333333333}, {\"dayofweek\": \"Martes\", \"hour\": 13, \"count_mean\": 1.2266666666666666}, {\"dayofweek\": \"Martes\", \"hour\": 14, \"count_mean\": 0.9066666666666666}, {\"dayofweek\": \"Martes\", \"hour\": 15, \"count_mean\": 1.6}, {\"dayofweek\": \"Martes\", \"hour\": 16, \"count_mean\": 1.4933333333333334}, {\"dayofweek\": \"Martes\", \"hour\": 17, \"count_mean\": 0.9866666666666667}, {\"dayofweek\": \"Martes\", \"hour\": 18, \"count_mean\": 1.0133333333333334}, {\"dayofweek\": \"Martes\", \"hour\": 19, \"count_mean\": 1.04}, {\"dayofweek\": \"Martes\", \"hour\": 20, \"count_mean\": 0.7733333333333333}, {\"dayofweek\": \"Martes\", \"hour\": 21, \"count_mean\": 1.04}, {\"dayofweek\": \"Martes\", \"hour\": 22, \"count_mean\": 1.0533333333333332}, {\"dayofweek\": \"Martes\", \"hour\": 23, \"count_mean\": 0.7066666666666667}, {\"dayofweek\": \"Miercoles\", \"hour\": 0, \"count_mean\": 0.34210526315789475}, {\"dayofweek\": \"Miercoles\", \"hour\": 1, \"count_mean\": 0.3026315789473684}, {\"dayofweek\": \"Miercoles\", \"hour\": 2, \"count_mean\": 0.25}, {\"dayofweek\": \"Miercoles\", \"hour\": 3, \"count_mean\": 0.2631578947368421}, {\"dayofweek\": \"Miercoles\", \"hour\": 4, \"count_mean\": 0.4868421052631579}, {\"dayofweek\": \"Miercoles\", \"hour\": 5, \"count_mean\": 0.6447368421052632}, {\"dayofweek\": \"Miercoles\", \"hour\": 6, \"count_mean\": 0.23684210526315788}, {\"dayofweek\": \"Miercoles\", \"hour\": 7, \"count_mean\": 0.42105263157894735}, {\"dayofweek\": \"Miercoles\", \"hour\": 8, \"count_mean\": 0.5}, {\"dayofweek\": \"Miercoles\", \"hour\": 9, \"count_mean\": 0.8947368421052632}, {\"dayofweek\": \"Miercoles\", \"hour\": 10, \"count_mean\": 1.0263157894736843}, {\"dayofweek\": \"Miercoles\", \"hour\": 11, \"count_mean\": 0.9078947368421053}, {\"dayofweek\": \"Miercoles\", \"hour\": 12, \"count_mean\": 1.0}, {\"dayofweek\": \"Miercoles\", \"hour\": 13, \"count_mean\": 1.013157894736842}, {\"dayofweek\": \"Miercoles\", \"hour\": 14, \"count_mean\": 1.0394736842105263}, {\"dayofweek\": \"Miercoles\", \"hour\": 15, \"count_mean\": 1.0921052631578947}, {\"dayofweek\": \"Miercoles\", \"hour\": 16, \"count_mean\": 1.131578947368421}, {\"dayofweek\": \"Miercoles\", \"hour\": 17, \"count_mean\": 0.7236842105263158}, {\"dayofweek\": \"Miercoles\", \"hour\": 18, \"count_mean\": 0.8421052631578947}, {\"dayofweek\": \"Miercoles\", \"hour\": 19, \"count_mean\": 0.6447368421052632}, {\"dayofweek\": \"Miercoles\", \"hour\": 20, \"count_mean\": 0.5526315789473685}, {\"dayofweek\": \"Miercoles\", \"hour\": 21, \"count_mean\": 0.7105263157894737}, {\"dayofweek\": \"Miercoles\", \"hour\": 22, \"count_mean\": 1.0263157894736843}, {\"dayofweek\": \"Miercoles\", \"hour\": 23, \"count_mean\": 0.6842105263157895}, {\"dayofweek\": \"Sabado\", \"hour\": 0, \"count_mean\": 0.28}, {\"dayofweek\": \"Sabado\", \"hour\": 1, \"count_mean\": 0.18666666666666668}, {\"dayofweek\": \"Sabado\", \"hour\": 2, \"count_mean\": 0.22666666666666666}, {\"dayofweek\": \"Sabado\", \"hour\": 3, \"count_mean\": 0.21333333333333335}, {\"dayofweek\": \"Sabado\", \"hour\": 4, \"count_mean\": 0.36}, {\"dayofweek\": \"Sabado\", \"hour\": 5, \"count_mean\": 0.38666666666666666}, {\"dayofweek\": \"Sabado\", \"hour\": 6, \"count_mean\": 0.17333333333333334}, {\"dayofweek\": \"Sabado\", \"hour\": 7, \"count_mean\": 0.26666666666666666}, {\"dayofweek\": \"Sabado\", \"hour\": 8, \"count_mean\": 0.6133333333333333}, {\"dayofweek\": \"Sabado\", \"hour\": 9, \"count_mean\": 0.7733333333333333}, {\"dayofweek\": \"Sabado\", \"hour\": 10, \"count_mean\": 0.7466666666666667}, {\"dayofweek\": \"Sabado\", \"hour\": 11, \"count_mean\": 0.7466666666666667}, {\"dayofweek\": \"Sabado\", \"hour\": 12, \"count_mean\": 0.5333333333333333}, {\"dayofweek\": \"Sabado\", \"hour\": 13, \"count_mean\": 0.6666666666666666}, {\"dayofweek\": \"Sabado\", \"hour\": 14, \"count_mean\": 0.68}, {\"dayofweek\": \"Sabado\", \"hour\": 15, \"count_mean\": 0.7333333333333333}, {\"dayofweek\": \"Sabado\", \"hour\": 16, \"count_mean\": 0.6533333333333333}, {\"dayofweek\": \"Sabado\", \"hour\": 17, \"count_mean\": 0.48}, {\"dayofweek\": \"Sabado\", \"hour\": 18, \"count_mean\": 0.6266666666666667}, {\"dayofweek\": \"Sabado\", \"hour\": 19, \"count_mean\": 0.3333333333333333}, {\"dayofweek\": \"Sabado\", \"hour\": 20, \"count_mean\": 0.49333333333333335}, {\"dayofweek\": \"Sabado\", \"hour\": 21, \"count_mean\": 0.3333333333333333}, {\"dayofweek\": \"Sabado\", \"hour\": 22, \"count_mean\": 0.41333333333333333}, {\"dayofweek\": \"Sabado\", \"hour\": 23, \"count_mean\": 0.4}, {\"dayofweek\": \"Viernes\", \"hour\": 0, \"count_mean\": 0.41333333333333333}, {\"dayofweek\": \"Viernes\", \"hour\": 1, \"count_mean\": 0.24}, {\"dayofweek\": \"Viernes\", \"hour\": 2, \"count_mean\": 0.21333333333333335}, {\"dayofweek\": \"Viernes\", \"hour\": 3, \"count_mean\": 0.30666666666666664}, {\"dayofweek\": \"Viernes\", \"hour\": 4, \"count_mean\": 0.28}, {\"dayofweek\": \"Viernes\", \"hour\": 5, \"count_mean\": 0.48}, {\"dayofweek\": \"Viernes\", \"hour\": 6, \"count_mean\": 0.18666666666666668}, {\"dayofweek\": \"Viernes\", \"hour\": 7, \"count_mean\": 0.4533333333333333}, {\"dayofweek\": \"Viernes\", \"hour\": 8, \"count_mean\": 0.64}, {\"dayofweek\": \"Viernes\", \"hour\": 9, \"count_mean\": 0.92}, {\"dayofweek\": \"Viernes\", \"hour\": 10, \"count_mean\": 0.96}, {\"dayofweek\": \"Viernes\", \"hour\": 11, \"count_mean\": 1.12}, {\"dayofweek\": \"Viernes\", \"hour\": 12, \"count_mean\": 0.9733333333333334}, {\"dayofweek\": \"Viernes\", \"hour\": 13, \"count_mean\": 1.1333333333333333}, {\"dayofweek\": \"Viernes\", \"hour\": 14, \"count_mean\": 1.0}, {\"dayofweek\": \"Viernes\", \"hour\": 15, \"count_mean\": 1.04}, {\"dayofweek\": \"Viernes\", \"hour\": 16, \"count_mean\": 1.16}, {\"dayofweek\": \"Viernes\", \"hour\": 17, \"count_mean\": 0.7733333333333333}, {\"dayofweek\": \"Viernes\", \"hour\": 18, \"count_mean\": 0.6666666666666666}, {\"dayofweek\": \"Viernes\", \"hour\": 19, \"count_mean\": 0.72}, {\"dayofweek\": \"Viernes\", \"hour\": 20, \"count_mean\": 0.49333333333333335}, {\"dayofweek\": \"Viernes\", \"hour\": 21, \"count_mean\": 0.68}, {\"dayofweek\": \"Viernes\", \"hour\": 22, \"count_mean\": 0.7866666666666666}, {\"dayofweek\": \"Viernes\", \"hour\": 23, \"count_mean\": 0.5333333333333333}]}}, {\"mode\": \"vega-lite\"});\n",
       "</script>"
      ],
      "text/plain": [
       "alt.Chart(...)"
      ]
     },
     "execution_count": 45,
     "metadata": {},
     "output_type": "execute_result"
    }
   ],
   "source": [
    "weekDays = [\"Lunes\",\"Martes\",\"Miercoles\",\"Jueves\",\"Viernes\",\"Sabado\",\"Domingo\"]\n",
    "\n",
    "days = (pd.date_range(start=pd.to_datetime(df.FECHA.dt.strftime(\"%Y-%m-%d\").min()), \n",
    "                    end=pd.to_datetime(df.FECHA.dt.strftime(\"%Y-%m-%d\").max()), \n",
    "                    freq='D').astype(str).tolist())\n",
    "hours = range(24)\n",
    "\n",
    "# Producto Cartesiano entre días y horas\n",
    "grid_ = np.array(list(product(*[days, hours])),dtype='str')\n",
    "grid = (pd.DataFrame(grid_, columns = ['day','hour'])\n",
    "        .assign(hour = lambda x: x.hour.astype(int)))\n",
    "\n",
    "df_to_plot = (df\n",
    " .assign(day = lambda x: x.FECHA.dt.strftime(\"%Y-%m-%d\"))\n",
    " .assign(hour = lambda x: x.FECHA.dt.hour)\n",
    " .groupby(['hour','day'])\n",
    " .size()\n",
    " .reset_index(name='count')\n",
    " .merge(grid, on=['day', 'hour'], how='right')\n",
    " .fillna(0)\n",
    " .assign(count = lambda x: x['count'].astype(int))\n",
    " .assign(dayofweek = lambda x: pd.to_datetime(x.day).dt.dayofweek.map(dict(zip(range(7),weekDays))))\n",
    " .groupby(['dayofweek', 'hour'])\n",
    " .agg(count_mean=('count','mean'))\n",
    " .reset_index()\n",
    ")\n",
    "\n",
    "alt.Chart(df_to_plot).mark_rect().encode(\n",
    "    y = alt.Y('dayofweek:O', sort=weekDays),\n",
    "    x = 'hour:O',\n",
    "    color = 'count_mean:Q',\n",
    "    tooltip=['dayofweek', 'hour', 'count_mean']\n",
    ").properties(\n",
    "    title = 'Mapa de Calor del Promedio de Llamadas por Día de la Semana y Hora'\n",
    ")"
   ]
  },
  {
   "cell_type": "markdown",
   "id": "0255ef77",
   "metadata": {},
   "source": [
    "Parece haber una tendencia marcada de llamadas el domingo durante todo el día (8 a 22) y al principio de la semana"
   ]
  },
  {
   "cell_type": "markdown",
   "id": "ece9216b",
   "metadata": {},
   "source": [
    "### Por Día de la Semana"
   ]
  },
  {
   "cell_type": "code",
   "execution_count": 46,
   "id": "6c3088f0",
   "metadata": {
    "ExecuteTime": {
     "end_time": "2022-08-22T21:32:25.568669Z",
     "start_time": "2022-08-22T21:32:25.387706Z"
    }
   },
   "outputs": [
    {
     "data": {
      "text/html": [
       "\n",
       "<div id=\"altair-viz-cf0263447465410d8fcb4fbea632b4d6\"></div>\n",
       "<script type=\"text/javascript\">\n",
       "  var VEGA_DEBUG = (typeof VEGA_DEBUG == \"undefined\") ? {} : VEGA_DEBUG;\n",
       "  (function(spec, embedOpt){\n",
       "    let outputDiv = document.currentScript.previousElementSibling;\n",
       "    if (outputDiv.id !== \"altair-viz-cf0263447465410d8fcb4fbea632b4d6\") {\n",
       "      outputDiv = document.getElementById(\"altair-viz-cf0263447465410d8fcb4fbea632b4d6\");\n",
       "    }\n",
       "    const paths = {\n",
       "      \"vega\": \"https://cdn.jsdelivr.net/npm//vega@5?noext\",\n",
       "      \"vega-lib\": \"https://cdn.jsdelivr.net/npm//vega-lib?noext\",\n",
       "      \"vega-lite\": \"https://cdn.jsdelivr.net/npm//vega-lite@4.17.0?noext\",\n",
       "      \"vega-embed\": \"https://cdn.jsdelivr.net/npm//vega-embed@6?noext\",\n",
       "    };\n",
       "\n",
       "    function maybeLoadScript(lib, version) {\n",
       "      var key = `${lib.replace(\"-\", \"\")}_version`;\n",
       "      return (VEGA_DEBUG[key] == version) ?\n",
       "        Promise.resolve(paths[lib]) :\n",
       "        new Promise(function(resolve, reject) {\n",
       "          var s = document.createElement('script');\n",
       "          document.getElementsByTagName(\"head\")[0].appendChild(s);\n",
       "          s.async = true;\n",
       "          s.onload = () => {\n",
       "            VEGA_DEBUG[key] = version;\n",
       "            return resolve(paths[lib]);\n",
       "          };\n",
       "          s.onerror = () => reject(`Error loading script: ${paths[lib]}`);\n",
       "          s.src = paths[lib];\n",
       "        });\n",
       "    }\n",
       "\n",
       "    function showError(err) {\n",
       "      outputDiv.innerHTML = `<div class=\"error\" style=\"color:red;\">${err}</div>`;\n",
       "      throw err;\n",
       "    }\n",
       "\n",
       "    function displayChart(vegaEmbed) {\n",
       "      vegaEmbed(outputDiv, spec, embedOpt)\n",
       "        .catch(err => showError(`Javascript Error: ${err.message}<br>This usually means there's a typo in your chart specification. See the javascript console for the full traceback.`));\n",
       "    }\n",
       "\n",
       "    if(typeof define === \"function\" && define.amd) {\n",
       "      requirejs.config({paths});\n",
       "      require([\"vega-embed\"], displayChart, err => showError(`Error loading script: ${err.message}`));\n",
       "    } else {\n",
       "      maybeLoadScript(\"vega\", \"5\")\n",
       "        .then(() => maybeLoadScript(\"vega-lite\", \"4.17.0\"))\n",
       "        .then(() => maybeLoadScript(\"vega-embed\", \"6\"))\n",
       "        .catch(showError)\n",
       "        .then(() => displayChart(vegaEmbed));\n",
       "    }\n",
       "  })({\"config\": {\"view\": {\"continuousWidth\": 400, \"continuousHeight\": 300}}, \"layer\": [{\"mark\": \"rule\", \"encoding\": {\"color\": {\"field\": \"dayofweek\", \"legend\": null, \"type\": \"nominal\"}, \"tooltip\": [{\"field\": \"dayofweek\", \"type\": \"nominal\"}, {\"field\": \"count_mean\", \"type\": \"quantitative\"}], \"x\": {\"field\": \"count_min\", \"type\": \"quantitative\"}, \"x2\": {\"field\": \"count_max\"}, \"y\": {\"field\": \"dayofweek\", \"sort\": [\"Lunes\", \"Martes\", \"Miercoles\", \"Jueves\", \"Viernes\", \"Sabado\", \"Domingo\"], \"type\": \"nominal\"}}, \"title\": \"Promedio de llamadas por d\\u00eda de la semana\"}, {\"mark\": {\"type\": \"point\", \"color\": \"black\", \"filled\": true, \"size\": 20}, \"encoding\": {\"tooltip\": [{\"field\": \"dayofweek\", \"type\": \"nominal\"}, {\"field\": \"count_mean\", \"type\": \"quantitative\"}], \"x\": {\"field\": \"count_mean\", \"type\": \"quantitative\"}, \"x2\": {\"field\": \"count_max\"}, \"y\": {\"field\": \"dayofweek\", \"sort\": [\"Desbloqueo con soportes\", \"Desbloqueo exitoso\", \"Desbloqueo pendiente de validacion \", \"Deteccion suplantacion \", \"Llamada consulta Sfisica\"], \"type\": \"nominal\"}}, \"title\": \"Promedio de llamadas por d\\u00eda de la semana\"}], \"data\": {\"name\": \"data-ea975fa292014d7d9ddda1f00437910b\"}, \"$schema\": \"https://vega.github.io/schema/vega-lite/v4.17.0.json\", \"datasets\": {\"data-ea975fa292014d7d9ddda1f00437910b\": [{\"dayofweek\": \"Domingo\", \"count_mean\": 22.41, \"count_std\": 20.0, \"count_cnt\": 75, \"mean_std\": 2.31, \"count_min\": 17.79, \"count_max\": 27.03}, {\"dayofweek\": \"Jueves\", \"count_mean\": 17.22, \"count_std\": 22.42, \"count_cnt\": 76, \"mean_std\": 2.57, \"count_min\": 12.08, \"count_max\": 22.37}, {\"dayofweek\": \"Lunes\", \"count_mean\": 21.33, \"count_std\": 27.56, \"count_cnt\": 75, \"mean_std\": 3.18, \"count_min\": 14.97, \"count_max\": 27.7}, {\"dayofweek\": \"Martes\", \"count_mean\": 20.0, \"count_std\": 25.56, \"count_cnt\": 75, \"mean_std\": 2.95, \"count_min\": 14.1, \"count_max\": 25.9}, {\"dayofweek\": \"Miercoles\", \"count_mean\": 16.74, \"count_std\": 21.14, \"count_cnt\": 76, \"mean_std\": 2.43, \"count_min\": 11.89, \"count_max\": 21.59}, {\"dayofweek\": \"Sabado\", \"count_mean\": 11.32, \"count_std\": 14.11, \"count_cnt\": 75, \"mean_std\": 1.63, \"count_min\": 8.06, \"count_max\": 14.58}, {\"dayofweek\": \"Viernes\", \"count_mean\": 16.17, \"count_std\": 20.73, \"count_cnt\": 75, \"mean_std\": 2.39, \"count_min\": 11.39, \"count_max\": 20.96}]}}, {\"mode\": \"vega-lite\"});\n",
       "</script>"
      ],
      "text/plain": [
       "alt.LayerChart(...)"
      ]
     },
     "execution_count": 46,
     "metadata": {},
     "output_type": "execute_result"
    }
   ],
   "source": [
    "weekDays = [\"Lunes\",\"Martes\",\"Miercoles\",\"Jueves\",\"Viernes\",\"Sabado\",\"Domingo\"]\n",
    "\n",
    "# listemos todos los días en el intervalo\n",
    "idx = pd.date_range(start=pd.to_datetime(df.FECHA.dt.strftime(\"%Y-%m-%d\").min()), \n",
    "                    end=pd.to_datetime(df.FECHA.dt.strftime(\"%Y-%m-%d\").max()), \n",
    "                    freq='D')\n",
    "# Hagamos el calculo del promedio llenando los días sin observaciones con cero\n",
    "df_to_plot = (df\n",
    " .assign(day = lambda x: pd.to_datetime(x.FECHA.dt.strftime(\"%Y-%m-%d\")))\n",
    " .groupby(['day'])\n",
    " .size()\n",
    " .reindex(idx, fill_value=0)\n",
    " .reset_index(name='count')\n",
    " .rename(columns={'index':'FECHA'})\n",
    " .assign(dayofweek = lambda x: x.FECHA.dt.dayofweek.map(dict(zip(range(7),weekDays))))\n",
    " .groupby(['dayofweek'])\n",
    " .agg(count_mean=('count','mean'),\n",
    "      count_std=('count','std'),\n",
    "      count_cnt=('count','size'))\n",
    " .reset_index()\n",
    " .assign(mean_std = lambda x: x.count_std / np.sqrt(x.count_cnt))\n",
    " .assign(count_min = lambda x: x.count_mean - 2*x.mean_std)\n",
    " .assign(count_max = lambda x: x.count_mean + 2*x.mean_std)\n",
    " .round(2)\n",
    ")\n",
    "\n",
    "base = alt.Chart(df_to_plot).mark_rule().encode(\n",
    "    y = alt.Y('dayofweek:N', sort=weekDays),\n",
    "    x = 'count_min:Q',\n",
    "    x2 = 'count_max:Q',\n",
    "    tooltip = ['dayofweek', 'count_mean']\n",
    ").properties(\n",
    "    title = 'Promedio de llamadas por día de la semana'\n",
    ")\n",
    "\n",
    "tick = base.mark_point(\n",
    "    filled=True,\n",
    "    color='black',\n",
    "    size=20,  # controls width of tick.\n",
    ").encode(\n",
    "    x='count_mean',\n",
    "    y= alt.Y('dayofweek', sort = order_desbloque)\n",
    ")\n",
    "\n",
    "base.encode(color = alt.Color('dayofweek', legend=None)) + tick"
   ]
  },
  {
   "cell_type": "markdown",
   "id": "e85d24d8",
   "metadata": {},
   "source": [
    "## Desbloqueos por Asesor/a"
   ]
  },
  {
   "cell_type": "markdown",
   "id": "ffd9726c",
   "metadata": {},
   "source": [
    "### Número"
   ]
  },
  {
   "cell_type": "markdown",
   "id": "41d6bbac",
   "metadata": {},
   "source": [
    "Cómo se ve en esta gráfica, Domingos, Lunes y Martes son los días con más altos promedios con entre 16 y 25 llamadas por día, mientras que Miercoles, Jueves y Viernes tienen un promedio muy parecido y sabado es el día con menos promedio de llamadas."
   ]
  },
  {
   "cell_type": "code",
   "execution_count": 47,
   "id": "e5bce3ab",
   "metadata": {
    "ExecuteTime": {
     "end_time": "2022-08-22T21:32:35.997822Z",
     "start_time": "2022-08-22T21:32:35.970828Z"
    },
    "scrolled": false
   },
   "outputs": [
    {
     "data": {
      "text/html": [
       "\n",
       "<div id=\"altair-viz-fc2795285e8c44c6bbcb7b9416da67a6\"></div>\n",
       "<script type=\"text/javascript\">\n",
       "  var VEGA_DEBUG = (typeof VEGA_DEBUG == \"undefined\") ? {} : VEGA_DEBUG;\n",
       "  (function(spec, embedOpt){\n",
       "    let outputDiv = document.currentScript.previousElementSibling;\n",
       "    if (outputDiv.id !== \"altair-viz-fc2795285e8c44c6bbcb7b9416da67a6\") {\n",
       "      outputDiv = document.getElementById(\"altair-viz-fc2795285e8c44c6bbcb7b9416da67a6\");\n",
       "    }\n",
       "    const paths = {\n",
       "      \"vega\": \"https://cdn.jsdelivr.net/npm//vega@5?noext\",\n",
       "      \"vega-lib\": \"https://cdn.jsdelivr.net/npm//vega-lib?noext\",\n",
       "      \"vega-lite\": \"https://cdn.jsdelivr.net/npm//vega-lite@4.17.0?noext\",\n",
       "      \"vega-embed\": \"https://cdn.jsdelivr.net/npm//vega-embed@6?noext\",\n",
       "    };\n",
       "\n",
       "    function maybeLoadScript(lib, version) {\n",
       "      var key = `${lib.replace(\"-\", \"\")}_version`;\n",
       "      return (VEGA_DEBUG[key] == version) ?\n",
       "        Promise.resolve(paths[lib]) :\n",
       "        new Promise(function(resolve, reject) {\n",
       "          var s = document.createElement('script');\n",
       "          document.getElementsByTagName(\"head\")[0].appendChild(s);\n",
       "          s.async = true;\n",
       "          s.onload = () => {\n",
       "            VEGA_DEBUG[key] = version;\n",
       "            return resolve(paths[lib]);\n",
       "          };\n",
       "          s.onerror = () => reject(`Error loading script: ${paths[lib]}`);\n",
       "          s.src = paths[lib];\n",
       "        });\n",
       "    }\n",
       "\n",
       "    function showError(err) {\n",
       "      outputDiv.innerHTML = `<div class=\"error\" style=\"color:red;\">${err}</div>`;\n",
       "      throw err;\n",
       "    }\n",
       "\n",
       "    function displayChart(vegaEmbed) {\n",
       "      vegaEmbed(outputDiv, spec, embedOpt)\n",
       "        .catch(err => showError(`Javascript Error: ${err.message}<br>This usually means there's a typo in your chart specification. See the javascript console for the full traceback.`));\n",
       "    }\n",
       "\n",
       "    if(typeof define === \"function\" && define.amd) {\n",
       "      requirejs.config({paths});\n",
       "      require([\"vega-embed\"], displayChart, err => showError(`Error loading script: ${err.message}`));\n",
       "    } else {\n",
       "      maybeLoadScript(\"vega\", \"5\")\n",
       "        .then(() => maybeLoadScript(\"vega-lite\", \"4.17.0\"))\n",
       "        .then(() => maybeLoadScript(\"vega-embed\", \"6\"))\n",
       "        .catch(showError)\n",
       "        .then(() => displayChart(vegaEmbed));\n",
       "    }\n",
       "  })({\"config\": {\"view\": {\"continuousWidth\": 400, \"continuousHeight\": 300}}, \"data\": {\"name\": \"data-a91c8db18b82aa86384dadcb83ff8793\"}, \"mark\": \"bar\", \"encoding\": {\"color\": {\"field\": \"ASESOR\", \"title\": null, \"type\": \"nominal\"}, \"tooltip\": [{\"field\": \"ASESOR\", \"type\": \"nominal\"}, {\"field\": \"count\", \"type\": \"quantitative\"}, {\"field\": \"percent\", \"type\": \"quantitative\"}], \"x\": {\"field\": \"count\", \"type\": \"quantitative\"}, \"y\": {\"field\": \"ASESOR\", \"sort\": \"-x\", \"type\": \"nominal\"}}, \"title\": \"N\\u00famero de Llamadas Atendidas por Asesor en Intervalo Analizado\", \"$schema\": \"https://vega.github.io/schema/vega-lite/v4.17.0.json\", \"datasets\": {\"data-a91c8db18b82aa86384dadcb83ff8793\": [{\"ASESOR\": \"angserna\", \"count\": 148, \"percent\": 1.57}, {\"ASESOR\": \"asllopez\", \"count\": 189, \"percent\": 2.01}, {\"ASESOR\": \"cacorral\", \"count\": 171, \"percent\": 1.81}, {\"ASESOR\": \"carlojar\", \"count\": 188, \"percent\": 1.99}, {\"ASESOR\": \"caropere\", \"count\": 75, \"percent\": 0.8}, {\"ASESOR\": \"clrave\", \"count\": 2, \"percent\": 0.02}, {\"ASESOR\": \"crpelaez\", \"count\": 51, \"percent\": 0.54}, {\"ASESOR\": \"dancorra\", \"count\": 160, \"percent\": 1.7}, {\"ASESOR\": \"danielca\", \"count\": 50, \"percent\": 0.53}, {\"ASESOR\": \"danitabo\", \"count\": 15, \"percent\": 0.16}, {\"ASESOR\": \"dcatano\", \"count\": 107, \"percent\": 1.14}, {\"ASESOR\": \"dcosorio\", \"count\": 118, \"percent\": 1.25}, {\"ASESOR\": \"dgherna\", \"count\": 308, \"percent\": 3.27}, {\"ASESOR\": \"dialgome\", \"count\": 167, \"percent\": 1.77}, {\"ASESOR\": \"diasuaza\", \"count\": 151, \"percent\": 1.6}, {\"ASESOR\": \"dicyepes\", \"count\": 107, \"percent\": 1.14}, {\"ASESOR\": \"dilondon\", \"count\": 147, \"percent\": 1.56}, {\"ASESOR\": \"dimihern\", \"count\": 5, \"percent\": 0.05}, {\"ASESOR\": \"erforan\", \"count\": 201, \"percent\": 2.13}, {\"ASESOR\": \"giovaara\", \"count\": 4, \"percent\": 0.04}, {\"ASESOR\": \"hfranco\", \"count\": 217, \"percent\": 2.3}, {\"ASESOR\": \"hpenagos\", \"count\": 243, \"percent\": 2.58}, {\"ASESOR\": \"ibarrien\", \"count\": 24, \"percent\": 0.25}, {\"ASESOR\": \"iroldan\", \"count\": 2, \"percent\": 0.02}, {\"ASESOR\": \"jaquicen\", \"count\": 241, \"percent\": 2.56}, {\"ASESOR\": \"jensalaz\", \"count\": 126, \"percent\": 1.34}, {\"ASESOR\": \"jentobon\", \"count\": 186, \"percent\": 1.97}, {\"ASESOR\": \"jhecano\", \"count\": 115, \"percent\": 1.22}, {\"ASESOR\": \"joaocamp\", \"count\": 228, \"percent\": 2.42}, {\"ASESOR\": \"jodurang\", \"count\": 234, \"percent\": 2.48}, {\"ASESOR\": \"joshurta\", \"count\": 217, \"percent\": 2.3}, {\"ASESOR\": \"jprincon\", \"count\": 181, \"percent\": 1.92}, {\"ASESOR\": \"jucflore\", \"count\": 142, \"percent\": 1.51}, {\"ASESOR\": \"jucotalv\", \"count\": 77, \"percent\": 0.82}, {\"ASESOR\": \"jufebedo\", \"count\": 45, \"percent\": 0.48}, {\"ASESOR\": \"jumarang\", \"count\": 233, \"percent\": 2.47}, {\"ASESOR\": \"ladsanch\", \"count\": 111, \"percent\": 1.18}, {\"ASESOR\": \"lcduque\", \"count\": 204, \"percent\": 2.16}, {\"ASESOR\": \"lcmonsal\", \"count\": 210, \"percent\": 2.23}, {\"ASESOR\": \"leoestra\", \"count\": 118, \"percent\": 1.25}, {\"ASESOR\": \"limsanch\", \"count\": 68, \"percent\": 0.72}, {\"ASESOR\": \"linaarbe\", \"count\": 1, \"percent\": 0.01}, {\"ASESOR\": \"lmarbela\", \"count\": 141, \"percent\": 1.5}, {\"ASESOR\": \"lrobayo\", \"count\": 207, \"percent\": 2.2}, {\"ASESOR\": \"lvanegas\", \"count\": 118, \"percent\": 1.25}, {\"ASESOR\": \"magoez\", \"count\": 38, \"percent\": 0.4}, {\"ASESOR\": \"margmari\", \"count\": 145, \"percent\": 1.54}, {\"ASESOR\": \"marieche\", \"count\": 56, \"percent\": 0.59}, {\"ASESOR\": \"marivill\", \"count\": 155, \"percent\": 1.64}, {\"ASESOR\": \"mgtorre\", \"count\": 62, \"percent\": 0.66}, {\"ASESOR\": \"miljaram\", \"count\": 8, \"percent\": 0.08}, {\"ASESOR\": \"naalrest\", \"count\": 155, \"percent\": 1.64}, {\"ASESOR\": \"naalvare\", \"count\": 253, \"percent\": 2.68}, {\"ASESOR\": \"njpuerta\", \"count\": 193, \"percent\": 2.05}, {\"ASESOR\": \"opalacio\", \"count\": 198, \"percent\": 2.1}, {\"ASESOR\": \"paavelas\", \"count\": 333, \"percent\": 3.53}, {\"ASESOR\": \"ralzate\", \"count\": 276, \"percent\": 2.93}, {\"ASESOR\": \"sanhinca\", \"count\": 36, \"percent\": 0.38}, {\"ASESOR\": \"srville\", \"count\": 176, \"percent\": 1.87}, {\"ASESOR\": \"szzapat\", \"count\": 144, \"percent\": 1.53}, {\"ASESOR\": \"tnino\", \"count\": 71, \"percent\": 0.75}, {\"ASESOR\": \"vanlopez\", \"count\": 91, \"percent\": 0.97}, {\"ASESOR\": \"vcardozo\", \"count\": 150, \"percent\": 1.59}, {\"ASESOR\": \"vipelaez\", \"count\": 216, \"percent\": 2.29}, {\"ASESOR\": \"vsalvare\", \"count\": 146, \"percent\": 1.55}, {\"ASESOR\": \"yoalvar\", \"count\": 78, \"percent\": 0.83}, {\"ASESOR\": \"yszapata\", \"count\": 250, \"percent\": 2.65}, {\"ASESOR\": \"ytmesa\", \"count\": 138, \"percent\": 1.46}, {\"ASESOR\": \"yulsanch\", \"count\": 3, \"percent\": 0.03}]}}, {\"mode\": \"vega-lite\"});\n",
       "</script>"
      ],
      "text/plain": [
       "alt.Chart(...)"
      ]
     },
     "execution_count": 47,
     "metadata": {},
     "output_type": "execute_result"
    }
   ],
   "source": [
    "plot_bars_percent_firstk(df=df, colname='ASESOR',\n",
    "                         title='Número de Llamadas Atendidas por Asesor en Intervalo Analizado',\n",
    "                         show_text=False)"
   ]
  },
  {
   "cell_type": "code",
   "execution_count": 48,
   "id": "f4405c2d",
   "metadata": {
    "ExecuteTime": {
     "end_time": "2022-08-22T21:33:05.727931Z",
     "start_time": "2022-08-22T21:33:05.699527Z"
    }
   },
   "outputs": [
    {
     "data": {
      "text/html": [
       "\n",
       "<div id=\"altair-viz-b6f9346d25ce417799b3efbc0423cfe8\"></div>\n",
       "<script type=\"text/javascript\">\n",
       "  var VEGA_DEBUG = (typeof VEGA_DEBUG == \"undefined\") ? {} : VEGA_DEBUG;\n",
       "  (function(spec, embedOpt){\n",
       "    let outputDiv = document.currentScript.previousElementSibling;\n",
       "    if (outputDiv.id !== \"altair-viz-b6f9346d25ce417799b3efbc0423cfe8\") {\n",
       "      outputDiv = document.getElementById(\"altair-viz-b6f9346d25ce417799b3efbc0423cfe8\");\n",
       "    }\n",
       "    const paths = {\n",
       "      \"vega\": \"https://cdn.jsdelivr.net/npm//vega@5?noext\",\n",
       "      \"vega-lib\": \"https://cdn.jsdelivr.net/npm//vega-lib?noext\",\n",
       "      \"vega-lite\": \"https://cdn.jsdelivr.net/npm//vega-lite@4.17.0?noext\",\n",
       "      \"vega-embed\": \"https://cdn.jsdelivr.net/npm//vega-embed@6?noext\",\n",
       "    };\n",
       "\n",
       "    function maybeLoadScript(lib, version) {\n",
       "      var key = `${lib.replace(\"-\", \"\")}_version`;\n",
       "      return (VEGA_DEBUG[key] == version) ?\n",
       "        Promise.resolve(paths[lib]) :\n",
       "        new Promise(function(resolve, reject) {\n",
       "          var s = document.createElement('script');\n",
       "          document.getElementsByTagName(\"head\")[0].appendChild(s);\n",
       "          s.async = true;\n",
       "          s.onload = () => {\n",
       "            VEGA_DEBUG[key] = version;\n",
       "            return resolve(paths[lib]);\n",
       "          };\n",
       "          s.onerror = () => reject(`Error loading script: ${paths[lib]}`);\n",
       "          s.src = paths[lib];\n",
       "        });\n",
       "    }\n",
       "\n",
       "    function showError(err) {\n",
       "      outputDiv.innerHTML = `<div class=\"error\" style=\"color:red;\">${err}</div>`;\n",
       "      throw err;\n",
       "    }\n",
       "\n",
       "    function displayChart(vegaEmbed) {\n",
       "      vegaEmbed(outputDiv, spec, embedOpt)\n",
       "        .catch(err => showError(`Javascript Error: ${err.message}<br>This usually means there's a typo in your chart specification. See the javascript console for the full traceback.`));\n",
       "    }\n",
       "\n",
       "    if(typeof define === \"function\" && define.amd) {\n",
       "      requirejs.config({paths});\n",
       "      require([\"vega-embed\"], displayChart, err => showError(`Error loading script: ${err.message}`));\n",
       "    } else {\n",
       "      maybeLoadScript(\"vega\", \"5\")\n",
       "        .then(() => maybeLoadScript(\"vega-lite\", \"4.17.0\"))\n",
       "        .then(() => maybeLoadScript(\"vega-embed\", \"6\"))\n",
       "        .catch(showError)\n",
       "        .then(() => displayChart(vegaEmbed));\n",
       "    }\n",
       "  })({\"config\": {\"view\": {\"continuousWidth\": 400, \"continuousHeight\": 300}}, \"data\": {\"name\": \"data-6855da3b7bce15459902d0a0ed24186c\"}, \"mark\": \"bar\", \"encoding\": {\"color\": {\"field\": \"ASESOR\", \"title\": null, \"type\": \"nominal\"}, \"tooltip\": [{\"field\": \"ASESOR\", \"type\": \"nominal\"}, {\"field\": \"count\", \"type\": \"quantitative\"}, {\"field\": \"percent\", \"type\": \"quantitative\"}], \"x\": {\"field\": \"count\", \"type\": \"quantitative\"}, \"y\": {\"field\": \"ASESOR\", \"sort\": \"-x\", \"type\": \"nominal\"}}, \"title\": \"N\\u00famero de Llamadas Atendidas por Asesor en Intervalo Analizado\", \"$schema\": \"https://vega.github.io/schema/vega-lite/v4.17.0.json\", \"datasets\": {\"data-6855da3b7bce15459902d0a0ed24186c\": [{\"ASESOR\": \"angserna\", \"count\": 114, \"percent\": 2.58}, {\"ASESOR\": \"cacorral\", \"count\": 113, \"percent\": 2.56}, {\"ASESOR\": \"carlojar\", \"count\": 172, \"percent\": 3.9}, {\"ASESOR\": \"caropere\", \"count\": 69, \"percent\": 1.56}, {\"ASESOR\": \"crpelaez\", \"count\": 7, \"percent\": 0.16}, {\"ASESOR\": \"dancorra\", \"count\": 13, \"percent\": 0.29}, {\"ASESOR\": \"dcatano\", \"count\": 50, \"percent\": 1.13}, {\"ASESOR\": \"dcosorio\", \"count\": 90, \"percent\": 2.04}, {\"ASESOR\": \"dgherna\", \"count\": 102, \"percent\": 2.31}, {\"ASESOR\": \"dialgome\", \"count\": 137, \"percent\": 3.1}, {\"ASESOR\": \"diasuaza\", \"count\": 121, \"percent\": 2.74}, {\"ASESOR\": \"dicyepes\", \"count\": 215, \"percent\": 4.87}, {\"ASESOR\": \"erforan\", \"count\": 103, \"percent\": 2.33}, {\"ASESOR\": \"hfranco\", \"count\": 102, \"percent\": 2.31}, {\"ASESOR\": \"hpenagos\", \"count\": 154, \"percent\": 3.49}, {\"ASESOR\": \"jaquicen\", \"count\": 128, \"percent\": 2.9}, {\"ASESOR\": \"jensalaz\", \"count\": 75, \"percent\": 1.7}, {\"ASESOR\": \"jentobon\", \"count\": 90, \"percent\": 2.04}, {\"ASESOR\": \"jhecano\", \"count\": 69, \"percent\": 1.56}, {\"ASESOR\": \"jodurang\", \"count\": 94, \"percent\": 2.13}, {\"ASESOR\": \"joshurta\", \"count\": 124, \"percent\": 2.81}, {\"ASESOR\": \"jprincon\", \"count\": 276, \"percent\": 6.25}, {\"ASESOR\": \"jumarang\", \"count\": 70, \"percent\": 1.59}, {\"ASESOR\": \"ladsanch\", \"count\": 103, \"percent\": 2.33}, {\"ASESOR\": \"lcmonsal\", \"count\": 119, \"percent\": 2.7}, {\"ASESOR\": \"leoestra\", \"count\": 75, \"percent\": 1.7}, {\"ASESOR\": \"limsanch\", \"count\": 55, \"percent\": 1.25}, {\"ASESOR\": \"lmarbela\", \"count\": 90, \"percent\": 2.04}, {\"ASESOR\": \"lvanegas\", \"count\": 73, \"percent\": 1.65}, {\"ASESOR\": \"margmari\", \"count\": 95, \"percent\": 2.15}, {\"ASESOR\": \"marieche\", \"count\": 46, \"percent\": 1.04}, {\"ASESOR\": \"marivill\", \"count\": 88, \"percent\": 1.99}, {\"ASESOR\": \"naalrest\", \"count\": 91, \"percent\": 2.06}, {\"ASESOR\": \"naalvare\", \"count\": 4, \"percent\": 0.09}, {\"ASESOR\": \"njpuerta\", \"count\": 128, \"percent\": 2.9}, {\"ASESOR\": \"opalacio\", \"count\": 198, \"percent\": 4.48}, {\"ASESOR\": \"paavelas\", \"count\": 190, \"percent\": 4.3}, {\"ASESOR\": \"ralzate\", \"count\": 73, \"percent\": 1.65}, {\"ASESOR\": \"srville\", \"count\": 128, \"percent\": 2.9}, {\"ASESOR\": \"szzapat\", \"count\": 27, \"percent\": 0.61}, {\"ASESOR\": \"vanlopez\", \"count\": 30, \"percent\": 0.68}, {\"ASESOR\": \"vcardozo\", \"count\": 165, \"percent\": 3.74}, {\"ASESOR\": \"vipelaez\", \"count\": 69, \"percent\": 1.56}, {\"ASESOR\": \"vsalvare\", \"count\": 77, \"percent\": 1.74}, {\"ASESOR\": \"yoalvar\", \"count\": 3, \"percent\": 0.07}]}}, {\"mode\": \"vega-lite\"});\n",
       "</script>"
      ],
      "text/plain": [
       "alt.Chart(...)"
      ]
     },
     "execution_count": 48,
     "metadata": {},
     "output_type": "execute_result"
    }
   ],
   "source": [
    "plot_bars_percent_firstk(df=df2, colname='ASESOR',\n",
    "                         title='Número de Llamadas Atendidas por Asesor en Intervalo Analizado',\n",
    "                         show_text=False)"
   ]
  },
  {
   "cell_type": "markdown",
   "id": "fc5848a1",
   "metadata": {},
   "source": [
    "Un total de 69 asesores han atendido las llamadas de Colombianos en el exterior en el periodo analizado. El asesor que más llamadas a recibido es paavelas con 333, sin embargo, no llega ni al 4% del total de todas las llamadas."
   ]
  },
  {
   "cell_type": "markdown",
   "id": "be23b0e6",
   "metadata": {},
   "source": [
    "### Tasa Tipo Desbloqueo"
   ]
  },
  {
   "cell_type": "code",
   "execution_count": 49,
   "id": "77dff0bc",
   "metadata": {
    "ExecuteTime": {
     "end_time": "2022-08-22T21:44:11.982177Z",
     "start_time": "2022-08-22T21:44:11.921359Z"
    }
   },
   "outputs": [
    {
     "data": {
      "text/html": [
       "\n",
       "<div id=\"altair-viz-d927c71b44e94bbab4586f97b18dbecc\"></div>\n",
       "<script type=\"text/javascript\">\n",
       "  var VEGA_DEBUG = (typeof VEGA_DEBUG == \"undefined\") ? {} : VEGA_DEBUG;\n",
       "  (function(spec, embedOpt){\n",
       "    let outputDiv = document.currentScript.previousElementSibling;\n",
       "    if (outputDiv.id !== \"altair-viz-d927c71b44e94bbab4586f97b18dbecc\") {\n",
       "      outputDiv = document.getElementById(\"altair-viz-d927c71b44e94bbab4586f97b18dbecc\");\n",
       "    }\n",
       "    const paths = {\n",
       "      \"vega\": \"https://cdn.jsdelivr.net/npm//vega@5?noext\",\n",
       "      \"vega-lib\": \"https://cdn.jsdelivr.net/npm//vega-lib?noext\",\n",
       "      \"vega-lite\": \"https://cdn.jsdelivr.net/npm//vega-lite@4.17.0?noext\",\n",
       "      \"vega-embed\": \"https://cdn.jsdelivr.net/npm//vega-embed@6?noext\",\n",
       "    };\n",
       "\n",
       "    function maybeLoadScript(lib, version) {\n",
       "      var key = `${lib.replace(\"-\", \"\")}_version`;\n",
       "      return (VEGA_DEBUG[key] == version) ?\n",
       "        Promise.resolve(paths[lib]) :\n",
       "        new Promise(function(resolve, reject) {\n",
       "          var s = document.createElement('script');\n",
       "          document.getElementsByTagName(\"head\")[0].appendChild(s);\n",
       "          s.async = true;\n",
       "          s.onload = () => {\n",
       "            VEGA_DEBUG[key] = version;\n",
       "            return resolve(paths[lib]);\n",
       "          };\n",
       "          s.onerror = () => reject(`Error loading script: ${paths[lib]}`);\n",
       "          s.src = paths[lib];\n",
       "        });\n",
       "    }\n",
       "\n",
       "    function showError(err) {\n",
       "      outputDiv.innerHTML = `<div class=\"error\" style=\"color:red;\">${err}</div>`;\n",
       "      throw err;\n",
       "    }\n",
       "\n",
       "    function displayChart(vegaEmbed) {\n",
       "      vegaEmbed(outputDiv, spec, embedOpt)\n",
       "        .catch(err => showError(`Javascript Error: ${err.message}<br>This usually means there's a typo in your chart specification. See the javascript console for the full traceback.`));\n",
       "    }\n",
       "\n",
       "    if(typeof define === \"function\" && define.amd) {\n",
       "      requirejs.config({paths});\n",
       "      require([\"vega-embed\"], displayChart, err => showError(`Error loading script: ${err.message}`));\n",
       "    } else {\n",
       "      maybeLoadScript(\"vega\", \"5\")\n",
       "        .then(() => maybeLoadScript(\"vega-lite\", \"4.17.0\"))\n",
       "        .then(() => maybeLoadScript(\"vega-embed\", \"6\"))\n",
       "        .catch(showError)\n",
       "        .then(() => displayChart(vegaEmbed));\n",
       "    }\n",
       "  })({\"config\": {\"view\": {\"continuousWidth\": 400, \"continuousHeight\": 300}}, \"data\": {\"name\": \"data-2b4b6706691c659dc325d6dd1504aa90\"}, \"mark\": \"point\", \"encoding\": {\"color\": {\"field\": \"DESCCOD\", \"type\": \"nominal\"}, \"tooltip\": [{\"field\": \"ASESOR\", \"type\": \"nominal\"}, {\"field\": \"DESCCOD\", \"type\": \"nominal\"}, {\"field\": \"count\", \"type\": \"quantitative\"}, {\"field\": \"total\", \"type\": \"quantitative\"}, {\"field\": \"percent\", \"type\": \"quantitative\"}], \"x\": {\"field\": \"total\", \"type\": \"quantitative\"}, \"y\": {\"field\": \"percent\", \"type\": \"quantitative\"}}, \"title\": \"Porcentaje Tipo Desbloqueo por Asesor\", \"$schema\": \"https://vega.github.io/schema/vega-lite/v4.17.0.json\", \"datasets\": {\"data-2b4b6706691c659dc325d6dd1504aa90\": [{\"ASESOR\": \"angserna\", \"DESCCOD\": \"Desbloqueo exitoso\", \"count\": 125, \"total\": 128, \"percent\": 0.9765625}, {\"ASESOR\": \"angserna\", \"DESCCOD\": \"Desbloqueo no exitoso\", \"count\": 3, \"total\": 128, \"percent\": 0.0234375}, {\"ASESOR\": \"asllopez\", \"DESCCOD\": \"Desbloqueo con soportes\", \"count\": 14, \"total\": 188, \"percent\": 0.07446808510638298}, {\"ASESOR\": \"asllopez\", \"DESCCOD\": \"Desbloqueo exitoso\", \"count\": 149, \"total\": 188, \"percent\": 0.7925531914893617}, {\"ASESOR\": \"asllopez\", \"DESCCOD\": \"Desbloqueo no exitoso\", \"count\": 25, \"total\": 188, \"percent\": 0.13297872340425532}, {\"ASESOR\": \"cacorral\", \"DESCCOD\": \"Desbloqueo con soportes\", \"count\": 13, \"total\": 137, \"percent\": 0.0948905109489051}, {\"ASESOR\": \"cacorral\", \"DESCCOD\": \"Desbloqueo exitoso\", \"count\": 113, \"total\": 137, \"percent\": 0.8248175182481752}, {\"ASESOR\": \"cacorral\", \"DESCCOD\": \"Desbloqueo no exitoso\", \"count\": 9, \"total\": 137, \"percent\": 0.06569343065693431}, {\"ASESOR\": \"cacorral\", \"DESCCOD\": \"Deteccion suplantacion \", \"count\": 2, \"total\": 137, \"percent\": 0.014598540145985401}, {\"ASESOR\": \"carlojar\", \"DESCCOD\": \"Desbloqueo exitoso\", \"count\": 170, \"total\": 181, \"percent\": 0.9392265193370166}, {\"ASESOR\": \"carlojar\", \"DESCCOD\": \"Desbloqueo no exitoso\", \"count\": 11, \"total\": 181, \"percent\": 0.06077348066298342}, {\"ASESOR\": \"caropere\", \"DESCCOD\": \"Desbloqueo exitoso\", \"count\": 44, \"total\": 75, \"percent\": 0.5866666666666667}, {\"ASESOR\": \"caropere\", \"DESCCOD\": \"Desbloqueo no exitoso\", \"count\": 31, \"total\": 75, \"percent\": 0.41333333333333333}, {\"ASESOR\": \"clrave\", \"DESCCOD\": \"Desbloqueo exitoso\", \"count\": 1, \"total\": 1, \"percent\": 1.0}, {\"ASESOR\": \"crpelaez\", \"DESCCOD\": \"Desbloqueo exitoso\", \"count\": 44, \"total\": 48, \"percent\": 0.9166666666666666}, {\"ASESOR\": \"crpelaez\", \"DESCCOD\": \"Desbloqueo no exitoso\", \"count\": 4, \"total\": 48, \"percent\": 0.08333333333333333}, {\"ASESOR\": \"dancorra\", \"DESCCOD\": \"Desbloqueo exitoso\", \"count\": 140, \"total\": 158, \"percent\": 0.8860759493670886}, {\"ASESOR\": \"dancorra\", \"DESCCOD\": \"Desbloqueo no exitoso\", \"count\": 18, \"total\": 158, \"percent\": 0.11392405063291139}, {\"ASESOR\": \"danielca\", \"DESCCOD\": \"Desbloqueo exitoso\", \"count\": 48, \"total\": 48, \"percent\": 1.0}, {\"ASESOR\": \"danitabo\", \"DESCCOD\": \"Desbloqueo exitoso\", \"count\": 9, \"total\": 14, \"percent\": 0.6428571428571429}, {\"ASESOR\": \"danitabo\", \"DESCCOD\": \"Desbloqueo no exitoso\", \"count\": 5, \"total\": 14, \"percent\": 0.35714285714285715}, {\"ASESOR\": \"dcatano\", \"DESCCOD\": \"Desbloqueo con soportes\", \"count\": 2, \"total\": 89, \"percent\": 0.02247191011235955}, {\"ASESOR\": \"dcatano\", \"DESCCOD\": \"Desbloqueo exitoso\", \"count\": 75, \"total\": 89, \"percent\": 0.8426966292134831}, {\"ASESOR\": \"dcatano\", \"DESCCOD\": \"Desbloqueo no exitoso\", \"count\": 12, \"total\": 89, \"percent\": 0.1348314606741573}, {\"ASESOR\": \"dcosorio\", \"DESCCOD\": \"Desbloqueo con soportes\", \"count\": 3, \"total\": 103, \"percent\": 0.02912621359223301}, {\"ASESOR\": \"dcosorio\", \"DESCCOD\": \"Desbloqueo exitoso\", \"count\": 84, \"total\": 103, \"percent\": 0.8155339805825242}, {\"ASESOR\": \"dcosorio\", \"DESCCOD\": \"Desbloqueo no exitoso\", \"count\": 13, \"total\": 103, \"percent\": 0.1262135922330097}, {\"ASESOR\": \"dcosorio\", \"DESCCOD\": \"Deteccion suplantacion \", \"count\": 3, \"total\": 103, \"percent\": 0.02912621359223301}, {\"ASESOR\": \"dgherna\", \"DESCCOD\": \"Desbloqueo con soportes\", \"count\": 3, \"total\": 302, \"percent\": 0.009933774834437087}, {\"ASESOR\": \"dgherna\", \"DESCCOD\": \"Desbloqueo exitoso\", \"count\": 274, \"total\": 302, \"percent\": 0.9072847682119205}, {\"ASESOR\": \"dgherna\", \"DESCCOD\": \"Desbloqueo no exitoso\", \"count\": 21, \"total\": 302, \"percent\": 0.0695364238410596}, {\"ASESOR\": \"dgherna\", \"DESCCOD\": \"Deteccion suplantacion \", \"count\": 4, \"total\": 302, \"percent\": 0.013245033112582781}, {\"ASESOR\": \"dialgome\", \"DESCCOD\": \"Desbloqueo exitoso\", \"count\": 147, \"total\": 155, \"percent\": 0.9483870967741935}, {\"ASESOR\": \"dialgome\", \"DESCCOD\": \"Desbloqueo no exitoso\", \"count\": 6, \"total\": 155, \"percent\": 0.03870967741935484}, {\"ASESOR\": \"dialgome\", \"DESCCOD\": \"Deteccion suplantacion \", \"count\": 2, \"total\": 155, \"percent\": 0.012903225806451613}, {\"ASESOR\": \"diasuaza\", \"DESCCOD\": \"Desbloqueo con soportes\", \"count\": 11, \"total\": 128, \"percent\": 0.0859375}, {\"ASESOR\": \"diasuaza\", \"DESCCOD\": \"Desbloqueo exitoso\", \"count\": 106, \"total\": 128, \"percent\": 0.828125}, {\"ASESOR\": \"diasuaza\", \"DESCCOD\": \"Desbloqueo no exitoso\", \"count\": 7, \"total\": 128, \"percent\": 0.0546875}, {\"ASESOR\": \"diasuaza\", \"DESCCOD\": \"Deteccion suplantacion \", \"count\": 4, \"total\": 128, \"percent\": 0.03125}, {\"ASESOR\": \"dicyepes\", \"DESCCOD\": \"Desbloqueo con soportes\", \"count\": 29, \"total\": 80, \"percent\": 0.3625}, {\"ASESOR\": \"dicyepes\", \"DESCCOD\": \"Desbloqueo exitoso\", \"count\": 44, \"total\": 80, \"percent\": 0.55}, {\"ASESOR\": \"dicyepes\", \"DESCCOD\": \"Desbloqueo no exitoso\", \"count\": 5, \"total\": 80, \"percent\": 0.0625}, {\"ASESOR\": \"dicyepes\", \"DESCCOD\": \"Deteccion suplantacion \", \"count\": 2, \"total\": 80, \"percent\": 0.025}, {\"ASESOR\": \"dilondon\", \"DESCCOD\": \"Desbloqueo con soportes\", \"count\": 11, \"total\": 87, \"percent\": 0.12643678160919541}, {\"ASESOR\": \"dilondon\", \"DESCCOD\": \"Desbloqueo exitoso\", \"count\": 67, \"total\": 87, \"percent\": 0.7701149425287356}, {\"ASESOR\": \"dilondon\", \"DESCCOD\": \"Desbloqueo no exitoso\", \"count\": 9, \"total\": 87, \"percent\": 0.10344827586206896}, {\"ASESOR\": \"dimihern\", \"DESCCOD\": \"Desbloqueo exitoso\", \"count\": 4, \"total\": 4, \"percent\": 1.0}, {\"ASESOR\": \"erforan\", \"DESCCOD\": \"Desbloqueo con soportes\", \"count\": 1, \"total\": 185, \"percent\": 0.005405405405405406}, {\"ASESOR\": \"erforan\", \"DESCCOD\": \"Desbloqueo exitoso\", \"count\": 176, \"total\": 185, \"percent\": 0.9513513513513514}, {\"ASESOR\": \"erforan\", \"DESCCOD\": \"Desbloqueo no exitoso\", \"count\": 7, \"total\": 185, \"percent\": 0.03783783783783784}, {\"ASESOR\": \"erforan\", \"DESCCOD\": \"Deteccion suplantacion \", \"count\": 1, \"total\": 185, \"percent\": 0.005405405405405406}, {\"ASESOR\": \"giovaara\", \"DESCCOD\": \"Desbloqueo exitoso\", \"count\": 3, \"total\": 3, \"percent\": 1.0}, {\"ASESOR\": \"hfranco\", \"DESCCOD\": \"Desbloqueo con soportes\", \"count\": 20, \"total\": 200, \"percent\": 0.1}, {\"ASESOR\": \"hfranco\", \"DESCCOD\": \"Desbloqueo exitoso\", \"count\": 142, \"total\": 200, \"percent\": 0.71}, {\"ASESOR\": \"hfranco\", \"DESCCOD\": \"Desbloqueo no exitoso\", \"count\": 38, \"total\": 200, \"percent\": 0.19}, {\"ASESOR\": \"hpenagos\", \"DESCCOD\": \"Desbloqueo con soportes\", \"count\": 26, \"total\": 215, \"percent\": 0.12093023255813953}, {\"ASESOR\": \"hpenagos\", \"DESCCOD\": \"Desbloqueo exitoso\", \"count\": 180, \"total\": 215, \"percent\": 0.8372093023255814}, {\"ASESOR\": \"hpenagos\", \"DESCCOD\": \"Desbloqueo no exitoso\", \"count\": 7, \"total\": 215, \"percent\": 0.03255813953488372}, {\"ASESOR\": \"hpenagos\", \"DESCCOD\": \"Deteccion suplantacion \", \"count\": 2, \"total\": 215, \"percent\": 0.009302325581395349}, {\"ASESOR\": \"ibarrien\", \"DESCCOD\": \"Desbloqueo exitoso\", \"count\": 21, \"total\": 24, \"percent\": 0.875}, {\"ASESOR\": \"ibarrien\", \"DESCCOD\": \"Desbloqueo no exitoso\", \"count\": 3, \"total\": 24, \"percent\": 0.125}, {\"ASESOR\": \"jaquicen\", \"DESCCOD\": \"Desbloqueo exitoso\", \"count\": 168, \"total\": 208, \"percent\": 0.8076923076923077}, {\"ASESOR\": \"jaquicen\", \"DESCCOD\": \"Desbloqueo no exitoso\", \"count\": 39, \"total\": 208, \"percent\": 0.1875}, {\"ASESOR\": \"jaquicen\", \"DESCCOD\": \"Deteccion suplantacion \", \"count\": 1, \"total\": 208, \"percent\": 0.004807692307692308}, {\"ASESOR\": \"jensalaz\", \"DESCCOD\": \"Desbloqueo con soportes\", \"count\": 11, \"total\": 102, \"percent\": 0.10784313725490197}, {\"ASESOR\": \"jensalaz\", \"DESCCOD\": \"Desbloqueo exitoso\", \"count\": 86, \"total\": 102, \"percent\": 0.8431372549019608}, {\"ASESOR\": \"jensalaz\", \"DESCCOD\": \"Desbloqueo no exitoso\", \"count\": 5, \"total\": 102, \"percent\": 0.049019607843137254}, {\"ASESOR\": \"jentobon\", \"DESCCOD\": \"Desbloqueo exitoso\", \"count\": 104, \"total\": 140, \"percent\": 0.7428571428571429}, {\"ASESOR\": \"jentobon\", \"DESCCOD\": \"Desbloqueo no exitoso\", \"count\": 34, \"total\": 140, \"percent\": 0.24285714285714285}, {\"ASESOR\": \"jentobon\", \"DESCCOD\": \"Deteccion suplantacion \", \"count\": 2, \"total\": 140, \"percent\": 0.014285714285714285}, {\"ASESOR\": \"jhecano\", \"DESCCOD\": \"Desbloqueo con soportes\", \"count\": 15, \"total\": 100, \"percent\": 0.15}, {\"ASESOR\": \"jhecano\", \"DESCCOD\": \"Desbloqueo exitoso\", \"count\": 76, \"total\": 100, \"percent\": 0.76}, {\"ASESOR\": \"jhecano\", \"DESCCOD\": \"Desbloqueo no exitoso\", \"count\": 7, \"total\": 100, \"percent\": 0.07}, {\"ASESOR\": \"jhecano\", \"DESCCOD\": \"Deteccion suplantacion \", \"count\": 2, \"total\": 100, \"percent\": 0.02}, {\"ASESOR\": \"joaocamp\", \"DESCCOD\": \"Desbloqueo exitoso\", \"count\": 137, \"total\": 167, \"percent\": 0.8203592814371258}, {\"ASESOR\": \"joaocamp\", \"DESCCOD\": \"Desbloqueo no exitoso\", \"count\": 27, \"total\": 167, \"percent\": 0.16167664670658682}, {\"ASESOR\": \"joaocamp\", \"DESCCOD\": \"Deteccion suplantacion \", \"count\": 3, \"total\": 167, \"percent\": 0.017964071856287425}, {\"ASESOR\": \"jodurang\", \"DESCCOD\": \"Desbloqueo exitoso\", \"count\": 197, \"total\": 232, \"percent\": 0.8491379310344828}, {\"ASESOR\": \"jodurang\", \"DESCCOD\": \"Desbloqueo no exitoso\", \"count\": 35, \"total\": 232, \"percent\": 0.15086206896551724}, {\"ASESOR\": \"joshurta\", \"DESCCOD\": \"Desbloqueo exitoso\", \"count\": 198, \"total\": 209, \"percent\": 0.9473684210526315}, {\"ASESOR\": \"joshurta\", \"DESCCOD\": \"Desbloqueo no exitoso\", \"count\": 6, \"total\": 209, \"percent\": 0.028708133971291867}, {\"ASESOR\": \"joshurta\", \"DESCCOD\": \"Deteccion suplantacion \", \"count\": 5, \"total\": 209, \"percent\": 0.023923444976076555}, {\"ASESOR\": \"jprincon\", \"DESCCOD\": \"Desbloqueo con soportes\", \"count\": 2, \"total\": 181, \"percent\": 0.011049723756906077}, {\"ASESOR\": \"jprincon\", \"DESCCOD\": \"Desbloqueo exitoso\", \"count\": 121, \"total\": 181, \"percent\": 0.6685082872928176}, {\"ASESOR\": \"jprincon\", \"DESCCOD\": \"Desbloqueo no exitoso\", \"count\": 54, \"total\": 181, \"percent\": 0.2983425414364641}, {\"ASESOR\": \"jprincon\", \"DESCCOD\": \"Deteccion suplantacion \", \"count\": 4, \"total\": 181, \"percent\": 0.022099447513812154}, {\"ASESOR\": \"jucflore\", \"DESCCOD\": \"Desbloqueo exitoso\", \"count\": 66, \"total\": 99, \"percent\": 0.6666666666666666}, {\"ASESOR\": \"jucflore\", \"DESCCOD\": \"Desbloqueo no exitoso\", \"count\": 24, \"total\": 99, \"percent\": 0.24242424242424243}, {\"ASESOR\": \"jucflore\", \"DESCCOD\": \"Deteccion suplantacion \", \"count\": 9, \"total\": 99, \"percent\": 0.09090909090909091}, {\"ASESOR\": \"jucotalv\", \"DESCCOD\": \"Desbloqueo con soportes\", \"count\": 3, \"total\": 77, \"percent\": 0.03896103896103896}, {\"ASESOR\": \"jucotalv\", \"DESCCOD\": \"Desbloqueo exitoso\", \"count\": 54, \"total\": 77, \"percent\": 0.7012987012987013}, {\"ASESOR\": \"jucotalv\", \"DESCCOD\": \"Desbloqueo no exitoso\", \"count\": 20, \"total\": 77, \"percent\": 0.2597402597402597}, {\"ASESOR\": \"jufebedo\", \"DESCCOD\": \"Desbloqueo exitoso\", \"count\": 24, \"total\": 45, \"percent\": 0.5333333333333333}, {\"ASESOR\": \"jufebedo\", \"DESCCOD\": \"Desbloqueo no exitoso\", \"count\": 21, \"total\": 45, \"percent\": 0.4666666666666667}, {\"ASESOR\": \"jumarang\", \"DESCCOD\": \"Desbloqueo exitoso\", \"count\": 198, \"total\": 233, \"percent\": 0.8497854077253219}, {\"ASESOR\": \"jumarang\", \"DESCCOD\": \"Desbloqueo no exitoso\", \"count\": 33, \"total\": 233, \"percent\": 0.14163090128755365}, {\"ASESOR\": \"jumarang\", \"DESCCOD\": \"Deteccion suplantacion \", \"count\": 2, \"total\": 233, \"percent\": 0.008583690987124463}, {\"ASESOR\": \"ladsanch\", \"DESCCOD\": \"Desbloqueo con soportes\", \"count\": 12, \"total\": 108, \"percent\": 0.1111111111111111}, {\"ASESOR\": \"ladsanch\", \"DESCCOD\": \"Desbloqueo exitoso\", \"count\": 76, \"total\": 108, \"percent\": 0.7037037037037037}, {\"ASESOR\": \"ladsanch\", \"DESCCOD\": \"Desbloqueo no exitoso\", \"count\": 19, \"total\": 108, \"percent\": 0.17592592592592593}, {\"ASESOR\": \"ladsanch\", \"DESCCOD\": \"Deteccion suplantacion \", \"count\": 1, \"total\": 108, \"percent\": 0.009259259259259259}, {\"ASESOR\": \"lcduque\", \"DESCCOD\": \"Desbloqueo con soportes\", \"count\": 23, \"total\": 192, \"percent\": 0.11979166666666667}, {\"ASESOR\": \"lcduque\", \"DESCCOD\": \"Desbloqueo exitoso\", \"count\": 164, \"total\": 192, \"percent\": 0.8541666666666666}, {\"ASESOR\": \"lcduque\", \"DESCCOD\": \"Desbloqueo no exitoso\", \"count\": 5, \"total\": 192, \"percent\": 0.026041666666666668}, {\"ASESOR\": \"lcmonsal\", \"DESCCOD\": \"Desbloqueo con soportes\", \"count\": 2, \"total\": 209, \"percent\": 0.009569377990430622}, {\"ASESOR\": \"lcmonsal\", \"DESCCOD\": \"Desbloqueo exitoso\", \"count\": 177, \"total\": 209, \"percent\": 0.84688995215311}, {\"ASESOR\": \"lcmonsal\", \"DESCCOD\": \"Desbloqueo no exitoso\", \"count\": 29, \"total\": 209, \"percent\": 0.13875598086124402}, {\"ASESOR\": \"lcmonsal\", \"DESCCOD\": \"Deteccion suplantacion \", \"count\": 1, \"total\": 209, \"percent\": 0.004784688995215311}, {\"ASESOR\": \"leoestra\", \"DESCCOD\": \"Desbloqueo con soportes\", \"count\": 1, \"total\": 80, \"percent\": 0.0125}, {\"ASESOR\": \"leoestra\", \"DESCCOD\": \"Desbloqueo exitoso\", \"count\": 77, \"total\": 80, \"percent\": 0.9625}, {\"ASESOR\": \"leoestra\", \"DESCCOD\": \"Desbloqueo no exitoso\", \"count\": 2, \"total\": 80, \"percent\": 0.025}, {\"ASESOR\": \"limsanch\", \"DESCCOD\": \"Desbloqueo con soportes\", \"count\": 6, \"total\": 59, \"percent\": 0.1016949152542373}, {\"ASESOR\": \"limsanch\", \"DESCCOD\": \"Desbloqueo exitoso\", \"count\": 43, \"total\": 59, \"percent\": 0.7288135593220338}, {\"ASESOR\": \"limsanch\", \"DESCCOD\": \"Desbloqueo no exitoso\", \"count\": 10, \"total\": 59, \"percent\": 0.1694915254237288}, {\"ASESOR\": \"linaarbe\", \"DESCCOD\": \"Desbloqueo exitoso\", \"count\": 1, \"total\": 1, \"percent\": 1.0}, {\"ASESOR\": \"lmarbela\", \"DESCCOD\": \"Desbloqueo con soportes\", \"count\": 1, \"total\": 128, \"percent\": 0.0078125}, {\"ASESOR\": \"lmarbela\", \"DESCCOD\": \"Desbloqueo exitoso\", \"count\": 117, \"total\": 128, \"percent\": 0.9140625}, {\"ASESOR\": \"lmarbela\", \"DESCCOD\": \"Desbloqueo no exitoso\", \"count\": 10, \"total\": 128, \"percent\": 0.078125}, {\"ASESOR\": \"lrobayo\", \"DESCCOD\": \"Desbloqueo con soportes\", \"count\": 45, \"total\": 203, \"percent\": 0.22167487684729065}, {\"ASESOR\": \"lrobayo\", \"DESCCOD\": \"Desbloqueo exitoso\", \"count\": 124, \"total\": 203, \"percent\": 0.6108374384236454}, {\"ASESOR\": \"lrobayo\", \"DESCCOD\": \"Desbloqueo no exitoso\", \"count\": 31, \"total\": 203, \"percent\": 0.15270935960591134}, {\"ASESOR\": \"lrobayo\", \"DESCCOD\": \"Deteccion suplantacion \", \"count\": 3, \"total\": 203, \"percent\": 0.014778325123152709}, {\"ASESOR\": \"lvanegas\", \"DESCCOD\": \"Desbloqueo exitoso\", \"count\": 110, \"total\": 111, \"percent\": 0.990990990990991}, {\"ASESOR\": \"lvanegas\", \"DESCCOD\": \"Desbloqueo no exitoso\", \"count\": 1, \"total\": 111, \"percent\": 0.009009009009009009}, {\"ASESOR\": \"magoez\", \"DESCCOD\": \"Desbloqueo con soportes\", \"count\": 3, \"total\": 37, \"percent\": 0.08108108108108109}, {\"ASESOR\": \"magoez\", \"DESCCOD\": \"Desbloqueo exitoso\", \"count\": 28, \"total\": 37, \"percent\": 0.7567567567567568}, {\"ASESOR\": \"magoez\", \"DESCCOD\": \"Desbloqueo no exitoso\", \"count\": 6, \"total\": 37, \"percent\": 0.16216216216216217}, {\"ASESOR\": \"margmari\", \"DESCCOD\": \"Desbloqueo con soportes\", \"count\": 10, \"total\": 145, \"percent\": 0.06896551724137931}, {\"ASESOR\": \"margmari\", \"DESCCOD\": \"Desbloqueo exitoso\", \"count\": 107, \"total\": 145, \"percent\": 0.7379310344827587}, {\"ASESOR\": \"margmari\", \"DESCCOD\": \"Desbloqueo no exitoso\", \"count\": 28, \"total\": 145, \"percent\": 0.19310344827586207}, {\"ASESOR\": \"marieche\", \"DESCCOD\": \"Desbloqueo con soportes\", \"count\": 1, \"total\": 47, \"percent\": 0.02127659574468085}, {\"ASESOR\": \"marieche\", \"DESCCOD\": \"Desbloqueo exitoso\", \"count\": 41, \"total\": 47, \"percent\": 0.8723404255319149}, {\"ASESOR\": \"marieche\", \"DESCCOD\": \"Desbloqueo no exitoso\", \"count\": 5, \"total\": 47, \"percent\": 0.10638297872340426}, {\"ASESOR\": \"marivill\", \"DESCCOD\": \"Desbloqueo con soportes\", \"count\": 1, \"total\": 137, \"percent\": 0.0072992700729927005}, {\"ASESOR\": \"marivill\", \"DESCCOD\": \"Desbloqueo exitoso\", \"count\": 124, \"total\": 137, \"percent\": 0.9051094890510949}, {\"ASESOR\": \"marivill\", \"DESCCOD\": \"Desbloqueo no exitoso\", \"count\": 9, \"total\": 137, \"percent\": 0.06569343065693431}, {\"ASESOR\": \"marivill\", \"DESCCOD\": \"Deteccion suplantacion \", \"count\": 3, \"total\": 137, \"percent\": 0.021897810218978103}, {\"ASESOR\": \"mgtorre\", \"DESCCOD\": \"Desbloqueo exitoso\", \"count\": 31, \"total\": 31, \"percent\": 1.0}, {\"ASESOR\": \"miljaram\", \"DESCCOD\": \"Desbloqueo exitoso\", \"count\": 1, \"total\": 8, \"percent\": 0.125}, {\"ASESOR\": \"miljaram\", \"DESCCOD\": \"Desbloqueo no exitoso\", \"count\": 7, \"total\": 8, \"percent\": 0.875}, {\"ASESOR\": \"naalrest\", \"DESCCOD\": \"Desbloqueo con soportes\", \"count\": 3, \"total\": 115, \"percent\": 0.02608695652173913}, {\"ASESOR\": \"naalrest\", \"DESCCOD\": \"Desbloqueo exitoso\", \"count\": 92, \"total\": 115, \"percent\": 0.8}, {\"ASESOR\": \"naalrest\", \"DESCCOD\": \"Desbloqueo no exitoso\", \"count\": 18, \"total\": 115, \"percent\": 0.1565217391304348}, {\"ASESOR\": \"naalrest\", \"DESCCOD\": \"Deteccion suplantacion \", \"count\": 2, \"total\": 115, \"percent\": 0.017391304347826087}, {\"ASESOR\": \"naalvare\", \"DESCCOD\": \"Desbloqueo con soportes\", \"count\": 18, \"total\": 219, \"percent\": 0.0821917808219178}, {\"ASESOR\": \"naalvare\", \"DESCCOD\": \"Desbloqueo exitoso\", \"count\": 167, \"total\": 219, \"percent\": 0.7625570776255708}, {\"ASESOR\": \"naalvare\", \"DESCCOD\": \"Desbloqueo no exitoso\", \"count\": 23, \"total\": 219, \"percent\": 0.1050228310502283}, {\"ASESOR\": \"naalvare\", \"DESCCOD\": \"Deteccion suplantacion \", \"count\": 11, \"total\": 219, \"percent\": 0.0502283105022831}, {\"ASESOR\": \"njpuerta\", \"DESCCOD\": \"Desbloqueo exitoso\", \"count\": 166, \"total\": 180, \"percent\": 0.9222222222222223}, {\"ASESOR\": \"njpuerta\", \"DESCCOD\": \"Desbloqueo no exitoso\", \"count\": 7, \"total\": 180, \"percent\": 0.03888888888888889}, {\"ASESOR\": \"njpuerta\", \"DESCCOD\": \"Deteccion suplantacion \", \"count\": 7, \"total\": 180, \"percent\": 0.03888888888888889}, {\"ASESOR\": \"opalacio\", \"DESCCOD\": \"Desbloqueo con soportes\", \"count\": 36, \"total\": 179, \"percent\": 0.2011173184357542}, {\"ASESOR\": \"opalacio\", \"DESCCOD\": \"Desbloqueo exitoso\", \"count\": 118, \"total\": 179, \"percent\": 0.659217877094972}, {\"ASESOR\": \"opalacio\", \"DESCCOD\": \"Desbloqueo no exitoso\", \"count\": 24, \"total\": 179, \"percent\": 0.1340782122905028}, {\"ASESOR\": \"opalacio\", \"DESCCOD\": \"Deteccion suplantacion \", \"count\": 1, \"total\": 179, \"percent\": 0.00558659217877095}, {\"ASESOR\": \"paavelas\", \"DESCCOD\": \"Desbloqueo con soportes\", \"count\": 2, \"total\": 326, \"percent\": 0.006134969325153374}, {\"ASESOR\": \"paavelas\", \"DESCCOD\": \"Desbloqueo exitoso\", \"count\": 290, \"total\": 326, \"percent\": 0.8895705521472392}, {\"ASESOR\": \"paavelas\", \"DESCCOD\": \"Desbloqueo no exitoso\", \"count\": 34, \"total\": 326, \"percent\": 0.10429447852760736}, {\"ASESOR\": \"ralzate\", \"DESCCOD\": \"Desbloqueo exitoso\", \"count\": 194, \"total\": 271, \"percent\": 0.7158671586715867}, {\"ASESOR\": \"ralzate\", \"DESCCOD\": \"Desbloqueo no exitoso\", \"count\": 68, \"total\": 271, \"percent\": 0.25092250922509224}, {\"ASESOR\": \"ralzate\", \"DESCCOD\": \"Deteccion suplantacion \", \"count\": 9, \"total\": 271, \"percent\": 0.033210332103321034}, {\"ASESOR\": \"sanhinca\", \"DESCCOD\": \"Desbloqueo exitoso\", \"count\": 32, \"total\": 36, \"percent\": 0.8888888888888888}, {\"ASESOR\": \"sanhinca\", \"DESCCOD\": \"Desbloqueo no exitoso\", \"count\": 4, \"total\": 36, \"percent\": 0.1111111111111111}, {\"ASESOR\": \"srville\", \"DESCCOD\": \"Desbloqueo exitoso\", \"count\": 159, \"total\": 175, \"percent\": 0.9085714285714286}, {\"ASESOR\": \"srville\", \"DESCCOD\": \"Desbloqueo no exitoso\", \"count\": 15, \"total\": 175, \"percent\": 0.08571428571428572}, {\"ASESOR\": \"srville\", \"DESCCOD\": \"Deteccion suplantacion \", \"count\": 1, \"total\": 175, \"percent\": 0.005714285714285714}, {\"ASESOR\": \"szzapat\", \"DESCCOD\": \"Desbloqueo exitoso\", \"count\": 125, \"total\": 129, \"percent\": 0.9689922480620154}, {\"ASESOR\": \"szzapat\", \"DESCCOD\": \"Desbloqueo no exitoso\", \"count\": 2, \"total\": 129, \"percent\": 0.015503875968992248}, {\"ASESOR\": \"szzapat\", \"DESCCOD\": \"Deteccion suplantacion \", \"count\": 2, \"total\": 129, \"percent\": 0.015503875968992248}, {\"ASESOR\": \"tnino\", \"DESCCOD\": \"Desbloqueo con soportes\", \"count\": 4, \"total\": 61, \"percent\": 0.06557377049180328}, {\"ASESOR\": \"tnino\", \"DESCCOD\": \"Desbloqueo exitoso\", \"count\": 56, \"total\": 61, \"percent\": 0.9180327868852459}, {\"ASESOR\": \"tnino\", \"DESCCOD\": \"Desbloqueo no exitoso\", \"count\": 1, \"total\": 61, \"percent\": 0.01639344262295082}, {\"ASESOR\": \"vanlopez\", \"DESCCOD\": \"Desbloqueo con soportes\", \"count\": 33, \"total\": 77, \"percent\": 0.42857142857142855}, {\"ASESOR\": \"vanlopez\", \"DESCCOD\": \"Desbloqueo exitoso\", \"count\": 39, \"total\": 77, \"percent\": 0.5064935064935064}, {\"ASESOR\": \"vanlopez\", \"DESCCOD\": \"Desbloqueo no exitoso\", \"count\": 2, \"total\": 77, \"percent\": 0.025974025974025976}, {\"ASESOR\": \"vanlopez\", \"DESCCOD\": \"Deteccion suplantacion \", \"count\": 3, \"total\": 77, \"percent\": 0.03896103896103896}, {\"ASESOR\": \"vcardozo\", \"DESCCOD\": \"Desbloqueo con soportes\", \"count\": 16, \"total\": 116, \"percent\": 0.13793103448275862}, {\"ASESOR\": \"vcardozo\", \"DESCCOD\": \"Desbloqueo exitoso\", \"count\": 92, \"total\": 116, \"percent\": 0.7931034482758621}, {\"ASESOR\": \"vcardozo\", \"DESCCOD\": \"Desbloqueo no exitoso\", \"count\": 7, \"total\": 116, \"percent\": 0.0603448275862069}, {\"ASESOR\": \"vcardozo\", \"DESCCOD\": \"Deteccion suplantacion \", \"count\": 1, \"total\": 116, \"percent\": 0.008620689655172414}, {\"ASESOR\": \"vipelaez\", \"DESCCOD\": \"Desbloqueo exitoso\", \"count\": 139, \"total\": 216, \"percent\": 0.6435185185185185}, {\"ASESOR\": \"vipelaez\", \"DESCCOD\": \"Desbloqueo no exitoso\", \"count\": 77, \"total\": 216, \"percent\": 0.35648148148148145}, {\"ASESOR\": \"vsalvare\", \"DESCCOD\": \"Desbloqueo con soportes\", \"count\": 22, \"total\": 83, \"percent\": 0.26506024096385544}, {\"ASESOR\": \"vsalvare\", \"DESCCOD\": \"Desbloqueo exitoso\", \"count\": 58, \"total\": 83, \"percent\": 0.6987951807228916}, {\"ASESOR\": \"vsalvare\", \"DESCCOD\": \"Desbloqueo no exitoso\", \"count\": 3, \"total\": 83, \"percent\": 0.03614457831325301}, {\"ASESOR\": \"yoalvar\", \"DESCCOD\": \"Desbloqueo con soportes\", \"count\": 12, \"total\": 51, \"percent\": 0.23529411764705882}, {\"ASESOR\": \"yoalvar\", \"DESCCOD\": \"Desbloqueo exitoso\", \"count\": 37, \"total\": 51, \"percent\": 0.7254901960784313}, {\"ASESOR\": \"yoalvar\", \"DESCCOD\": \"Desbloqueo no exitoso\", \"count\": 2, \"total\": 51, \"percent\": 0.0392156862745098}, {\"ASESOR\": \"yszapata\", \"DESCCOD\": \"Desbloqueo exitoso\", \"count\": 225, \"total\": 240, \"percent\": 0.9375}, {\"ASESOR\": \"yszapata\", \"DESCCOD\": \"Desbloqueo no exitoso\", \"count\": 13, \"total\": 240, \"percent\": 0.05416666666666667}, {\"ASESOR\": \"yszapata\", \"DESCCOD\": \"Deteccion suplantacion \", \"count\": 2, \"total\": 240, \"percent\": 0.008333333333333333}, {\"ASESOR\": \"ytmesa\", \"DESCCOD\": \"Desbloqueo exitoso\", \"count\": 117, \"total\": 124, \"percent\": 0.9435483870967742}, {\"ASESOR\": \"ytmesa\", \"DESCCOD\": \"Deteccion suplantacion \", \"count\": 7, \"total\": 124, \"percent\": 0.056451612903225805}, {\"ASESOR\": \"yulsanch\", \"DESCCOD\": \"Desbloqueo exitoso\", \"count\": 1, \"total\": 1, \"percent\": 1.0}]}}, {\"mode\": \"vega-lite\"});\n",
       "</script>"
      ],
      "text/plain": [
       "alt.Chart(...)"
      ]
     },
     "execution_count": 49,
     "metadata": {},
     "output_type": "execute_result"
    }
   ],
   "source": [
    "alt.Chart(df[df.DESCCOD!='Desbloqueo pendiente de validacion ']\n",
    " .groupby(['ASESOR','DESCCOD'])\n",
    " .agg(count=('FECHA','size'))\n",
    " .assign(total = lambda x: x.groupby(level='ASESOR')['count'].transform(lambda z: z.sum()))\n",
    " .assign(percent = lambda x: x['count']/x['total'])\n",
    " .reset_index()\n",
    ").mark_point().encode(\n",
    "    x = 'total',\n",
    "    y = 'percent',\n",
    "    color = 'DESCCOD',\n",
    "    tooltip = ['ASESOR' ,'DESCCOD', 'count', 'total', 'percent']\n",
    ").properties(\n",
    "    title = 'Porcentaje Tipo Desbloqueo por Asesor'\n",
    ")"
   ]
  },
  {
   "cell_type": "code",
   "execution_count": 50,
   "id": "a36c8122",
   "metadata": {
    "ExecuteTime": {
     "end_time": "2022-08-22T21:44:33.309586Z",
     "start_time": "2022-08-22T21:44:33.249946Z"
    }
   },
   "outputs": [
    {
     "data": {
      "text/html": [
       "\n",
       "<div id=\"altair-viz-062dfa6faf7f49dc8f7de820bfc6f509\"></div>\n",
       "<script type=\"text/javascript\">\n",
       "  var VEGA_DEBUG = (typeof VEGA_DEBUG == \"undefined\") ? {} : VEGA_DEBUG;\n",
       "  (function(spec, embedOpt){\n",
       "    let outputDiv = document.currentScript.previousElementSibling;\n",
       "    if (outputDiv.id !== \"altair-viz-062dfa6faf7f49dc8f7de820bfc6f509\") {\n",
       "      outputDiv = document.getElementById(\"altair-viz-062dfa6faf7f49dc8f7de820bfc6f509\");\n",
       "    }\n",
       "    const paths = {\n",
       "      \"vega\": \"https://cdn.jsdelivr.net/npm//vega@5?noext\",\n",
       "      \"vega-lib\": \"https://cdn.jsdelivr.net/npm//vega-lib?noext\",\n",
       "      \"vega-lite\": \"https://cdn.jsdelivr.net/npm//vega-lite@4.17.0?noext\",\n",
       "      \"vega-embed\": \"https://cdn.jsdelivr.net/npm//vega-embed@6?noext\",\n",
       "    };\n",
       "\n",
       "    function maybeLoadScript(lib, version) {\n",
       "      var key = `${lib.replace(\"-\", \"\")}_version`;\n",
       "      return (VEGA_DEBUG[key] == version) ?\n",
       "        Promise.resolve(paths[lib]) :\n",
       "        new Promise(function(resolve, reject) {\n",
       "          var s = document.createElement('script');\n",
       "          document.getElementsByTagName(\"head\")[0].appendChild(s);\n",
       "          s.async = true;\n",
       "          s.onload = () => {\n",
       "            VEGA_DEBUG[key] = version;\n",
       "            return resolve(paths[lib]);\n",
       "          };\n",
       "          s.onerror = () => reject(`Error loading script: ${paths[lib]}`);\n",
       "          s.src = paths[lib];\n",
       "        });\n",
       "    }\n",
       "\n",
       "    function showError(err) {\n",
       "      outputDiv.innerHTML = `<div class=\"error\" style=\"color:red;\">${err}</div>`;\n",
       "      throw err;\n",
       "    }\n",
       "\n",
       "    function displayChart(vegaEmbed) {\n",
       "      vegaEmbed(outputDiv, spec, embedOpt)\n",
       "        .catch(err => showError(`Javascript Error: ${err.message}<br>This usually means there's a typo in your chart specification. See the javascript console for the full traceback.`));\n",
       "    }\n",
       "\n",
       "    if(typeof define === \"function\" && define.amd) {\n",
       "      requirejs.config({paths});\n",
       "      require([\"vega-embed\"], displayChart, err => showError(`Error loading script: ${err.message}`));\n",
       "    } else {\n",
       "      maybeLoadScript(\"vega\", \"5\")\n",
       "        .then(() => maybeLoadScript(\"vega-lite\", \"4.17.0\"))\n",
       "        .then(() => maybeLoadScript(\"vega-embed\", \"6\"))\n",
       "        .catch(showError)\n",
       "        .then(() => displayChart(vegaEmbed));\n",
       "    }\n",
       "  })({\"config\": {\"view\": {\"continuousWidth\": 400, \"continuousHeight\": 300}}, \"data\": {\"name\": \"data-266f883612844867676a667e3a9d45f6\"}, \"mark\": \"point\", \"encoding\": {\"color\": {\"field\": \"DESCCOD\", \"type\": \"nominal\"}, \"tooltip\": [{\"field\": \"ASESOR\", \"type\": \"nominal\"}, {\"field\": \"DESCCOD\", \"type\": \"nominal\"}, {\"field\": \"count\", \"type\": \"quantitative\"}, {\"field\": \"total\", \"type\": \"quantitative\"}, {\"field\": \"percent\", \"type\": \"quantitative\"}], \"x\": {\"field\": \"total\", \"type\": \"quantitative\"}, \"y\": {\"field\": \"percent\", \"type\": \"quantitative\"}}, \"title\": \"Porcentaje Tipo Desbloqueo por Asesor\", \"$schema\": \"https://vega.github.io/schema/vega-lite/v4.17.0.json\", \"datasets\": {\"data-266f883612844867676a667e3a9d45f6\": [{\"ASESOR\": \"angserna\", \"DESCCOD\": \"Desbloqueo exitoso\", \"count\": 99, \"total\": 114, \"percent\": 0.868421052631579}, {\"ASESOR\": \"angserna\", \"DESCCOD\": \"Llamada consulta Sfisica\", \"count\": 15, \"total\": 114, \"percent\": 0.13157894736842105}, {\"ASESOR\": \"cacorral\", \"DESCCOD\": \"Desbloqueo con soportes\", \"count\": 2, \"total\": 82, \"percent\": 0.024390243902439025}, {\"ASESOR\": \"cacorral\", \"DESCCOD\": \"Desbloqueo exitoso\", \"count\": 73, \"total\": 82, \"percent\": 0.8902439024390244}, {\"ASESOR\": \"cacorral\", \"DESCCOD\": \"Deteccion suplantacion \", \"count\": 2, \"total\": 82, \"percent\": 0.024390243902439025}, {\"ASESOR\": \"cacorral\", \"DESCCOD\": \"Llamada consulta Sfisica\", \"count\": 5, \"total\": 82, \"percent\": 0.06097560975609756}, {\"ASESOR\": \"carlojar\", \"DESCCOD\": \"Desbloqueo exitoso\", \"count\": 120, \"total\": 134, \"percent\": 0.8955223880597015}, {\"ASESOR\": \"carlojar\", \"DESCCOD\": \"Llamada consulta Sfisica\", \"count\": 14, \"total\": 134, \"percent\": 0.1044776119402985}, {\"ASESOR\": \"caropere\", \"DESCCOD\": \"Desbloqueo exitoso\", \"count\": 63, \"total\": 69, \"percent\": 0.9130434782608695}, {\"ASESOR\": \"caropere\", \"DESCCOD\": \"Llamada consulta Sfisica\", \"count\": 6, \"total\": 69, \"percent\": 0.08695652173913043}, {\"ASESOR\": \"crpelaez\", \"DESCCOD\": \"Desbloqueo exitoso\", \"count\": 7, \"total\": 7, \"percent\": 1.0}, {\"ASESOR\": \"dancorra\", \"DESCCOD\": \"Desbloqueo exitoso\", \"count\": 11, \"total\": 13, \"percent\": 0.8461538461538461}, {\"ASESOR\": \"dancorra\", \"DESCCOD\": \"Llamada consulta Sfisica\", \"count\": 2, \"total\": 13, \"percent\": 0.15384615384615385}, {\"ASESOR\": \"dcatano\", \"DESCCOD\": \"Desbloqueo exitoso\", \"count\": 30, \"total\": 37, \"percent\": 0.8108108108108109}, {\"ASESOR\": \"dcatano\", \"DESCCOD\": \"Llamada consulta Sfisica\", \"count\": 7, \"total\": 37, \"percent\": 0.1891891891891892}, {\"ASESOR\": \"dcosorio\", \"DESCCOD\": \"Desbloqueo con soportes\", \"count\": 18, \"total\": 72, \"percent\": 0.25}, {\"ASESOR\": \"dcosorio\", \"DESCCOD\": \"Desbloqueo exitoso\", \"count\": 40, \"total\": 72, \"percent\": 0.5555555555555556}, {\"ASESOR\": \"dcosorio\", \"DESCCOD\": \"Deteccion suplantacion \", \"count\": 7, \"total\": 72, \"percent\": 0.09722222222222222}, {\"ASESOR\": \"dcosorio\", \"DESCCOD\": \"Llamada consulta Sfisica\", \"count\": 7, \"total\": 72, \"percent\": 0.09722222222222222}, {\"ASESOR\": \"dgherna\", \"DESCCOD\": \"Desbloqueo exitoso\", \"count\": 90, \"total\": 101, \"percent\": 0.8910891089108911}, {\"ASESOR\": \"dgherna\", \"DESCCOD\": \"Deteccion suplantacion \", \"count\": 2, \"total\": 101, \"percent\": 0.019801980198019802}, {\"ASESOR\": \"dgherna\", \"DESCCOD\": \"Llamada consulta Sfisica\", \"count\": 9, \"total\": 101, \"percent\": 0.0891089108910891}, {\"ASESOR\": \"dialgome\", \"DESCCOD\": \"Desbloqueo con soportes\", \"count\": 1, \"total\": 130, \"percent\": 0.007692307692307693}, {\"ASESOR\": \"dialgome\", \"DESCCOD\": \"Desbloqueo exitoso\", \"count\": 122, \"total\": 130, \"percent\": 0.9384615384615385}, {\"ASESOR\": \"dialgome\", \"DESCCOD\": \"Deteccion suplantacion \", \"count\": 3, \"total\": 130, \"percent\": 0.023076923076923078}, {\"ASESOR\": \"dialgome\", \"DESCCOD\": \"Llamada consulta Sfisica\", \"count\": 4, \"total\": 130, \"percent\": 0.03076923076923077}, {\"ASESOR\": \"diasuaza\", \"DESCCOD\": \"Desbloqueo con soportes\", \"count\": 19, \"total\": 93, \"percent\": 0.20430107526881722}, {\"ASESOR\": \"diasuaza\", \"DESCCOD\": \"Desbloqueo exitoso\", \"count\": 62, \"total\": 93, \"percent\": 0.6666666666666666}, {\"ASESOR\": \"diasuaza\", \"DESCCOD\": \"Deteccion suplantacion \", \"count\": 7, \"total\": 93, \"percent\": 0.07526881720430108}, {\"ASESOR\": \"diasuaza\", \"DESCCOD\": \"Llamada consulta Sfisica\", \"count\": 5, \"total\": 93, \"percent\": 0.053763440860215055}, {\"ASESOR\": \"dicyepes\", \"DESCCOD\": \"Desbloqueo con soportes\", \"count\": 29, \"total\": 193, \"percent\": 0.15025906735751296}, {\"ASESOR\": \"dicyepes\", \"DESCCOD\": \"Desbloqueo exitoso\", \"count\": 60, \"total\": 193, \"percent\": 0.31088082901554404}, {\"ASESOR\": \"dicyepes\", \"DESCCOD\": \"Deteccion suplantacion \", \"count\": 5, \"total\": 193, \"percent\": 0.025906735751295335}, {\"ASESOR\": \"dicyepes\", \"DESCCOD\": \"Llamada consulta Sfisica\", \"count\": 99, \"total\": 193, \"percent\": 0.5129533678756477}, {\"ASESOR\": \"erforan\", \"DESCCOD\": \"Desbloqueo exitoso\", \"count\": 89, \"total\": 97, \"percent\": 0.9175257731958762}, {\"ASESOR\": \"erforan\", \"DESCCOD\": \"Deteccion suplantacion \", \"count\": 1, \"total\": 97, \"percent\": 0.010309278350515464}, {\"ASESOR\": \"erforan\", \"DESCCOD\": \"Llamada consulta Sfisica\", \"count\": 7, \"total\": 97, \"percent\": 0.07216494845360824}, {\"ASESOR\": \"hfranco\", \"DESCCOD\": \"Desbloqueo con soportes\", \"count\": 74, \"total\": 97, \"percent\": 0.7628865979381443}, {\"ASESOR\": \"hfranco\", \"DESCCOD\": \"Desbloqueo exitoso\", \"count\": 13, \"total\": 97, \"percent\": 0.13402061855670103}, {\"ASESOR\": \"hfranco\", \"DESCCOD\": \"Deteccion suplantacion \", \"count\": 1, \"total\": 97, \"percent\": 0.010309278350515464}, {\"ASESOR\": \"hfranco\", \"DESCCOD\": \"Llamada consulta Sfisica\", \"count\": 9, \"total\": 97, \"percent\": 0.09278350515463918}, {\"ASESOR\": \"hpenagos\", \"DESCCOD\": \"Desbloqueo con soportes\", \"count\": 50, \"total\": 141, \"percent\": 0.3546099290780142}, {\"ASESOR\": \"hpenagos\", \"DESCCOD\": \"Desbloqueo exitoso\", \"count\": 84, \"total\": 141, \"percent\": 0.5957446808510638}, {\"ASESOR\": \"hpenagos\", \"DESCCOD\": \"Deteccion suplantacion \", \"count\": 6, \"total\": 141, \"percent\": 0.0425531914893617}, {\"ASESOR\": \"hpenagos\", \"DESCCOD\": \"Llamada consulta Sfisica\", \"count\": 1, \"total\": 141, \"percent\": 0.0070921985815602835}, {\"ASESOR\": \"jaquicen\", \"DESCCOD\": \"Desbloqueo exitoso\", \"count\": 92, \"total\": 108, \"percent\": 0.8518518518518519}, {\"ASESOR\": \"jaquicen\", \"DESCCOD\": \"Deteccion suplantacion \", \"count\": 8, \"total\": 108, \"percent\": 0.07407407407407407}, {\"ASESOR\": \"jaquicen\", \"DESCCOD\": \"Llamada consulta Sfisica\", \"count\": 8, \"total\": 108, \"percent\": 0.07407407407407407}, {\"ASESOR\": \"jensalaz\", \"DESCCOD\": \"Desbloqueo con soportes\", \"count\": 23, \"total\": 69, \"percent\": 0.3333333333333333}, {\"ASESOR\": \"jensalaz\", \"DESCCOD\": \"Desbloqueo exitoso\", \"count\": 40, \"total\": 69, \"percent\": 0.5797101449275363}, {\"ASESOR\": \"jensalaz\", \"DESCCOD\": \"Llamada consulta Sfisica\", \"count\": 6, \"total\": 69, \"percent\": 0.08695652173913043}, {\"ASESOR\": \"jentobon\", \"DESCCOD\": \"Desbloqueo exitoso\", \"count\": 70, \"total\": 79, \"percent\": 0.8860759493670886}, {\"ASESOR\": \"jentobon\", \"DESCCOD\": \"Deteccion suplantacion \", \"count\": 3, \"total\": 79, \"percent\": 0.0379746835443038}, {\"ASESOR\": \"jentobon\", \"DESCCOD\": \"Llamada consulta Sfisica\", \"count\": 6, \"total\": 79, \"percent\": 0.0759493670886076}, {\"ASESOR\": \"jhecano\", \"DESCCOD\": \"Desbloqueo con soportes\", \"count\": 24, \"total\": 65, \"percent\": 0.36923076923076925}, {\"ASESOR\": \"jhecano\", \"DESCCOD\": \"Desbloqueo exitoso\", \"count\": 33, \"total\": 65, \"percent\": 0.5076923076923077}, {\"ASESOR\": \"jhecano\", \"DESCCOD\": \"Deteccion suplantacion \", \"count\": 1, \"total\": 65, \"percent\": 0.015384615384615385}, {\"ASESOR\": \"jhecano\", \"DESCCOD\": \"Llamada consulta Sfisica\", \"count\": 7, \"total\": 65, \"percent\": 0.1076923076923077}, {\"ASESOR\": \"jodurang\", \"DESCCOD\": \"Desbloqueo exitoso\", \"count\": 93, \"total\": 93, \"percent\": 1.0}, {\"ASESOR\": \"joshurta\", \"DESCCOD\": \"Desbloqueo con soportes\", \"count\": 11, \"total\": 121, \"percent\": 0.09090909090909091}, {\"ASESOR\": \"joshurta\", \"DESCCOD\": \"Desbloqueo exitoso\", \"count\": 105, \"total\": 121, \"percent\": 0.8677685950413223}, {\"ASESOR\": \"joshurta\", \"DESCCOD\": \"Deteccion suplantacion \", \"count\": 3, \"total\": 121, \"percent\": 0.024793388429752067}, {\"ASESOR\": \"joshurta\", \"DESCCOD\": \"Llamada consulta Sfisica\", \"count\": 2, \"total\": 121, \"percent\": 0.01652892561983471}, {\"ASESOR\": \"jprincon\", \"DESCCOD\": \"Desbloqueo exitoso\", \"count\": 108, \"total\": 276, \"percent\": 0.391304347826087}, {\"ASESOR\": \"jprincon\", \"DESCCOD\": \"Llamada consulta Sfisica\", \"count\": 168, \"total\": 276, \"percent\": 0.6086956521739131}, {\"ASESOR\": \"jumarang\", \"DESCCOD\": \"Desbloqueo exitoso\", \"count\": 70, \"total\": 70, \"percent\": 1.0}, {\"ASESOR\": \"ladsanch\", \"DESCCOD\": \"Desbloqueo con soportes\", \"count\": 1, \"total\": 98, \"percent\": 0.01020408163265306}, {\"ASESOR\": \"ladsanch\", \"DESCCOD\": \"Desbloqueo exitoso\", \"count\": 65, \"total\": 98, \"percent\": 0.6632653061224489}, {\"ASESOR\": \"ladsanch\", \"DESCCOD\": \"Deteccion suplantacion \", \"count\": 4, \"total\": 98, \"percent\": 0.04081632653061224}, {\"ASESOR\": \"ladsanch\", \"DESCCOD\": \"Llamada consulta Sfisica\", \"count\": 28, \"total\": 98, \"percent\": 0.2857142857142857}, {\"ASESOR\": \"lcmonsal\", \"DESCCOD\": \"Desbloqueo exitoso\", \"count\": 105, \"total\": 118, \"percent\": 0.8898305084745762}, {\"ASESOR\": \"lcmonsal\", \"DESCCOD\": \"Deteccion suplantacion \", \"count\": 4, \"total\": 118, \"percent\": 0.03389830508474576}, {\"ASESOR\": \"lcmonsal\", \"DESCCOD\": \"Llamada consulta Sfisica\", \"count\": 9, \"total\": 118, \"percent\": 0.07627118644067797}, {\"ASESOR\": \"leoestra\", \"DESCCOD\": \"Desbloqueo con soportes\", \"count\": 5, \"total\": 49, \"percent\": 0.10204081632653061}, {\"ASESOR\": \"leoestra\", \"DESCCOD\": \"Desbloqueo exitoso\", \"count\": 41, \"total\": 49, \"percent\": 0.8367346938775511}, {\"ASESOR\": \"leoestra\", \"DESCCOD\": \"Llamada consulta Sfisica\", \"count\": 3, \"total\": 49, \"percent\": 0.061224489795918366}, {\"ASESOR\": \"limsanch\", \"DESCCOD\": \"Desbloqueo con soportes\", \"count\": 18, \"total\": 53, \"percent\": 0.33962264150943394}, {\"ASESOR\": \"limsanch\", \"DESCCOD\": \"Desbloqueo exitoso\", \"count\": 35, \"total\": 53, \"percent\": 0.660377358490566}, {\"ASESOR\": \"lmarbela\", \"DESCCOD\": \"Desbloqueo con soportes\", \"count\": 1, \"total\": 86, \"percent\": 0.011627906976744186}, {\"ASESOR\": \"lmarbela\", \"DESCCOD\": \"Desbloqueo exitoso\", \"count\": 77, \"total\": 86, \"percent\": 0.8953488372093024}, {\"ASESOR\": \"lmarbela\", \"DESCCOD\": \"Deteccion suplantacion \", \"count\": 1, \"total\": 86, \"percent\": 0.011627906976744186}, {\"ASESOR\": \"lmarbela\", \"DESCCOD\": \"Llamada consulta Sfisica\", \"count\": 7, \"total\": 86, \"percent\": 0.08139534883720931}, {\"ASESOR\": \"lvanegas\", \"DESCCOD\": \"Desbloqueo exitoso\", \"count\": 64, \"total\": 64, \"percent\": 1.0}, {\"ASESOR\": \"margmari\", \"DESCCOD\": \"Desbloqueo con soportes\", \"count\": 9, \"total\": 95, \"percent\": 0.09473684210526316}, {\"ASESOR\": \"margmari\", \"DESCCOD\": \"Desbloqueo exitoso\", \"count\": 61, \"total\": 95, \"percent\": 0.6421052631578947}, {\"ASESOR\": \"margmari\", \"DESCCOD\": \"Llamada consulta Sfisica\", \"count\": 25, \"total\": 95, \"percent\": 0.2631578947368421}, {\"ASESOR\": \"marieche\", \"DESCCOD\": \"Desbloqueo exitoso\", \"count\": 31, \"total\": 45, \"percent\": 0.6888888888888889}, {\"ASESOR\": \"marieche\", \"DESCCOD\": \"Llamada consulta Sfisica\", \"count\": 14, \"total\": 45, \"percent\": 0.3111111111111111}, {\"ASESOR\": \"marivill\", \"DESCCOD\": \"Desbloqueo exitoso\", \"count\": 70, \"total\": 83, \"percent\": 0.8433734939759037}, {\"ASESOR\": \"marivill\", \"DESCCOD\": \"Deteccion suplantacion \", \"count\": 2, \"total\": 83, \"percent\": 0.024096385542168676}, {\"ASESOR\": \"marivill\", \"DESCCOD\": \"Llamada consulta Sfisica\", \"count\": 11, \"total\": 83, \"percent\": 0.13253012048192772}, {\"ASESOR\": \"naalrest\", \"DESCCOD\": \"Desbloqueo exitoso\", \"count\": 55, \"total\": 73, \"percent\": 0.7534246575342466}, {\"ASESOR\": \"naalrest\", \"DESCCOD\": \"Deteccion suplantacion \", \"count\": 2, \"total\": 73, \"percent\": 0.0273972602739726}, {\"ASESOR\": \"naalrest\", \"DESCCOD\": \"Llamada consulta Sfisica\", \"count\": 16, \"total\": 73, \"percent\": 0.2191780821917808}, {\"ASESOR\": \"naalvare\", \"DESCCOD\": \"Desbloqueo exitoso\", \"count\": 4, \"total\": 4, \"percent\": 1.0}, {\"ASESOR\": \"njpuerta\", \"DESCCOD\": \"Desbloqueo exitoso\", \"count\": 106, \"total\": 116, \"percent\": 0.9137931034482759}, {\"ASESOR\": \"njpuerta\", \"DESCCOD\": \"Deteccion suplantacion \", \"count\": 5, \"total\": 116, \"percent\": 0.04310344827586207}, {\"ASESOR\": \"njpuerta\", \"DESCCOD\": \"Llamada consulta Sfisica\", \"count\": 5, \"total\": 116, \"percent\": 0.04310344827586207}, {\"ASESOR\": \"opalacio\", \"DESCCOD\": \"Desbloqueo con soportes\", \"count\": 87, \"total\": 168, \"percent\": 0.5178571428571429}, {\"ASESOR\": \"opalacio\", \"DESCCOD\": \"Desbloqueo exitoso\", \"count\": 58, \"total\": 168, \"percent\": 0.34523809523809523}, {\"ASESOR\": \"opalacio\", \"DESCCOD\": \"Deteccion suplantacion \", \"count\": 5, \"total\": 168, \"percent\": 0.02976190476190476}, {\"ASESOR\": \"opalacio\", \"DESCCOD\": \"Llamada consulta Sfisica\", \"count\": 18, \"total\": 168, \"percent\": 0.10714285714285714}, {\"ASESOR\": \"paavelas\", \"DESCCOD\": \"Desbloqueo exitoso\", \"count\": 164, \"total\": 190, \"percent\": 0.8631578947368421}, {\"ASESOR\": \"paavelas\", \"DESCCOD\": \"Deteccion suplantacion \", \"count\": 1, \"total\": 190, \"percent\": 0.005263157894736842}, {\"ASESOR\": \"paavelas\", \"DESCCOD\": \"Llamada consulta Sfisica\", \"count\": 25, \"total\": 190, \"percent\": 0.13157894736842105}, {\"ASESOR\": \"ralzate\", \"DESCCOD\": \"Desbloqueo exitoso\", \"count\": 47, \"total\": 61, \"percent\": 0.7704918032786885}, {\"ASESOR\": \"ralzate\", \"DESCCOD\": \"Deteccion suplantacion \", \"count\": 2, \"total\": 61, \"percent\": 0.03278688524590164}, {\"ASESOR\": \"ralzate\", \"DESCCOD\": \"Llamada consulta Sfisica\", \"count\": 12, \"total\": 61, \"percent\": 0.19672131147540983}, {\"ASESOR\": \"srville\", \"DESCCOD\": \"Desbloqueo con soportes\", \"count\": 1, \"total\": 126, \"percent\": 0.007936507936507936}, {\"ASESOR\": \"srville\", \"DESCCOD\": \"Desbloqueo exitoso\", \"count\": 121, \"total\": 126, \"percent\": 0.9603174603174603}, {\"ASESOR\": \"srville\", \"DESCCOD\": \"Deteccion suplantacion \", \"count\": 1, \"total\": 126, \"percent\": 0.007936507936507936}, {\"ASESOR\": \"srville\", \"DESCCOD\": \"Llamada consulta Sfisica\", \"count\": 3, \"total\": 126, \"percent\": 0.023809523809523808}, {\"ASESOR\": \"szzapat\", \"DESCCOD\": \"Desbloqueo exitoso\", \"count\": 21, \"total\": 25, \"percent\": 0.84}, {\"ASESOR\": \"szzapat\", \"DESCCOD\": \"Deteccion suplantacion \", \"count\": 4, \"total\": 25, \"percent\": 0.16}, {\"ASESOR\": \"vanlopez\", \"DESCCOD\": \"Desbloqueo con soportes\", \"count\": 11, \"total\": 22, \"percent\": 0.5}, {\"ASESOR\": \"vanlopez\", \"DESCCOD\": \"Desbloqueo exitoso\", \"count\": 9, \"total\": 22, \"percent\": 0.4090909090909091}, {\"ASESOR\": \"vanlopez\", \"DESCCOD\": \"Llamada consulta Sfisica\", \"count\": 2, \"total\": 22, \"percent\": 0.09090909090909091}, {\"ASESOR\": \"vcardozo\", \"DESCCOD\": \"Desbloqueo con soportes\", \"count\": 41, \"total\": 158, \"percent\": 0.25949367088607594}, {\"ASESOR\": \"vcardozo\", \"DESCCOD\": \"Desbloqueo exitoso\", \"count\": 83, \"total\": 158, \"percent\": 0.5253164556962026}, {\"ASESOR\": \"vcardozo\", \"DESCCOD\": \"Deteccion suplantacion \", \"count\": 7, \"total\": 158, \"percent\": 0.04430379746835443}, {\"ASESOR\": \"vcardozo\", \"DESCCOD\": \"Llamada consulta Sfisica\", \"count\": 27, \"total\": 158, \"percent\": 0.17088607594936708}, {\"ASESOR\": \"vipelaez\", \"DESCCOD\": \"Desbloqueo exitoso\", \"count\": 69, \"total\": 69, \"percent\": 1.0}, {\"ASESOR\": \"vsalvare\", \"DESCCOD\": \"Desbloqueo con soportes\", \"count\": 27, \"total\": 65, \"percent\": 0.4153846153846154}, {\"ASESOR\": \"vsalvare\", \"DESCCOD\": \"Desbloqueo exitoso\", \"count\": 37, \"total\": 65, \"percent\": 0.5692307692307692}, {\"ASESOR\": \"vsalvare\", \"DESCCOD\": \"Deteccion suplantacion \", \"count\": 1, \"total\": 65, \"percent\": 0.015384615384615385}, {\"ASESOR\": \"yoalvar\", \"DESCCOD\": \"Desbloqueo exitoso\", \"count\": 3, \"total\": 3, \"percent\": 1.0}]}}, {\"mode\": \"vega-lite\"});\n",
       "</script>"
      ],
      "text/plain": [
       "alt.Chart(...)"
      ]
     },
     "execution_count": 50,
     "metadata": {},
     "output_type": "execute_result"
    }
   ],
   "source": [
    "alt.Chart(df2[df2.DESCCOD!='Desbloqueo pendiente de validacion ']\n",
    " .groupby(['ASESOR','DESCCOD'])\n",
    " .agg(count=('FECHA','size'))\n",
    " .assign(total = lambda x: x.groupby(level='ASESOR')['count'].transform(lambda z: z.sum()))\n",
    " .assign(percent = lambda x: x['count']/x['total'])\n",
    " .reset_index()\n",
    ").mark_point().encode(\n",
    "    x = 'total',\n",
    "    y = 'percent',\n",
    "    color = 'DESCCOD',\n",
    "    tooltip = ['ASESOR' ,'DESCCOD', 'count', 'total', 'percent']\n",
    ").properties(\n",
    "    title = 'Porcentaje Tipo Desbloqueo por Asesor'\n",
    ")"
   ]
  },
  {
   "cell_type": "markdown",
   "id": "c88de099",
   "metadata": {},
   "source": [
    "En general, hay unos comportamientos bastante estables entre los asesores. Sin embargo, hay algunos casos atípicos como por ejemplo el/la asesor/a \"miljaram\" que con 7 \"desbloqueos no exitosos\" de los 8 clientes atendidos. Por otro lado, \"vanlopez\" ha tenido 33 \"desbloqueo con soportes\" de los 77 clientes atendidos. Por último, están los casos de \"jufebedo\" con 21 \"desbloqueos no existosos\" de los 45 clientes atendidos y \"vipelaez\" con 77 \"desbloqueos no existosos\" de los 216 clientes atendidos.\n",
    "\n",
    "En conclusión, aunque hay alguna uniformidad en los datos por asesor, existes algunos casos que llaman la atención.\n",
    "\n",
    "Finalmente, los casos de \"Deteccion suplantancion\" estan bastante repartidos entre todos los asesores. al asesor/a \"jucflore\" le han tocado 9 casos de suplantación detectada entre 99 clientes atendidos."
   ]
  },
  {
   "cell_type": "code",
   "execution_count": 53,
   "id": "d5685691",
   "metadata": {
    "ExecuteTime": {
     "end_time": "2022-08-22T21:46:22.453210Z",
     "start_time": "2022-08-22T21:46:22.446423Z"
    }
   },
   "outputs": [
    {
     "data": {
      "text/plain": [
       "1111111111    13\n",
       "98508536       7\n",
       "1026263574     7\n",
       "45551345       6\n",
       "5556615        6\n",
       "Name: IDENTIFICACION, dtype: int64"
      ]
     },
     "execution_count": 53,
     "metadata": {},
     "output_type": "execute_result"
    }
   ],
   "source": [
    "df.IDENTIFICACION.value_counts().head(5)"
   ]
  },
  {
   "cell_type": "markdown",
   "id": "e6586db5",
   "metadata": {},
   "source": [
    "Como era de esperarse, salen algunos documentos con multiples llamdas. Veamos esos casos."
   ]
  },
  {
   "cell_type": "code",
   "execution_count": 54,
   "id": "9456485c",
   "metadata": {
    "ExecuteTime": {
     "end_time": "2022-08-22T21:46:31.320229Z",
     "start_time": "2022-08-22T21:46:31.278794Z"
    }
   },
   "outputs": [
    {
     "data": {
      "text/html": [
       "\n",
       "<div id=\"altair-viz-48f59112ffb549979ed71008424f77b5\"></div>\n",
       "<script type=\"text/javascript\">\n",
       "  var VEGA_DEBUG = (typeof VEGA_DEBUG == \"undefined\") ? {} : VEGA_DEBUG;\n",
       "  (function(spec, embedOpt){\n",
       "    let outputDiv = document.currentScript.previousElementSibling;\n",
       "    if (outputDiv.id !== \"altair-viz-48f59112ffb549979ed71008424f77b5\") {\n",
       "      outputDiv = document.getElementById(\"altair-viz-48f59112ffb549979ed71008424f77b5\");\n",
       "    }\n",
       "    const paths = {\n",
       "      \"vega\": \"https://cdn.jsdelivr.net/npm//vega@5?noext\",\n",
       "      \"vega-lib\": \"https://cdn.jsdelivr.net/npm//vega-lib?noext\",\n",
       "      \"vega-lite\": \"https://cdn.jsdelivr.net/npm//vega-lite@4.17.0?noext\",\n",
       "      \"vega-embed\": \"https://cdn.jsdelivr.net/npm//vega-embed@6?noext\",\n",
       "    };\n",
       "\n",
       "    function maybeLoadScript(lib, version) {\n",
       "      var key = `${lib.replace(\"-\", \"\")}_version`;\n",
       "      return (VEGA_DEBUG[key] == version) ?\n",
       "        Promise.resolve(paths[lib]) :\n",
       "        new Promise(function(resolve, reject) {\n",
       "          var s = document.createElement('script');\n",
       "          document.getElementsByTagName(\"head\")[0].appendChild(s);\n",
       "          s.async = true;\n",
       "          s.onload = () => {\n",
       "            VEGA_DEBUG[key] = version;\n",
       "            return resolve(paths[lib]);\n",
       "          };\n",
       "          s.onerror = () => reject(`Error loading script: ${paths[lib]}`);\n",
       "          s.src = paths[lib];\n",
       "        });\n",
       "    }\n",
       "\n",
       "    function showError(err) {\n",
       "      outputDiv.innerHTML = `<div class=\"error\" style=\"color:red;\">${err}</div>`;\n",
       "      throw err;\n",
       "    }\n",
       "\n",
       "    function displayChart(vegaEmbed) {\n",
       "      vegaEmbed(outputDiv, spec, embedOpt)\n",
       "        .catch(err => showError(`Javascript Error: ${err.message}<br>This usually means there's a typo in your chart specification. See the javascript console for the full traceback.`));\n",
       "    }\n",
       "\n",
       "    if(typeof define === \"function\" && define.amd) {\n",
       "      requirejs.config({paths});\n",
       "      require([\"vega-embed\"], displayChart, err => showError(`Error loading script: ${err.message}`));\n",
       "    } else {\n",
       "      maybeLoadScript(\"vega\", \"5\")\n",
       "        .then(() => maybeLoadScript(\"vega-lite\", \"4.17.0\"))\n",
       "        .then(() => maybeLoadScript(\"vega-embed\", \"6\"))\n",
       "        .catch(showError)\n",
       "        .then(() => displayChart(vegaEmbed));\n",
       "    }\n",
       "  })({\"config\": {\"view\": {\"continuousWidth\": 400, \"continuousHeight\": 300}}, \"data\": {\"name\": \"data-600593a7f2180b1b6d3114468039ed5f\"}, \"mark\": \"bar\", \"encoding\": {\"color\": {\"field\": \"DESCCOD\", \"type\": \"nominal\"}, \"tooltip\": [{\"field\": \"FECHA\", \"type\": \"temporal\"}, {\"aggregate\": \"count\", \"field\": \"FECHA\", \"type\": \"temporal\"}, {\"field\": \"DESCCOD\", \"type\": \"nominal\"}, {\"field\": \"ASESOR\", \"type\": \"nominal\"}], \"x\": {\"field\": \"FECHA\", \"type\": \"temporal\"}, \"y\": {\"aggregate\": \"count\", \"field\": \"FECHA\", \"type\": \"temporal\"}}, \"title\": \"Llamadas para Cliente con Documento 98508536\", \"$schema\": \"https://vega.github.io/schema/vega-lite/v4.17.0.json\", \"datasets\": {\"data-600593a7f2180b1b6d3114468039ed5f\": [{\"FECHA\": \"2021-04-16T13:35:11\", \"CODIGO_ACTIVIDAD\": 106, \"COD_PRODUCTO\": \"CCE\", \"TIPO_IDENTIFICACION\": 1, \"IDENTIFICACION\": 98508536, \"NOMBRE\": \"RUPERTO DE JESUS RIOS RICO\", \"ASESOR\": \"jentobon\", \"NOMBRES_ASESOR\": \"Jennifer\", \"APELLIDOS_ASESOR\": \"Tobon Montes\", \"EXTENSION\": 414709, \"TELEFONO_IN\": 33753492464, \"TELEFONO_OUT\": 85596, \"REGLANEGOCIO\": \"MR\", \"COD_EMP\": 193, \"DURACION\": 20.516666666666666, \"CONNID\": \"00000314dc0dc70c\", \"REF_ID\": \"01ISNM0PQG85976CF0LH9B5AES0610NE\", \"TRANSFER\": \" \", \"AG_TRANSFER\": \" CONFERENCIA DESDE_ LES BASICA  CON_ yesica_ospina_85596_ \", \"DNIS\": 5109000, \"CLAVE\": \"S\", \"TIPO_LLAMADA\": 2, \"CTI_TIPORI\": \"C\", \"GSW_CAMPAIGN_NAME\": \"|037c0309d672411c\", \"CTI_FECHAC\": \" \", \"DESCCOD\": \"Desbloqueo no exitoso\", \"duracion_seg\": 1231}, {\"FECHA\": \"2021-04-20T12:56:32\", \"CODIGO_ACTIVIDAD\": 118, \"COD_PRODUCTO\": \"CCE\", \"TIPO_IDENTIFICACION\": 1, \"IDENTIFICACION\": 98508536, \"NOMBRE\": \"RUPERTO DE JESUS RIOS RICO\", \"ASESOR\": \"lmarbela\", \"NOMBRES_ASESOR\": \"Luis Miguel\", \"APELLIDOS_ASESOR\": \"Arbelaez Osorio\", \"EXTENSION\": 81638, \"TELEFONO_IN\": 33753492464, \"TELEFONO_OUT\": 410392, \"REGLANEGOCIO\": \"MR\", \"COD_EMP\": 193, \"DURACION\": 14.9, \"CONNID\": \"00000314dc1a90d0\", \"REF_ID\": \"01ISNM0PQG85976CF0LH9B5AES06PNLF\", \"TRANSFER\": \" \", \"AG_TRANSFER\": \" CONFERENCIA DESDE_ CLIENTES REITERATIVOS  CON_ jhonatan_chavarria_411062_  CONFERENCIA DESDE_ LES BASICA  CON_ jesus_casilla_410392_  CONFERENCIA DESDE_ CLIENTES REITERATIVOS  CON_ jhonatan_chavarria_411062_ \", \"DNIS\": 5109000, \"CLAVE\": \"N\", \"TIPO_LLAMADA\": 2, \"CTI_TIPORI\": \"C\", \"GSW_CAMPAIGN_NAME\": \"|037c0309d688943e\", \"CTI_FECHAC\": \" \", \"DESCCOD\": \"Desbloqueo pendiente de validacion \", \"duracion_seg\": 894}, {\"FECHA\": \"2021-04-22T12:07:45\", \"CODIGO_ACTIVIDAD\": 106, \"COD_PRODUCTO\": \"CCE\", \"TIPO_IDENTIFICACION\": 1, \"IDENTIFICACION\": 98508536, \"NOMBRE\": \"RUPERTO DE JESUS RIOS RICO\", \"ASESOR\": \"vipelaez\", \"NOMBRES_ASESOR\": \"Viviana Maria\", \"APELLIDOS_ASESOR\": \"Pelaez\", \"EXTENSION\": 81614, \"TELEFONO_IN\": 33753492464, \"TELEFONO_OUT\": 89023, \"REGLANEGOCIO\": \"MR\", \"COD_EMP\": 193, \"DURACION\": 36.25, \"CONNID\": \"00000314dc2364c1\", \"REF_ID\": \"01ISNM0PQG85976CF0LH9B5AES07AO11\", \"TRANSFER\": \"T|  |53381\", \"AG_TRANSFER\": \" CONFERENCIA DESDE_ SERVICIO BASICO  CON_ jordan_restrepo_89544_  CONFERENCIA DESDE_ LES BASICA  CON_ duban_maldonado_89023_  CONFERENCIA DESDE_ SERVICIO BASICO  CON_ jordan_restrepo_89544_ \", \"DNIS\": 5109000, \"CLAVE\": \"N\", \"TIPO_LLAMADA\": 2, \"CTI_TIPORI\": \"C\", \"GSW_CAMPAIGN_NAME\": \"|037c0309d69883d1\", \"CTI_FECHAC\": \" \", \"DESCCOD\": \"Desbloqueo no exitoso\", \"duracion_seg\": 2175}, {\"FECHA\": \"2021-04-29T12:05:08\", \"CODIGO_ACTIVIDAD\": 107, \"COD_PRODUCTO\": \"CCE\", \"TIPO_IDENTIFICACION\": 1, \"IDENTIFICACION\": 98508536, \"NOMBRE\": \"RUPERTO DE JESUS RIOS RICO\", \"ASESOR\": \"naalvare\", \"NOMBRES_ASESOR\": \"Natalia\", \"APELLIDOS_ASESOR\": \"Alvarez Tamayo\", \"EXTENSION\": 81640, \"TELEFONO_IN\": 33753492464, \"TELEFONO_OUT\": 417054, \"REGLANEGOCIO\": \"MR\", \"COD_EMP\": 193, \"DURACION\": 13.316666666666666, \"CONNID\": \"00000314dc3b1028\", \"REF_ID\": \"01ISNM0PQG85976CF0LH9B5AES08OH1N\", \"TRANSFER\": \"T|  |53381\", \"AG_TRANSFER\": \" CONFERENCIA DESDE_ CLIENTES REITERATIVOS  CON_ karen_alvarez_s_89542_  CONFERENCIA DESDE_ LES BASICA  CON_ natalia_lopez_g_417054_  CONFERENCIA DESDE_ CLIENTES REITERATIVOS  CON_ karen_alvarez_s_89542_ \", \"DNIS\": 5109000, \"CLAVE\": \"S\", \"TIPO_LLAMADA\": 2, \"CTI_TIPORI\": \"C\", \"GSW_CAMPAIGN_NAME\": \"|037c0309d6c31600\", \"CTI_FECHAC\": \" \", \"DESCCOD\": \"Desbloqueo exitoso\", \"duracion_seg\": 799}, {\"FECHA\": \"2021-05-03T12:39:26\", \"CODIGO_ACTIVIDAD\": 106, \"COD_PRODUCTO\": \"CCE\", \"TIPO_IDENTIFICACION\": 1, \"IDENTIFICACION\": 98508536, \"NOMBRE\": \"RUPERTO DE JESUS RIOS RICO\", \"ASESOR\": \"hfranco\", \"NOMBRES_ASESOR\": \"Eileen Yuliet\", \"APELLIDOS_ASESOR\": \"Franco Ballesteros\", \"EXTENSION\": 81446, \"TELEFONO_IN\": 33980733918, \"TELEFONO_OUT\": 85487, \"REGLANEGOCIO\": \"MR\", \"COD_EMP\": 193, \"DURACION\": 56.916666666666664, \"CONNID\": \"00000314dc4742ad\", \"REF_ID\": \"01ISNM0PQG85976CF0LH9B5AES09G4FS\", \"TRANSFER\": \"T|  |53381\", \"AG_TRANSFER\": \" CONFERENCIA DESDE_ LES BASICA  CON_ estefania_roldan_85487_  CONFERENCIA DESDE_ LES BASICA  CON_ estefania_roldan_85487_  CONFERENCIA DESDE_ LES BASICA  CON_ estefania_roldan_85487_ \", \"DNIS\": 5109000, \"CLAVE\": \"S\", \"TIPO_LLAMADA\": 2, \"CTI_TIPORI\": \"C\", \"GSW_CAMPAIGN_NAME\": \"|037c0309d6d58618\", \"CTI_FECHAC\": \" \", \"DESCCOD\": \"Desbloqueo no exitoso\", \"duracion_seg\": 3415}, {\"FECHA\": \"2021-05-05T13:22:52\", \"CODIGO_ACTIVIDAD\": 106, \"COD_PRODUCTO\": \"CCE\", \"TIPO_IDENTIFICACION\": 1, \"IDENTIFICACION\": 98508536, \"NOMBRE\": \"RUPERTO DE JESUS RIOS RICO\", \"ASESOR\": \"magoez\", \"NOMBRES_ASESOR\": \"Maria  Del Carmen\", \"APELLIDOS_ASESOR\": \"Goez  Lopez\", \"EXTENSION\": 416100, \"TELEFONO_IN\": 33980733918, \"TELEFONO_OUT\": 417028, \"REGLANEGOCIO\": \"MR\", \"COD_EMP\": 193, \"DURACION\": 25.416666666666668, \"CONNID\": \"00000314dc50c6bf\", \"REF_ID\": \"01ISNM0PQG85976CF0LH9B5AES0A29UI\", \"TRANSFER\": \"T|  |53381\", \"AG_TRANSFER\": \" CONFERENCIA DESDE_ SERVICIO BASICO  CON_ jose_jimenez_p_84259_  CONFERENCIA DESDE_ LES BASICA  CON_ laura_mendez_417028_  CONFERENCIA DESDE_ SERVICIO BASICO  CON_ jose_jimenez_p_84259_ \", \"DNIS\": 5109000, \"CLAVE\": \"N\", \"TIPO_LLAMADA\": 2, \"CTI_TIPORI\": \"C\", \"GSW_CAMPAIGN_NAME\": \"|037c0309d6e66394\", \"CTI_FECHAC\": \" \", \"DESCCOD\": \"Desbloqueo no exitoso\", \"duracion_seg\": 1525}, {\"FECHA\": \"2021-05-11T13:22:29\", \"CODIGO_ACTIVIDAD\": 138, \"COD_PRODUCTO\": \"CCE\", \"TIPO_IDENTIFICACION\": 1, \"IDENTIFICACION\": 98508536, \"NOMBRE\": \"RUPERTO DE JESUS RIOS RICO\", \"ASESOR\": \"jensalaz\", \"NOMBRES_ASESOR\": \"Jennifer\", \"APELLIDOS_ASESOR\": \"Salazar Torres\", \"EXTENSION\": 81656, \"TELEFONO_IN\": 6052970, \"TELEFONO_OUT\": 417047, \"REGLANEGOCIO\": \"MR\", \"COD_EMP\": 193, \"DURACION\": 60.53333333333333, \"CONNID\": \"00000314dc640d77\", \"REF_ID\": \"01ISNM0PQG85976CF0LH9B5AES0B7AG5\", \"TRANSFER\": \" \", \"AG_TRANSFER\": \" CONFERENCIA DESDE_ LES BASICA  CON_ valentina_mejia_j_417047_ \", \"DNIS\": 5109000, \"CLAVE\": \"S\", \"TIPO_LLAMADA\": 2, \"CTI_TIPORI\": \"C\", \"GSW_CAMPAIGN_NAME\": \"|037c0309d708e541\", \"CTI_FECHAC\": \" \", \"DESCCOD\": \"Desbloqueo con soportes\", \"duracion_seg\": 3632}]}}, {\"mode\": \"vega-lite\"});\n",
       "</script>"
      ],
      "text/plain": [
       "alt.Chart(...)"
      ]
     },
     "execution_count": 54,
     "metadata": {},
     "output_type": "execute_result"
    }
   ],
   "source": [
    "alt.Chart(df[df.IDENTIFICACION==98508536]\n",
    ").mark_bar().encode(\n",
    "    x = 'FECHA',\n",
    "    y = 'count(FECHA)',\n",
    "    color = 'DESCCOD',\n",
    "    tooltip = ['FECHA','count(FECHA)' ,'DESCCOD', 'ASESOR']\n",
    ").properties(\n",
    "    title = 'Llamadas para Cliente con Documento 98508536'\n",
    ")"
   ]
  },
  {
   "cell_type": "markdown",
   "id": "7f48c9c1",
   "metadata": {},
   "source": [
    "Estos son las 7 llamadas del cliente con cédula número 98508536. Se puede ver que es una mezcla de diferentes códigos de desbloqueo en las diferentes llamadas. De hecho, en cada llamada fue atendido por un asesor diferente. Estos casos son los más dificiles de calificar dado que normalmente, presentan más ambiguedad."
   ]
  },
  {
   "cell_type": "markdown",
   "id": "1fafb047",
   "metadata": {},
   "source": [
    "## Desbloqueos Primera Llamada"
   ]
  },
  {
   "cell_type": "code",
   "execution_count": 55,
   "id": "5fb94101",
   "metadata": {
    "ExecuteTime": {
     "end_time": "2022-08-22T21:46:38.375829Z",
     "start_time": "2022-08-22T21:46:37.877443Z"
    }
   },
   "outputs": [
    {
     "data": {
      "text/plain": [
       "(5303, 28)"
      ]
     },
     "execution_count": 55,
     "metadata": {},
     "output_type": "execute_result"
    }
   ],
   "source": [
    "exitosos_primera_llamada = (df\n",
    " .assign(num_llamadas = df.groupby('IDENTIFICACION').FECHA.transform(lambda x: len(x)))\n",
    " .query(\"(num_llamadas==1) & (DESCCOD=='Desbloqueo exitoso')\")\n",
    ")\n",
    "exitosos_primera_llamada.shape"
   ]
  },
  {
   "cell_type": "code",
   "execution_count": 57,
   "id": "6154a56f",
   "metadata": {
    "ExecuteTime": {
     "end_time": "2022-08-22T21:47:27.305031Z",
     "start_time": "2022-08-22T21:47:27.061018Z"
    }
   },
   "outputs": [
    {
     "data": {
      "text/plain": [
       "(2378, 28)"
      ]
     },
     "execution_count": 57,
     "metadata": {},
     "output_type": "execute_result"
    }
   ],
   "source": [
    "exitosos_primera_llamada2 = (df2\n",
    " .assign(num_llamadas = df2.groupby('IDENTIFICACION').FECHA.transform(lambda x: len(x)))\n",
    " .query(\"(num_llamadas==1) & (DESCCOD=='Desbloqueo exitoso')\")\n",
    ")\n",
    "exitosos_primera_llamada2.shape"
   ]
  },
  {
   "cell_type": "markdown",
   "id": "5154657a",
   "metadata": {},
   "source": [
    "Se tienen 5303 casos en el periodo estudiado donde se concedió un desbloqueo exitoso en la única llamada que nos aparce en el conjunto de datos."
   ]
  },
  {
   "cell_type": "code",
   "execution_count": 58,
   "id": "b0cd8a5d",
   "metadata": {
    "ExecuteTime": {
     "end_time": "2022-08-22T21:47:33.557574Z",
     "start_time": "2022-08-22T21:47:33.533899Z"
    }
   },
   "outputs": [
    {
     "data": {
      "text/html": [
       "\n",
       "<div id=\"altair-viz-7c54e69c84f04ca2aba82569b27023b2\"></div>\n",
       "<script type=\"text/javascript\">\n",
       "  var VEGA_DEBUG = (typeof VEGA_DEBUG == \"undefined\") ? {} : VEGA_DEBUG;\n",
       "  (function(spec, embedOpt){\n",
       "    let outputDiv = document.currentScript.previousElementSibling;\n",
       "    if (outputDiv.id !== \"altair-viz-7c54e69c84f04ca2aba82569b27023b2\") {\n",
       "      outputDiv = document.getElementById(\"altair-viz-7c54e69c84f04ca2aba82569b27023b2\");\n",
       "    }\n",
       "    const paths = {\n",
       "      \"vega\": \"https://cdn.jsdelivr.net/npm//vega@5?noext\",\n",
       "      \"vega-lib\": \"https://cdn.jsdelivr.net/npm//vega-lib?noext\",\n",
       "      \"vega-lite\": \"https://cdn.jsdelivr.net/npm//vega-lite@4.17.0?noext\",\n",
       "      \"vega-embed\": \"https://cdn.jsdelivr.net/npm//vega-embed@6?noext\",\n",
       "    };\n",
       "\n",
       "    function maybeLoadScript(lib, version) {\n",
       "      var key = `${lib.replace(\"-\", \"\")}_version`;\n",
       "      return (VEGA_DEBUG[key] == version) ?\n",
       "        Promise.resolve(paths[lib]) :\n",
       "        new Promise(function(resolve, reject) {\n",
       "          var s = document.createElement('script');\n",
       "          document.getElementsByTagName(\"head\")[0].appendChild(s);\n",
       "          s.async = true;\n",
       "          s.onload = () => {\n",
       "            VEGA_DEBUG[key] = version;\n",
       "            return resolve(paths[lib]);\n",
       "          };\n",
       "          s.onerror = () => reject(`Error loading script: ${paths[lib]}`);\n",
       "          s.src = paths[lib];\n",
       "        });\n",
       "    }\n",
       "\n",
       "    function showError(err) {\n",
       "      outputDiv.innerHTML = `<div class=\"error\" style=\"color:red;\">${err}</div>`;\n",
       "      throw err;\n",
       "    }\n",
       "\n",
       "    function displayChart(vegaEmbed) {\n",
       "      vegaEmbed(outputDiv, spec, embedOpt)\n",
       "        .catch(err => showError(`Javascript Error: ${err.message}<br>This usually means there's a typo in your chart specification. See the javascript console for the full traceback.`));\n",
       "    }\n",
       "\n",
       "    if(typeof define === \"function\" && define.amd) {\n",
       "      requirejs.config({paths});\n",
       "      require([\"vega-embed\"], displayChart, err => showError(`Error loading script: ${err.message}`));\n",
       "    } else {\n",
       "      maybeLoadScript(\"vega\", \"5\")\n",
       "        .then(() => maybeLoadScript(\"vega-lite\", \"4.17.0\"))\n",
       "        .then(() => maybeLoadScript(\"vega-embed\", \"6\"))\n",
       "        .catch(showError)\n",
       "        .then(() => displayChart(vegaEmbed));\n",
       "    }\n",
       "  })({\"config\": {\"view\": {\"continuousWidth\": 400, \"continuousHeight\": 300}}, \"data\": {\"name\": \"data-b47d564be2c6db96f8e49daad803f680\"}, \"mark\": \"bar\", \"encoding\": {\"tooltip\": [{\"field\": \"FECHA\", \"type\": \"temporal\"}, {\"field\": \"count\", \"type\": \"quantitative\"}], \"x\": {\"field\": \"FECHA\", \"type\": \"temporal\"}, \"y\": {\"field\": \"count\", \"type\": \"quantitative\"}}, \"title\": \"N\\u00famero de Clientes Desbloqueados Exitosamente en Primera Llamada\", \"$schema\": \"https://vega.github.io/schema/vega-lite/v4.17.0.json\", \"datasets\": {\"data-b47d564be2c6db96f8e49daad803f680\": [{\"FECHA\": \"2020-01-31T00:00:00\", \"count\": 74}, {\"FECHA\": \"2020-02-29T00:00:00\", \"count\": 91}, {\"FECHA\": \"2020-03-31T00:00:00\", \"count\": 83}, {\"FECHA\": \"2020-04-30T00:00:00\", \"count\": 15}, {\"FECHA\": \"2020-05-31T00:00:00\", \"count\": 11}, {\"FECHA\": \"2020-06-30T00:00:00\", \"count\": 9}, {\"FECHA\": \"2020-07-31T00:00:00\", \"count\": 51}, {\"FECHA\": \"2020-08-31T00:00:00\", \"count\": 235}, {\"FECHA\": \"2020-09-30T00:00:00\", \"count\": 115}, {\"FECHA\": \"2020-10-31T00:00:00\", \"count\": 155}, {\"FECHA\": \"2020-11-30T00:00:00\", \"count\": 398}, {\"FECHA\": \"2020-12-31T00:00:00\", \"count\": 363}, {\"FECHA\": \"2021-01-31T00:00:00\", \"count\": 443}, {\"FECHA\": \"2021-02-28T00:00:00\", \"count\": 945}, {\"FECHA\": \"2021-03-31T00:00:00\", \"count\": 975}, {\"FECHA\": \"2021-04-30T00:00:00\", \"count\": 693}, {\"FECHA\": \"2021-05-31T00:00:00\", \"count\": 483}]}}, {\"mode\": \"vega-lite\"});\n",
       "</script>"
      ],
      "text/plain": [
       "alt.Chart(...)"
      ]
     },
     "execution_count": 58,
     "metadata": {},
     "output_type": "execute_result"
    }
   ],
   "source": [
    "alt.Chart(exitosos_primera_llamada[exitosos_primera_llamada.FECHA < '2021-06-01']\n",
    " .groupby(pd.Grouper(key='FECHA', freq='M'))\n",
    " .size()\n",
    " .reset_index(name='count')\n",
    ").mark_bar().encode(\n",
    "    x = 'FECHA',\n",
    "    y = 'count',\n",
    "    tooltip = ['FECHA', 'count']\n",
    ").properties(\n",
    "    title = 'Número de Clientes Desbloqueados Exitosamente en Primera Llamada'\n",
    ")"
   ]
  },
  {
   "cell_type": "markdown",
   "id": "7ae2d14f",
   "metadata": {},
   "source": [
    "Se ve que son un volumen considerable y que son clientes objetivo a etiquetar cómo colombiano en el exterior. En teoría, estos casos deberían de ser los casos más fáciles de calificar. Sin embargo, es un hipotesis a verificar."
   ]
  },
  {
   "cell_type": "markdown",
   "id": "2fefa9fe",
   "metadata": {},
   "source": [
    "Revisemos el promedio y el intervalo de confianza del 95%"
   ]
  },
  {
   "cell_type": "code",
   "execution_count": 59,
   "id": "c1ac36f9",
   "metadata": {
    "ExecuteTime": {
     "end_time": "2022-08-22T21:47:48.886603Z",
     "start_time": "2022-08-22T21:47:48.869518Z"
    }
   },
   "outputs": [
    {
     "name": "stdout",
     "output_type": "stream",
     "text": [
      "23.83 (1.98, 53.31)\n"
     ]
    }
   ],
   "source": [
    "print(round(exitosos_primera_llamada.DURACION.mean(),2),\n",
    "     (round(q2_5(exitosos_primera_llamada.DURACION),2),\n",
    "      round(q97_5(exitosos_primera_llamada.DURACION),2)))"
   ]
  },
  {
   "cell_type": "markdown",
   "id": "7048450b",
   "metadata": {},
   "source": [
    "Tenemos que el 95% de las llamadas están enrte 2 y 53 minutos aproximadamente con una media de 23.83 minutos."
   ]
  },
  {
   "cell_type": "code",
   "execution_count": 60,
   "id": "650715a2",
   "metadata": {
    "ExecuteTime": {
     "end_time": "2022-08-22T21:47:51.673108Z",
     "start_time": "2022-08-22T21:47:51.637161Z"
    }
   },
   "outputs": [
    {
     "data": {
      "text/html": [
       "<div>\n",
       "<style scoped>\n",
       "    .dataframe tbody tr th:only-of-type {\n",
       "        vertical-align: middle;\n",
       "    }\n",
       "\n",
       "    .dataframe tbody tr th {\n",
       "        vertical-align: top;\n",
       "    }\n",
       "\n",
       "    .dataframe thead th {\n",
       "        text-align: right;\n",
       "    }\n",
       "</style>\n",
       "<table border=\"1\" class=\"dataframe\">\n",
       "  <thead>\n",
       "    <tr style=\"text-align: right;\">\n",
       "      <th></th>\n",
       "      <th>FECHA</th>\n",
       "      <th>CODIGO_ACTIVIDAD</th>\n",
       "      <th>COD_PRODUCTO</th>\n",
       "      <th>TIPO_IDENTIFICACION</th>\n",
       "      <th>IDENTIFICACION</th>\n",
       "      <th>NOMBRE</th>\n",
       "      <th>ASESOR</th>\n",
       "      <th>NOMBRES_ASESOR</th>\n",
       "      <th>APELLIDOS_ASESOR</th>\n",
       "      <th>EXTENSION</th>\n",
       "      <th>TELEFONO_IN</th>\n",
       "      <th>TELEFONO_OUT</th>\n",
       "      <th>REGLANEGOCIO</th>\n",
       "      <th>COD_EMP</th>\n",
       "      <th>DURACION</th>\n",
       "      <th>CONNID</th>\n",
       "      <th>REF_ID</th>\n",
       "      <th>TRANSFER</th>\n",
       "      <th>AG_TRANSFER</th>\n",
       "      <th>DNIS</th>\n",
       "      <th>CLAVE</th>\n",
       "      <th>TIPO_LLAMADA</th>\n",
       "      <th>CTI_TIPORI</th>\n",
       "      <th>GSW_CAMPAIGN_NAME</th>\n",
       "      <th>CTI_FECHAC</th>\n",
       "      <th>DESCCOD</th>\n",
       "      <th>duracion_seg</th>\n",
       "      <th>num_llamadas</th>\n",
       "    </tr>\n",
       "  </thead>\n",
       "  <tbody>\n",
       "    <tr>\n",
       "      <th>2398</th>\n",
       "      <td>2021-06-10 20:36:36</td>\n",
       "      <td>107</td>\n",
       "      <td>CCE</td>\n",
       "      <td>1</td>\n",
       "      <td>78715286</td>\n",
       "      <td>MAYKOL ENRIQUE BUELVAS HERNANDEZ</td>\n",
       "      <td>yszapata</td>\n",
       "      <td>Yamid Stiven</td>\n",
       "      <td>Zapata Hernandez</td>\n",
       "      <td>81619</td>\n",
       "      <td>720786</td>\n",
       "      <td>85596</td>\n",
       "      <td>MR</td>\n",
       "      <td>193</td>\n",
       "      <td>7.133333</td>\n",
       "      <td>00000314dcd47eae</td>\n",
       "      <td>02077DH9KK8BF6H7384H5B5AES004E6A</td>\n",
       "      <td></td>\n",
       "      <td>CONFERENCIA DESDE_ LES BASICA  CON_ luis_beni...</td>\n",
       "      <td>702450</td>\n",
       "      <td>S</td>\n",
       "      <td>2</td>\n",
       "      <td>C</td>\n",
       "      <td>|037c0309d7c65885</td>\n",
       "      <td></td>\n",
       "      <td>Desbloqueo exitoso</td>\n",
       "      <td>428</td>\n",
       "      <td>1</td>\n",
       "    </tr>\n",
       "    <tr>\n",
       "      <th>2397</th>\n",
       "      <td>2021-06-10 20:25:01</td>\n",
       "      <td>107</td>\n",
       "      <td>CCE</td>\n",
       "      <td>1</td>\n",
       "      <td>7632725</td>\n",
       "      <td>ANGELO HELI SIERRA BLANCO</td>\n",
       "      <td>vipelaez</td>\n",
       "      <td>Viviana Maria</td>\n",
       "      <td>Pelaez</td>\n",
       "      <td>81614</td>\n",
       "      <td>720741</td>\n",
       "      <td>415728</td>\n",
       "      <td>MR</td>\n",
       "      <td>193</td>\n",
       "      <td>3.166667</td>\n",
       "      <td>037c0309d7c65403</td>\n",
       "      <td>02077DH9KK8BF6H7384H5B5AES004E3R</td>\n",
       "      <td></td>\n",
       "      <td>CONFERENCIA DESDE_ LES BASICA  CON_ andres_su...</td>\n",
       "      <td>702450</td>\n",
       "      <td>N</td>\n",
       "      <td>4</td>\n",
       "      <td>C</td>\n",
       "      <td>|037c0309d7c65403</td>\n",
       "      <td></td>\n",
       "      <td>Desbloqueo exitoso</td>\n",
       "      <td>190</td>\n",
       "      <td>1</td>\n",
       "    </tr>\n",
       "    <tr>\n",
       "      <th>2395</th>\n",
       "      <td>2021-06-10 18:48:16</td>\n",
       "      <td>107</td>\n",
       "      <td>CCE</td>\n",
       "      <td>1</td>\n",
       "      <td>1130681718</td>\n",
       "      <td>MARIA CAMILA SILVA PALOMINO</td>\n",
       "      <td>jodurang</td>\n",
       "      <td>Jorge</td>\n",
       "      <td>Durango</td>\n",
       "      <td>85002</td>\n",
       "      <td>720233</td>\n",
       "      <td>417065</td>\n",
       "      <td>MR</td>\n",
       "      <td>193</td>\n",
       "      <td>32.800000</td>\n",
       "      <td>00000314dcd4424d</td>\n",
       "      <td>02077DH9KK8BF6H7384H5B5AES004CUN</td>\n",
       "      <td>T|  |53381</td>\n",
       "      <td>CONFERENCIA DESDE_ LES BASICA  CON_ maria_mor...</td>\n",
       "      <td>702450</td>\n",
       "      <td>S</td>\n",
       "      <td>2</td>\n",
       "      <td>C</td>\n",
       "      <td>|037c0309d7c60022</td>\n",
       "      <td></td>\n",
       "      <td>Desbloqueo exitoso</td>\n",
       "      <td>1968</td>\n",
       "      <td>1</td>\n",
       "    </tr>\n",
       "    <tr>\n",
       "      <th>2394</th>\n",
       "      <td>2021-06-10 18:23:06</td>\n",
       "      <td>107</td>\n",
       "      <td>CCE</td>\n",
       "      <td>1</td>\n",
       "      <td>71394670</td>\n",
       "      <td>JORGE ELIECER ZAPATA BERMUDEZ</td>\n",
       "      <td>srville</td>\n",
       "      <td>Sebastian</td>\n",
       "      <td>Ramirez  Villega</td>\n",
       "      <td>81608</td>\n",
       "      <td>720818</td>\n",
       "      <td>415722</td>\n",
       "      <td>MR</td>\n",
       "      <td>193</td>\n",
       "      <td>17.750000</td>\n",
       "      <td>00000314dcd43251</td>\n",
       "      <td>02077DH9KK8BF6H7384H5B5AES004CL4</td>\n",
       "      <td>C|CX|56402</td>\n",
       "      <td>CONFERENCIA DESDE_ LES BASICA  CON_ yuri_agud...</td>\n",
       "      <td>56402</td>\n",
       "      <td>S</td>\n",
       "      <td>2</td>\n",
       "      <td>C</td>\n",
       "      <td>|037c0309d7c5e25e</td>\n",
       "      <td></td>\n",
       "      <td>Desbloqueo exitoso</td>\n",
       "      <td>1065</td>\n",
       "      <td>1</td>\n",
       "    </tr>\n",
       "    <tr>\n",
       "      <th>2393</th>\n",
       "      <td>2021-06-10 18:16:13</td>\n",
       "      <td>107</td>\n",
       "      <td>CCE</td>\n",
       "      <td>1</td>\n",
       "      <td>43077414</td>\n",
       "      <td>ANA LUCIA TORRES VELEZ</td>\n",
       "      <td>jumarang</td>\n",
       "      <td>Juan Manuel</td>\n",
       "      <td>Arando Lopera</td>\n",
       "      <td>81644</td>\n",
       "      <td>14019998139</td>\n",
       "      <td>417028</td>\n",
       "      <td>XL</td>\n",
       "      <td>193</td>\n",
       "      <td>3.433333</td>\n",
       "      <td>037c0309d7c5d98b</td>\n",
       "      <td>01ISNM0PQG85976CF0LH9B5AES0HMRFJ</td>\n",
       "      <td></td>\n",
       "      <td>CONFERENCIA DESDE_ SERVICIO BASICO  CON_ caro...</td>\n",
       "      <td>53394</td>\n",
       "      <td>V</td>\n",
       "      <td>4</td>\n",
       "      <td>C</td>\n",
       "      <td>|037c0309d7c5d98b</td>\n",
       "      <td></td>\n",
       "      <td>Desbloqueo exitoso</td>\n",
       "      <td>206</td>\n",
       "      <td>1</td>\n",
       "    </tr>\n",
       "    <tr>\n",
       "      <th>...</th>\n",
       "      <td>...</td>\n",
       "      <td>...</td>\n",
       "      <td>...</td>\n",
       "      <td>...</td>\n",
       "      <td>...</td>\n",
       "      <td>...</td>\n",
       "      <td>...</td>\n",
       "      <td>...</td>\n",
       "      <td>...</td>\n",
       "      <td>...</td>\n",
       "      <td>...</td>\n",
       "      <td>...</td>\n",
       "      <td>...</td>\n",
       "      <td>...</td>\n",
       "      <td>...</td>\n",
       "      <td>...</td>\n",
       "      <td>...</td>\n",
       "      <td>...</td>\n",
       "      <td>...</td>\n",
       "      <td>...</td>\n",
       "      <td>...</td>\n",
       "      <td>...</td>\n",
       "      <td>...</td>\n",
       "      <td>...</td>\n",
       "      <td>...</td>\n",
       "      <td>...</td>\n",
       "      <td>...</td>\n",
       "      <td>...</td>\n",
       "    </tr>\n",
       "    <tr>\n",
       "      <th>9</th>\n",
       "      <td>2020-01-04 04:23:27</td>\n",
       "      <td>107</td>\n",
       "      <td>CCE</td>\n",
       "      <td>1</td>\n",
       "      <td>39614114</td>\n",
       "      <td>CARMEN ROSA SABOGAL ARDILA</td>\n",
       "      <td>dcatano</td>\n",
       "      <td>Daniela</td>\n",
       "      <td>Catano Lopera</td>\n",
       "      <td>81610</td>\n",
       "      <td>2222222</td>\n",
       "      <td>89279</td>\n",
       "      <td>MR</td>\n",
       "      <td>193</td>\n",
       "      <td>29.883333</td>\n",
       "      <td>000002ea985ebb6f</td>\n",
       "      <td>000002ea985ebb6f</td>\n",
       "      <td>T|  |53381</td>\n",
       "      <td>CONFERENCIA DESDE_ VIRTUALES COLOMBIANOS EN E...</td>\n",
       "      <td>1010</td>\n",
       "      <td>S</td>\n",
       "      <td>2</td>\n",
       "      <td>C</td>\n",
       "      <td>|037c02e0d3347f30</td>\n",
       "      <td></td>\n",
       "      <td>Desbloqueo exitoso</td>\n",
       "      <td>1793</td>\n",
       "      <td>1</td>\n",
       "    </tr>\n",
       "    <tr>\n",
       "      <th>5</th>\n",
       "      <td>2020-01-03 15:17:25</td>\n",
       "      <td>107</td>\n",
       "      <td>CCE</td>\n",
       "      <td>1</td>\n",
       "      <td>41885669</td>\n",
       "      <td>MARIA CLARIBEL LEIVA RUBIANO</td>\n",
       "      <td>sanhinca</td>\n",
       "      <td>Sandra Yuliana</td>\n",
       "      <td>Hincapie Arboleda</td>\n",
       "      <td>81653</td>\n",
       "      <td>1111113</td>\n",
       "      <td>85045</td>\n",
       "      <td>XK</td>\n",
       "      <td>193</td>\n",
       "      <td>24.250000</td>\n",
       "      <td>037c02e0d3324e1b</td>\n",
       "      <td>00Q0L545A0EUHEN3F0LH9B5AES053BBL</td>\n",
       "      <td>T|  |53381</td>\n",
       "      <td>CONFERENCIA DESDE_ SERVICIO BASICO  CON_ mayr...</td>\n",
       "      <td>1010</td>\n",
       "      <td>S</td>\n",
       "      <td>3</td>\n",
       "      <td>C</td>\n",
       "      <td>|037c02e0d3326076</td>\n",
       "      <td></td>\n",
       "      <td>Desbloqueo exitoso</td>\n",
       "      <td>1455</td>\n",
       "      <td>1</td>\n",
       "    </tr>\n",
       "    <tr>\n",
       "      <th>3</th>\n",
       "      <td>2020-01-02 22:01:51</td>\n",
       "      <td>107</td>\n",
       "      <td>CCE</td>\n",
       "      <td>1</td>\n",
       "      <td>1232595467</td>\n",
       "      <td>JOY NIKOLAY LOPERA CARDONA</td>\n",
       "      <td>jaquicen</td>\n",
       "      <td>Jeison Alexander</td>\n",
       "      <td>Quiceno Quintero</td>\n",
       "      <td>81605</td>\n",
       "      <td>584162462929</td>\n",
       "      <td>81616</td>\n",
       "      <td>MR</td>\n",
       "      <td>193</td>\n",
       "      <td>26.750000</td>\n",
       "      <td>037c02e0d32e2b0f</td>\n",
       "      <td>00Q0L545A0EUHEN3F0LH9B5AES04V3Q4</td>\n",
       "      <td></td>\n",
       "      <td>CONFERENCIA DESDE_ VIRTUALES COLOMBIANOS EN E...</td>\n",
       "      <td>1010</td>\n",
       "      <td>S</td>\n",
       "      <td>3</td>\n",
       "      <td>C</td>\n",
       "      <td>|037c02e0d32e2e5c</td>\n",
       "      <td></td>\n",
       "      <td>Desbloqueo exitoso</td>\n",
       "      <td>1605</td>\n",
       "      <td>1</td>\n",
       "    </tr>\n",
       "    <tr>\n",
       "      <th>1</th>\n",
       "      <td>2020-01-01 17:41:19</td>\n",
       "      <td>107</td>\n",
       "      <td>CCE</td>\n",
       "      <td>1</td>\n",
       "      <td>1018448735</td>\n",
       "      <td>LINA XIMENA NIÃ‘O HERRERA</td>\n",
       "      <td>paavelas</td>\n",
       "      <td>Paula Andrea</td>\n",
       "      <td>Velasquez Giron</td>\n",
       "      <td>81652</td>\n",
       "      <td>4407308661980</td>\n",
       "      <td>85383</td>\n",
       "      <td>MF</td>\n",
       "      <td>193</td>\n",
       "      <td>6.266667</td>\n",
       "      <td>037c02e0d32825fd</td>\n",
       "      <td>00Q0L545A0EUHEN3F0LH9B5AES04OA8P</td>\n",
       "      <td>T|  |53381</td>\n",
       "      <td>CONFERENCIA DESDE_ VIRTUALES COLOMBIANOS EN E...</td>\n",
       "      <td>1010</td>\n",
       "      <td>S</td>\n",
       "      <td>3</td>\n",
       "      <td>C</td>\n",
       "      <td>|037c02e0d3282762</td>\n",
       "      <td></td>\n",
       "      <td>Desbloqueo exitoso</td>\n",
       "      <td>376</td>\n",
       "      <td>1</td>\n",
       "    </tr>\n",
       "    <tr>\n",
       "      <th>0</th>\n",
       "      <td>2020-01-01 14:31:45</td>\n",
       "      <td>107</td>\n",
       "      <td>CCE</td>\n",
       "      <td>1</td>\n",
       "      <td>72261405</td>\n",
       "      <td>CESAR ANDRES CASTILLO CRUZ</td>\n",
       "      <td>naalvare</td>\n",
       "      <td>Natalia</td>\n",
       "      <td>Alvarez Tamayo</td>\n",
       "      <td>81640</td>\n",
       "      <td>17542493837</td>\n",
       "      <td>85490</td>\n",
       "      <td>MR</td>\n",
       "      <td>193</td>\n",
       "      <td>6.550000</td>\n",
       "      <td>000002ee229c65f1</td>\n",
       "      <td>00Q0L545A0EUHEN3F0LH9B5AES04O4CB</td>\n",
       "      <td>T|  |53381</td>\n",
       "      <td>CONFERENCIA DESDE_ VIRTUALES COLOMBIANOS EN E...</td>\n",
       "      <td>5146633</td>\n",
       "      <td>S</td>\n",
       "      <td>2</td>\n",
       "      <td>C</td>\n",
       "      <td>|037c02e0d32802f9</td>\n",
       "      <td></td>\n",
       "      <td>Desbloqueo exitoso</td>\n",
       "      <td>393</td>\n",
       "      <td>1</td>\n",
       "    </tr>\n",
       "  </tbody>\n",
       "</table>\n",
       "<p>5303 rows × 28 columns</p>\n",
       "</div>"
      ],
      "text/plain": [
       "                   FECHA  CODIGO_ACTIVIDAD COD_PRODUCTO TIPO_IDENTIFICACION  \\\n",
       "2398 2021-06-10 20:36:36               107          CCE                   1   \n",
       "2397 2021-06-10 20:25:01               107          CCE                   1   \n",
       "2395 2021-06-10 18:48:16               107          CCE                   1   \n",
       "2394 2021-06-10 18:23:06               107          CCE                   1   \n",
       "2393 2021-06-10 18:16:13               107          CCE                   1   \n",
       "...                  ...               ...          ...                 ...   \n",
       "9    2020-01-04 04:23:27               107          CCE                   1   \n",
       "5    2020-01-03 15:17:25               107          CCE                   1   \n",
       "3    2020-01-02 22:01:51               107          CCE                   1   \n",
       "1    2020-01-01 17:41:19               107          CCE                   1   \n",
       "0    2020-01-01 14:31:45               107          CCE                   1   \n",
       "\n",
       "      IDENTIFICACION                            NOMBRE    ASESOR  \\\n",
       "2398        78715286  MAYKOL ENRIQUE BUELVAS HERNANDEZ  yszapata   \n",
       "2397         7632725         ANGELO HELI SIERRA BLANCO  vipelaez   \n",
       "2395      1130681718       MARIA CAMILA SILVA PALOMINO  jodurang   \n",
       "2394        71394670     JORGE ELIECER ZAPATA BERMUDEZ   srville   \n",
       "2393        43077414            ANA LUCIA TORRES VELEZ  jumarang   \n",
       "...              ...                               ...       ...   \n",
       "9           39614114        CARMEN ROSA SABOGAL ARDILA   dcatano   \n",
       "5           41885669      MARIA CLARIBEL LEIVA RUBIANO  sanhinca   \n",
       "3         1232595467        JOY NIKOLAY LOPERA CARDONA  jaquicen   \n",
       "1         1018448735         LINA XIMENA NIÃ‘O HERRERA  paavelas   \n",
       "0           72261405        CESAR ANDRES CASTILLO CRUZ  naalvare   \n",
       "\n",
       "        NOMBRES_ASESOR   APELLIDOS_ASESOR  EXTENSION    TELEFONO_IN  \\\n",
       "2398      Yamid Stiven   Zapata Hernandez      81619         720786   \n",
       "2397     Viviana Maria             Pelaez      81614         720741   \n",
       "2395             Jorge            Durango      85002         720233   \n",
       "2394         Sebastian   Ramirez  Villega      81608         720818   \n",
       "2393       Juan Manuel      Arando Lopera      81644    14019998139   \n",
       "...                ...                ...        ...            ...   \n",
       "9              Daniela      Catano Lopera      81610        2222222   \n",
       "5       Sandra Yuliana  Hincapie Arboleda      81653        1111113   \n",
       "3     Jeison Alexander   Quiceno Quintero      81605   584162462929   \n",
       "1         Paula Andrea    Velasquez Giron      81652  4407308661980   \n",
       "0              Natalia     Alvarez Tamayo      81640    17542493837   \n",
       "\n",
       "     TELEFONO_OUT REGLANEGOCIO  COD_EMP   DURACION            CONNID  \\\n",
       "2398        85596           MR      193   7.133333  00000314dcd47eae   \n",
       "2397       415728           MR      193   3.166667  037c0309d7c65403   \n",
       "2395       417065           MR      193  32.800000  00000314dcd4424d   \n",
       "2394       415722           MR      193  17.750000  00000314dcd43251   \n",
       "2393       417028           XL      193   3.433333  037c0309d7c5d98b   \n",
       "...           ...          ...      ...        ...               ...   \n",
       "9           89279           MR      193  29.883333  000002ea985ebb6f   \n",
       "5           85045           XK      193  24.250000  037c02e0d3324e1b   \n",
       "3           81616           MR      193  26.750000  037c02e0d32e2b0f   \n",
       "1           85383           MF      193   6.266667  037c02e0d32825fd   \n",
       "0           85490           MR      193   6.550000  000002ee229c65f1   \n",
       "\n",
       "                                REF_ID    TRANSFER  \\\n",
       "2398  02077DH9KK8BF6H7384H5B5AES004E6A               \n",
       "2397  02077DH9KK8BF6H7384H5B5AES004E3R               \n",
       "2395  02077DH9KK8BF6H7384H5B5AES004CUN  T|  |53381   \n",
       "2394  02077DH9KK8BF6H7384H5B5AES004CL4  C|CX|56402   \n",
       "2393  01ISNM0PQG85976CF0LH9B5AES0HMRFJ               \n",
       "...                                ...         ...   \n",
       "9                     000002ea985ebb6f  T|  |53381   \n",
       "5     00Q0L545A0EUHEN3F0LH9B5AES053BBL  T|  |53381   \n",
       "3     00Q0L545A0EUHEN3F0LH9B5AES04V3Q4               \n",
       "1     00Q0L545A0EUHEN3F0LH9B5AES04OA8P  T|  |53381   \n",
       "0     00Q0L545A0EUHEN3F0LH9B5AES04O4CB  T|  |53381   \n",
       "\n",
       "                                            AG_TRANSFER     DNIS CLAVE  \\\n",
       "2398   CONFERENCIA DESDE_ LES BASICA  CON_ luis_beni...   702450     S   \n",
       "2397   CONFERENCIA DESDE_ LES BASICA  CON_ andres_su...   702450     N   \n",
       "2395   CONFERENCIA DESDE_ LES BASICA  CON_ maria_mor...   702450     S   \n",
       "2394   CONFERENCIA DESDE_ LES BASICA  CON_ yuri_agud...    56402     S   \n",
       "2393   CONFERENCIA DESDE_ SERVICIO BASICO  CON_ caro...    53394     V   \n",
       "...                                                 ...      ...   ...   \n",
       "9      CONFERENCIA DESDE_ VIRTUALES COLOMBIANOS EN E...     1010     S   \n",
       "5      CONFERENCIA DESDE_ SERVICIO BASICO  CON_ mayr...     1010     S   \n",
       "3      CONFERENCIA DESDE_ VIRTUALES COLOMBIANOS EN E...     1010     S   \n",
       "1      CONFERENCIA DESDE_ VIRTUALES COLOMBIANOS EN E...     1010     S   \n",
       "0      CONFERENCIA DESDE_ VIRTUALES COLOMBIANOS EN E...  5146633     S   \n",
       "\n",
       "      TIPO_LLAMADA CTI_TIPORI  GSW_CAMPAIGN_NAME CTI_FECHAC  \\\n",
       "2398             2          C  |037c0309d7c65885              \n",
       "2397             4          C  |037c0309d7c65403              \n",
       "2395             2          C  |037c0309d7c60022              \n",
       "2394             2          C  |037c0309d7c5e25e              \n",
       "2393             4          C  |037c0309d7c5d98b              \n",
       "...            ...        ...                ...        ...   \n",
       "9                2          C  |037c02e0d3347f30              \n",
       "5                3          C  |037c02e0d3326076              \n",
       "3                3          C  |037c02e0d32e2e5c              \n",
       "1                3          C  |037c02e0d3282762              \n",
       "0                2          C  |037c02e0d32802f9              \n",
       "\n",
       "                 DESCCOD  duracion_seg  num_llamadas  \n",
       "2398  Desbloqueo exitoso           428             1  \n",
       "2397  Desbloqueo exitoso           190             1  \n",
       "2395  Desbloqueo exitoso          1968             1  \n",
       "2394  Desbloqueo exitoso          1065             1  \n",
       "2393  Desbloqueo exitoso           206             1  \n",
       "...                  ...           ...           ...  \n",
       "9     Desbloqueo exitoso          1793             1  \n",
       "5     Desbloqueo exitoso          1455             1  \n",
       "3     Desbloqueo exitoso          1605             1  \n",
       "1     Desbloqueo exitoso           376             1  \n",
       "0     Desbloqueo exitoso           393             1  \n",
       "\n",
       "[5303 rows x 28 columns]"
      ]
     },
     "execution_count": 60,
     "metadata": {},
     "output_type": "execute_result"
    }
   ],
   "source": [
    "exitosos_primera_llamada.sort_values(by = 'FECHA', ascending=False)"
   ]
  },
  {
   "cell_type": "markdown",
   "id": "1d203f57",
   "metadata": {},
   "source": [
    "## Desbloqueos y Desbloqueos"
   ]
  },
  {
   "cell_type": "markdown",
   "id": "dd396487",
   "metadata": {},
   "source": [
    "En los datos de KONECTA, tenemos los desbloqueos de colombianos en el exterior sin embargo, no están los bloqueos que llevaron a la llamada. En esta base de datos, tenemos tanto los bloqueos como los desbloqueos de las cedulas que aparecen en las llamadas de colombianos en el exterior."
   ]
  },
  {
   "cell_type": "code",
   "execution_count": 61,
   "id": "abbef301",
   "metadata": {
    "ExecuteTime": {
     "end_time": "2022-08-22T21:47:55.971724Z",
     "start_time": "2022-08-22T21:47:55.926175Z"
    }
   },
   "outputs": [
    {
     "data": {
      "text/html": [
       "\n",
       "<div id=\"altair-viz-2c50f88dfa3a42878d38104d3584a040\"></div>\n",
       "<script type=\"text/javascript\">\n",
       "  var VEGA_DEBUG = (typeof VEGA_DEBUG == \"undefined\") ? {} : VEGA_DEBUG;\n",
       "  (function(spec, embedOpt){\n",
       "    let outputDiv = document.currentScript.previousElementSibling;\n",
       "    if (outputDiv.id !== \"altair-viz-2c50f88dfa3a42878d38104d3584a040\") {\n",
       "      outputDiv = document.getElementById(\"altair-viz-2c50f88dfa3a42878d38104d3584a040\");\n",
       "    }\n",
       "    const paths = {\n",
       "      \"vega\": \"https://cdn.jsdelivr.net/npm//vega@5?noext\",\n",
       "      \"vega-lib\": \"https://cdn.jsdelivr.net/npm//vega-lib?noext\",\n",
       "      \"vega-lite\": \"https://cdn.jsdelivr.net/npm//vega-lite@4.17.0?noext\",\n",
       "      \"vega-embed\": \"https://cdn.jsdelivr.net/npm//vega-embed@6?noext\",\n",
       "    };\n",
       "\n",
       "    function maybeLoadScript(lib, version) {\n",
       "      var key = `${lib.replace(\"-\", \"\")}_version`;\n",
       "      return (VEGA_DEBUG[key] == version) ?\n",
       "        Promise.resolve(paths[lib]) :\n",
       "        new Promise(function(resolve, reject) {\n",
       "          var s = document.createElement('script');\n",
       "          document.getElementsByTagName(\"head\")[0].appendChild(s);\n",
       "          s.async = true;\n",
       "          s.onload = () => {\n",
       "            VEGA_DEBUG[key] = version;\n",
       "            return resolve(paths[lib]);\n",
       "          };\n",
       "          s.onerror = () => reject(`Error loading script: ${paths[lib]}`);\n",
       "          s.src = paths[lib];\n",
       "        });\n",
       "    }\n",
       "\n",
       "    function showError(err) {\n",
       "      outputDiv.innerHTML = `<div class=\"error\" style=\"color:red;\">${err}</div>`;\n",
       "      throw err;\n",
       "    }\n",
       "\n",
       "    function displayChart(vegaEmbed) {\n",
       "      vegaEmbed(outputDiv, spec, embedOpt)\n",
       "        .catch(err => showError(`Javascript Error: ${err.message}<br>This usually means there's a typo in your chart specification. See the javascript console for the full traceback.`));\n",
       "    }\n",
       "\n",
       "    if(typeof define === \"function\" && define.amd) {\n",
       "      requirejs.config({paths});\n",
       "      require([\"vega-embed\"], displayChart, err => showError(`Error loading script: ${err.message}`));\n",
       "    } else {\n",
       "      maybeLoadScript(\"vega\", \"5\")\n",
       "        .then(() => maybeLoadScript(\"vega-lite\", \"4.17.0\"))\n",
       "        .then(() => maybeLoadScript(\"vega-embed\", \"6\"))\n",
       "        .catch(showError)\n",
       "        .then(() => displayChart(vegaEmbed));\n",
       "    }\n",
       "  })({\"config\": {\"view\": {\"continuousWidth\": 400, \"continuousHeight\": 300}}, \"layer\": [{\"mark\": \"bar\", \"encoding\": {\"color\": {\"field\": \"TIPO_BLOQUEO\", \"title\": null, \"type\": \"nominal\"}, \"tooltip\": [{\"field\": \"TIPO_BLOQUEO\", \"type\": \"nominal\"}, {\"field\": \"count\", \"type\": \"quantitative\"}, {\"field\": \"percent\", \"type\": \"quantitative\"}], \"x\": {\"field\": \"count\", \"type\": \"quantitative\"}, \"y\": {\"field\": \"TIPO_BLOQUEO\", \"sort\": \"-x\", \"type\": \"nominal\"}}, \"title\": \"Top 10 Frecuencia de Tipos de Des/Bloqueos\"}, {\"mark\": {\"type\": \"text\", \"color\": \"black\", \"dx\": 14, \"dy\": 1}, \"encoding\": {\"text\": {\"field\": \"percent\", \"format\": \".1f\", \"type\": \"quantitative\"}, \"x\": {\"field\": \"count\", \"type\": \"quantitative\"}, \"y\": {\"field\": \"TIPO_BLOQUEO\", \"sort\": \"-x\", \"type\": \"nominal\"}}}], \"data\": {\"name\": \"data-51666bd7831788ed1ba1e193774dd004\"}, \"$schema\": \"https://vega.github.io/schema/vega-lite/v4.17.0.json\", \"datasets\": {\"data-51666bd7831788ed1ba1e193774dd004\": [{\"TIPO_BLOQUEO\": \"Bloqueo 1ra clave\", \"count\": 214, \"percent\": 0.56}, {\"TIPO_BLOQUEO\": \"Bloqueo 2da clave\", \"count\": 308, \"percent\": 0.81}, {\"TIPO_BLOQUEO\": \"Bloqueo Clave Dinamica\", \"count\": 19405, \"percent\": 50.89}, {\"TIPO_BLOQUEO\": \"Bloqueo S\", \"count\": 1712, \"percent\": 4.49}, {\"TIPO_BLOQUEO\": \"Bloqueo S Clave Dinamica\", \"count\": 7973, \"percent\": 20.91}, {\"TIPO_BLOQUEO\": \"Bloqueo S Primera Clave\", \"count\": 1098, \"percent\": 2.88}, {\"TIPO_BLOQUEO\": \"Declinacion\", \"count\": 182, \"percent\": 0.48}, {\"TIPO_BLOQUEO\": \"Desbloqueo\", \"count\": 5749, \"percent\": 15.08}, {\"TIPO_BLOQUEO\": \"Lista de seguridad\", \"count\": 193, \"percent\": 0.51}, {\"TIPO_BLOQUEO\": \"No Aplica\", \"count\": 257, \"percent\": 0.67}, {\"TIPO_BLOQUEO\": \"Otros\", \"count\": 1043, \"percent\": 2.74}]}}, {\"mode\": \"vega-lite\"});\n",
       "</script>"
      ],
      "text/plain": [
       "alt.LayerChart(...)"
      ]
     },
     "execution_count": 61,
     "metadata": {},
     "output_type": "execute_result"
    }
   ],
   "source": [
    "plot_bars_percent_firstk(df=bloq_desbloq, colname='TIPO_BLOQUEO', k=10,\n",
    "                         title='Top 10 Frecuencia de Tipos de Des/Bloqueos')"
   ]
  },
  {
   "cell_type": "markdown",
   "id": "999d6636",
   "metadata": {},
   "source": [
    "La mayoria de bloqueos es por **Bloqueo Clave Dinamica** con el **50.89%** y **Bloqueo S Clave Dinamica** con el **20.91%**. Finalmente están los **Desbloqueo** con el **15.08%**."
   ]
  },
  {
   "cell_type": "markdown",
   "id": "db64ada2",
   "metadata": {},
   "source": [
    "## Pruebas"
   ]
  },
  {
   "cell_type": "code",
   "execution_count": null,
   "id": "6b93cdc5",
   "metadata": {
    "ExecuteTime": {
     "end_time": "2022-08-19T16:58:04.037335Z",
     "start_time": "2022-08-19T16:58:03.831383Z"
    }
   },
   "outputs": [],
   "source": [
    "cedula = exitosos_primera_llamada[exitosos_primera_llamada.DESCCOD=='Desbloqueo exitoso'].sample(1).IDENTIFICACION.tolist()[0]\n",
    "cedula = 19073369\n",
    "# cedula"
   ]
  },
  {
   "cell_type": "code",
   "execution_count": null,
   "id": "c7c46655",
   "metadata": {
    "ExecuteTime": {
     "end_time": "2022-08-19T16:58:07.515001Z",
     "start_time": "2022-08-19T16:58:07.321592Z"
    }
   },
   "outputs": [],
   "source": [
    "llamada = df[df.IDENTIFICACION==cedula][['IDENTIFICACION','TIPO_IDENTIFICACION','FECHA','DURACION','DESCCOD','ASESOR','AG_TRANSFER']].assign(IDENTIFICACION = lambda x: x.IDENTIFICACION.astype(str))\n",
    "llamada"
   ]
  },
  {
   "cell_type": "code",
   "execution_count": null,
   "id": "a7752e26",
   "metadata": {
    "ExecuteTime": {
     "end_time": "2022-08-19T16:58:13.556206Z",
     "start_time": "2022-08-19T16:58:13.334148Z"
    }
   },
   "outputs": [],
   "source": [
    "bd = (bloq_desbloq[(bloq_desbloq.ID_CLIENTE==f'{cedula}')]\n",
    "              [['ID_CLIENTE','fecha_hora','TIPO_BLOQUEO', 'SALDO_DISPONIBLE', 'OBSERVACIONES']]\n",
    "      .sort_values('fecha_hora', ascending=False))\n",
    "display(HTML(bd.to_html()))"
   ]
  },
  {
   "cell_type": "code",
   "execution_count": null,
   "id": "aa3e544c",
   "metadata": {
    "ExecuteTime": {
     "end_time": "2022-08-19T16:58:16.849526Z",
     "start_time": "2022-08-19T16:58:16.639795Z"
    }
   },
   "outputs": [],
   "source": [
    "nov = (novedades[(novedades.ID_CLIENTE==f'{cedula}')]\n",
    "              [['ID_CLIENTE','fecha_hora','CAUSA_DESMARCACION','OBSERVACIONES']]\n",
    "       .rename(columns = {'OBSERVACIONES':'OBSERVACIONES_NOV', \n",
    "                          'fecha_hora': 'fecha_hora_nov',\n",
    "                          'ID_CLIENTE':'ID_CLIENTE_NOV'})\n",
    "      .sort_values('fecha_hora_nov', ascending=False))\n",
    "display(HTML(nov.to_html()))"
   ]
  },
  {
   "cell_type": "code",
   "execution_count": null,
   "id": "55fc286c",
   "metadata": {
    "ExecuteTime": {
     "end_time": "2022-08-19T16:58:20.762847Z",
     "start_time": "2022-08-19T16:58:20.520997Z"
    }
   },
   "outputs": [],
   "source": [
    "datos_tbl_inf_prod = (llamada[['IDENTIFICACION', 'FECHA']]\n",
    " .merge(bd,\n",
    "        left_on='IDENTIFICACION',\n",
    "        right_on='ID_CLIENTE',\n",
    "        how='left')\n",
    " .assign(time_dif = lambda x: ((x.fecha_hora - x.FECHA) / pd.Timedelta(seconds=60)))\n",
    " .assign(SALDO_DISPONIBLE = lambda x: x.SALDO_DISPONIBLE.astype(str))\n",
    " .round(2)\n",
    " .query(\"(time_dif > 0) & (time_dif < 60*24)\")\n",
    " .sort_values(by='time_dif')\n",
    " .groupby(['FECHA'])\n",
    " .head(1)\n",
    " .sort_values(by='FECHA')\n",
    ")\n",
    "\n",
    "datos_tbl_novedades = (llamada[['IDENTIFICACION', 'FECHA']]\n",
    " .merge(nov,\n",
    "        left_on='IDENTIFICACION',\n",
    "        right_on='ID_CLIENTE_NOV',\n",
    "        how='left')\n",
    " .assign(time_dif_nov = lambda x: ((x.fecha_hora_nov - x.FECHA) / pd.Timedelta(seconds=60)))\n",
    " .round(2)\n",
    " .query(\"(time_dif_nov < 10) & (time_dif_nov >-10)\")\n",
    " .sort_values(by='time_dif_nov')\n",
    " .groupby(['FECHA'])\n",
    " .head(1)\n",
    " .sort_values(by='FECHA')\n",
    ")\n",
    "\n",
    "datos = (llamada\n",
    "    .merge(datos_tbl_inf_prod,\n",
    "           on=['IDENTIFICACION','FECHA'],\n",
    "           how='left')\n",
    "    .merge(datos_tbl_novedades,\n",
    "           on=['IDENTIFICACION','FECHA'],\n",
    "           how='left')\n",
    "    .sort_values(by='FECHA', ascending=True)\n",
    ")\n",
    "\n",
    "from IPython.core.display import display, HTML\n",
    "html_block = datos.to_html()\n",
    "display(HTML(html_block))"
   ]
  },
  {
   "cell_type": "code",
   "execution_count": null,
   "id": "12056fa1",
   "metadata": {
    "ExecuteTime": {
     "end_time": "2022-08-19T16:58:26.915734Z",
     "start_time": "2022-08-19T16:58:25.230907Z"
    }
   },
   "outputs": [],
   "source": [
    "(ITC_etiquetado[(ITC_etiquetado.identificacion==cedula) & ITC_etiquetado.canal.str.strip().isin(['PCR'])]\n",
    " .groupby(['fechatrn','canal','cdgtrn', 'nomdisp','country', 'campo5','vlrtran'])\n",
    " .agg(valor_comprado = ('vlrtran','sum'),\n",
    "      nro_trns = ('vlrtran','size'))\n",
    " .reset_index().sort_values('fechatrn',ascending=False)\n",
    " .sort_values(by='fechatrn', ascending=False))[:50]"
   ]
  },
  {
   "cell_type": "code",
   "execution_count": null,
   "id": "d9589915",
   "metadata": {
    "ExecuteTime": {
     "end_time": "2022-08-19T16:58:32.745680Z",
     "start_time": "2022-08-19T16:58:32.490603Z"
    }
   },
   "outputs": [],
   "source": [
    "(ITC_etiquetado[(ITC_etiquetado.identificacion==cedula)]\n",
    " .groupby(['fechatrn','canal', 'nomdisp','country', 'campo5','vlrtran'])\n",
    " .agg(valor_comprado = ('vlrtran','sum'),\n",
    "      nro_trns = ('vlrtran','size'))\n",
    " .reset_index().sort_values('fechatrn',ascending=False)\n",
    " .sort_values(by='fechatrn', ascending=False))[:50]"
   ]
  },
  {
   "cell_type": "code",
   "execution_count": null,
   "id": "1e28751f",
   "metadata": {
    "ExecuteTime": {
     "end_time": "2022-08-19T16:58:38.904406Z",
     "start_time": "2022-08-19T16:58:37.695675Z"
    }
   },
   "outputs": [],
   "source": [
    "(ITC_etiquetado[(ITC_etiquetado.identificacion==cedula) & (ITC_etiquetado.canal.str.strip().isin(['SAI','ABB']))]\n",
    " .sort_values('fechatrn',ascending=False))"
   ]
  },
  {
   "cell_type": "markdown",
   "id": "a4f4d26c",
   "metadata": {},
   "source": [
    "## Geolocalizando IPs"
   ]
  },
  {
   "cell_type": "code",
   "execution_count": null,
   "id": "e6439886",
   "metadata": {
    "ExecuteTime": {
     "end_time": "2021-09-21T23:17:49.310029Z",
     "start_time": "2021-09-21T23:17:48.618683Z"
    }
   },
   "outputs": [],
   "source": [
    "# !pip install pygeoip"
   ]
  },
  {
   "cell_type": "code",
   "execution_count": null,
   "id": "57a8fd53",
   "metadata": {
    "ExecuteTime": {
     "end_time": "2022-08-19T16:58:48.577894Z",
     "start_time": "2022-08-19T16:58:48.310110Z"
    }
   },
   "outputs": [],
   "source": [
    "import pygeoip\n",
    "gi = pygeoip.GeoIP('maxmind4country.dat')\n",
    "gi.country_name_by_addr('68.173.180.181')"
   ]
  },
  {
   "cell_type": "code",
   "execution_count": null,
   "id": "dacba500",
   "metadata": {
    "ExecuteTime": {
     "end_time": "2022-08-19T16:58:52.944665Z",
     "start_time": "2022-08-19T16:58:52.753435Z"
    }
   },
   "outputs": [],
   "source": [
    "import re\n",
    "a = re.match(r\"^\\d{1,3}\\.\\d{1,3}\\.\\d{1,3}\\.$\",'191.156.154.')\n",
    "if a!=None:\n",
    "    print('match')\n",
    "else:\n",
    "    print('no match')"
   ]
  },
  {
   "cell_type": "code",
   "execution_count": null,
   "id": "1ff8c02c",
   "metadata": {
    "ExecuteTime": {
     "end_time": "2022-08-19T16:59:06.889762Z",
     "start_time": "2022-08-19T16:59:01.774710Z"
    }
   },
   "outputs": [],
   "source": [
    "import re\n",
    "def ip2country(x):\n",
    "    country = 'None'\n",
    "    a = re.match(r\"^\\d{1,3}\\.\\d{1,3}\\.\\d{1,3}\\.$\",x)\n",
    "    if a!=None:\n",
    "        x=x+'001'\n",
    "    try:\n",
    "        country = gi.country_code_by_addr(x)\n",
    "    except:\n",
    "#         print(x)\n",
    "        counrty = 'None'\n",
    "        \n",
    "    return country\n",
    "        \n",
    "ips['country'] = 'None'\n",
    "ips.loc[ips.canal.str.strip().isin(['APP','SVP']), 'country'] = (ips[ips.canal.str.strip().isin(['APP','SVP'])]\n",
    " .nomdisp.str.strip().replace('^0+','', regex=True)\n",
    " .map(lambda x: ip2country(x))\n",
    ")\n",
    "ips"
   ]
  },
  {
   "cell_type": "code",
   "execution_count": null,
   "id": "15495d94",
   "metadata": {
    "ExecuteTime": {
     "end_time": "2022-08-19T16:59:12.013685Z",
     "start_time": "2022-08-19T16:59:11.800681Z"
    }
   },
   "outputs": [],
   "source": [
    "ips.shape"
   ]
  },
  {
   "cell_type": "code",
   "execution_count": null,
   "id": "9dc53317",
   "metadata": {
    "ExecuteTime": {
     "end_time": "2021-09-21T23:17:59.809315Z",
     "start_time": "2021-09-21T23:17:59.123200Z"
    }
   },
   "outputs": [],
   "source": [
    "# from sparky_bc import Sparky\n",
    "# sp = Sparky('mausoto', password = '')"
   ]
  },
  {
   "cell_type": "code",
   "execution_count": null,
   "id": "b8bdf4e3",
   "metadata": {
    "ExecuteTime": {
     "end_time": "2021-09-21T23:18:00.531538Z",
     "start_time": "2021-09-21T23:17:59.810969Z"
    }
   },
   "outputs": [],
   "source": [
    "# sp.subir_df(ips, \n",
    "#             nombre_tabla='proceso_seguridad_externa.colex_ips_to_country', \n",
    "#             modo = 'overwrite', \n",
    "#             multiLine = True, \n",
    "#             escape = '\"', \n",
    "#             spark_options = '--num-executors 2 --executor-memory 1GB --conf spark.dynamicAllocation.enabled=false')"
   ]
  },
  {
   "cell_type": "markdown",
   "id": "8824768e",
   "metadata": {},
   "source": [
    "## ITC con IPs"
   ]
  },
  {
   "cell_type": "code",
   "execution_count": null,
   "id": "aba1a6c0",
   "metadata": {
    "ExecuteTime": {
     "end_time": "2022-08-19T16:59:23.617205Z",
     "start_time": "2022-08-19T16:59:22.053525Z"
    },
    "scrolled": false
   },
   "outputs": [],
   "source": [
    "ITC_etiquetado.info()"
   ]
  },
  {
   "cell_type": "markdown",
   "id": "3d179f4e",
   "metadata": {},
   "source": [
    "### Por País"
   ]
  },
  {
   "cell_type": "code",
   "execution_count": null,
   "id": "34325b5e",
   "metadata": {
    "ExecuteTime": {
     "end_time": "2022-08-19T16:59:31.689798Z",
     "start_time": "2022-08-19T16:59:30.996660Z"
    },
    "run_control": {
     "marked": false
    }
   },
   "outputs": [],
   "source": [
    "plot_bars_percent_firstk(df=ITC_Ips[ITC_Ips.country!='None'], colname='country', k=20)"
   ]
  },
  {
   "cell_type": "markdown",
   "id": "2895ca0e",
   "metadata": {},
   "source": [
    "La mayoría de IPs en el exterior son desde Estados Unidos, seguido por Colombia, España y Otros."
   ]
  },
  {
   "cell_type": "markdown",
   "id": "51f482b6",
   "metadata": {},
   "source": [
    "### Por Canal"
   ]
  },
  {
   "cell_type": "code",
   "execution_count": null,
   "id": "b198eb86",
   "metadata": {
    "ExecuteTime": {
     "end_time": "2022-08-19T19:22:18.440902Z",
     "start_time": "2022-08-19T19:22:17.655881Z"
    }
   },
   "outputs": [],
   "source": [
    "plot_bars_percent_firstk(df=ITC_Ips, colname='canal', k=5,\n",
    "                         title='Top 5 Frecuencia de Canales')"
   ]
  },
  {
   "cell_type": "markdown",
   "id": "fa51e7b3",
   "metadata": {},
   "source": [
    "Afortunadamente, la mayoría de transacciones son por APP y SVP, lo que tiene sentido, sabiendo que son clientes que en los últimos días estaban en el exterior."
   ]
  },
  {
   "cell_type": "code",
   "execution_count": null,
   "id": "2d04e2d0",
   "metadata": {
    "ExecuteTime": {
     "end_time": "2022-08-19T19:22:22.397606Z",
     "start_time": "2022-08-19T19:22:22.011322Z"
    }
   },
   "outputs": [],
   "source": [
    "(ITC_Ips\n",
    " .groupby(['identificacion','fecha_hora_llamada'])\n",
    " .size()\n",
    " .reset_index(name='count')\n",
    " .merge(df[['FECHA','IDENTIFICACION','DESCCOD']]\n",
    "        .rename(columns={'FECHA':'fecha_hora_llamada',\n",
    "                         'IDENTIFICACION':'identificacion',\n",
    "                         'DESCCOD':'CodigoDesbloqueo'})\n",
    "        .assign(fecha_hora_llamada = lambda x: x.fecha_hora_llamada + pd.DateOffset(hours=5)),\n",
    "        on=['identificacion','fecha_hora_llamada'], how='right')\n",
    " .fillna(0)\n",
    " .assign(count = lambda x: x['count'].astype(int))\n",
    " .assign(tiene_ITC = lambda x: (x['count']>0).astype(int))\n",
    " .groupby(['tiene_ITC'])\n",
    " .size()\n",
    " .reset_index(name='freq')\n",
    ")"
   ]
  },
  {
   "cell_type": "markdown",
   "id": "ee03cab3",
   "metadata": {},
   "source": [
    "Realmente son muy pocos los clientes que llaman por un bloqueo y que no tienen movimientos en el ITC en los últimos 30 días."
   ]
  },
  {
   "cell_type": "code",
   "execution_count": null,
   "id": "64056234",
   "metadata": {
    "ExecuteTime": {
     "end_time": "2022-08-19T19:22:27.465186Z",
     "start_time": "2022-08-19T19:22:27.148443Z"
    }
   },
   "outputs": [],
   "source": [
    "alt.Chart(ITC_Ips\n",
    " .groupby(['identificacion','fecha_hora_llamada'])\n",
    " .size()\n",
    " .fillna(0)\n",
    " .reset_index(name='count')\n",
    " .groupby(['count'])\n",
    " .size()\n",
    " .reset_index(name='freq')\n",
    ").mark_bar().encode(\n",
    "    x = alt.X('count', scale=alt.Scale(type='log')),\n",
    "    y = 'freq',\n",
    "    tooltip = ['count','freq'],\n",
    "    color=alt.condition(\n",
    "        alt.datum.count > 10,\n",
    "        alt.value(\"steelblue\"),\n",
    "        alt.value(\"orange\"))\n",
    ").properties(\n",
    "    title = 'Número de transacciones ITC últimos 30 días'\n",
    ")"
   ]
  },
  {
   "cell_type": "markdown",
   "id": "c8d8e217",
   "metadata": {},
   "source": [
    "De hecho, se ve que la mayoría de las llamadas son de clientes que tienen más de 10 datos en el ITC"
   ]
  },
  {
   "cell_type": "markdown",
   "id": "849c7d9e",
   "metadata": {},
   "source": [
    "## Transacciones Físicas"
   ]
  },
  {
   "cell_type": "markdown",
   "id": "ab3a04c2",
   "metadata": {},
   "source": [
    "Hasta ahora, sólo se han explorado variables relacionadas a transacciones virtuales en los canales APP y SVP. Sin embargo, no se han integrado variables relacionadas a transacciones físicas localizables.\n",
    "\n",
    "Según la informacion recaudada, es posible identificar si una transacción del ITC fue presencial y si ella fue nacional o internacional usando las variables canal, cdgtrn y campo5.\n",
    "\n",
    "La primera fuente de información de transacciones presenciales son las del canal **ABB** que indica transacciones en cajeros automáticos propios de Bancolombia en Colombia. Por otro lado estan las transacciones en el canal **SAI** que son transacciones en sucursales físicas."
   ]
  },
  {
   "cell_type": "code",
   "execution_count": null,
   "id": "4c7e39ad",
   "metadata": {
    "ExecuteTime": {
     "end_time": "2022-08-19T19:22:36.936102Z",
     "start_time": "2022-08-19T19:22:36.298753Z"
    }
   },
   "outputs": [],
   "source": [
    "(ITC_Ips[ITC_Ips.canal.str.strip().isin(['ABB','SAI'])]\n",
    " .groupby(['canal'],dropna=False)\n",
    " .size()\n",
    " .reset_index(name='count')\n",
    ")"
   ]
  },
  {
   "cell_type": "markdown",
   "id": "4d34ff88",
   "metadata": {},
   "source": [
    "Por otr lado, estan las transacciones con tarjeta que están relacionados a los canales: \n",
    "\n",
    "- **MII**: Punto de Venta Redeban\n",
    "- **RDB**: Cajero Redeban\n",
    "- **PRD**: Punto de Venta Redeban\n",
    "- **MCI**: Master International\n",
    "- **PAX**: Punto de Venta AMEX\n",
    "- **PCM**: Punto de Venta Credibanco\n",
    "- **PMR**: Punto de Venta Redeban\n",
    "- **PPM**: Punto de Venta Mastercard\n",
    "- **PCR**: Punto de Venta Visa\n"
   ]
  },
  {
   "cell_type": "code",
   "execution_count": null,
   "id": "cd49c314",
   "metadata": {
    "ExecuteTime": {
     "end_time": "2022-08-19T19:22:44.972096Z",
     "start_time": "2022-08-19T19:22:44.419801Z"
    }
   },
   "outputs": [],
   "source": [
    "df_to_show = ITC_Ips[ITC_Ips.canal.str.strip().isin(['MII','RDB','PRD','MCI','PAX','PCM','PMR','PPM','PCR'])]\n",
    "plot_bars_percent_firstk(df=df_to_show, colname='canal',\n",
    "                         title='Canales de Interés Compras')"
   ]
  },
  {
   "cell_type": "markdown",
   "id": "3123cd54",
   "metadata": {},
   "source": [
    "Sin embargo, no todas las transacciones en estos canales son presenciales. En particular, las compras en los códigos **226**, **426** y **526** son **compras no presenciales** que se deben filtrar."
   ]
  },
  {
   "cell_type": "code",
   "execution_count": null,
   "id": "d4cae2ee",
   "metadata": {
    "ExecuteTime": {
     "end_time": "2022-08-19T19:23:02.003603Z",
     "start_time": "2022-08-19T19:23:01.411913Z"
    }
   },
   "outputs": [],
   "source": [
    "df_to_show = (ITC_Ips[ITC_Ips.canal.str.strip().isin(['MII','RDB','PRD','MCI','PAX','PCM','PMR','PPM','PCR']) &\n",
    "         ~ITC_Ips.cdgtrn.isin([226, 426, 526])])\n",
    "plot_bars_percent_firstk(df=df_to_show, colname='canal',\n",
    "                         title='Canales de Interés con Filtro para Compras Físicas')"
   ]
  },
  {
   "cell_type": "markdown",
   "id": "1df5bc64",
   "metadata": {},
   "source": [
    "Finalmente, en este subconjunto de datos, podemos discriminar por el número de transacciones físicas si fueron nacionales o internacionales."
   ]
  },
  {
   "cell_type": "code",
   "execution_count": null,
   "id": "86069101",
   "metadata": {
    "ExecuteTime": {
     "end_time": "2022-08-19T19:23:45.385386Z",
     "start_time": "2022-08-19T19:23:45.100568Z"
    }
   },
   "outputs": [],
   "source": [
    "nacional = (df_to_show[df_to_show.campo5.str.strip().isin(['N'])])\n",
    "internacional = (df_to_show[df_to_show.campo5.str.strip().isin(['I'])])\n",
    "nal_plot = plot_bars_percent_firstk(df=nacional, colname='canal',\n",
    "                         title='Canales de Interés con Filtro para Compras Físicas Nacionales')\n",
    "int_plot = plot_bars_percent_firstk(df=internacional, colname='canal',\n",
    "                         title='Canales de Interés con Filtro para Compras Físicas Internacionales')\n",
    "nal_plot | int_plot"
   ]
  },
  {
   "cell_type": "markdown",
   "id": "df1ef529",
   "metadata": {},
   "source": [
    "Se puede observar que el canal **PRD** contiene la mayoria de transacciones nacionales, mientras que **RDB** y **PRD** la mayoría de transacciones internacionales."
   ]
  },
  {
   "cell_type": "markdown",
   "id": "3fb8df82",
   "metadata": {},
   "source": [
    "## Codigos de Transacciones"
   ]
  },
  {
   "cell_type": "markdown",
   "id": "6a5b975a",
   "metadata": {},
   "source": [
    "Tratemos de entender cuales son los códigos de transferencia más importantes para discriminar entre desbloqueos exitosos y suplantaciones utilizando los datos. Para ello, creemos un simple modelo donde, para cada combinación de identificación y hora de llamada, tengamos todos los códigos de transferencia y si ese código estuvo presente en el último mes."
   ]
  },
  {
   "cell_type": "code",
   "execution_count": null,
   "id": "96f2eb0f",
   "metadata": {
    "ExecuteTime": {
     "end_time": "2022-08-19T19:23:57.689198Z",
     "start_time": "2022-08-19T19:23:56.829004Z"
    }
   },
   "outputs": [],
   "source": [
    "data = (ITC_etiquetado[ITC_etiquetado.CodigoDesbloqueo.isin(['Desbloqueo exitoso','Deteccion suplantacion '])]\n",
    " .groupby(['identificacion','fecha_hora_llamada','CodigoDesbloqueo','cdgtrn'])\n",
    " .size()\n",
    " .reset_index(name='count')\n",
    " .assign(count = 1)\n",
    " .assign(cdgtrn = lambda x: x.cdgtrn.astype(int))\n",
    " .pivot(index=['identificacion','fecha_hora_llamada','CodigoDesbloqueo'], columns='cdgtrn',values='count')\n",
    " .fillna(0)\n",
    " .reset_index()\n",
    " .assign(CodigoDesbloqueo = lambda x: (x.CodigoDesbloqueo=='Deteccion suplantacion ').astype(int))\n",
    ")\n",
    "data"
   ]
  },
  {
   "cell_type": "code",
   "execution_count": null,
   "id": "de500ea9",
   "metadata": {
    "ExecuteTime": {
     "end_time": "2022-08-19T19:24:09.220432Z",
     "start_time": "2022-08-19T19:24:08.953660Z"
    }
   },
   "outputs": [],
   "source": [
    "y_ = data.CodigoDesbloqueo\n",
    "x_ = data.drop(columns=['identificacion','fecha_hora_llamada','CodigoDesbloqueo'])\n",
    "print(x_.shape,y_.shape)\n",
    "print(y_.value_counts())"
   ]
  },
  {
   "cell_type": "markdown",
   "id": "1976c8ff",
   "metadata": {},
   "source": [
    "Son un total de 355 códigos y un total de 6.8K de datos"
   ]
  },
  {
   "cell_type": "code",
   "execution_count": null,
   "id": "e8a3b711",
   "metadata": {
    "ExecuteTime": {
     "end_time": "2022-08-19T19:29:56.529838Z",
     "start_time": "2022-08-19T19:29:56.320334Z"
    }
   },
   "outputs": [],
   "source": [
    "m_ = BalancedRandomForestClassifier(n_estimators=2000, random_state=0, oob_score=True).fit(x_, y_)\n",
    "preds_proba_train = m_.oob_decision_function_[:,1]\n",
    "report_AUC(y_, preds_proba_train, data_set='training');"
   ]
  },
  {
   "cell_type": "markdown",
   "id": "ed144f02",
   "metadata": {},
   "source": [
    "No tuvo un rendiiento muy malo el modelo. 0.77 es bastante aceptable. Parece indicar que hay poder predictivo en el tipo de códigos de transaccion que tienen los clientes para discriminar.\n",
    "\n",
    "Ahora miremos cuales fueron los códigos más importantes:"
   ]
  },
  {
   "cell_type": "code",
   "execution_count": null,
   "id": "bb539a99",
   "metadata": {
    "ExecuteTime": {
     "end_time": "2021-09-21T23:18:24.032263Z",
     "start_time": "2021-09-21T23:18:23.189957Z"
    }
   },
   "outputs": [],
   "source": [
    "fi = rf_feat_importance(m_, x_.columns).sort_values(by='imp', ascending=False)\n",
    "plot_fi(fi[fi.imp>0.0112])"
   ]
  },
  {
   "cell_type": "markdown",
   "id": "63f4f220",
   "metadata": {},
   "source": [
    "Los códigos más importantes fueron:\n",
    "\n",
    "- **167**: Recuperación de Saldos (TLF). No se que es.\n",
    "- **2**: Consulta Saldo Deposito (AUD, DEB). Que es DEB?\n",
    "- **260**: Consulta de Saldo de Tarjetas (Muchos canales incluyendo SVP, SVE y TLF).\n",
    "- **171**: Consulta de tarjeta Débito (APP, SVP). Muy poquitos casos.\n",
    "- **888**: Consulta del costo de la transacción. Los defraudadores no consultan esto.\n",
    "- **410**: Anulación de compra. Es posible que sea solo cuando es real la compra o luego de un robo. No se muy bien.\n",
    "- **3100** y **4100**: Este código es muy importante ya que es un enrolamiento APP y enrolamiento softoken personas. Son algunos códigos que deberían tener buen potencial pero quedaron bastante rezagados.\n",
    "- **751**: código de cambio de topes en SVP. Tampoco quedó en los primeros lugares aunque se necesita para poder sacar el dinero.\n"
   ]
  },
  {
   "cell_type": "code",
   "execution_count": null,
   "id": "b989656b",
   "metadata": {
    "ExecuteTime": {
     "end_time": "2021-09-21T23:18:24.730195Z",
     "start_time": "2021-09-21T23:18:24.033226Z"
    }
   },
   "outputs": [],
   "source": [
    "(ITC_etiquetado[ITC_etiquetado.cdgtrn.isin([167])]\n",
    " [['identificacion','fecha_hora_llamada','CodigoDesbloqueo']]\n",
    " .drop_duplicates()\n",
    " .CodigoDesbloqueo\n",
    " .value_counts())"
   ]
  },
  {
   "cell_type": "markdown",
   "id": "bce10506",
   "metadata": {},
   "source": [
    "30 de 61 (50% aproximadamente) suplantaciones usaron el código 167, mientras que solo 141 de 5144 (3.25%) de los desbloqueos exitosos."
   ]
  },
  {
   "cell_type": "code",
   "execution_count": null,
   "id": "6754d6b2",
   "metadata": {
    "ExecuteTime": {
     "end_time": "2021-09-21T23:18:25.434853Z",
     "start_time": "2021-09-21T23:18:24.731193Z"
    }
   },
   "outputs": [],
   "source": [
    "(ITC_etiquetado[ITC_etiquetado.cdgtrn.isin([2])]\n",
    " [['identificacion','fecha_hora_llamada','CodigoDesbloqueo']]\n",
    " .drop_duplicates()\n",
    " .CodigoDesbloqueo\n",
    " .value_counts())"
   ]
  },
  {
   "cell_type": "markdown",
   "id": "b6f5885b",
   "metadata": {},
   "source": [
    "42 de 61 (68%) suplantaciones usaron el código 2, mientras que solo 1080 de 5144 (21%%) de los desbloqueos exitosos."
   ]
  },
  {
   "cell_type": "code",
   "execution_count": null,
   "id": "2e4809a0",
   "metadata": {
    "ExecuteTime": {
     "end_time": "2021-09-21T23:18:26.131109Z",
     "start_time": "2021-09-21T23:18:25.436059Z"
    }
   },
   "outputs": [],
   "source": [
    "(ITC_etiquetado[ITC_etiquetado.cdgtrn.isin([167])]\n",
    " [['identificacion','fecha_hora_llamada','canal','CodigoDesbloqueo']]\n",
    " .drop_duplicates()\n",
    " .groupby(['CodigoDesbloqueo','canal'])\n",
    " .size()\n",
    " .sort_values(ascending=False)\n",
    ")"
   ]
  },
  {
   "cell_type": "markdown",
   "id": "df626df2",
   "metadata": {},
   "source": [
    "Aqui vemos que todas las transacciones con código 167 se realizaron por el canal TLF."
   ]
  },
  {
   "cell_type": "markdown",
   "id": "5df3d645",
   "metadata": {},
   "source": [
    "### Revisión de Número trns por Cédula"
   ]
  },
  {
   "cell_type": "code",
   "execution_count": null,
   "id": "9fc18f44",
   "metadata": {
    "ExecuteTime": {
     "end_time": "2021-09-21T23:18:27.573871Z",
     "start_time": "2021-09-21T23:18:26.133134Z"
    }
   },
   "outputs": [],
   "source": [
    "(ITC_etiquetado[(ITC_etiquetado.canal.str.strip().isin(['APP','SVP'])) & (ITC_etiquetado.identificacion.isin([42118877]))]\n",
    " .groupby(['identificacion','fecha_hora_llamada','cdgtrn'])\n",
    " .size()\n",
    " .reset_index(name='count')\n",
    " .sort_values(['identificacion','fecha_hora_llamada','count'], ascending=False))[:50]"
   ]
  },
  {
   "cell_type": "markdown",
   "id": "35f1a7c5",
   "metadata": {},
   "source": [
    "## Limpieza Variable Objetivo"
   ]
  },
  {
   "cell_type": "markdown",
   "id": "fcafaf7d",
   "metadata": {},
   "source": [
    "Utilizando los resultados de la primera iteración del modelo, me dí cuenta que hay mucho ruido en la variable objetivo. Sobretodo con los registros marcados como **Deteccion de Suplantacion**:\n",
    "\n",
    "- Por un lado, parece que hay un asesor que ya no se encuentra en el banco (**jucflore**) que marcó llamadas de posible suplantación cómo suplantación confirmada.\n",
    "- Por otro lado, hay varios casos de equivocación del asesor donde el registro quedo duplicado con **Detección de Suplantación** y otra marcación simultáneas.\n",
    "- Finalmente, algunos casos donde las llamadas fueron marcadas como **Detección de Suplantación** y luego los comentarios de un bloqueo sucesivo nos indica que el cliente siempre fué el que llamó.\n"
   ]
  },
  {
   "cell_type": "code",
   "execution_count": null,
   "id": "f6500a1d",
   "metadata": {
    "ExecuteTime": {
     "end_time": "2021-09-21T23:18:28.288001Z",
     "start_time": "2021-09-21T23:18:27.574837Z"
    }
   },
   "outputs": [],
   "source": [
    "llamadas_duplicadas = (df\n",
    " .groupby(['FECHA', 'IDENTIFICACION','ASESOR'])\n",
    " .agg(count = ('DESCCOD','count'))\n",
    " .query(\"count > 1\")\n",
    " .sort_values('count', ascending=False)\n",
    " .reset_index()\n",
    ")\n",
    "llamadas_duplicadas"
   ]
  },
  {
   "cell_type": "markdown",
   "id": "cc4ebdda",
   "metadata": {},
   "source": [
    "Se tienen 33 llamadas con doble y triple marcación. Esto es especialmente complicado para el modelo dado que vé dos regisros con exactamente las mismas variables del cliente pero con dos marcaciones distintas.\n",
    "\n",
    "Veamos que asesores tuvieron estas dificultades."
   ]
  },
  {
   "cell_type": "code",
   "execution_count": null,
   "id": "f3358f57",
   "metadata": {
    "ExecuteTime": {
     "end_time": "2021-09-21T23:18:29.007347Z",
     "start_time": "2021-09-21T23:18:28.288999Z"
    }
   },
   "outputs": [],
   "source": [
    "alt.Chart(llamadas_duplicadas\n",
    " .groupby(['ASESOR'])\n",
    " .size()\n",
    " .reset_index(name='count')).mark_bar().encode(\n",
    "    y = alt.Y('ASESOR', sort='-x'),\n",
    "    x = 'count',\n",
    "    color = alt.Color('ASESOR', legend=None),\n",
    "    tooltip = ['ASESOR', 'count']\n",
    ").properties(\n",
    "    title = 'Número de Llamadas con Marcación Múltiple'\n",
    ")"
   ]
  },
  {
   "cell_type": "markdown",
   "id": "432497d0",
   "metadata": {},
   "source": [
    "### Ruido en Datos"
   ]
  },
  {
   "cell_type": "markdown",
   "id": "98e0374c",
   "metadata": {},
   "source": [
    "Revisemos cuantos casos de marcación duplicada tenemos, donde una de las marcaciones es **Deteccion suplantacion**"
   ]
  },
  {
   "cell_type": "code",
   "execution_count": null,
   "id": "7c7330b7",
   "metadata": {
    "ExecuteTime": {
     "end_time": "2021-09-21T23:18:29.734325Z",
     "start_time": "2021-09-21T23:18:29.008597Z"
    }
   },
   "outputs": [],
   "source": [
    "duplicados_con_suplantacions = (df.merge(llamadas_duplicadas,\n",
    "         on=['FECHA', 'IDENTIFICACION','ASESOR'],\n",
    "         how='inner')\n",
    " .query(\"DESCCOD == 'Deteccion suplantacion '\")\n",
    " .loc[:, ['FECHA', 'IDENTIFICACION','ASESOR']]                               \n",
    " .merge(df,\n",
    "        on=['FECHA', 'IDENTIFICACION','ASESOR'],\n",
    "        how='inner')\n",
    ")\n",
    "duplicados_con_suplantacions.DESCCOD.value_counts()"
   ]
  },
  {
   "cell_type": "markdown",
   "id": "03765431",
   "metadata": {},
   "source": [
    "Tenemos 5 casos donde, por un lado está marcado como **Deteccion suplantacion** y simulateneamente, tiene otra marcación. Por seguridad, eliminemos todos los datos duplicados.\n",
    "\n",
    "En particular, se eliminan las llamadas de los clientes **40612622** (pred=0.95), **43827625** (pred=0.89) y **1053778928** (pred=0.73) dado que realmente fueron bloqueos exitosos o desbloqueo no existoso pero no una suplantación."
   ]
  },
  {
   "cell_type": "code",
   "execution_count": null,
   "id": "e35f4de8",
   "metadata": {
    "ExecuteTime": {
     "end_time": "2021-09-21T23:18:30.436266Z",
     "start_time": "2021-09-21T23:18:29.735291Z"
    }
   },
   "outputs": [],
   "source": [
    "df_clean = df[~df.FECHA.isin(llamadas_duplicadas.FECHA)]\n",
    "df_clean.shape"
   ]
  },
  {
   "cell_type": "markdown",
   "id": "df72ef96",
   "metadata": {},
   "source": [
    "De 9424 de los registros originales, nos quedan 9357."
   ]
  },
  {
   "cell_type": "code",
   "execution_count": null,
   "id": "0936e26d",
   "metadata": {
    "ExecuteTime": {
     "end_time": "2021-09-21T23:18:31.129609Z",
     "start_time": "2021-09-21T23:18:30.437264Z"
    }
   },
   "outputs": [],
   "source": [
    "df_clean = df_clean[~df_clean.ASESOR.isin(['jucflore'])]\n",
    "df_clean.shape"
   ]
  },
  {
   "cell_type": "markdown",
   "id": "906d1af4",
   "metadata": {},
   "source": [
    "Quedan ahora 9223 registros quitando los registros de jucflore dado que nos son registros muy confiables."
   ]
  },
  {
   "cell_type": "markdown",
   "id": "41ff1d45",
   "metadata": {},
   "source": [
    "Se eliminan los siguientes registros de **Deteccion suplantacion** según validación con Diana Carolina Yepes Angel:\n",
    "\n",
    "- **12203773** (pred=0.95): El mismo día fue marcado con suplantación y desbloqueado con chequeo de IUVI.\n",
    "- **7448141** (pred=0.9033): El asesor no dejó comentarios en base de datos para entender si fue realmente una suplantación\n",
    "- **80888357** (pred=0.88): Caso de suplantación no confirmada por diasuaza el 26 de Enero que luego desbloqueada el 30.\n",
    "- **88237859** (pred=0.87): jucflore marco como suplantación un caso no confirmado que luego se vió que era legítimo. \n",
    "- **85452242** (pred=0.825): Marcacion como suplantacion en llamada de 5 minutos y una hora despues se desbloquea.\n",
    "- **1094944184** (pred=0.7567): Cliente cuelga enojado pero asesor llama a la mama que confirma que el cliente si está en Chile.\n",
    "- **1053831270** (pred=0.7233): Cliente marcado con suplantación el 28 de Marzo pero luego desbloqueado el 8 de Abril. Se chequean las IPs y son las mismas en el periodo del 28 de Marzo al 8 de Abril.\n",
    "- **34604711** (pred=0.6783): Cliente marcado como suplantación el 26 de Septiembre 2020. Luego desbloqueado el 3 de Octubre. IPs siempre en España.\n",
    "- **1030531247** (pred=0.6567): Cliente con bastante transaccionalidad en Australia. Marcado como suplantación por no pasar filtros pero no es suplantación confirmada. Bloqueo por compra con tarjeta de crédito.\n",
    "- **21486081** (pred=0.6067): Caso marcado cómo suplantacion por jucflore pero desbloqueado al dia siguiente. Todas las IPs desde Italia.\n",
    "- **41454664** (pred=0.6067): Marcado con suplantacion el 8 de Dic del 2020. Desbloqueado luego en Enero donde dice que hace 5 años con documentos. No viene a Colombia hace 5 años y lo soporta las IPs.\n",
    "- **1006306287** (pred=0.53): Cliente suena sospechoso llamando desde España. Manda varias veces cedula borrosa y sin datos necesarios. Dice que llama del locutorio (sitio de llamadas en España). Luego lo desbloquean.\n",
    "- **31481215** (pred=0.41): Cliente son sospecha de suplantación pero no es confirmada. Llama varias veces. Bloqueado por remesa que él mismo envió. Luego es desbloqueado.\n",
    "- **5018683877** (pred=0.53): Loggeos desde USA y Venezuela. Dice que el cliente está en USA pero hermano en Venezuela. Marcación de suplantacion sin comentario asociado.\n",
    "- **80030197** (pred=0.4267): Marcado como suplantacion el 19/01/2021. Cliente se enoja. Dice que está en españa. Comentarios dicen que no tiene perfil transaccional pero si veo entrada desde España el 13 de Enero. Luego lo desbloquean el 10 de Febrero.\n",
    "- **65813141**: Esta etiquetado como suplantador pero fue desloqueado con exito según mensaje y tiene una transacción física en el exterior.\n",
    "\n"
   ]
  },
  {
   "cell_type": "code",
   "execution_count": null,
   "id": "e2f78394",
   "metadata": {
    "ExecuteTime": {
     "end_time": "2021-09-21T23:18:31.822539Z",
     "start_time": "2021-09-21T23:18:31.130606Z"
    }
   },
   "outputs": [],
   "source": [
    "cedulas_drop_suplantacion = [\n",
    "    12203773,\n",
    "    7448141,\n",
    "    80888357,\n",
    "    88237859,\n",
    "    85452242,\n",
    "    1094944184,\n",
    "    1053831270,\n",
    "    34604711,\n",
    "    1030531247,\n",
    "    21486081,\n",
    "    41454664,\n",
    "    1006306287,\n",
    "    31481215,\n",
    "    5018683877,\n",
    "    80030197,\n",
    "    65813141\n",
    "]\n",
    "df_clean = df_clean[~(df_clean.IDENTIFICACION.isin(cedulas_drop_suplantacion) & \n",
    "                     (df_clean.DESCCOD == 'Deteccion suplantacion '))]\n",
    "df_clean.shape"
   ]
  },
  {
   "cell_type": "markdown",
   "id": "74c63617",
   "metadata": {},
   "source": [
    "Finalmente quedamos con 9215 registros."
   ]
  },
  {
   "cell_type": "markdown",
   "id": "c7691a15",
   "metadata": {},
   "source": [
    "### Suplantaciones Confirmadas"
   ]
  },
  {
   "cell_type": "markdown",
   "id": "10122c8c",
   "metadata": {},
   "source": [
    "Es muy importante resaltar los casos con suplantación confirmada y que el modelo le dió score alto dado que se deben buscar características que les den bajo score.\n",
    "\n",
    "- **1878082** (pred=8733): Casó de fraude confirmado donde tuvieron que crear perfil transaccional en el exterior. Cliente es muy mayor de edad.\n",
    "- **19073369** (pred=0.73): Llamada dicen estar en uruguay pero llaman al cliente y esta realmente en Bogota.\n",
    "- **13250961** (pred=0.65): Según comentarios, parece ser un suplantador con los documentos reales del cliente que parece ser mayor.\n",
    "- **39270054** (pred=0.53): Llamaron al cliente y el cliente esta en caucasia. Cliente enumerado. Le crearon perfil transaccional en muchos paises. Costa Rica, Brasil. Cliente con compras presenciales en Colombia.\n",
    "- **42996405** (pred=0.54): Llaman y dice que la cliente está en Canada, sin embargo, encuentran un documento en oracle que la cliente tiene discapacidad cognitiva.\n",
    "- **14956457**: Suplantación confirmada. Cliente confirmado en Buga.\n",
    "\n",
    "Estudiar estos casos muy bien."
   ]
  },
  {
   "cell_type": "markdown",
   "id": "c7510104",
   "metadata": {},
   "source": [
    "### Casos Sin Transacciones"
   ]
  },
  {
   "cell_type": "code",
   "execution_count": null,
   "id": "383d91a3",
   "metadata": {
    "ExecuteTime": {
     "end_time": "2021-09-21T23:18:32.740949Z",
     "start_time": "2021-09-21T23:18:31.823535Z"
    }
   },
   "outputs": [],
   "source": [
    "trns_totales = (ITC_Ips\n",
    " .groupby(['identificacion','fecha_hora_llamada'])\n",
    " .agg(numero_trn=('fechatrn','size')))\n",
    "sin_trn = (df_clean\n",
    " .rename(columns={'FECHA':'fecha_hora_llamada',\n",
    "                  'IDENTIFICACION':'identificacion',\n",
    "                  'DESCCOD':'CodigoDesbloqueo'})\n",
    " .set_index(keys=['identificacion','fecha_hora_llamada'])\n",
    " .join(trns_totales, how='left')\n",
    " .query(\"numero_trn.isnull()\")\n",
    ")\n",
    "sin_trn.shape"
   ]
  },
  {
   "cell_type": "markdown",
   "id": "348e8061",
   "metadata": {},
   "source": [
    "Tenemos 239 casos de llamadas sin ITC en el último mes"
   ]
  },
  {
   "cell_type": "code",
   "execution_count": null,
   "id": "981ff7d5",
   "metadata": {
    "ExecuteTime": {
     "end_time": "2021-09-21T23:18:33.482395Z",
     "start_time": "2021-09-21T23:18:32.741916Z"
    }
   },
   "outputs": [],
   "source": [
    "cedulas_sin_ITC = sin_trn.reset_index().identificacion.tolist()\n",
    "df_clean = df_clean[~df_clean.IDENTIFICACION.isin(cedulas_sin_ITC)]"
   ]
  },
  {
   "cell_type": "code",
   "execution_count": null,
   "id": "30ee3f68",
   "metadata": {
    "ExecuteTime": {
     "end_time": "2021-08-03T17:08:10.582674Z",
     "start_time": "2021-08-03T17:08:09.836726Z"
    }
   },
   "outputs": [],
   "source": []
  },
  {
   "cell_type": "code",
   "execution_count": null,
   "id": "0421742c",
   "metadata": {
    "ExecuteTime": {
     "end_time": "2021-09-21T23:18:34.346729Z",
     "start_time": "2021-09-21T23:18:33.482751Z"
    }
   },
   "outputs": [],
   "source": [
    "df_clean.shape"
   ]
  },
  {
   "cell_type": "markdown",
   "id": "577398be",
   "metadata": {},
   "source": [
    "Nos quedan 8940 casos"
   ]
  },
  {
   "cell_type": "markdown",
   "id": "82a252bc",
   "metadata": {},
   "source": [
    "### Suplantaciones Confirmadas"
   ]
  },
  {
   "cell_type": "markdown",
   "id": "c41bfe5c",
   "metadata": {},
   "source": [
    "Es muy importante resaltar los casos con suplantación confirmada y que el modelo le dió score alto dado que se deben buscar características que les den bajo score.\n",
    "\n",
    "- **1878082** (pred=8733): Casó de fraude confirmado donde tuvieron que crear perfil transaccional en el exterior. Cliente es muy mayor de edad.\n",
    "- **19073369** (pred=0.73): Llamada dicen estar en uruguay pero llaman al cliente y esta realmente en Bogota.\n",
    "- **13250961** (pred=0.65): Según comentarios, parece ser un suplantador con los documentos reales del cliente que parece ser mayor.\n",
    "- **39270054** (pred=0.53): Llamaron al cliente y el cliente esta en caucasia. Cliente enumerado. Le crearon perfil transaccional en muchos paises. Costa Rica, Brasil. Cliente con compras presenciales en Colombia.\n",
    "- **42996405** (pred=0.54): Llaman y dice que la cliente está en Canada, sin embargo, encuentran un documento en oracle que la cliente tiene discapacidad cognitiva.\n",
    "- **14956457**: Suplantación confirmada. Cliente confirmado en Buga.\n",
    "\n",
    "Estudiar estos casos muy bien."
   ]
  },
  {
   "cell_type": "markdown",
   "id": "7b4fae12",
   "metadata": {},
   "source": [
    "### Multiples llamadas"
   ]
  },
  {
   "cell_type": "markdown",
   "id": "83fb3004",
   "metadata": {},
   "source": [
    "\n",
    "- **3048552**: Tiene 3 llamadas detectadas como suplantaciones\n",
    "- **94504254**: Tiene 3 llamadas con 2 detectadas como suplantaciones\n",
    "- **1085309382**: Tiene 3 llamadas con 2 detectadas como suplantaciones"
   ]
  },
  {
   "cell_type": "code",
   "execution_count": null,
   "id": "2618eb47",
   "metadata": {
    "ExecuteTime": {
     "end_time": "2021-09-21T23:18:35.232970Z",
     "start_time": "2021-09-21T23:18:34.347929Z"
    }
   },
   "outputs": [],
   "source": [
    "plot_bars_percent_firstk(df=df_clean, colname='DESCCOD',\n",
    "                         title='Frecuencia Tipos de Desbloqueos Después de Limpiar Datos')"
   ]
  },
  {
   "cell_type": "markdown",
   "id": "82278bb0",
   "metadata": {},
   "source": [
    "# Modelo"
   ]
  },
  {
   "cell_type": "markdown",
   "id": "00a4fddc",
   "metadata": {},
   "source": [
    "## Creación Sabana de Datos"
   ]
  },
  {
   "cell_type": "markdown",
   "id": "4198d5c5",
   "metadata": {},
   "source": [
    "Sólo se toman los datos de **desbloqueo existoso** y **deteccion suplantacion** y se marcan aquellos desbloqueos exitosos que fueron resueltos en la primera llamada."
   ]
  },
  {
   "cell_type": "code",
   "execution_count": null,
   "id": "9a93d1de",
   "metadata": {
    "ExecuteTime": {
     "end_time": "2021-09-21T23:18:36.094622Z",
     "start_time": "2021-09-21T23:18:35.233968Z"
    }
   },
   "outputs": [],
   "source": [
    "df_clean.DESCCOD.unique().tolist()"
   ]
  },
  {
   "cell_type": "code",
   "execution_count": null,
   "id": "5eaa0a5b",
   "metadata": {
    "ExecuteTime": {
     "end_time": "2021-09-21T23:18:37.885045Z",
     "start_time": "2021-09-21T23:18:36.095589Z"
    }
   },
   "outputs": [],
   "source": [
    "cod_to_int = {\n",
    "    'Desbloqueo exitoso': 1,\n",
    "    'Deteccion suplantacion ': 0,\n",
    "    'Desbloqueo con soportes': 1\n",
    "}\n",
    "sub_df = (df_clean\n",
    " .assign(exitoso_primera_llamada = ((df_clean.groupby('IDENTIFICACION').FECHA.transform(lambda x: len(x))==1) &\n",
    "                                     (df_clean.DESCCOD=='Desbloqueo exitoso')).astype(int) )\n",
    " .assign(exitoso_con_soportes = lambda x: (x.DESCCOD=='Desbloqueo con soportes').astype(int))\n",
    " .assign(label = lambda x: x.DESCCOD.map(cod_to_int))\n",
    " .query(\"label.isin([0,1])\")\n",
    ")\n",
    "sub_df"
   ]
  },
  {
   "cell_type": "markdown",
   "id": "0773efd3",
   "metadata": {},
   "source": [
    "### Transacciones Virtuales"
   ]
  },
  {
   "cell_type": "code",
   "execution_count": null,
   "id": "e4e6d03c",
   "metadata": {
    "ExecuteTime": {
     "end_time": "2021-09-21T23:19:03.067012Z",
     "start_time": "2021-09-21T23:18:37.886373Z"
    }
   },
   "outputs": [],
   "source": [
    "trns_totales = (ITC_Ips\n",
    " .groupby(['identificacion','fecha_hora_llamada'])\n",
    " .agg(numero_trn=('fechatrn','size')))\n",
    "\n",
    "trns_totales_app_svp = (ITC_Ips[ITC_Ips.canal.str.strip().isin(['APP','SVP'])]\n",
    " .groupby(['identificacion','fecha_hora_llamada'])\n",
    " .agg(numero_trn_app_svp=('fechatrn','size')))\n",
    "\n",
    "trns_totales_app_svp_localizadas = (ITC_Ips[ITC_Ips.canal.str.strip().isin(['APP','SVP']) & (ITC_Ips.country!='None')]\n",
    " .groupby(['identificacion','fecha_hora_llamada'])\n",
    " .agg(numero_trn_app_svp_localizadas=('fechatrn','size')))\n",
    "\n",
    "trns_exterior_vs_colombia = (ITC_Ips[ITC_Ips.canal.str.strip().isin(['APP','SVP']) & (ITC_Ips.country!='None')]\n",
    " .assign(trn_colombia = lambda x: x.country=='CO')\n",
    " .assign(trns_exterior = lambda x: x.country!='CO')\n",
    " .groupby(['identificacion','fecha_hora_llamada'])\n",
    " .agg(numero_trn_col=('trn_colombia','sum'),\n",
    "      numero_trn_ext=('trns_exterior','sum')))\n",
    "\n",
    "dias_a_trn = (ITC_Ips\n",
    " .assign(canal = lambda x: x.canal.str.strip())\n",
    " .assign(fecha_hora_trn = lambda x: pd.to_datetime(x.fechatrn.astype(str) + \n",
    "                                                   ' ' + \n",
    "                                                   x.horatrn.astype(int).astype(str).str.pad(8,fillchar='0'),\n",
    "                                                   format = '%Y%m%d %H%M%S%f') )\n",
    " .assign(dias_a_trn = lambda x: (x.fecha_hora_llamada - x.fecha_hora_trn) / pd.Timedelta(days=1))\n",
    " .query(\"dias_a_trn > 1.0\")\n",
    ")\n",
    "\n",
    "ultima_trn = (dias_a_trn\n",
    " .sort_values(by=['identificacion','fecha_hora_llamada','fechatrn','horatrn'], ascending=False)\n",
    " .groupby(['identificacion','fecha_hora_llamada'])\n",
    " .first()\n",
    " .rename(columns={'dias_a_trn':'dias_a_ultima_trn',\n",
    "                  'canal': 'canal_ultima_trn'})\n",
    " .loc[:,['dias_a_ultima_trn','canal_ultima_trn']]\n",
    ")\n",
    "\n",
    "ultima_trn_col = (dias_a_trn[dias_a_trn.country=='CO']\n",
    " .sort_values(by=['identificacion','fecha_hora_llamada','fechatrn','horatrn'], ascending=False)\n",
    " .groupby(['identificacion','fecha_hora_llamada'])\n",
    " .first()\n",
    " .rename(columns={'dias_a_trn':'dias_a_ultima_trn_col',\n",
    "                  'canal': 'canal_ultima_trn_col'})\n",
    " .loc[:,['dias_a_ultima_trn_col','canal_ultima_trn_col']]\n",
    ")\n",
    "\n",
    "primera_trn_col = (dias_a_trn[dias_a_trn.country=='CO']\n",
    " .sort_values(by=['identificacion','fecha_hora_llamada','fechatrn','horatrn'], ascending=True)\n",
    " .groupby(['identificacion','fecha_hora_llamada'])\n",
    " .first()\n",
    " .rename(columns={'dias_a_trn':'dias_a_primera_trn_col',\n",
    "                  'canal': 'canal_primera_trn_col'})\n",
    " .loc[:,['dias_a_primera_trn_col','canal_primera_trn_col']]\n",
    ")\n",
    "\n",
    "ultima_trn_ext = (dias_a_trn[(dias_a_trn.dias_a_trn > 1) & (~dias_a_trn.country.isin(['CO','None']))]\n",
    " .sort_values(by=['identificacion','fecha_hora_llamada','fechatrn','horatrn'], ascending=False)\n",
    " .groupby(['identificacion','fecha_hora_llamada'])\n",
    " .first()\n",
    " .rename(columns={'dias_a_trn':'dias_a_ultima_trn_ext',\n",
    "                  'canal': 'canal_ultima_trn_ext'})\n",
    " .loc[:,['dias_a_ultima_trn_ext','canal_ultima_trn_ext']]\n",
    ")\n",
    "\n",
    "primera_trn_ext = (dias_a_trn[(dias_a_trn.dias_a_trn > 1) & (~dias_a_trn.country.isin(['CO','None']))]\n",
    " .sort_values(by=['identificacion','fecha_hora_llamada','fechatrn','horatrn'], ascending=True)\n",
    " .groupby(['identificacion','fecha_hora_llamada'])\n",
    " .first()\n",
    " .rename(columns={'dias_a_trn':'dias_a_primera_trn_ext'})\n",
    " .loc[:,['dias_a_primera_trn_ext']]\n",
    ")\n",
    "\n",
    "nro_countries = (ITC_Ips[ITC_Ips.country!='None']\n",
    " .groupby(['identificacion','fecha_hora_llamada'])\n",
    " .agg(nro_countries=('country','nunique')))\n",
    "\n",
    "mean_lag_trns = (dias_a_trn[dias_a_trn.country!='None']\n",
    " .assign(trn_en_col = lambda x: 'mean_lag_trns_col_' + x.country.isin(['CO']).astype(int).astype(str))\n",
    " .groupby(['identificacion', 'fecha_hora_llamada', 'trn_en_col'])\n",
    " .agg(mean_lag_trns=('dias_a_trn','mean'))\n",
    " .reset_index()\n",
    " .pivot(index=['identificacion', 'fecha_hora_llamada'], columns='trn_en_col', values='mean_lag_trns')\n",
    " .fillna(-1)\n",
    " .assign(lag_diff_means = lambda x: x.mean_lag_trns_col_0 - x.mean_lag_trns_col_1)\n",
    ")"
   ]
  },
  {
   "cell_type": "markdown",
   "id": "3c54d95b",
   "metadata": {},
   "source": [
    "### Transacciones Físicas"
   ]
  },
  {
   "cell_type": "code",
   "execution_count": null,
   "id": "b70f81a4",
   "metadata": {
    "ExecuteTime": {
     "end_time": "2021-09-21T23:19:28.299374Z",
     "start_time": "2021-09-21T23:19:03.067822Z"
    },
    "run_control": {
     "marked": false
    }
   },
   "outputs": [],
   "source": [
    "def compras_fisicas(x):\n",
    "    return (x.canal.str.strip().isin(['ABB','SAI']) | \n",
    "           (x.canal.str.strip().isin(['MII','RDB','PRD','MCI','PAX','PCM','PMR','PPM','PCR']) &\n",
    "            ~x.cdgtrn.isin([226, 426, 526])))\n",
    "\n",
    "compras_fisicas_raw = (dias_a_trn\n",
    " .assign(compra_fisica = lambda x: compras_fisicas(x))\n",
    " .assign(compra_fisica_nal = lambda x: (x.compra_fisica & (x.canal.str.strip().isin(['ABB','SAI']) | (x.campo5.str.strip()=='N')) ).astype(int))\n",
    " .assign(compra_fisica_int = lambda x: (x.compra_fisica & (x.campo5.str.strip()=='I')).astype(int))\n",
    " .assign(campo5 = lambda x: x.apply(lambda z: 'N' if z.compra_fisica_nal==1 else 'I',axis=1))\n",
    ")\n",
    "\n",
    "compras_fisicas = (compras_fisicas_raw[compras_fisicas_raw.compra_fisica]\n",
    " .sort_values(by=['identificacion','fecha_hora_llamada','fechatrn','horatrn'], ascending=False)\n",
    " .assign(campo5 = lambda x: x.campo5.str.strip())\n",
    " .groupby(['identificacion', 'fecha_hora_llamada', 'campo5'])\n",
    " .first()\n",
    " .reset_index()\n",
    " .rename(columns={'dias_a_trn_fisica':'dias_a_ultima_trn_ext'})\n",
    " .pivot(index=['identificacion', 'fecha_hora_llamada'] ,columns='campo5', values='dias_a_trn')\n",
    " .fillna(99)\n",
    " .reset_index()\n",
    " .assign(fisicas_int_mas_reciente = lambda x: (x.I <= x.N).astype(int) )\n",
    " .set_index(['identificacion', 'fecha_hora_llamada'])\n",
    " .loc[:,['I','N','fisicas_int_mas_reciente']]\n",
    ")\n",
    "\n",
    "conteo_compras_fisicas = (compras_fisicas_raw[compras_fisicas_raw.compra_fisica]\n",
    " .sort_values(by=['identificacion','fecha_hora_llamada','fechatrn','horatrn'], ascending=False)\n",
    " .groupby(['identificacion', 'fecha_hora_llamada'])\n",
    " .agg(compra_fisica_nal = ('compra_fisica_nal','sum'),\n",
    "      compra_fisica_int = ('compra_fisica_int','sum'))\n",
    " .loc[:,['compra_fisica_nal','compra_fisica_int']]\n",
    ")"
   ]
  },
  {
   "cell_type": "markdown",
   "id": "be1da6d3",
   "metadata": {},
   "source": [
    "### Códigos de Transferencias"
   ]
  },
  {
   "cell_type": "code",
   "execution_count": null,
   "id": "f9046acb",
   "metadata": {
    "ExecuteTime": {
     "end_time": "2021-09-21T23:19:28.998158Z",
     "start_time": "2021-09-21T23:19:28.301203Z"
    }
   },
   "outputs": [],
   "source": [
    "cdgtrn_seleccionados = (ITC_Ips[ITC_Ips.cdgtrn.isin([167,2])]\n",
    " .groupby(['identificacion','fecha_hora_llamada','cdgtrn'])\n",
    " .agg(count=('fechatrn','size'))\n",
    " .assign(count = lambda x: 1)\n",
    " .reset_index()\n",
    " .assign(cdgtrn = lambda x: x.cdgtrn.astype(int).astype(str))\n",
    " .pivot(index=['identificacion','fecha_hora_llamada'], columns='cdgtrn', values='count')\n",
    " .fillna(0)\n",
    " .astype(int)\n",
    ")"
   ]
  },
  {
   "cell_type": "markdown",
   "id": "1f4167de",
   "metadata": {},
   "source": [
    "### Combinación Features"
   ]
  },
  {
   "cell_type": "code",
   "execution_count": null,
   "id": "9203b83e",
   "metadata": {
    "ExecuteTime": {
     "end_time": "2021-09-21T23:19:30.977308Z",
     "start_time": "2021-09-21T23:19:28.999843Z"
    }
   },
   "outputs": [],
   "source": [
    "canales = ITC_Ips.canal.str.strip().value_counts().index.tolist()\n",
    "canales_cod = dict(zip(canales, range(len(canales))))\n",
    "canales_cod[-1] = -1\n",
    "df_features_sub_org = (sub_df[['FECHA','IDENTIFICACION','exitoso_primera_llamada','exitoso_con_soportes','label']]\n",
    "        .rename(columns={'FECHA':'fecha_hora_llamada',\n",
    "                         'IDENTIFICACION':'identificacion'})\n",
    " .set_index(keys=['identificacion','fecha_hora_llamada'])\n",
    " .join(trns_totales)\n",
    " .join(trns_totales_app_svp)\n",
    " .join(trns_totales_app_svp_localizadas)\n",
    " .join(trns_exterior_vs_colombia)\n",
    " .join(nro_countries)\n",
    " .join(cdgtrn_seleccionados)\n",
    " .fillna(0)\n",
    " .astype(int)\n",
    " .assign(percent_ext = lambda x: x.apply(lambda z: 0 if z.numero_trn_app_svp_localizadas==0 \n",
    "                                         else z.numero_trn_ext/z.numero_trn_app_svp_localizadas,axis=1))\n",
    " .assign(percent_col = lambda x: x.apply(lambda z: 0 if z.numero_trn_app_svp_localizadas==0 \n",
    "                                         else z.numero_trn_col/z.numero_trn_app_svp_localizadas,axis=1))\n",
    " .assign(percent_app_svp = lambda x: x.apply(lambda z: 0 if z.numero_trn==0 \n",
    "                                         else z.numero_trn_app_svp/z.numero_trn,axis=1))\n",
    " .join(ultima_trn)\n",
    " .join(ultima_trn_col)\n",
    " .join(primera_trn_col)\n",
    " .join(primera_trn_ext)\n",
    " .join(ultima_trn_ext)\n",
    " .fillna(99)\n",
    " .assign(canal_ultima_trn = lambda x: x.canal_ultima_trn.map(canales_cod))\n",
    " .assign(canal_ultima_trn_col = lambda x: x.canal_ultima_trn_col.map(canales_cod))\n",
    " .assign(canal_ultima_trn_ext = lambda x: x.canal_ultima_trn_ext.map(canales_cod))\n",
    " .join(mean_lag_trns)\n",
    " .join(compras_fisicas)\n",
    " .fillna(99)\n",
    " .assign(fisica_I = lambda x: (x.I!=99).astype(int))\n",
    " .assign(simultaneadad_fisica_N = lambda x: (x.N<x.dias_a_primera_trn_ext).astype(int))\n",
    " .join(conteo_compras_fisicas)\n",
    " .fillna(0)\n",
    "#  .assign(dias_a_ultima_trn_col = lambda x: x[['dias_a_ultima_trn_col','N']].min(axis=1))\n",
    ")\n",
    "df_features_sub_org"
   ]
  },
  {
   "cell_type": "code",
   "execution_count": null,
   "id": "9451da08",
   "metadata": {
    "ExecuteTime": {
     "end_time": "2021-09-21T23:19:31.725392Z",
     "start_time": "2021-09-21T23:19:30.978272Z"
    }
   },
   "outputs": [],
   "source": [
    "df_features_sub_org.groupby(['label','simultaneadad_fisica_N']).size()"
   ]
  },
  {
   "cell_type": "markdown",
   "id": "d2b57910",
   "metadata": {},
   "source": [
    "Algo que realmente no me esperaba, pero casi el 22% de las llamadas con desbloqueo existoso cuentan con simultaneadad entre transacciones virtuales en el exterior y transacciones físicas en colombia.\n",
    "\n",
    "Dado que esto es exactamente una señal de posible suplantación, entonces saquemos los registros de desbloqueos exitosos con simultaneidad que el modelo aprenda a darle scores bajos."
   ]
  },
  {
   "cell_type": "code",
   "execution_count": null,
   "id": "890a5280",
   "metadata": {
    "ExecuteTime": {
     "end_time": "2021-09-21T23:19:32.568949Z",
     "start_time": "2021-09-21T23:19:31.726392Z"
    }
   },
   "outputs": [],
   "source": [
    "# Se aplican los filtros para los datos donde se entrenará el modelo\n",
    "df_features_sub = df_features_sub_org\n",
    "# df_features_sub = (df_features_sub_org\n",
    "#                    .query(\"(label==0) | ((label==1) & (simultaneadad_fisica_N==0) & (exitoso_primera_llamada==1) & (exitoso_con_soportes==0))\")\n",
    "#                    .copy())\n",
    "df_features_sub.groupby(['label','simultaneadad_fisica_N']).size()\n",
    "# df_features_sub.label.value_counts()"
   ]
  },
  {
   "cell_type": "markdown",
   "id": "e1b65144",
   "metadata": {},
   "source": [
    "Con este cambio, solo quedamos con simultaneadades en suplantaciónes."
   ]
  },
  {
   "cell_type": "markdown",
   "id": "067abd0e",
   "metadata": {},
   "source": [
    "### Construcción X, y"
   ]
  },
  {
   "cell_type": "code",
   "execution_count": null,
   "id": "affe836c",
   "metadata": {
    "ExecuteTime": {
     "end_time": "2021-09-21T23:19:33.356939Z",
     "start_time": "2021-09-21T23:19:32.569946Z"
    },
    "run_control": {
     "marked": false
    }
   },
   "outputs": [],
   "source": [
    "to_drop = [\n",
    "    'identificacion',\n",
    "    'fecha_hora_llamada',\n",
    "    'label',\n",
    "    'exitoso_primera_llamada',\n",
    "    'exitoso_con_soportes',\n",
    "    'numero_trn_app_svp_localizadas',\n",
    "    'numero_trn_ext',\n",
    "    'percent_col',\n",
    "    'numero_trn_col',\n",
    "    'numero_trn_app_svp',\n",
    "    'canal_ultima_trn',\n",
    "    'canal_ultima_trn_col',\n",
    "    'canal_ultima_trn_ext',\n",
    "    'dias_a_ultima_trn',\n",
    "    'dias_a_ultima_trn_ext',\n",
    "    'nro_countries',\n",
    "    'mean_lag_trns_col_0',\n",
    "    'mean_lag_trns_col_1',\n",
    "    'lag_diff_means',\n",
    "    'numero_trn',\n",
    "    'N',\n",
    "    'I',\n",
    "    'fisicas_int_mas_reciente',\n",
    "    'dias_a_primera_trn_col',\n",
    "    'canal_primera_trn_col',\n",
    "    'dias_a_primera_trn_ext',\n",
    "    'percent_ext',\n",
    "    '2',\n",
    "    'compra_fisica_nal',\n",
    "    'compra_fisica_int'\n",
    "]\n",
    "X = df_features_sub.reset_index().drop(columns=to_drop)\n",
    "y = df_features_sub.label\n",
    "X.shape,y.shape,y.value_counts()"
   ]
  },
  {
   "cell_type": "markdown",
   "id": "0e351840",
   "metadata": {},
   "source": [
    "## Modelado"
   ]
  },
  {
   "cell_type": "markdown",
   "id": "d43f9721",
   "metadata": {},
   "source": [
    "### Train-Test Split"
   ]
  },
  {
   "cell_type": "code",
   "execution_count": null,
   "id": "9057be61",
   "metadata": {
    "ExecuteTime": {
     "end_time": "2021-09-21T23:19:34.136438Z",
     "start_time": "2021-09-21T23:19:33.357901Z"
    }
   },
   "outputs": [],
   "source": [
    "train_X, test_X, train_Y, test_Y = train_test_split(X, y, \n",
    "                                                    test_size=0.2, \n",
    "                                                    random_state = 0) \n",
    "print(\"Shapes:\")\n",
    "print(train_X.shape, test_X.shape)\n",
    "print(\"Test target distribution:\")\n",
    "print(test_Y.value_counts())"
   ]
  },
  {
   "cell_type": "markdown",
   "id": "8ccb9ae5",
   "metadata": {},
   "source": [
    "### Rendimiento CV"
   ]
  },
  {
   "cell_type": "code",
   "execution_count": null,
   "id": "16f0c9e8",
   "metadata": {
    "ExecuteTime": {
     "end_time": "2021-09-21T23:20:05.511832Z",
     "start_time": "2021-09-21T23:19:34.137436Z"
    }
   },
   "outputs": [],
   "source": [
    "get_oob_cv_balancedRF(train_X, train_Y, n_estimators = 300, n_repeats=5);"
   ]
  },
  {
   "cell_type": "markdown",
   "id": "69551936",
   "metadata": {},
   "source": [
    "### Stepwise Check"
   ]
  },
  {
   "cell_type": "code",
   "execution_count": null,
   "id": "d9c60f14",
   "metadata": {
    "ExecuteTime": {
     "end_time": "2021-09-21T23:20:06.241064Z",
     "start_time": "2021-09-21T23:20:05.521770Z"
    }
   },
   "outputs": [],
   "source": [
    "oob_ITCvars_filename = 'oob_ITCvars_v6.joblib'\n",
    "if os.path.exists(oob_ITCvars_filename):\n",
    "    obb_scores = joblib.load(oob_ITCvars_filename)\n",
    "else:\n",
    "    obb_scores = {col : get_oob_cv_balancedRF(train_X.drop(columns=col),\n",
    "                                 train_Y, n_estimators = 300, \n",
    "                                 n_repeats=5) for col in X.columns}\n",
    "    joblib.dump(obb_scores, oob_ITCvars_filename)\n",
    "\n",
    "obb_scores   "
   ]
  },
  {
   "cell_type": "markdown",
   "id": "18fa5c9c",
   "metadata": {},
   "source": [
    "### Rendimiento por Número de Arboles"
   ]
  },
  {
   "cell_type": "code",
   "execution_count": null,
   "id": "b772f517",
   "metadata": {
    "ExecuteTime": {
     "end_time": "2021-09-21T23:20:12.861462Z",
     "start_time": "2021-09-21T23:20:06.246085Z"
    }
   },
   "outputs": [],
   "source": [
    "m = BalancedRandomForestClassifier(n_estimators=2000, random_state=0, oob_score=True).fit(train_X, train_Y)\n",
    "preds_proba_train = m.oob_decision_function_[:,1]\n",
    "preds_proba_test = m.predict_proba(test_X)[:,1]\n",
    "# report_AUC(train_Y, preds_proba_train, data_set='training');\n",
    "report_AUC(test_Y, preds_proba_test);"
   ]
  },
  {
   "cell_type": "code",
   "execution_count": null,
   "id": "5554d128",
   "metadata": {
    "ExecuteTime": {
     "end_time": "2021-09-21T23:20:17.693572Z",
     "start_time": "2021-09-21T23:20:12.862429Z"
    }
   },
   "outputs": [],
   "source": [
    "plot_AUC_by_num_trees(extract_AUC_from_trees(m, test_X, test_Y))"
   ]
  },
  {
   "cell_type": "code",
   "execution_count": null,
   "id": "5a155bfe",
   "metadata": {
    "ExecuteTime": {
     "end_time": "2021-09-21T23:20:18.617480Z",
     "start_time": "2021-09-21T23:20:17.694544Z"
    }
   },
   "outputs": [],
   "source": [
    "df_preds = pd.DataFrame({'y': test_Y}).assign(preds = preds_proba_test)\n",
    "sns.displot(df_preds, x=\"preds\", hue=\"y\", kind=\"kde\", fill=True)\n",
    "plt.title(\"Test Prediction Scores by Class\");\n",
    "plt.xlim(0.0,1.0);"
   ]
  },
  {
   "cell_type": "code",
   "execution_count": null,
   "id": "3fbf37f1",
   "metadata": {
    "ExecuteTime": {
     "end_time": "2021-09-21T23:20:19.735934Z",
     "start_time": "2021-09-21T23:20:18.618442Z"
    }
   },
   "outputs": [],
   "source": [
    "plot_roc_curve_with_baseline(m, test_X, test_Y)"
   ]
  },
  {
   "cell_type": "code",
   "execution_count": null,
   "id": "c6f0799b",
   "metadata": {
    "ExecuteTime": {
     "end_time": "2021-09-21T23:20:20.599102Z",
     "start_time": "2021-09-21T23:20:19.736897Z"
    }
   },
   "outputs": [],
   "source": [
    "fi = rf_feat_importance(m, train_X.columns).sort_values(by='imp', ascending=False)\n",
    "plot_fi(fi)"
   ]
  },
  {
   "cell_type": "code",
   "execution_count": null,
   "id": "643322ad",
   "metadata": {
    "ExecuteTime": {
     "end_time": "2021-09-21T23:20:21.391195Z",
     "start_time": "2021-09-21T23:20:20.600065Z"
    }
   },
   "outputs": [],
   "source": [
    "cluster_columns(X, figsize=(10,5), font_size=10)"
   ]
  },
  {
   "cell_type": "markdown",
   "id": "8dd0e378",
   "metadata": {},
   "source": [
    "Las variables parecen estár poco correlacionadas lo que es bastante bueno."
   ]
  },
  {
   "cell_type": "markdown",
   "id": "f53dad45",
   "metadata": {},
   "source": [
    "### Multiple Train-Test Repetitions"
   ]
  },
  {
   "cell_type": "code",
   "execution_count": null,
   "id": "81b2d2a0",
   "metadata": {
    "ExecuteTime": {
     "end_time": "2021-09-21T23:20:58.566211Z",
     "start_time": "2021-09-21T23:20:21.392192Z"
    }
   },
   "outputs": [],
   "source": [
    "def modelo_brf(random_state = 0):\n",
    "\n",
    "    clf = BalancedRandomForestClassifier(n_estimators=500,random_state = random_state)\n",
    "    \n",
    "    return clf\n",
    "\n",
    "mvm_filename = 'train_test_repetitions_var_metrica_v6.joblib'\n",
    "if os.path.exists(mvm_filename):\n",
    "    aucs, m_s, rocs = joblib.load(mvm_filename)\n",
    "else:\n",
    "    # Run test\n",
    "    results = test_eval_repetitions(X, y, n_trials=100, model_func=modelo_brf)\n",
    "    joblib.dump(results, mvm_filename)\n",
    "    aucs, m_s, rocs = results"
   ]
  },
  {
   "cell_type": "code",
   "execution_count": null,
   "id": "6777dca8",
   "metadata": {
    "ExecuteTime": {
     "end_time": "2021-09-21T23:20:59.261757Z",
     "start_time": "2021-09-21T23:20:58.567219Z"
    }
   },
   "outputs": [],
   "source": [
    "print(f\"Mean AUC: {round(np.mean(aucs),4)}, Std AUC: {round(np.std(aucs),4)}\")\n",
    "print(f\"Percentiles (5,95): {tuple(np.quantile(aucs,[0.05, 0.95]).round(4))}\")"
   ]
  },
  {
   "cell_type": "code",
   "execution_count": null,
   "id": "d9192a30",
   "metadata": {
    "ExecuteTime": {
     "end_time": "2021-09-21T23:21:00.094545Z",
     "start_time": "2021-09-21T23:20:59.262723Z"
    }
   },
   "outputs": [],
   "source": [
    "sns.displot(pd.DataFrame({'AUC': aucs}), x=\"AUC\", kind=\"kde\", fill=True)\n",
    "plt.title('Distribution of AUC on Unseen Data');\n",
    "plt.xlim(0.5,1.0);"
   ]
  },
  {
   "cell_type": "code",
   "execution_count": null,
   "id": "78660929",
   "metadata": {
    "ExecuteTime": {
     "end_time": "2021-09-21T23:21:00.890443Z",
     "start_time": "2021-09-21T23:21:00.095942Z"
    }
   },
   "outputs": [],
   "source": [
    "plot_rocs_from_multiple_runs(rocs, models_to_sample=0.13)"
   ]
  },
  {
   "cell_type": "markdown",
   "id": "b3f837e6",
   "metadata": {},
   "source": [
    "### LOO Predictions"
   ]
  },
  {
   "cell_type": "markdown",
   "id": "818e91de",
   "metadata": {},
   "source": [
    "#### Solo Suplantadores"
   ]
  },
  {
   "cell_type": "markdown",
   "id": "2d707b2a",
   "metadata": {},
   "source": [
    "El siguiente código nos permite calcular las predicciones LOO de solo los suplantadores para entender como les va sin tener que calcular las predicciones para todo el data set."
   ]
  },
  {
   "cell_type": "code",
   "execution_count": null,
   "id": "963a2eda",
   "metadata": {
    "ExecuteTime": {
     "end_time": "2021-09-21T23:22:13.531516Z",
     "start_time": "2021-09-21T23:21:00.891406Z"
    }
   },
   "outputs": [],
   "source": [
    "suplantaciones = (df_features_sub[df_features_sub.label==0]\n",
    "              .reset_index()\n",
    "              .copy())\n",
    "to_predict = list(suplantaciones.reset_index()[['identificacion','fecha_hora_llamada']].to_records(index=False))\n",
    "to_predict\n",
    "predictions_suplantacion = [None]*len(to_predict)\n",
    "with tqdm(total=len(to_predict)) as pbar:\n",
    "    for i,datos in enumerate(to_predict):\n",
    "        cedula,fecha_hora = datos\n",
    "        idx = np.where((df_features_sub.reset_index().identificacion==cedula) & \n",
    "                       (df_features_sub.reset_index().fecha_hora_llamada==fecha_hora))[0][0]\n",
    "        X_train_, X_test_ = X[X.index!=idx], X[X.index==idx]\n",
    "        y_train_, y_test_ = y[X.index!=idx], y[X.index==idx]\n",
    "        m = (BalancedRandomForestClassifier(n_estimators=300, random_state=0)\n",
    "             .fit(X_train_, y_train_))\n",
    "        X_train_.shape, y_train_.shape, X_test_.shape, y_test_.shape\n",
    "        predictions_suplantacion[i] = m.predict_proba(X_test_)[0,1]\n",
    "        pbar.update(1)\n",
    "\n",
    "suplantaciones['preds'] = predictions_suplantacion\n",
    "suplantaciones.sort_values(by='preds', ascending=False).head(50)"
   ]
  },
  {
   "cell_type": "code",
   "execution_count": null,
   "id": "b4ab3605",
   "metadata": {
    "ExecuteTime": {
     "end_time": "2021-09-21T23:22:14.579158Z",
     "start_time": "2021-09-21T23:22:13.533512Z"
    }
   },
   "outputs": [],
   "source": [
    "df_ = suplantaciones.assign(preds = lambda x: 1000*x.preds)\n",
    "plots_bar_custom(df_, colname='binned', score_col='preds',\n",
    "                 title='Número de Suplantadores por Banda de Score',show_text=True,\n",
    "                 legend=None)"
   ]
  },
  {
   "cell_type": "markdown",
   "id": "a1bd7e39",
   "metadata": {},
   "source": [
    "#### Todas las Predicciones"
   ]
  },
  {
   "cell_type": "code",
   "execution_count": null,
   "id": "7c3aa2d5",
   "metadata": {
    "ExecuteTime": {
     "end_time": "2021-09-21T23:22:15.493065Z",
     "start_time": "2021-09-21T23:22:14.581146Z"
    }
   },
   "outputs": [],
   "source": [
    "def LOO_predictions(X, y, n_estimators=100):\n",
    "    loo = LeaveOneOut()\n",
    "    preds = [0]*len(X)\n",
    "    with tqdm(total=len(X)) as pbar:\n",
    "        for train_index, test_index in loo.split(X):\n",
    "            X_train_, X_test_ = X.iloc[train_index], X.iloc[test_index]\n",
    "            y_train_, y_test_ = y.iloc[train_index], y.iloc[test_index]\n",
    "            m = (BalancedRandomForestClassifier(n_estimators=n_estimators, random_state=0)\n",
    "                 .fit(X_train_, y_train_))\n",
    "            preds[test_index[0]] = m.predict_proba(X_test_)[0,1]\n",
    "            pbar.update(1)\n",
    "    return preds\n",
    "\n",
    "preds_filename = 'LOO_preds_v6.joblib'\n",
    "if os.path.exists(preds_filename):\n",
    "    preds = joblib.load(preds_filename)\n",
    "else:\n",
    "    preds = LOO_predictions(X,y,n_estimators=300)\n",
    "    joblib.dump(preds, preds_filename)\n",
    "len(preds)"
   ]
  },
  {
   "cell_type": "code",
   "execution_count": null,
   "id": "444f5c98",
   "metadata": {
    "ExecuteTime": {
     "end_time": "2021-09-21T23:22:16.311520Z",
     "start_time": "2021-09-21T23:22:15.494299Z"
    }
   },
   "outputs": [],
   "source": [
    "report_AUC(y, preds, data_set='LOO');"
   ]
  },
  {
   "cell_type": "code",
   "execution_count": null,
   "id": "045ed593",
   "metadata": {
    "ExecuteTime": {
     "end_time": "2021-09-21T23:22:17.463714Z",
     "start_time": "2021-09-21T23:22:16.312459Z"
    }
   },
   "outputs": [],
   "source": [
    "df_sub_preds = df_features_sub.copy()\n",
    "df_sub_preds['preds'] = preds\n",
    "sns.displot(df_sub_preds, x=\"preds\", hue=\"label\", kind=\"hist\", fill=True )\n",
    "plt.title(\"Test Prediction Scores by Class\");\n",
    "plt.xlim(0.0,1.0);"
   ]
  },
  {
   "cell_type": "code",
   "execution_count": null,
   "id": "55cb7390",
   "metadata": {
    "ExecuteTime": {
     "end_time": "2021-09-21T23:22:18.353832Z",
     "start_time": "2021-09-21T23:22:17.465707Z"
    }
   },
   "outputs": [],
   "source": [
    "df_sub_preds[df_sub_preds.label==0].sort_values('preds', ascending=False).head(50)"
   ]
  },
  {
   "cell_type": "code",
   "execution_count": null,
   "id": "bbcb6b26",
   "metadata": {
    "ExecuteTime": {
     "end_time": "2021-09-21T23:22:19.251895Z",
     "start_time": "2021-09-21T23:22:18.354792Z"
    }
   },
   "outputs": [],
   "source": [
    "df_ = df_sub_preds[df_sub_preds.label==0].assign(preds = lambda x: 1000*x.preds)\n",
    "supl_plot = plots_bar_custom(df_, colname='binned', score_col='preds',\n",
    "                 title='Número de Suplantadores por Banda de Score',show_text=True,\n",
    "                 legend=None)\n",
    "df_ = df_sub_preds[df_sub_preds.label==1].assign(preds = lambda x: 1000*x.preds)\n",
    "exit_plot = plots_bar_custom(df_, colname='binned', score_col='preds',\n",
    "                 title='Número Desbloqueos Exitosos en Primera Llamada por Banda de Score',show_text=True,\n",
    "                 legend=None)\n",
    "supl_plot.properties(width=320) | exit_plot.properties(width=320)"
   ]
  },
  {
   "cell_type": "markdown",
   "id": "e44c1ca5",
   "metadata": {},
   "source": [
    "Es tranquilizador que los los scores de los suplantadores se concentran en los scores bajos mientras que la de los desbloqueos exitosos al primer intento se concentran en los altos scores."
   ]
  },
  {
   "cell_type": "markdown",
   "id": "395b8fa5",
   "metadata": {},
   "source": [
    "### Registros adicionales"
   ]
  },
  {
   "cell_type": "code",
   "execution_count": null,
   "id": "3227bfba",
   "metadata": {
    "ExecuteTime": {
     "end_time": "2021-09-21T23:22:23.744369Z",
     "start_time": "2021-09-21T23:22:19.252891Z"
    }
   },
   "outputs": [],
   "source": [
    "m_f = BalancedRandomForestClassifier(n_estimators=1000, random_state=0).fit(X, y)\n",
    "datos_faltantes = (df_features_sub_org\n",
    "                   .query(\"(label==1) & ((exitoso_primera_llamada==0) | (simultaneadad_fisica_N==1) | (exitoso_con_soportes==1) )\")\n",
    "                   .copy())\n",
    "X_f = datos_faltantes.reset_index().drop(columns=to_drop)\n",
    "y_f = datos_faltantes.label\n",
    "preds_proba_f = m_f.predict_proba(X_f)[:,1]\n",
    "datos_faltantes['preds'] = preds_proba_f"
   ]
  },
  {
   "cell_type": "code",
   "execution_count": null,
   "id": "053d19cd",
   "metadata": {
    "ExecuteTime": {
     "end_time": "2021-09-21T23:22:24.670626Z",
     "start_time": "2021-09-21T23:22:23.748179Z"
    }
   },
   "outputs": [],
   "source": [
    "df_ = datos_faltantes[datos_faltantes.simultaneadad_fisica_N==1].assign(preds = lambda x: 1000*x.preds)\n",
    "simul = plots_bar_custom(df_, colname='binned', score_col='preds',\n",
    "                 title='Exitosos con Simultaneidad por Banda de Score',show_text=True,\n",
    "                 legend=None)\n",
    "df_ = datos_faltantes[datos_faltantes.exitoso_primera_llamada==0].assign(preds = lambda x: 1000*x.preds)\n",
    "varias = plots_bar_custom(df_, colname='binned', score_col='preds',\n",
    "                 title='Exitosos en Varias Llamadas por Banda de Score',show_text=True,\n",
    "                 legend=None)\n",
    "df_ = datos_faltantes[datos_faltantes.exitoso_con_soportes==1].assign(preds = lambda x: 1000*x.preds)\n",
    "soportes = plots_bar_custom(df_, colname='binned', score_col='preds',\n",
    "                 title='Exitosos con Soportes por Banda de Score',show_text=True,\n",
    "                 legend=None)\n",
    "alt.vconcat(simul.properties(width=320) | varias.properties(width=320), soportes.properties(width=320))"
   ]
  },
  {
   "cell_type": "markdown",
   "id": "6978b430",
   "metadata": {},
   "source": [
    "Parece que el acercamiento funciona ya que el modelo le da un bajo score a los clientes con simultaneidad (scores debajo de 500). Por otro lado, los desbloqueos exitosos en varias llamadas y exitosos con soportes, tienen un comportamiento bastante parecido al desbloqueo de exitosos a la primera llamada con la adición de un pico en la banda de 200-300 que parece mostrar simultaneidad."
   ]
  },
  {
   "cell_type": "markdown",
   "id": "18b7b30b",
   "metadata": {},
   "source": [
    "# Serializando Modelo\n",
    "\n",
    "Se guarda el modelo en formato JOBLIB para luego ser usado en productivo."
   ]
  },
  {
   "cell_type": "code",
   "execution_count": null,
   "id": "513f29fe",
   "metadata": {
    "ExecuteTime": {
     "end_time": "2021-09-21T23:22:25.530216Z",
     "start_time": "2021-09-21T23:22:24.672620Z"
    }
   },
   "outputs": [],
   "source": [
    "# joblib.dump(df_features_sub_org,'df_features_sub_org.joblib')"
   ]
  },
  {
   "cell_type": "code",
   "execution_count": null,
   "id": "5965589a",
   "metadata": {
    "ExecuteTime": {
     "end_time": "2021-09-21T23:22:26.360952Z",
     "start_time": "2021-09-21T23:22:25.531212Z"
    },
    "run_control": {
     "marked": false
    }
   },
   "outputs": [],
   "source": [
    "col_l = df_features_sub_org.columns.tolist()\n",
    "transformed_l = [ 'cdgtrn'+col if col in ['2','167'] else str(col).lower() for col in col_l]\n",
    "col_transform = dict(zip(transformed_l,col_l))\n",
    "cols_to_keep = list(df_features_sub_org.reset_index().drop(columns=to_drop).columns)"
   ]
  },
  {
   "cell_type": "code",
   "execution_count": null,
   "id": "2b0fa75b",
   "metadata": {
    "ExecuteTime": {
     "end_time": "2021-09-21T23:22:28.282753Z",
     "start_time": "2021-09-21T23:22:26.362920Z"
    }
   },
   "outputs": [],
   "source": [
    "model_pkg = {\n",
    "    'model':m_f,\n",
    "    'col_transform': col_transform,\n",
    "    'cols_to_keep': cols_to_keep\n",
    "}\n",
    "joblib.dump(model_pkg,'model_pkg.joblib')"
   ]
  },
  {
   "cell_type": "code",
   "execution_count": null,
   "id": "09607b1c",
   "metadata": {
    "ExecuteTime": {
     "end_time": "2021-09-22T18:17:34.314932Z",
     "start_time": "2021-09-22T18:17:33.456663Z"
    }
   },
   "outputs": [],
   "source": [
    "# ITC_etiquetado[(ITC_etiquetado.canal.str.strip()=='SAI')].cdgtrn.value_counts()"
   ]
  }
 ],
 "metadata": {
  "kernelspec": {
   "display_name": "Python 3 (ipykernel)",
   "language": "python",
   "name": "python3"
  },
  "language_info": {
   "codemirror_mode": {
    "name": "ipython",
    "version": 3
   },
   "file_extension": ".py",
   "mimetype": "text/x-python",
   "name": "python",
   "nbconvert_exporter": "python",
   "pygments_lexer": "ipython3",
   "version": "3.9.7"
  },
  "nbTranslate": {
   "displayLangs": [
    "*"
   ],
   "hotkey": "alt-t",
   "langInMainMenu": true,
   "sourceLang": "en",
   "targetLang": "fr",
   "useGoogleTranslate": true
  },
  "toc": {
   "base_numbering": 1,
   "nav_menu": {},
   "number_sections": true,
   "sideBar": true,
   "skip_h1_title": false,
   "title_cell": "Table of Contents",
   "title_sidebar": "Contents",
   "toc_cell": false,
   "toc_position": {
    "height": "calc(100% - 180px)",
    "left": "10px",
    "top": "150px",
    "width": "240px"
   },
   "toc_section_display": true,
   "toc_window_display": true
  },
  "varInspector": {
   "cols": {
    "lenName": 16,
    "lenType": 16,
    "lenVar": 40
   },
   "kernels_config": {
    "python": {
     "delete_cmd_postfix": "",
     "delete_cmd_prefix": "del ",
     "library": "var_list.py",
     "varRefreshCmd": "print(var_dic_list())"
    },
    "r": {
     "delete_cmd_postfix": ") ",
     "delete_cmd_prefix": "rm(",
     "library": "var_list.r",
     "varRefreshCmd": "cat(var_dic_list()) "
    }
   },
   "types_to_exclude": [
    "module",
    "function",
    "builtin_function_or_method",
    "instance",
    "_Feature"
   ],
   "window_display": false
  },
  "vscode": {
   "interpreter": {
    "hash": "5e0b2a5ea08ab160f6a28bc2e858344adc631e8c7910a1c7a45a93e7d0ca7fc0"
   }
  }
 },
 "nbformat": 4,
 "nbformat_minor": 5
}
